{
 "cells": [
  {
   "cell_type": "markdown",
   "id": "b59de00a-8ab6-4cdd-b589-ad40cdf41e14",
   "metadata": {},
   "source": [
    "# **실습1. 마켓과 머신러닝**"
   ]
  },
  {
   "cell_type": "markdown",
   "id": "d257c161-4d99-443e-991b-c173da28c424",
   "metadata": {},
   "source": [
    "## **생선 분류 문제**"
   ]
  },
  {
   "cell_type": "markdown",
   "id": "17e199ef-313e-4973-9fa9-5f27b5e68177",
   "metadata": {},
   "source": [
    "### 도미 데이터 준비"
   ]
  },
  {
   "cell_type": "code",
   "execution_count": 1,
   "id": "c0eefc0c-5ae5-40df-b4df-c36c1a29892f",
   "metadata": {},
   "outputs": [],
   "source": [
    "bream_length = [25.4, 26.3, 26.5, 29.0, 29.0, 29.7, 29.7, 30.0, 30.0, 30.7,\n",
    "                31.0, 31.0, 31.5, 32.0, 32.0, 32.0, 33.0, 33.0, 33.5, 33.5,\n",
    "                34.0, 34.0, 34.5, 35.0, 35.0, 35.0, 35.0, 36.0, 36.0, 37.0,\n",
    "                38.5, 38.5, 39.5, 41.0, 41.0]\n",
    "bream_weight = [242.0, 290.0, 340.0, 363.0, 430.0, 450.0, 500.0, 390.0, 450.0,\n",
    "                500.0, 475.0, 500.0, 500.0, 340.0, 600.0, 600.0, 700.0, 700.0,\n",
    "                610.0, 650.0, 575.0, 685.0, 620.0, 680.0, 700.0, 725.0, 720.0,\n",
    "                714.0, 850.0, 1000.0, 920.0, 955.0, 925.0, 975.0, 950.0]"
   ]
  },
  {
   "cell_type": "markdown",
   "id": "36dceaf6-8092-4c3f-b096-ff6cf597a094",
   "metadata": {},
   "source": [
    "### 도미 길이와 무게 데이터에 대한 산점도"
   ]
  },
  {
   "cell_type": "code",
   "execution_count": 2,
   "id": "257eb340-89e1-4d22-939b-0191ad90eed5",
   "metadata": {},
   "outputs": [],
   "source": [
    "# 산점도를 위한 라이브러리 준비\n",
    "import matplotlib.pyplot as plt"
   ]
  },
  {
   "cell_type": "code",
   "execution_count": 3,
   "id": "7b8979af-f4b2-4c22-9c74-26d91a37a8ac",
   "metadata": {},
   "outputs": [
    {
     "data": {
      "image/png": "[encoded data removed]",
      "text/plain": [
       "<Figure size 432x288 with 1 Axes>"
      ]
     },
     "metadata": {
      "needs_background": "light"
     },
     "output_type": "display_data"
    }
   ],
   "source": [
    "plt.scatter(bream_length, bream_weight)\n",
    "plt.xlabel('length')\n",
    "plt.ylabel('weight')\n",
    "plt.show()"
   ]
  },
  {
   "cell_type": "markdown",
   "id": "1baa12f9-5f3c-4ab5-81bb-82ccf4d86f99",
   "metadata": {},
   "source": [
    "생선의 길이가 길수록 무게가 많이 나가는 모양 ⇒선형적 관계\n",
    "\n",
    "**<선형으로 나타냄>**\n",
    "피어슨 상관계수\n",
    "\n",
    "**<순서로 나타냄>**\n",
    "스피어맨 상관계수\n",
    "\n",
    "**<같은 순서를 갖는지, 방향성을 가지고 나타냄>**\n",
    "캔달 상관계수"
   ]
  },
  {
   "cell_type": "markdown",
   "id": "6f16997a-aca6-40cf-8ec4-06fb3da4301b",
   "metadata": {},
   "source": [
    "### 빙어 데이터 준비"
   ]
  },
  {
   "cell_type": "code",
   "execution_count": 4,
   "id": "081cdca4-13d7-4041-8e84-2af99b0e0829",
   "metadata": {},
   "outputs": [],
   "source": [
    "smelt_length = [9.8, 10.5, 10.6, 11.0, 11.2, 11.3, 11.8, 11.8, 12.0, 12.2,\n",
    "                12.4, 13.0, 14.3, 15.0]\n",
    "smelt_weight = [6.7, 7.5, 7.0, 9.7, 9.8, 8.7, 10.0, 9.9, 9.8, 12.2,\n",
    "                13.4, 12.2, 19.7, 19.9]"
   ]
  },
  {
   "cell_type": "code",
   "execution_count": 5,
   "id": "eb3b7361-f27a-4cf7-a3a7-1caee34909e1",
   "metadata": {},
   "outputs": [
    {
     "data": {
      "image/png": "[encoded data removed]",
      "text/plain": [
       "<Figure size 432x288 with 1 Axes>"
      ]
     },
     "metadata": {
      "needs_background": "light"
     },
     "output_type": "display_data"
    }
   ],
   "source": [
    "plt.scatter(smelt_length, smelt_weight)\n",
    "plt.xlabel('length')\n",
    "plt.ylabel('weight')\n",
    "plt.show()"
   ]
  },
  {
   "cell_type": "markdown",
   "id": "b212fb16-cc79-4fc1-b56f-172954b45236",
   "metadata": {},
   "source": [
    "### 도미 데이터와 빙어 데이터 병합한 산점도"
   ]
  },
  {
   "cell_type": "code",
   "execution_count": 6,
   "id": "983d3beb-e90e-4d3a-86e2-412f7555c74d",
   "metadata": {},
   "outputs": [
    {
     "data": {
      "image/png": "[encoded data removed]",
      "text/plain": [
       "<Figure size 432x288 with 1 Axes>"
      ]
     },
     "metadata": {
      "needs_background": "light"
     },
     "output_type": "display_data"
    }
   ],
   "source": [
    "plt.scatter(bream_length, bream_weight)\n",
    "plt.scatter(smelt_length, smelt_weight)\n",
    "plt.xlabel('length')\n",
    "plt.ylabel('weight')\n",
    "plt.show()"
   ]
  },
  {
   "cell_type": "markdown",
   "id": "ff943a32-36ba-4f54-9119-be613a7077eb",
   "metadata": {},
   "source": [
    "# **첫 번째 머신러닝 프로그램**\n",
    "## **생선 분류 문제1**"
   ]
  },
  {
   "cell_type": "markdown",
   "id": "35c8b6ee-bdf1-451d-a86c-024bd42ba78c",
   "metadata": {},
   "source": [
    "### 두 생선 데이터 병합"
   ]
  },
  {
   "cell_type": "code",
   "execution_count": 7,
   "id": "8df63932-4113-43b0-be3b-ae33a645deb2",
   "metadata": {},
   "outputs": [],
   "source": [
    "# 두 리스트 합치기\n",
    "length = bream_length + smelt_length\n",
    "weight = bream_weight + smelt_weight"
   ]
  },
  {
   "cell_type": "code",
   "execution_count": 8,
   "id": "1e234078-aa1d-4cce-a507-78469d5a7894",
   "metadata": {},
   "outputs": [
    {
     "name": "stdout",
     "output_type": "stream",
     "text": [
      "[[25.4, 242.0], [26.3, 290.0], [26.5, 340.0], [29.0, 363.0], [29.0, 430.0], [29.7, 450.0], [29.7, 500.0], [30.0, 390.0], [30.0, 450.0], [30.7, 500.0], [31.0, 475.0], [31.0, 500.0], [31.5, 500.0], [32.0, 340.0], [32.0, 600.0], [32.0, 600.0], [33.0, 700.0], [33.0, 700.0], [33.5, 610.0], [33.5, 650.0], [34.0, 575.0], [34.0, 685.0], [34.5, 620.0], [35.0, 680.0], [35.0, 700.0], [35.0, 725.0], [35.0, 720.0], [36.0, 714.0], [36.0, 850.0], [37.0, 1000.0], [38.5, 920.0], [38.5, 955.0], [39.5, 925.0], [41.0, 975.0], [41.0, 950.0], [9.8, 6.7], [10.5, 7.5], [10.6, 7.0], [11.0, 9.7], [11.2, 9.8], [11.3, 8.7], [11.8, 10.0], [11.8, 9.9], [12.0, 9.8], [12.2, 12.2], [12.4, 13.4], [13.0, 12.2], [14.3, 19.7], [15.0, 19.9]]\n"
     ]
    }
   ],
   "source": [
    "# 2차원 리스트로 변환\n",
    "fish_data = [[l,w] for l, w in zip(length, weight)]\n",
    "print(fish_data)"
   ]
  },
  {
   "cell_type": "markdown",
   "id": "102983a4-7431-4cac-b5bb-c8c5f82792c5",
   "metadata": {},
   "source": [
    "### 타켓(레이블) 데이터 생성"
   ]
  },
  {
   "cell_type": "code",
   "execution_count": 9,
   "id": "37ab7059-034f-4b3f-851f-1f4a641cd4ea",
   "metadata": {},
   "outputs": [
    {
     "name": "stdout",
     "output_type": "stream",
     "text": [
      "[1, 1, 1, 1, 1, 1, 1, 1, 1, 1, 1, 1, 1, 1, 1, 1, 1, 1, 1, 1, 1, 1, 1, 1, 1, 1, 1, 1, 1, 1, 1, 1, 1, 1, 1, 0, 0, 0, 0, 0, 0, 0, 0, 0, 0, 0, 0, 0, 0]\n"
     ]
    }
   ],
   "source": [
    "# 도미의 개수 35개, 빙어의 개수 14개 \n",
    "fish_target = [1] * 35 + [0] * 14\n",
    "print(fish_target)"
   ]
  },
  {
   "cell_type": "markdown",
   "id": "1f7ee537-9e33-4b6d-87c4-1fd3967fe4b9",
   "metadata": {},
   "source": [
    " "
   ]
  },
  {
   "cell_type": "markdown",
   "id": "b0b3d4ce-e3da-4ce9-8ca8-e8faf69af56c",
   "metadata": {},
   "source": [
    "## **K-최근접 이웃(KNN) 알고리즘을 이용한 분류**"
   ]
  },
  {
   "cell_type": "markdown",
   "id": "69f0a3dd-fad6-48d4-b025-6c7c4f6e8e8f",
   "metadata": {},
   "source": [
    "### 사이킷런의 K- 최근접이웃 클래스"
   ]
  },
  {
   "cell_type": "code",
   "execution_count": 10,
   "id": "b7e526da-f8e3-4f3f-a6ab-78b8f292c6f5",
   "metadata": {},
   "outputs": [],
   "source": [
    "from sklearn.neighbors import KNeighborsClassifier"
   ]
  },
  {
   "cell_type": "markdown",
   "id": "7454f946-0161-4fba-9019-6f89eb8c3337",
   "metadata": {},
   "source": [
    "**KNeighborsClassifier 객체 생성**"
   ]
  },
  {
   "cell_type": "code",
   "execution_count": 11,
   "id": "a1a78ba2-1baa-406d-9cce-02cd9e4fab2f",
   "metadata": {},
   "outputs": [],
   "source": [
    "kn = KNeighborsClassifier()"
   ]
  },
  {
   "cell_type": "markdown",
   "id": "709aedd1-02d9-4ce5-8748-75e9a5dd946b",
   "metadata": {},
   "source": [
    "**훈련(training) : fit(features, label) 매서드**"
   ]
  },
  {
   "cell_type": "code",
   "execution_count": 12,
   "id": "5d4f0338-ed2a-4c5a-83f2-13c6734d27a1",
   "metadata": {},
   "outputs": [
    {
     "data": {
      "text/plain": [
       "KNeighborsClassifier()"
      ]
     },
     "execution_count": 12,
     "metadata": {},
     "output_type": "execute_result"
    }
   ],
   "source": [
    "kn.fit(fish_data, fish_target)"
   ]
  },
  {
   "cell_type": "markdown",
   "id": "2243b5bf-1635-41d6-ad87-5d07659aeb56",
   "metadata": {},
   "source": [
    "**모델 평가 : score() 매서드 ⇒ 정확도**"
   ]
  },
  {
   "cell_type": "code",
   "execution_count": 13,
   "id": "331472f9-db76-4a28-b0d1-20472dbb6acb",
   "metadata": {},
   "outputs": [
    {
     "data": {
      "text/plain": [
       "1.0"
      ]
     },
     "execution_count": 13,
     "metadata": {},
     "output_type": "execute_result"
    }
   ],
   "source": [
    "kn.score(fish_data, fish_target)"
   ]
  },
  {
   "cell_type": "markdown",
   "id": "c8fcb35d-4e59-4505-acf4-702113e759e8",
   "metadata": {},
   "source": [
    "### 정확도 (accurancy)\n",
    "- 정확한 답을 몇개 맞추었는지를 백분율로 나타낸 값\n",
    "- 정확히 맞힌 개수 / 전체 데이터 수"
   ]
  },
  {
   "cell_type": "markdown",
   "id": "581257d6-af18-47cd-a659-3bf26802d3db",
   "metadata": {},
   "source": [
    " "
   ]
  },
  {
   "cell_type": "markdown",
   "id": "10920912-2d0b-4c63-b874-6986b768a241",
   "metadata": {},
   "source": [
    "## **K-최근접 이웃 알고리즘을 이용한 새로운 데이터 분류**"
   ]
  },
  {
   "cell_type": "code",
   "execution_count": 14,
   "id": "f8250a8f-ef9e-44de-acb3-f0a806a36ae7",
   "metadata": {},
   "outputs": [
    {
     "data": {
      "image/png": "[encoded data removed]",
      "text/plain": [
       "<Figure size 432x288 with 1 Axes>"
      ]
     },
     "metadata": {
      "needs_background": "light"
     },
     "output_type": "display_data"
    }
   ],
   "source": [
    "plt.scatter(bream_length, bream_weight)\n",
    "plt.scatter(smelt_length, smelt_weight)\n",
    "plt.scatter(30, 600, marker='^')\n",
    "plt.xlabel('length')\n",
    "plt.ylabel('weight')\n",
    "plt.show()"
   ]
  },
  {
   "cell_type": "code",
   "execution_count": 15,
   "id": "c926f2d8-2527-4f62-8bf9-e34c00766fd3",
   "metadata": {},
   "outputs": [
    {
     "data": {
      "text/plain": [
       "array([1, 1, 0])"
      ]
     },
     "execution_count": 15,
     "metadata": {},
     "output_type": "execute_result"
    }
   ],
   "source": [
    "kn.predict([[30, 600], [50, 500], [5, 20]])"
   ]
  },
  {
   "cell_type": "markdown",
   "id": "c56342a1-4b16-4898-8bdc-df0f96123fa5",
   "metadata": {},
   "source": [
    " "
   ]
  },
  {
   "cell_type": "markdown",
   "id": "47bc6b48-7a2e-45b7-9a6d-cd6942bd2332",
   "metadata": {},
   "source": [
    "### **_fit_X 속성** : fish_data를 가지고 있음"
   ]
  },
  {
   "cell_type": "code",
   "execution_count": 16,
   "id": "2cc7d1eb-358b-47ed-a82a-089e759f09cc",
   "metadata": {},
   "outputs": [
    {
     "name": "stdout",
     "output_type": "stream",
     "text": [
      "[[  25.4  242. ]\n",
      " [  26.3  290. ]\n",
      " [  26.5  340. ]\n",
      " [  29.   363. ]\n",
      " [  29.   430. ]\n",
      " [  29.7  450. ]\n",
      " [  29.7  500. ]\n",
      " [  30.   390. ]\n",
      " [  30.   450. ]\n",
      " [  30.7  500. ]\n",
      " [  31.   475. ]\n",
      " [  31.   500. ]\n",
      " [  31.5  500. ]\n",
      " [  32.   340. ]\n",
      " [  32.   600. ]\n",
      " [  32.   600. ]\n",
      " [  33.   700. ]\n",
      " [  33.   700. ]\n",
      " [  33.5  610. ]\n",
      " [  33.5  650. ]\n",
      " [  34.   575. ]\n",
      " [  34.   685. ]\n",
      " [  34.5  620. ]\n",
      " [  35.   680. ]\n",
      " [  35.   700. ]\n",
      " [  35.   725. ]\n",
      " [  35.   720. ]\n",
      " [  36.   714. ]\n",
      " [  36.   850. ]\n",
      " [  37.  1000. ]\n",
      " [  38.5  920. ]\n",
      " [  38.5  955. ]\n",
      " [  39.5  925. ]\n",
      " [  41.   975. ]\n",
      " [  41.   950. ]\n",
      " [   9.8    6.7]\n",
      " [  10.5    7.5]\n",
      " [  10.6    7. ]\n",
      " [  11.     9.7]\n",
      " [  11.2    9.8]\n",
      " [  11.3    8.7]\n",
      " [  11.8   10. ]\n",
      " [  11.8    9.9]\n",
      " [  12.     9.8]\n",
      " [  12.2   12.2]\n",
      " [  12.4   13.4]\n",
      " [  13.    12.2]\n",
      " [  14.3   19.7]\n",
      " [  15.    19.9]]\n"
     ]
    }
   ],
   "source": [
    "print(kn._fit_X)"
   ]
  },
  {
   "cell_type": "markdown",
   "id": "35b84114-d19b-4e62-ab2b-e24daef528d3",
   "metadata": {},
   "source": [
    "### **_y 속성** : fish_target 을 가지고 있음"
   ]
  },
  {
   "cell_type": "code",
   "execution_count": 17,
   "id": "c635b2ba-dfd2-4b0b-abc2-c8d77b8db0b4",
   "metadata": {},
   "outputs": [
    {
     "name": "stdout",
     "output_type": "stream",
     "text": [
      "[1 1 1 1 1 1 1 1 1 1 1 1 1 1 1 1 1 1 1 1 1 1 1 1 1 1 1 1 1 1 1 1 1 1 1 0 0\n",
      " 0 0 0 0 0 0 0 0 0 0 0 0]\n"
     ]
    }
   ],
   "source": [
    "print(kn._y)"
   ]
  },
  {
   "cell_type": "markdown",
   "id": "72eb1466-a44b-4fca-93b1-0ca922573ee5",
   "metadata": {},
   "source": [
    "### **K-neighbors 크기 지정**"
   ]
  },
  {
   "cell_type": "code",
   "execution_count": 18,
   "id": "641c5c28-5601-43ca-a66e-08324014243c",
   "metadata": {},
   "outputs": [
    {
     "name": "stdout",
     "output_type": "stream",
     "text": [
      "5\n"
     ]
    }
   ],
   "source": [
    "# 크기 확인\n",
    "print(kn.n_neighbors)"
   ]
  },
  {
   "cell_type": "markdown",
   "id": "fb9af400-d570-44b2-a5a9-32f2ba9f8c8e",
   "metadata": {},
   "source": [
    "#### **K = 49 인 경우 모델 훈련 및 성능**"
   ]
  },
  {
   "cell_type": "code",
   "execution_count": 19,
   "id": "e6e64a9d-fe16-4239-a67f-3b0e8a2107e9",
   "metadata": {},
   "outputs": [],
   "source": [
    "kn49 = KNeighborsClassifier(n_neighbors = 49)"
   ]
  },
  {
   "cell_type": "code",
   "execution_count": 20,
   "id": "2ef6ddcf-4d5d-43b0-8a62-04d94a7a7e9a",
   "metadata": {},
   "outputs": [
    {
     "data": {
      "text/plain": [
       "0.7142857142857143"
      ]
     },
     "execution_count": 20,
     "metadata": {},
     "output_type": "execute_result"
    }
   ],
   "source": [
    "kn49.fit(fish_data, fish_target)\n",
    "kn49.score(fish_data, fish_target)"
   ]
  },
  {
   "cell_type": "markdown",
   "id": "0029acc5-dc12-4281-b21a-793832718238",
   "metadata": {},
   "source": [
    "#### K = 49 개 중 도미가 35개이므로 어떤 데이터를 넣어도 무조건 도미로 예측\n",
    "⇒ 잘못 예측 하는 것"
   ]
  },
  {
   "cell_type": "code",
   "execution_count": 21,
   "id": "c882e542-81e2-4ca3-b8ba-82c149946d1e",
   "metadata": {},
   "outputs": [
    {
     "name": "stdout",
     "output_type": "stream",
     "text": [
      "0.7142857142857143\n"
     ]
    }
   ],
   "source": [
    "print(35 / 49)"
   ]
  },
  {
   "cell_type": "markdown",
   "id": "567ca8e7-98f4-40a4-a2c5-53b34ee13740",
   "metadata": {},
   "source": [
    " "
   ]
  },
  {
   "cell_type": "markdown",
   "id": "a88e454f-6033-420d-8d00-f96f7168afc6",
   "metadata": {},
   "source": [
    "### **확인 문제**"
   ]
  },
  {
   "cell_type": "code",
   "execution_count": 22,
   "id": "df7560d7-3fa3-4156-9d8b-c70f839017c7",
   "metadata": {},
   "outputs": [
    {
     "name": "stdout",
     "output_type": "stream",
     "text": [
      "k = 5 score = 1.000000\n",
      "k = 6 score = 1.000000\n",
      "k = 7 score = 1.000000\n",
      "k = 8 score = 1.000000\n",
      "k = 9 score = 1.000000\n",
      "k = 10 score = 1.000000\n",
      "k = 11 score = 1.000000\n",
      "k = 12 score = 1.000000\n",
      "k = 13 score = 1.000000\n",
      "k = 14 score = 1.000000\n",
      "k = 15 score = 1.000000\n",
      "k = 16 score = 1.000000\n",
      "k = 17 score = 1.000000\n",
      "k = 18 score = 0.979592\n",
      "18 0.9795918367346939\n"
     ]
    }
   ],
   "source": [
    "Kn = KNeighborsClassifier()\n",
    "kn.fit(fish_data, fish_target)\n",
    "\n",
    "for k in range(5, 50):\n",
    "    # 최근접 이웃 개수 설정\n",
    "    kn.n_neighbors = k\n",
    "    # 점수 계산\n",
    "    score = kn.score(fish_data, fish_target)\n",
    "    print('k = %d score = %f' %(k, score))\n",
    "    # 100% 정확도에 미치지 못하는 이웃 개수 출력\n",
    "    if score < 1:\n",
    "        print(k, score)\n",
    "        break"
   ]
  },
  {
   "cell_type": "markdown",
   "id": "4d6e313a-a1d1-46fa-a14a-e7a4e3ff2a8c",
   "metadata": {},
   "source": [
    "# **[마무리]**\n",
    "- 특성\n",
    "- k-최근접 이웃 알고리즘 (KNN)\n",
    "- 정확도\n",
    "\n",
    "## 핵심 패키지와 함수\n",
    "**scikit-learn**\n",
    "- KNeighborsClassifier()\n",
    "- fit()\n",
    "- predict()\n",
    "- score()"
   ]
  },
  {
   "cell_type": "markdown",
   "id": "f89a67e6-b6f9-4273-a16c-1879aff27d81",
   "metadata": {},
   "source": [
    " "
   ]
  },
  {
   "cell_type": "markdown",
   "id": "e962195c-482c-48e0-a579-064cd587b912",
   "metadata": {},
   "source": [
    " "
   ]
  },
  {
   "cell_type": "markdown",
   "id": "960d875f-b70f-4ff2-b78b-eb4219208f09",
   "metadata": {},
   "source": [
    "# **첫 번째 머신러닝 프로그램 수정**\n",
    "## **생선 분류 문제2 (Data Split)** "
   ]
  },
  {
   "cell_type": "code",
   "execution_count": 43,
   "id": "02b7cb04-9111-489e-adc2-b9e767d2e7e4",
   "metadata": {},
   "outputs": [],
   "source": [
    "# 첫 번쨰 머신러닝 프로그램에서 이미 실행\n",
    "# length = bream_length + smelt_length\n",
    "# weight = bream_weight + smelt_weight\n",
    "\n",
    "# fish_data = [[l,w] for l, w in zip(length, weight)]\n",
    "# fish_target = [1] * 35 + [0] * 14\n",
    "\n",
    "# from sklearn.neighbors import KNeighborsClassifier\n",
    "# kn = KNeighborsClassifier()"
   ]
  },
  {
   "cell_type": "markdown",
   "id": "5abbfa8d-99ea-4d32-a1fd-9a57c3465643",
   "metadata": {},
   "source": [
    "### 훈련 데이터셋과 테스트 데이터셋으로 분리"
   ]
  },
  {
   "cell_type": "code",
   "execution_count": 23,
   "id": "fa34fef7-ea99-4064-b344-b7b98c16d8b5",
   "metadata": {},
   "outputs": [],
   "source": [
    "train_input = fish_data[:35]\n",
    "train_target = fish_target[:35]\n",
    "\n",
    "test_input = fish_data[35:]\n",
    "test_target = fish_target[35:]"
   ]
  },
  {
   "cell_type": "markdown",
   "id": "9704824e-384d-4684-a3f0-f1a59fd1ebd8",
   "metadata": {},
   "source": [
    "### 학습 및 평가"
   ]
  },
  {
   "cell_type": "code",
   "execution_count": 24,
   "id": "66d396d2-46f2-4bdd-9589-dd873bd23867",
   "metadata": {},
   "outputs": [
    {
     "data": {
      "text/plain": [
       "0.0"
      ]
     },
     "execution_count": 24,
     "metadata": {},
     "output_type": "execute_result"
    }
   ],
   "source": [
    "kn.fit(train_input, train_target)\n",
    "kn.score(test_input, test_target)"
   ]
  },
  {
   "cell_type": "code",
   "execution_count": 25,
   "id": "08f403be-4da5-41a5-ba51-84c0e5a7cbf2",
   "metadata": {},
   "outputs": [
    {
     "name": "stdout",
     "output_type": "stream",
     "text": [
      "[1, 1, 1, 1, 1, 1, 1, 1, 1, 1, 1, 1, 1, 1, 1, 1, 1, 1, 1, 1, 1, 1, 1, 1, 1, 1, 1, 1, 1, 1, 1, 1, 1, 1, 1]\n"
     ]
    }
   ],
   "source": [
    "print(train_target)"
   ]
  },
  {
   "cell_type": "code",
   "execution_count": 26,
   "id": "da963244-0665-4e2b-aa00-2a39ffc27305",
   "metadata": {},
   "outputs": [
    {
     "name": "stdout",
     "output_type": "stream",
     "text": [
      "[0, 0, 0, 0, 0, 0, 0, 0, 0, 0, 0, 0, 0, 0]\n"
     ]
    }
   ],
   "source": [
    "print(test_target)"
   ]
  },
  {
   "cell_type": "markdown",
   "id": "a5d4e813-c88b-44f3-b461-65a5c22e273a",
   "metadata": {},
   "source": [
    "### **왜 성능이 0.0 일까?**"
   ]
  },
  {
   "cell_type": "markdown",
   "id": "4b7a9095-e845-4bde-89cd-51b2f76fb7e5",
   "metadata": {},
   "source": [
    "**편향(biased)된 데이터 셋** 구성 때문에\n",
    "\n",
    "⇒ 거의 다 도미고 적은 나머지가 빙어라서"
   ]
  },
  {
   "cell_type": "markdown",
   "id": "28d21f19-8404-40b0-960b-f1ed5967d55c",
   "metadata": {},
   "source": [
    "   "
   ]
  },
  {
   "cell_type": "markdown",
   "id": "c1bd0003-bf4f-4959-9c35-8ff658f94015",
   "metadata": {},
   "source": [
    "### 올바른 훈련데이터와 테스트 데이터 구성하기"
   ]
  },
  {
   "cell_type": "code",
   "execution_count": 14,
   "id": "63daf150-2757-40ad-8b9b-504ebfc61617",
   "metadata": {},
   "outputs": [],
   "source": [
    "import numpy as np"
   ]
  },
  {
   "cell_type": "code",
   "execution_count": 15,
   "id": "0fc3be16-718e-40e9-93e9-068b4f5403d1",
   "metadata": {},
   "outputs": [],
   "source": [
    "input_arr = np.array(fish_data)\n",
    "target_arr = np.array(fish_target)"
   ]
  },
  {
   "cell_type": "code",
   "execution_count": 16,
   "id": "ce5a6b54-4fba-4ece-9c4a-e6bdfdc06f26",
   "metadata": {},
   "outputs": [
    {
     "name": "stdout",
     "output_type": "stream",
     "text": [
      "[[  25.4  242. ]\n",
      " [  26.3  290. ]\n",
      " [  26.5  340. ]\n",
      " [  29.   363. ]\n",
      " [  29.   430. ]\n",
      " [  29.7  450. ]\n",
      " [  29.7  500. ]\n",
      " [  30.   390. ]\n",
      " [  30.   450. ]\n",
      " [  30.7  500. ]\n",
      " [  31.   475. ]\n",
      " [  31.   500. ]\n",
      " [  31.5  500. ]\n",
      " [  32.   340. ]\n",
      " [  32.   600. ]\n",
      " [  32.   600. ]\n",
      " [  33.   700. ]\n",
      " [  33.   700. ]\n",
      " [  33.5  610. ]\n",
      " [  33.5  650. ]\n",
      " [  34.   575. ]\n",
      " [  34.   685. ]\n",
      " [  34.5  620. ]\n",
      " [  35.   680. ]\n",
      " [  35.   700. ]\n",
      " [  35.   725. ]\n",
      " [  35.   720. ]\n",
      " [  36.   714. ]\n",
      " [  36.   850. ]\n",
      " [  37.  1000. ]\n",
      " [  38.5  920. ]\n",
      " [  38.5  955. ]\n",
      " [  39.5  925. ]\n",
      " [  41.   975. ]\n",
      " [  41.   950. ]\n",
      " [   9.8    6.7]\n",
      " [  10.5    7.5]\n",
      " [  10.6    7. ]\n",
      " [  11.     9.7]\n",
      " [  11.2    9.8]\n",
      " [  11.3    8.7]\n",
      " [  11.8   10. ]\n",
      " [  11.8    9.9]\n",
      " [  12.     9.8]\n",
      " [  12.2   12.2]\n",
      " [  12.4   13.4]\n",
      " [  13.    12.2]\n",
      " [  14.3   19.7]\n",
      " [  15.    19.9]]\n"
     ]
    }
   ],
   "source": [
    "print(input_arr)"
   ]
  },
  {
   "cell_type": "code",
   "execution_count": 17,
   "id": "7d59a4d8-55a9-451f-90b9-b91e52e4f5c8",
   "metadata": {},
   "outputs": [
    {
     "name": "stdout",
     "output_type": "stream",
     "text": [
      "(49, 2)\n"
     ]
    }
   ],
   "source": [
    "print(input_arr.shape)"
   ]
  },
  {
   "cell_type": "markdown",
   "id": "8d56f872-79d7-4aba-918a-c3d9bbcb7227",
   "metadata": {},
   "source": [
    "### **데이터 섞기 (shuffling)**\n",
    "[참고] : random.seed()\n",
    "- 난수를 생성하기 위한 초기값 지정\n",
    "- seed를 지정하면 랜덤 함수의 결과를 동일하게 재현할 수 있음"
   ]
  },
  {
   "cell_type": "code",
   "execution_count": 18,
   "id": "a045144a-b318-49f6-b28f-d6a597360c21",
   "metadata": {},
   "outputs": [
    {
     "name": "stdout",
     "output_type": "stream",
     "text": [
      "[ 0  1  2  3  4  5  6  7  8  9 10 11 12 13 14 15 16 17 18 19 20 21 22 23\n",
      " 24 25 26 27 28 29 30 31 32 33 34 35 36 37 38 39 40 41 42 43 44 45 46 47\n",
      " 48]\n"
     ]
    }
   ],
   "source": [
    "np.random.seed(42)\n",
    "index = np.arange(49)\n",
    "print(index)\n",
    "np.random.shuffle(index)"
   ]
  },
  {
   "cell_type": "code",
   "execution_count": 19,
   "id": "1508ee40-7f4e-4216-8b1f-b45a4ed8e024",
   "metadata": {},
   "outputs": [
    {
     "name": "stdout",
     "output_type": "stream",
     "text": [
      "[13 45 47 44 17 27 26 25 31 19 12  4 34  8  3  6 40 41 46 15  9 16 24 33\n",
      " 30  0 43 32  5 29 11 36  1 21  2 37 35 23 39 10 22 18 48 20  7 42 14 28\n",
      " 38]\n"
     ]
    }
   ],
   "source": [
    "print(index)"
   ]
  },
  {
   "cell_type": "code",
   "execution_count": 20,
   "id": "b4b8602a-c4b3-490b-93d2-3e76269c948d",
   "metadata": {},
   "outputs": [
    {
     "data": {
      "text/plain": [
       "array([[ 26.3, 290. ],\n",
       "       [ 29. , 363. ]])"
      ]
     },
     "execution_count": 20,
     "metadata": {},
     "output_type": "execute_result"
    }
   ],
   "source": [
    "input_arr[[1, 3]]"
   ]
  },
  {
   "cell_type": "code",
   "execution_count": 21,
   "id": "d42cfa06-c0d3-4ad5-9b6d-4bb827a014e9",
   "metadata": {},
   "outputs": [],
   "source": [
    "train_input = input_arr[index[:35]]\n",
    "train_target = target_arr[index[:35]]"
   ]
  },
  {
   "cell_type": "code",
   "execution_count": 22,
   "id": "76a12b16-bf6e-4d6c-84ef-a737c9e25233",
   "metadata": {},
   "outputs": [
    {
     "name": "stdout",
     "output_type": "stream",
     "text": [
      "[ 32. 340.]\n"
     ]
    }
   ],
   "source": [
    "print(input_arr[index[0]])"
   ]
  },
  {
   "cell_type": "code",
   "execution_count": 23,
   "id": "70822cbc-71c2-4c8a-9942-cd1e1a5ec474",
   "metadata": {},
   "outputs": [
    {
     "name": "stdout",
     "output_type": "stream",
     "text": [
      "[ 32. 340.] [ 32. 340.]\n"
     ]
    }
   ],
   "source": [
    "print(input_arr[13], train_input[0])"
   ]
  },
  {
   "cell_type": "code",
   "execution_count": 24,
   "id": "950e452c-87f4-488b-bc23-2a2ae8ba1115",
   "metadata": {},
   "outputs": [],
   "source": [
    "test_input = input_arr[index[35:]]\n",
    "test_target = target_arr[index[35:]]"
   ]
  },
  {
   "cell_type": "code",
   "execution_count": 38,
   "id": "ae77f987-05f6-47bb-a747-4e5b7c331e3e",
   "metadata": {},
   "outputs": [
    {
     "data": {
      "image/png": "[encoded data removed]",
      "text/plain": [
       "<Figure size 432x288 with 1 Axes>"
      ]
     },
     "metadata": {
      "needs_background": "light"
     },
     "output_type": "display_data"
    }
   ],
   "source": [
    "plt.scatter(train_input[:, 0], train_input[:, 1])\n",
    "plt.scatter(test_input[:, 0], test_input[:, 1])\n",
    "plt.xlabel('length')\n",
    "plt.ylabel('weight')\n",
    "plt.show()"
   ]
  },
  {
   "cell_type": "markdown",
   "id": "6a6ef90e-6f3b-4422-b80c-5a54054dbd53",
   "metadata": {},
   "source": [
    "   "
   ]
  },
  {
   "cell_type": "markdown",
   "id": "ba12ae52-78f6-40a1-8619-ed9c8a8000f7",
   "metadata": {},
   "source": [
    "# **두 번째 머신러닝 프로그램**"
   ]
  },
  {
   "cell_type": "code",
   "execution_count": 25,
   "id": "7d314060-af00-4799-b989-4e6f50909e7b",
   "metadata": {},
   "outputs": [
    {
     "data": {
      "text/plain": [
       "KNeighborsClassifier()"
      ]
     },
     "execution_count": 25,
     "metadata": {},
     "output_type": "execute_result"
    }
   ],
   "source": [
    "kn.fit(train_input, train_target)"
   ]
  },
  {
   "cell_type": "code",
   "execution_count": 26,
   "id": "8df2d21d-ba2b-435a-b0ba-99c4472f1472",
   "metadata": {},
   "outputs": [
    {
     "data": {
      "text/plain": [
       "1.0"
      ]
     },
     "execution_count": 26,
     "metadata": {},
     "output_type": "execute_result"
    }
   ],
   "source": [
    "kn.score(test_input, test_target)"
   ]
  },
  {
   "cell_type": "code",
   "execution_count": 27,
   "id": "d76997e8-875b-4d95-80a3-96aa6aa999bf",
   "metadata": {},
   "outputs": [
    {
     "name": "stdout",
     "output_type": "stream",
     "text": [
      "[[ 10.6   7. ]\n",
      " [  9.8   6.7]\n",
      " [ 35.  680. ]\n",
      " [ 11.2   9.8]\n",
      " [ 31.  475. ]\n",
      " [ 34.5 620. ]\n",
      " [ 33.5 610. ]\n",
      " [ 15.   19.9]\n",
      " [ 34.  575. ]\n",
      " [ 30.  390. ]\n",
      " [ 11.8   9.9]\n",
      " [ 32.  600. ]\n",
      " [ 36.  850. ]\n",
      " [ 11.    9.7]]\n"
     ]
    }
   ],
   "source": [
    "print(test_input)"
   ]
  },
  {
   "cell_type": "code",
   "execution_count": 42,
   "id": "b965ee92-e8e8-49f0-9aed-18786b69ce99",
   "metadata": {},
   "outputs": [
    {
     "data": {
      "text/plain": [
       "array([1, 1, 1, 1, 1, 1, 1, 1, 1, 1, 1, 1, 1, 1])"
      ]
     },
     "execution_count": 42,
     "metadata": {},
     "output_type": "execute_result"
    }
   ],
   "source": [
    "kn.predict(test_input)"
   ]
  },
  {
   "cell_type": "code",
   "execution_count": 44,
   "id": "8b8d9a34-6de0-40a6-be7b-a267e4d87e77",
   "metadata": {},
   "outputs": [
    {
     "data": {
      "text/plain": [
       "array([0, 0, 1, 0, 1, 1, 1, 0, 1, 1, 0, 1, 1, 0])"
      ]
     },
     "execution_count": 44,
     "metadata": {},
     "output_type": "execute_result"
    }
   ],
   "source": [
    "test_target"
   ]
  },
  {
   "cell_type": "markdown",
   "id": "ac586c03-0aa2-41e9-90e0-b33956a6ac45",
   "metadata": {},
   "source": [
    "  "
   ]
  },
  {
   "cell_type": "markdown",
   "id": "965079ea-388c-4b65-be58-288fcc17a3fc",
   "metadata": {},
   "source": [
    "## **생선 분류 문제3 (Data전처리)**"
   ]
  },
  {
   "cell_type": "markdown",
   "id": "d27c3908-1f2c-4561-b3f8-dbebb409bbf1",
   "metadata": {},
   "source": [
    "### 넘파이로 데이터 준비하기"
   ]
  },
  {
   "cell_type": "code",
   "execution_count": 28,
   "id": "b754139a-dd34-487f-9212-4ecd805b2f7e",
   "metadata": {},
   "outputs": [],
   "source": [
    "fish_length = [25.4, 26.3, 26.5, 29.0, 29.0, 29.7, 29.7, 30.0, 30.0, 30.7, 31.0, 31.0, \n",
    "                31.5, 32.0, 32.0, 32.0, 33.0, 33.0, 33.5, 33.5, 34.0, 34.0, 34.5, 35.0, \n",
    "                35.0, 35.0, 35.0, 36.0, 36.0, 37.0, 38.5, 38.5, 39.5, 41.0, 41.0, 9.8, \n",
    "                10.5, 10.6, 11.0, 11.2, 11.3, 11.8, 11.8, 12.0, 12.2, 12.4, 13.0, 14.3, 15.0]\n",
    "fish_weight = [242.0, 290.0, 340.0, 363.0, 430.0, 450.0, 500.0, 390.0, 450.0, 500.0, 475.0, 500.0, \n",
    "                500.0, 340.0, 600.0, 600.0, 700.0, 700.0, 610.0, 650.0, 575.0, 685.0, 620.0, 680.0, \n",
    "                700.0, 725.0, 720.0, 714.0, 850.0, 1000.0, 920.0, 955.0, 925.0, 975.0, 950.0, 6.7, \n",
    "                7.5, 7.0, 9.7, 9.8, 8.7, 10.0, 9.9, 9.8, 12.2, 13.4, 12.2, 19.7, 19.9]"
   ]
  },
  {
   "cell_type": "code",
   "execution_count": 29,
   "id": "52776c54-ffc2-4735-b46a-11eb1b599574",
   "metadata": {},
   "outputs": [],
   "source": [
    "#import inmpy as np"
   ]
  },
  {
   "cell_type": "markdown",
   "id": "5dd504a7-1bb3-48f2-baa1-56ada461c75c",
   "metadata": {},
   "source": [
    "**두 리스트 열방향으로 합치기 : 2차원 배열로**"
   ]
  },
  {
   "cell_type": "code",
   "execution_count": 30,
   "id": "dd1e839b-2abe-4286-a520-03fb81cde073",
   "metadata": {},
   "outputs": [],
   "source": [
    "# stack메소드 (함수) 이용\n",
    "fish_data = np.column_stack((fish_length, fish_weight))"
   ]
  },
  {
   "cell_type": "code",
   "execution_count": 31,
   "id": "27aec1bb-3323-40bc-8002-00976ea99e72",
   "metadata": {},
   "outputs": [
    {
     "name": "stdout",
     "output_type": "stream",
     "text": [
      "[[ 25.4 242. ]\n",
      " [ 26.3 290. ]\n",
      " [ 26.5 340. ]\n",
      " [ 29.  363. ]\n",
      " [ 29.  430. ]]\n"
     ]
    }
   ],
   "source": [
    "print(fish_data[:5])"
   ]
  },
  {
   "cell_type": "markdown",
   "id": "28b9e201-15de-40d2-9c19-b5ee82eabc57",
   "metadata": {},
   "source": [
    "**라벨 데이터**"
   ]
  },
  {
   "cell_type": "code",
   "execution_count": 34,
   "id": "e0669d41-e471-42f0-8263-3db7a5d3b5d3",
   "metadata": {},
   "outputs": [],
   "source": [
    "# 라벨 데이터 ⇒ y\n",
    "# 튜플 형태로\n",
    "fish_target = np.concatenate((np.ones(35), np.zeros(14)))"
   ]
  },
  {
   "cell_type": "code",
   "execution_count": 35,
   "id": "525023d3-1dd9-43d0-800c-91f3ec69c77e",
   "metadata": {},
   "outputs": [
    {
     "name": "stdout",
     "output_type": "stream",
     "text": [
      "[1. 1. 1. 1. 1. 1. 1. 1. 1. 1. 1. 1. 1. 1. 1. 1. 1. 1. 1. 1. 1. 1. 1. 1.\n",
      " 1. 1. 1. 1. 1. 1. 1. 1. 1. 1. 1. 0. 0. 0. 0. 0. 0. 0. 0. 0. 0. 0. 0. 0.\n",
      " 0.]\n"
     ]
    }
   ],
   "source": [
    "print(fish_target)"
   ]
  },
  {
   "cell_type": "markdown",
   "id": "af135444-d860-4883-93e3-15f6d943ad31",
   "metadata": {},
   "source": [
    "  "
   ]
  },
  {
   "cell_type": "markdown",
   "id": "def1486d-dad1-4353-8d0b-fe5fe45ad241",
   "metadata": {},
   "source": [
    "### **사이킷런으로 훈련 데이터와 테스터 데이터 나누기**"
   ]
  },
  {
   "cell_type": "code",
   "execution_count": 36,
   "id": "f89b58e6-7ac4-49d1-a6b1-23f07c20dd89",
   "metadata": {},
   "outputs": [],
   "source": [
    "from sklearn.model_selection import train_test_split"
   ]
  },
  {
   "cell_type": "code",
   "execution_count": 38,
   "id": "a7f82125-58c2-4f40-973d-4502ecc102c6",
   "metadata": {},
   "outputs": [],
   "source": [
    "# 매개변수 주기\n",
    "# 리턴 값 지정\n",
    "train_input, test_input, train_target, test_target = train_test_split(fish_data, fish_target, random_state = 42)"
   ]
  },
  {
   "cell_type": "code",
   "execution_count": 39,
   "id": "a91e1903-5c56-46be-83d2-f7cf12c22e02",
   "metadata": {},
   "outputs": [
    {
     "data": {
      "text/plain": [
       "(36, 2)"
      ]
     },
     "execution_count": 39,
     "metadata": {},
     "output_type": "execute_result"
    }
   ],
   "source": [
    "train_input.shape"
   ]
  },
  {
   "cell_type": "code",
   "execution_count": 40,
   "id": "0adce8b8-0012-4f48-9e01-e3ca806113c2",
   "metadata": {},
   "outputs": [
    {
     "data": {
      "text/plain": [
       "(13, 2)"
      ]
     },
     "execution_count": 40,
     "metadata": {},
     "output_type": "execute_result"
    }
   ],
   "source": [
    "test_input.shape"
   ]
  },
  {
   "cell_type": "code",
   "execution_count": null,
   "id": "22f18e51-d1a5-437d-a633-8b0856df0fa4",
   "metadata": {},
   "outputs": [],
   "source": [
    "# 1차원\n",
    "train_target.shape"
   ]
  },
  {
   "cell_type": "code",
   "execution_count": 45,
   "id": "4393ebdf-0f7f-4c77-a256-412c1f8ca5aa",
   "metadata": {},
   "outputs": [
    {
     "data": {
      "text/plain": [
       "(13,)"
      ]
     },
     "execution_count": 45,
     "metadata": {},
     "output_type": "execute_result"
    }
   ],
   "source": [
    "test_target.shape"
   ]
  },
  {
   "cell_type": "code",
   "execution_count": 46,
   "id": "74d788d5-e9be-4a63-b669-9a883c182f73",
   "metadata": {},
   "outputs": [
    {
     "data": {
      "text/plain": [
       "array([1., 0., 0., 0., 1., 1., 1., 1., 1., 1., 1., 1., 1.])"
      ]
     },
     "execution_count": 46,
     "metadata": {},
     "output_type": "execute_result"
    }
   ],
   "source": [
    "# 13개 데이터 중 0은 3개 1은 10개\n",
    "test_target"
   ]
  },
  {
   "cell_type": "markdown",
   "id": "79f218ea-2d28-45ea-87bd-a8d37fed6b16",
   "metadata": {},
   "source": [
    "**데이터 분포를 반영할 분할**"
   ]
  },
  {
   "cell_type": "code",
   "execution_count": 48,
   "id": "6e493ac1-94f1-4980-bcf3-7a6774d1e210",
   "metadata": {},
   "outputs": [],
   "source": [
    "#  stratify = fish_target 추가\n",
    "train_input, test_input, train_target, test_target = train_test_split(fish_data, fish_target, stratify = fish_target, random_state = 42)"
   ]
  },
  {
   "cell_type": "code",
   "execution_count": 49,
   "id": "260800dc-c038-47e9-8efc-2369180b9bee",
   "metadata": {},
   "outputs": [
    {
     "data": {
      "text/plain": [
       "array([0., 0., 1., 0., 1., 0., 1., 1., 1., 1., 1., 1., 1.])"
      ]
     },
     "execution_count": 49,
     "metadata": {},
     "output_type": "execute_result"
    }
   ],
   "source": [
    "#  stratify = fish_target을 반영해서 13개 데이터 중 0은 4개 1은 9개\n",
    "test_target"
   ]
  },
  {
   "cell_type": "markdown",
   "id": "dce6d2f1-77ee-4bff-a3c5-36446191eb19",
   "metadata": {},
   "source": [
    "   "
   ]
  },
  {
   "cell_type": "markdown",
   "id": "2db289dc-fa6c-47a0-90dc-488d80a8f61c",
   "metadata": {},
   "source": [
    "### **성능 평가 및 테스트**"
   ]
  },
  {
   "cell_type": "code",
   "execution_count": 52,
   "id": "88f131e2-3871-41bd-86fe-f056f71b82e6",
   "metadata": {},
   "outputs": [
    {
     "data": {
      "text/plain": [
       "1.0"
      ]
     },
     "execution_count": 52,
     "metadata": {},
     "output_type": "execute_result"
    }
   ],
   "source": [
    "# from sklearn.neighbors import KNeighborsClassifier\n",
    "# kn = KNeighborsClassifier()\n",
    "\n",
    "kn.fit(train_input, train_target)\n",
    "kn.score(test_input, test_target)"
   ]
  },
  {
   "cell_type": "markdown",
   "id": "83de39ed-da90-433b-bcef-5cc4477e088a",
   "metadata": {},
   "source": [
    "  "
   ]
  },
  {
   "cell_type": "markdown",
   "id": "f9c0837d-295d-4e1e-82bf-4f57755a4310",
   "metadata": {},
   "source": [
    "#### **도미 데이터 : 길이 25, 무게 150에 대한 분류 결과는?**"
   ]
  },
  {
   "cell_type": "code",
   "execution_count": 54,
   "id": "7f045fde-fe82-48ef-9eb5-bd9b7f5fb208",
   "metadata": {},
   "outputs": [
    {
     "name": "stdout",
     "output_type": "stream",
     "text": [
      "[0.]\n"
     ]
    }
   ],
   "source": [
    "print(kn.predict([[25, 150]]))"
   ]
  },
  {
   "cell_type": "markdown",
   "id": "ed591bf1-117b-45c9-87a7-b74ff293fd90",
   "metadata": {},
   "source": [
    "**테스트할 도미 데이터를 포함한 산점도**"
   ]
  },
  {
   "cell_type": "code",
   "execution_count": 55,
   "id": "faeac705-c448-48b8-be94-216ef4f121da",
   "metadata": {},
   "outputs": [
    {
     "data": {
      "image/png": "[encoded data removed]",
      "text/plain": [
       "<Figure size 432x288 with 1 Axes>"
      ]
     },
     "metadata": {
      "needs_background": "light"
     },
     "output_type": "display_data"
    }
   ],
   "source": [
    "plt.scatter(train_input[:, 0], train_input[:, 1])\n",
    "plt.scatter(25, 150, marker='^')\n",
    "plt.xlabel('length')\n",
    "plt.ylabel('weight')\n",
    "plt.show()"
   ]
  },
  {
   "cell_type": "markdown",
   "id": "a0d37b64-0499-4041-ba54-161f2fd0ddb3",
   "metadata": {},
   "source": [
    "  "
   ]
  },
  {
   "cell_type": "markdown",
   "id": "a5dd9a16-6c71-47db-a1ea-74857a62d78a",
   "metadata": {},
   "source": [
    "**테스트할 도미 데이터와 이웃하는 데이터들**"
   ]
  },
  {
   "cell_type": "code",
   "execution_count": 60,
   "id": "1ecbe9f0-2a10-48b8-8bfd-af1dd750a6e0",
   "metadata": {},
   "outputs": [
    {
     "data": {
      "text/plain": [
       "(array([[ 92.00086956, 130.48375378, 130.73859415, 138.32150953,\n",
       "         138.39320793]]),\n",
       " array([[21, 33, 19, 30,  1]], dtype=int64))"
      ]
     },
     "execution_count": 60,
     "metadata": {},
     "output_type": "execute_result"
    }
   ],
   "source": [
    "kn.kneighbors([[25,150]])\n",
    "# 가장 가까운 이웃들에 대한 이웃정보 (k=5이므로 5개의 이웃에 대한 정보)\n",
    "# 인덱스 정보"
   ]
  },
  {
   "cell_type": "code",
   "execution_count": 61,
   "id": "4efd42ae-108c-4d2d-b033-f32e5b16672f",
   "metadata": {},
   "outputs": [],
   "source": [
    "dist, idx = kn.kneighbors([[25,150]])"
   ]
  },
  {
   "cell_type": "code",
   "execution_count": 64,
   "id": "99dc8901-a668-4a1a-97bd-8e558a6fb8c6",
   "metadata": {},
   "outputs": [
    {
     "name": "stdout",
     "output_type": "stream",
     "text": [
      "[[ 92.00086956 130.48375378 130.73859415 138.32150953 138.39320793]]\n"
     ]
    }
   ],
   "source": [
    "print(dist)"
   ]
  },
  {
   "cell_type": "code",
   "execution_count": 62,
   "id": "5acf2b30-5e7d-4606-84fd-fe438ebc1df3",
   "metadata": {},
   "outputs": [
    {
     "data": {
      "text/plain": [
       "array([[21, 33, 19, 30,  1]], dtype=int64)"
      ]
     },
     "execution_count": 62,
     "metadata": {},
     "output_type": "execute_result"
    }
   ],
   "source": [
    "idx"
   ]
  },
  {
   "cell_type": "code",
   "execution_count": 63,
   "id": "ca50cb76-16b8-4ab0-8005-bd1286e993cd",
   "metadata": {},
   "outputs": [
    {
     "name": "stdout",
     "output_type": "stream",
     "text": [
      "[[21 33 19 30  1]]\n"
     ]
    }
   ],
   "source": [
    "print(idx)"
   ]
  },
  {
   "cell_type": "code",
   "execution_count": 65,
   "id": "c6d6ed0d-4896-4bf3-9808-b300b798b337",
   "metadata": {},
   "outputs": [
    {
     "data": {
      "text/plain": [
       "array([[[ 25.4, 242. ],\n",
       "        [ 15. ,  19.9],\n",
       "        [ 14.3,  19.7],\n",
       "        [ 13. ,  12.2],\n",
       "        [ 12.2,  12.2]]])"
      ]
     },
     "execution_count": 65,
     "metadata": {},
     "output_type": "execute_result"
    }
   ],
   "source": [
    "train_input[idx]"
   ]
  },
  {
   "cell_type": "code",
   "execution_count": 66,
   "id": "d76cc82a-1d89-4b8a-87f5-1c07f77425a5",
   "metadata": {},
   "outputs": [
    {
     "data": {
      "image/png": "[encoded data removed]",
      "text/plain": [
       "<Figure size 432x288 with 1 Axes>"
      ]
     },
     "metadata": {
      "needs_background": "light"
     },
     "output_type": "display_data"
    }
   ],
   "source": [
    "plt.scatter(train_input[:, 0], train_input[:, 1])  # 전체 tatin data set의 x와 y값\n",
    "plt.scatter(25, 150, marker='^')\n",
    "plt.scatter(train_input[idx, 0], train_input[idx, 1], marker = 'D')  # 다이아몬드 모양\n",
    "plt.xlabel('length')\n",
    "plt.ylabel('weight')\n",
    "plt.show()"
   ]
  },
  {
   "cell_type": "code",
   "execution_count": 67,
   "id": "e63ab395-1543-40db-8f1c-adf19684e45f",
   "metadata": {},
   "outputs": [
    {
     "name": "stdout",
     "output_type": "stream",
     "text": [
      "[[1. 0. 0. 0. 0.]]\n"
     ]
    }
   ],
   "source": [
    "print(train_target[idx])"
   ]
  },
  {
   "cell_type": "code",
   "execution_count": 68,
   "id": "f89a12e5-a17e-4f6d-abc3-dc7278c5cc84",
   "metadata": {},
   "outputs": [
    {
     "name": "stdout",
     "output_type": "stream",
     "text": [
      "[[ 92.00086956 130.48375378 130.73859415 138.32150953 138.39320793]]\n"
     ]
    }
   ],
   "source": [
    "# 거리에 대한 정보 출력\n",
    "print(dist)"
   ]
  },
  {
   "cell_type": "markdown",
   "id": "ad50502d-f62c-46bf-9a5d-0b848f93ab87",
   "metadata": {},
   "source": [
    "  "
   ]
  },
  {
   "cell_type": "markdown",
   "id": "46fbb92e-a76f-4797-9a71-6cdb8c232a34",
   "metadata": {},
   "source": [
    "### **기준을 맞춰라**\n",
    "- 최근접이웃 알고리즘은 거리를 기반으로 가까운 이웃을 결정\n",
    "- 거리 계산 시 자료의 값이 큰 변수에 더 큰 영향을 받게됨"
   ]
  },
  {
   "cell_type": "code",
   "execution_count": 70,
   "id": "655d64fb-83ac-48ff-afee-e7602759257b",
   "metadata": {},
   "outputs": [
    {
     "data": {
      "image/png": "[encoded data removed]",
      "text/plain": [
       "<Figure size 432x288 with 1 Axes>"
      ]
     },
     "metadata": {
      "needs_background": "light"
     },
     "output_type": "display_data"
    }
   ],
   "source": [
    "plt.scatter(train_input[:, 0], train_input[:, 1])\n",
    "plt.scatter(25, 150, marker='^')\n",
    "plt.scatter(train_input[idx, 0], train_input[idx, 1], marker = 'D')  \n",
    "plt.xlim((0, 1000))\n",
    "plt.xlabel('length')\n",
    "plt.ylabel('weight')\n",
    "plt.show()"
   ]
  },
  {
   "cell_type": "markdown",
   "id": "56ce49a2-32d0-408d-9c88-88b14d55951f",
   "metadata": {},
   "source": [
    "   "
   ]
  },
  {
   "cell_type": "markdown",
   "id": "4daf8fe5-f720-487d-b615-d1a185b08a09",
   "metadata": {},
   "source": [
    "### **두 변수의 스케일을 같게**\n",
    "- 표준화 \n",
    "- 표준 점수 (Z-Score)"
   ]
  },
  {
   "cell_type": "code",
   "execution_count": 73,
   "id": "d2b91028-0ad6-45f7-a168-1fa26e1fe8ec",
   "metadata": {},
   "outputs": [
    {
     "name": "stdout",
     "output_type": "stream",
     "text": [
      "[ 27.29722222 454.09722222]\n"
     ]
    }
   ],
   "source": [
    "# axis = 0 열 기준 (세로 축 기준)\n",
    "mean = np.mean(train_input, axis = 0)\n",
    "print(mean)"
   ]
  },
  {
   "cell_type": "code",
   "execution_count": 74,
   "id": "b37f9914-2c70-42c7-a821-b46bbd25d6cb",
   "metadata": {},
   "outputs": [
    {
     "name": "stdout",
     "output_type": "stream",
     "text": [
      "[  9.98244253 323.29893931]\n"
     ]
    }
   ],
   "source": [
    "std = np.std(train_input, axis = 0)\n",
    "print(std)"
   ]
  },
  {
   "cell_type": "code",
   "execution_count": 87,
   "id": "7c928dc6-79f4-4c8a-a060-2801ab901628",
   "metadata": {},
   "outputs": [
    {
     "name": "stdout",
     "output_type": "stream",
     "text": [
      "[[ 0.24070039  0.14198246]\n",
      " [-1.51237757 -1.36683783]\n",
      " [ 0.5712808   0.76060496]\n",
      " [-1.60253587 -1.37766373]\n",
      " [ 1.22242404  1.45655528]\n",
      " [ 0.17057727 -0.07453542]\n",
      " [ 0.87180845  0.80390854]\n",
      " [ 0.87180845  1.22457184]\n",
      " [ 0.37092904  0.06465464]\n",
      " [ 0.77163257  0.82246721]]\n"
     ]
    }
   ],
   "source": [
    "train_scaled = (train_input-mean) / std\n",
    "print(train_scaled[:10])"
   ]
  },
  {
   "cell_type": "code",
   "execution_count": 88,
   "id": "7f0b4303-9dfe-46d3-9267-7a116128d22c",
   "metadata": {},
   "outputs": [
    {
     "data": {
      "image/png": "[encoded data removed]",
      "text/plain": [
       "<Figure size 432x288 with 1 Axes>"
      ]
     },
     "metadata": {
      "needs_background": "light"
     },
     "output_type": "display_data"
    }
   ],
   "source": [
    "plt.scatter(train_scaled[:, 0], train_scaled[:, 1])\n",
    "plt.xlabel('length')\n",
    "plt.ylabel('weight')\n",
    "plt.show()"
   ]
  },
  {
   "cell_type": "markdown",
   "id": "7821bbea-752e-49aa-83d6-a3b1b8b3247a",
   "metadata": {},
   "source": [
    "  "
   ]
  },
  {
   "cell_type": "markdown",
   "id": "8221b2e3-ac97-4851-a1c6-7783c0f6f411",
   "metadata": {},
   "source": [
    "### **전처리 데이터로 모델 훈련하기**"
   ]
  },
  {
   "cell_type": "code",
   "execution_count": 89,
   "id": "abee0a6a-0b6e-4ae1-a68f-9d63fb926270",
   "metadata": {},
   "outputs": [
    {
     "data": {
      "image/png": "[encoded data removed]",
      "text/plain": [
       "<Figure size 432x288 with 1 Axes>"
      ]
     },
     "metadata": {
      "needs_background": "light"
     },
     "output_type": "display_data"
    }
   ],
   "source": [
    "plt.scatter(train_scaled[:, 0], train_scaled[:, 1])\n",
    "plt.scatter(25, 150, marker='^')\n",
    "plt.xlabel('length')\n",
    "plt.ylabel('weight')\n",
    "plt.show()"
   ]
  },
  {
   "cell_type": "markdown",
   "id": "8c776cd0-7942-47fb-b832-242a4a9a3378",
   "metadata": {},
   "source": [
    "**테스트 데이터도 스케일링**"
   ]
  },
  {
   "cell_type": "code",
   "execution_count": 90,
   "id": "5ac2d9bc-3f7d-4172-ac98-e63fc8432842",
   "metadata": {},
   "outputs": [
    {
     "name": "stdout",
     "output_type": "stream",
     "text": [
      "[-0.23012627 -0.94060693]\n"
     ]
    }
   ],
   "source": [
    "new = ([25, 150] - mean) / std\n",
    "print(new)"
   ]
  },
  {
   "cell_type": "code",
   "execution_count": 91,
   "id": "4f9a5b3c-232a-45ad-8039-a0755352c7c6",
   "metadata": {},
   "outputs": [
    {
     "data": {
      "image/png": "[encoded data removed]",
      "text/plain": [
       "<Figure size 432x288 with 1 Axes>"
      ]
     },
     "metadata": {
      "needs_background": "light"
     },
     "output_type": "display_data"
    }
   ],
   "source": [
    "plt.scatter(train_scaled[:, 0], train_scaled[:, 1])\n",
    "plt.scatter(new[0], new[1], marker='^')\n",
    "plt.xlabel('length')\n",
    "plt.ylabel('weight')\n",
    "plt.show()"
   ]
  },
  {
   "cell_type": "code",
   "execution_count": 92,
   "id": "152653ad-3f4e-4475-9428-98aec375e13c",
   "metadata": {},
   "outputs": [
    {
     "data": {
      "text/plain": [
       "KNeighborsClassifier()"
      ]
     },
     "execution_count": 92,
     "metadata": {},
     "output_type": "execute_result"
    }
   ],
   "source": [
    "kn.fit(train_scaled, train_target)"
   ]
  },
  {
   "cell_type": "code",
   "execution_count": 93,
   "id": "4a96c611-00d0-47f4-9f37-8d747c49fc73",
   "metadata": {},
   "outputs": [],
   "source": [
    "test_scaled = (test_input - mean) / std"
   ]
  },
  {
   "cell_type": "code",
   "execution_count": 94,
   "id": "2a4b5e5a-e4fb-43d2-9cdb-9d9428aa2c40",
   "metadata": {},
   "outputs": [
    {
     "data": {
      "text/plain": [
       "1.0"
      ]
     },
     "execution_count": 94,
     "metadata": {},
     "output_type": "execute_result"
    }
   ],
   "source": [
    "kn.score(test_scaled, test_target)"
   ]
  },
  {
   "cell_type": "code",
   "execution_count": 95,
   "id": "abf1a234-66be-4660-904f-33a8be302f1b",
   "metadata": {},
   "outputs": [
    {
     "data": {
      "text/plain": [
       "array([1.])"
      ]
     },
     "execution_count": 95,
     "metadata": {},
     "output_type": "execute_result"
    }
   ],
   "source": [
    "kn.predict([new])"
   ]
  },
  {
   "cell_type": "code",
   "execution_count": 96,
   "id": "326de7c2-dffd-466a-a857-a171d9c93e5b",
   "metadata": {},
   "outputs": [
    {
     "data": {
      "text/plain": [
       "(array([[0.2873737 , 0.7711188 , 0.89552179, 0.91493515, 0.95427626]]),\n",
       " array([[21, 14, 34, 32,  5]], dtype=int64))"
      ]
     },
     "execution_count": 96,
     "metadata": {},
     "output_type": "execute_result"
    }
   ],
   "source": [
    "kn.kneighbors([new])"
   ]
  },
  {
   "cell_type": "code",
   "execution_count": 97,
   "id": "74567b8c-cdc1-4c3b-b8ca-dacc1212be71",
   "metadata": {},
   "outputs": [
    {
     "name": "stdout",
     "output_type": "stream",
     "text": [
      "[[0.2873737  0.7711188  0.89552179 0.91493515 0.95427626]] [[21 14 34 32  5]]\n"
     ]
    }
   ],
   "source": [
    "dist, idx = kn.kneighbors([new])\n",
    "print(dist, idx)"
   ]
  },
  {
   "cell_type": "code",
   "execution_count": 99,
   "id": "dc99d7b5-4f7b-4587-8d9d-4427cce2aa15",
   "metadata": {},
   "outputs": [
    {
     "data": {
      "image/png": "[encoded data removed]",
      "text/plain": [
       "<Figure size 432x288 with 1 Axes>"
      ]
     },
     "metadata": {
      "needs_background": "light"
     },
     "output_type": "display_data"
    }
   ],
   "source": [
    "plt.scatter(train_scaled[:, 0], train_scaled[:, 1])\n",
    "plt.scatter(new[0], new[1], marker='^')\n",
    "plt.scatter(train_scaled[idx, 0], train_scaled[idx, 1], marker = 'D') \n",
    "plt.xlabel('length')\n",
    "plt.ylabel('weight')\n",
    "plt.show()"
   ]
  }
 ],
 "metadata": {
  "kernelspec": {
   "display_name": "Python Multi",
   "language": "python",
   "name": "multi"
  },
  "language_info": {
   "codemirror_mode": {
    "name": "ipython",
    "version": 3
   },
   "file_extension": ".py",
   "mimetype": "text/x-python",
   "name": "python",
   "nbconvert_exporter": "python",
   "pygments_lexer": "ipython3",
   "version": "3.7.6"
  }
 },
 "nbformat": 4,
 "nbformat_minor": 5
}
