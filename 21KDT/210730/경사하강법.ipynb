{
 "cells": [
  {
   "cell_type": "markdown",
   "id": "e508e817-bd3e-45ae-9284-01d92c933e10",
   "metadata": {},
   "source": [
    "**실제값을 Y = 4X +6 시뮬레이션하는 데이터 값 생성**"
   ]
  },
  {
   "cell_type": "code",
   "execution_count": 6,
   "id": "e396e2e9-b8b0-4d07-86d8-0354d0b327d4",
   "metadata": {},
   "outputs": [],
   "source": [
    "import numpy as np"
   ]
  },
  {
   "cell_type": "code",
   "execution_count": 7,
   "id": "0b94c4c8-8a9c-4016-9606-35d5d0377a75",
   "metadata": {},
   "outputs": [
    {
     "name": "stdout",
     "output_type": "stream",
     "text": [
      "PYTHONPATH: None\n",
      "PATH: C:\\Users\\ftsv2\\Anaconda3;C:\\Users\\ftsv2\\Anaconda3\\Library\\mingw-w64\\bin;C:\\Users\\ftsv2\\Anaconda3\\Library\\usr\\bin;C:\\Users\\ftsv2\\Anaconda3\\Library\\bin;C:\\Users\\ftsv2\\Anaconda3\\Scripts;C:\\Users\\ftsv2\\Anaconda3\\bin;C:\\Users\\ftsv2\\Anaconda3\\condabin;C:\\WINDOWS\\system32;C:\\WINDOWS;C:\\WINDOWS\\System32\\Wbem;C:\\WINDOWS\\System32\\WindowsPowerShell\\v1.0;C:\\WINDOWS\\System32\\OpenSSH;C:\\Program Files\\Git\\cmd;C:\\Program Files\\Graphviz\\bin;C:\\Users\\ftsv2\\Anaconda3;C:\\Users\\ftsv2\\Anaconda3\\Library\\bin;C:\\Users\\ftsv2\\Anaconda3\\Library\\usr\\bin;C:\\Users\\ftsv2\\Anaconda3\\Library\\mingw-w64\\bin;C:\\Users\\ftsv2\\Anaconda3\\Scripts;C:\\Users\\ftsv2\\Anaconda3\\Library\\bin\\libiomp5md.dll;C:\\Program Files\\MySQL\\MySQL Shell 8.0\\bin;C:\\Users\\ftsv2\\AppData\\Local\\Microsoft\\WindowsApps;C:\\Program Files\\JetBrains\\PyCharm Community Edition 2021.1.2\\bin;.;C:\\Users\\ftsv2\\AppData\\Local\\Programs\\Microsoft VS Code\\bin;C:\\Users\\ftsv2\\Anaconda3;C:\\Users\\ftsv2\\Anaconda3\\Library\\bin;C:\\Users\\ftsv2\\Anaconda3\\Library\\usr\\bin;C:\\Users\\ftsv2\\Anaconda3\\Library\\mingw-w64\\bin;C:\\Users\\ftsv2\\Anaconda3\\Scripts;C:\\Users\\ftsv2\\Anaconda3\\Library\\bin\\libiomp5md.dll;.\n"
     ]
    }
   ],
   "source": [
    "import os\n",
    "print(\"PYTHONPATH:\", os.environ.get('PYTHONPATH'))\n",
    "print(\"PATH:\", os.environ.get('PATH'))"
   ]
  },
  {
   "cell_type": "code",
   "execution_count": 8,
   "id": "32f4216a-b498-4b85-915d-a258d3a2bd80",
   "metadata": {},
   "outputs": [
    {
     "ename": "ImportError",
     "evalue": "attempted relative import with no known parent package",
     "output_type": "error",
     "traceback": [
      "\u001b[1;31m---------------------------------------------------------------------------\u001b[0m",
      "\u001b[1;31mImportError\u001b[0m                               Traceback (most recent call last)",
      "\u001b[1;32m<ipython-input-8-145cd59509ff>\u001b[0m in \u001b[0;36m<module>\u001b[1;34m\u001b[0m\n\u001b[1;32m----> 1\u001b[1;33m \u001b[1;32mfrom\u001b[0m \u001b[1;33m.\u001b[0m \u001b[1;32mimport\u001b[0m \u001b[0mcore\u001b[0m\u001b[1;33m\u001b[0m\u001b[1;33m\u001b[0m\u001b[0m\n\u001b[0m",
      "\u001b[1;31mImportError\u001b[0m: attempted relative import with no known parent package"
     ]
    }
   ],
   "source": [
    "from . import core"
   ]
  },
  {
   "cell_type": "code",
   "execution_count": null,
   "id": "53d78371-b49f-4c8b-acdd-8d1f81c21e29",
   "metadata": {},
   "outputs": [],
   "source": [
    "import matplotlib.pyplot as plt"
   ]
  },
  {
   "cell_type": "code",
   "execution_count": 9,
   "id": "fcb884b6-72e0-448c-8337-b3d0fdd64530",
   "metadata": {},
   "outputs": [],
   "source": [
    "import numpy as np\n",
    "import matplotlib.pyplot as plt\n",
    "%matplotlib inline\n",
    "\n",
    "np.random.seed(0)\n",
    "\n",
    "# y = 4X + 6 식을 근사(w1=4, w0=6). random 값은 Noise를 위해 만듬\n",
    "X = 2 * np.random.rand(100,1)\n",
    "y = 6 + 4 * X + np.random.randn(100,1)"
   ]
  },
  {
   "cell_type": "markdown",
   "id": "a95f6ba1-684a-4817-93d9-c1c1a44e1597",
   "metadata": {},
   "source": [
    "**X, y 데이터 셋 scatter plot으로 시각화**"
   ]
  },
  {
   "cell_type": "code",
   "execution_count": 9,
   "id": "56578b3e-6897-4553-9137-6c512f6f493c",
   "metadata": {},
   "outputs": [
    {
     "data": {
      "text/plain": [
       "<matplotlib.collections.PathCollection at 0x1a64caa9d60>"
      ]
     },
     "execution_count": 9,
     "metadata": {},
     "output_type": "execute_result"
    },
    {
     "data": {
      "image/png": "[encoded data removed]",
      "text/plain": [
       "<Figure size 432x288 with 1 Axes>"
      ]
     },
     "metadata": {
      "needs_background": "light"
     },
     "output_type": "display_data"
    }
   ],
   "source": [
    "plt.scatter(X, y)"
   ]
  },
  {
   "cell_type": "code",
   "execution_count": null,
   "id": "575f2f3f-832b-4d06-bef0-8e6500e1a4ee",
   "metadata": {},
   "outputs": [],
   "source": []
  },
  {
   "cell_type": "code",
   "execution_count": 20,
   "id": "a7b445ca-c72a-456b-9f5b-d3329a0d09c9",
   "metadata": {},
   "outputs": [],
   "source": [
    "# w1 과 w0 를 업데이트 할 w1_update, w0_update를 반환. \n",
    "def get_weight_updates(w1, w0, X, y, learning_rate=0.01):\n",
    "    N = len(y)\n",
    "    # 먼저 w1_update, w0_update를 각각 w1, w0의 shape와 동일한 크기를 가진 0 값으로 초기화\n",
    "    w1_update = np.zeros_like(w1)\n",
    "    w0_update = np.zeros_like(w0)\n",
    "    # 예측 배열 계산하고 예측과 실제 값의 차이 계산\n",
    "    y_pred = np.dot(X, w1.T) + w0\n",
    "    diff = y-y_pred\n",
    "         \n",
    "    # w0_update를 dot 행렬 연산으로 구하기 위해 모두 1값을 가진 행렬 생성 \n",
    "    w0_factors = np.ones((N,1))\n",
    "\n",
    "    # w1과 w0을 업데이트할 w1_update와 w0_update 계산\n",
    "    w1_update = -(2/N)*learning_rate*(np.dot(X.T, diff))\n",
    "    w0_update = -(2/N)*learning_rate*(np.dot(w0_factors.T, diff))    \n",
    "    \n",
    "    return w1_update, w0_update"
   ]
  },
  {
   "cell_type": "markdown",
   "id": "b60f775a-dbdb-4f28-931e-961387b9c85c",
   "metadata": {},
   "source": [
    "반복적으로 경사 하강법을 이용하여 get_weight_"
   ]
  },
  {
   "cell_type": "code",
   "execution_count": 12,
   "id": "eefa8120-d8a2-42d5-b001-ec8a158548ec",
   "metadata": {},
   "outputs": [],
   "source": [
    "# 입력 인자 iters로 주어진 횟수만큼 반복적으로 w1과 w0을 업데이트 적용함\n",
    "\n",
    "def gradient_descent_steps(X, y, iters=10000):\n",
    "    # w0와 w1을 모두 0으로 초기화. \n",
    "    w0 = np.zeros((1,1))\n",
    "    w1 = np.zeros((1,1))\n",
    "    \n",
    "    # 인자로 주어진 iters 만큼 반복적으로 get_weight_updates() 호출하여 w1, w0 업데이트 수행. \n",
    "    for ind in range(iters):\n",
    "        w1_update, w0_update = get_weight_updates(w1, w0, X, y, learning_rate=0.01)\n",
    "        w1 = w1 - w1_update\n",
    "        w0 = w0 - w0_update\n",
    "              \n",
    "    return w1, w0"
   ]
  },
  {
   "cell_type": "markdown",
   "id": "47ec1d91-9369-433a-bcea-834f7f7dccab",
   "metadata": {},
   "source": [
    "**예측 오차 비용을 계산을 수행하는 함수 : get_cost()**\n",
    "- get_cost() 생성 및 경사 하강법 수행"
   ]
  },
  {
   "cell_type": "code",
   "execution_count": 13,
   "id": "027e6999-cddb-404e-8c6d-6f318566b0ee",
   "metadata": {},
   "outputs": [],
   "source": [
    "def get_cost(y, y_pred):\n",
    "    N = len(y) \n",
    "    cost = np.sum(np.square(y - y_pred))/N\n",
    "    return cost"
   ]
  },
  {
   "cell_type": "code",
   "execution_count": 14,
   "id": "33b3c03f-237f-470e-bbdf-bd72723e9835",
   "metadata": {},
   "outputs": [
    {
     "name": "stdout",
     "output_type": "stream",
     "text": [
      "w1:4.022 w0:6.162\n",
      "Gradient Descent Total Cost:0.9935\n"
     ]
    }
   ],
   "source": [
    "w1, w0 = gradient_descent_steps(X, y, iters=1000)\n",
    "print(\"w1:{0:.3f} w0:{1:.3f}\".format(w1[0,0], w0[0,0]))\n",
    "\n",
    "y_pred = w1[0,0] * X + w0\n",
    "print('Gradient Descent Total Cost:{0:.4f}'.format(get_cost(y, y_pred)))"
   ]
  },
  {
   "cell_type": "markdown",
   "id": "37aa14c8-34c3-4972-b96d-4bd3108b050d",
   "metadata": {},
   "source": [
    "**경사하강법으로 구한 선형식을 시각화**"
   ]
  },
  {
   "cell_type": "code",
   "execution_count": 15,
   "id": "03d2a957-d7fe-45fc-b3f1-d0f1c61ba926",
   "metadata": {},
   "outputs": [
    {
     "data": {
      "text/plain": [
       "[<matplotlib.lines.Line2D at 0x1a64cb18730>]"
      ]
     },
     "execution_count": 15,
     "metadata": {},
     "output_type": "execute_result"
    },
    {
     "data": {
      "image/png": "[encoded data removed]",
      "text/plain": [
       "<Figure size 432x288 with 1 Axes>"
      ]
     },
     "metadata": {
      "needs_background": "light"
     },
     "output_type": "display_data"
    }
   ],
   "source": [
    "plt.scatter(X, y)\n",
    "plt.plot(X, y_pred)"
   ]
  },
  {
   "cell_type": "markdown",
   "id": "df2cd7a1-31dc-400e-804a-bce4cd7e84fb",
   "metadata": {},
   "source": [
    "**미니배치 확률적 경사 하강법을 이용한 최적 비용함수 도출**"
   ]
  },
  {
   "cell_type": "code",
   "execution_count": 16,
   "id": "32a7d5dc-5b7f-417b-b193-8d48b058aa6f",
   "metadata": {},
   "outputs": [],
   "source": [
    "def stochastic_gradient_descent_steps(X, y, batch_size=10, iters=1000):\n",
    "    w0 = np.zeros((1,1))\n",
    "    w1 = np.zeros((1,1))\n",
    "    prev_cost = 100000\n",
    "    iter_index =0\n",
    "    \n",
    "    for ind in range(iters):\n",
    "        np.random.seed(ind)\n",
    "        \n",
    "        # 전체 X, y 데이터에서 랜덤하게 batch_size만큼 데이터 추출하여 sample_X, sample_y로 저장\n",
    "        stochastic_random_index = np.random.permutation(X.shape[0])\n",
    "        sample_X = X[stochastic_random_index[0:batch_size]]\n",
    "        sample_y = y[stochastic_random_index[0:batch_size]]\n",
    "        \n",
    "        # 랜덤하게 batch_size만큼 추출된 데이터 기반으로 w1_update, w0_update 계산 후 업데이트\n",
    "        w1_update, w0_update = get_weight_updates(w1, w0, sample_X, sample_y, learning_rate=0.01)\n",
    "        w1 = w1 - w1_update\n",
    "        w0 = w0 - w0_update\n",
    "    \n",
    "    return w1, w0"
   ]
  },
  {
   "cell_type": "code",
   "execution_count": 17,
   "id": "85b9d764-9a81-4029-a9ef-674d41965607",
   "metadata": {},
   "outputs": [
    {
     "name": "stdout",
     "output_type": "stream",
     "text": [
      "w1: 4.028 w0: 6.156\n",
      "Stochastic Gradient Descent Total Cost:0.9935\n"
     ]
    }
   ],
   "source": [
    "w1, w0 = stochastic_gradient_descent_steps(X, y, iters=1000)\n",
    "print(\"w1:\",round(w1[0,0],3),\"w0:\",round(w0[0,0],3))\n",
    "y_pred1 = w1[0,0] * X + w0\n",
    "print('Stochastic Gradient Descent Total Cost:{0:.4f}'.format(get_cost(y, y_pred)))"
   ]
  },
  {
   "cell_type": "markdown",
   "id": "2753ece9-d8c9-4089-a427-b3bb74d8cda0",
   "metadata": {},
   "source": [
    "**확률적 경사하강법으로 계산된 회귀계수를 적용한 회귀직선 시각화**"
   ]
  },
  {
   "cell_type": "code",
   "execution_count": 19,
   "id": "8d877f6e-0786-4bb3-b24e-927dcc01e3ef",
   "metadata": {},
   "outputs": [
    {
     "data": {
      "text/plain": [
       "[<matplotlib.lines.Line2D at 0x1a64cb848e0>]"
      ]
     },
     "execution_count": 19,
     "metadata": {},
     "output_type": "execute_result"
    },
    {
     "data": {
      "image/png": "[encoded data removed]",
      "text/plain": [
       "<Figure size 432x288 with 1 Axes>"
      ]
     },
     "metadata": {
      "needs_background": "light"
     },
     "output_type": "display_data"
    }
   ],
   "source": [
    "plt.scatter(X, y)\n",
    "plt.plot(X, y_pred, 'r-.')\n",
    "plt.plot(X, y_pred1, 'g:')"
   ]
  },
  {
   "cell_type": "markdown",
   "id": "2ab03b99-8527-464b-a577-4b3dc837477d",
   "metadata": {},
   "source": [
    "  "
   ]
  },
  {
   "cell_type": "markdown",
   "id": "c89fcca3-40d3-41b3-8a04-54f7e9c65f1a",
   "metadata": {},
   "source": [
    "  "
   ]
  },
  {
   "cell_type": "markdown",
   "id": "106f268a-164f-4033-b62e-aef66569c6b3",
   "metadata": {},
   "source": [
    "## **선형 회귀 분석**"
   ]
  },
  {
   "cell_type": "code",
   "execution_count": 21,
   "id": "8d0c53d2-c3e1-42e5-bc50-1c10bc7e9f8e",
   "metadata": {},
   "outputs": [
    {
     "data": {
      "text/plain": [
       "LinearRegression()"
      ]
     },
     "execution_count": 21,
     "metadata": {},
     "output_type": "execute_result"
    }
   ],
   "source": [
    "# 단순 선형 회귀 분석\n",
    "# LinearRegression 알고리즘으로 학습\n",
    "# X : 피처값\n",
    "# y : 타켓값\n",
    "from sklearn.linear_model import LinearRegression\n",
    "\n",
    "line_fitter = LinearRegression()  # 객체 생성\n",
    "line_fitter.fit(X, y)  # 학습"
   ]
  },
  {
   "cell_type": "code",
   "execution_count": 23,
   "id": "997a1e57-01d3-4f7a-a5ed-06d7e0c09f31",
   "metadata": {},
   "outputs": [
    {
     "data": {
      "text/plain": [
       "array([[12.27327034]])"
      ]
     },
     "execution_count": 23,
     "metadata": {},
     "output_type": "execute_result"
    }
   ],
   "source": [
    "# X가 1.5248의 타켓값 예측\n",
    "y_pred = line_fitter.predict(np.array([[1.5248]]))\n",
    "y_pred"
   ]
  },
  {
   "cell_type": "code",
   "execution_count": 24,
   "id": "f0bec301-7d12-4e1c-856c-1fc8386d4b5f",
   "metadata": {},
   "outputs": [
    {
     "data": {
      "text/plain": [
       "array([[3.96846751]])"
      ]
     },
     "execution_count": 24,
     "metadata": {},
     "output_type": "execute_result"
    }
   ],
   "source": [
    "# 회귀 계수 : coef_ 속성\n",
    "line_fitter.coef_"
   ]
  },
  {
   "cell_type": "code",
   "execution_count": 25,
   "id": "8802fa04-855c-49db-a181-ad4a480633e6",
   "metadata": {},
   "outputs": [
    {
     "data": {
      "text/plain": [
       "array([6.22215108])"
      ]
     },
     "execution_count": 25,
     "metadata": {},
     "output_type": "execute_result"
    }
   ],
   "source": [
    "# 절편 확인 : y = 4x + 6 (절편 : 6)\n",
    "line_fitter.intercept_"
   ]
  },
  {
   "cell_type": "code",
   "execution_count": 26,
   "id": "47c7fff3-d3f0-4fb7-a328-e73ec0b88d8d",
   "metadata": {},
   "outputs": [
    {
     "data": {
      "image/png": "[encoded data removed]",
      "text/plain": [
       "<Figure size 432x288 with 1 Axes>"
      ]
     },
     "metadata": {
      "needs_background": "light"
     },
     "output_type": "display_data"
    }
   ],
   "source": [
    "# 단순 선형회귀 시각화\n",
    "plt.plot(X, y, 'o')\n",
    "plt.plot(X, line_fitter.predict(X))\n",
    "plt.show()"
   ]
  },
  {
   "cell_type": "markdown",
   "id": "85a57aa9-6cd8-4afc-b6b9-8f151385f7ad",
   "metadata": {},
   "source": [
    "cross_val_score()나 GridSearchCV에서 평가 시 사용되는 Scoring"
   ]
  },
  {
   "cell_type": "markdown",
   "id": "97b0ca89-2b1f-49e9-a7fb-62716a11ce40",
   "metadata": {},
   "source": [
    "## **사이킷런 LinearRegression을 이용한 보스턴 주택 가격 예측**\n",
    "\n",
    "**사이킷런의 `linear_model` 모듈**\n",
    "\n",
    "- 매우 다양한 종류의 선형 기반 회귀를 클래스로 구현\n",
    "- http://scikit-learn.org/stable/modules/classes.html#module-sklearn.linear_model"
   ]
  },
  {
   "cell_type": "markdown",
   "id": "8e90b263-1e00-4fe7-8b62-c834b253238b",
   "metadata": {},
   "source": [
    "**주택 가격 데이터 세트 로드 및 데이터 프레임으로 변환**"
   ]
  },
  {
   "cell_type": "code",
   "execution_count": 30,
   "id": "d23098b7-43cc-44c7-95f7-b5d70dc2a691",
   "metadata": {},
   "outputs": [
    {
     "name": "stdout",
     "output_type": "stream",
     "text": [
      "(506, 13)\n"
     ]
    },
    {
     "data": {
      "text/html": [
       "<div>\n",
       "<style scoped>\n",
       "    .dataframe tbody tr th:only-of-type {\n",
       "        vertical-align: middle;\n",
       "    }\n",
       "\n",
       "    .dataframe tbody tr th {\n",
       "        vertical-align: top;\n",
       "    }\n",
       "\n",
       "    .dataframe thead th {\n",
       "        text-align: right;\n",
       "    }\n",
       "</style>\n",
       "<table border=\"1\" class=\"dataframe\">\n",
       "  <thead>\n",
       "    <tr style=\"text-align: right;\">\n",
       "      <th></th>\n",
       "      <th>CRIM</th>\n",
       "      <th>ZN</th>\n",
       "      <th>INDUS</th>\n",
       "      <th>CHAS</th>\n",
       "      <th>NOX</th>\n",
       "      <th>RM</th>\n",
       "      <th>AGE</th>\n",
       "      <th>DIS</th>\n",
       "      <th>RAD</th>\n",
       "      <th>TAX</th>\n",
       "      <th>PTRATIO</th>\n",
       "      <th>B</th>\n",
       "      <th>LSTAT</th>\n",
       "    </tr>\n",
       "  </thead>\n",
       "  <tbody>\n",
       "    <tr>\n",
       "      <th>0</th>\n",
       "      <td>0.00632</td>\n",
       "      <td>18.0</td>\n",
       "      <td>2.31</td>\n",
       "      <td>0.0</td>\n",
       "      <td>0.538</td>\n",
       "      <td>6.575</td>\n",
       "      <td>65.2</td>\n",
       "      <td>4.0900</td>\n",
       "      <td>1.0</td>\n",
       "      <td>296.0</td>\n",
       "      <td>15.3</td>\n",
       "      <td>396.90</td>\n",
       "      <td>4.98</td>\n",
       "    </tr>\n",
       "    <tr>\n",
       "      <th>1</th>\n",
       "      <td>0.02731</td>\n",
       "      <td>0.0</td>\n",
       "      <td>7.07</td>\n",
       "      <td>0.0</td>\n",
       "      <td>0.469</td>\n",
       "      <td>6.421</td>\n",
       "      <td>78.9</td>\n",
       "      <td>4.9671</td>\n",
       "      <td>2.0</td>\n",
       "      <td>242.0</td>\n",
       "      <td>17.8</td>\n",
       "      <td>396.90</td>\n",
       "      <td>9.14</td>\n",
       "    </tr>\n",
       "    <tr>\n",
       "      <th>2</th>\n",
       "      <td>0.02729</td>\n",
       "      <td>0.0</td>\n",
       "      <td>7.07</td>\n",
       "      <td>0.0</td>\n",
       "      <td>0.469</td>\n",
       "      <td>7.185</td>\n",
       "      <td>61.1</td>\n",
       "      <td>4.9671</td>\n",
       "      <td>2.0</td>\n",
       "      <td>242.0</td>\n",
       "      <td>17.8</td>\n",
       "      <td>392.83</td>\n",
       "      <td>4.03</td>\n",
       "    </tr>\n",
       "    <tr>\n",
       "      <th>3</th>\n",
       "      <td>0.03237</td>\n",
       "      <td>0.0</td>\n",
       "      <td>2.18</td>\n",
       "      <td>0.0</td>\n",
       "      <td>0.458</td>\n",
       "      <td>6.998</td>\n",
       "      <td>45.8</td>\n",
       "      <td>6.0622</td>\n",
       "      <td>3.0</td>\n",
       "      <td>222.0</td>\n",
       "      <td>18.7</td>\n",
       "      <td>394.63</td>\n",
       "      <td>2.94</td>\n",
       "    </tr>\n",
       "    <tr>\n",
       "      <th>4</th>\n",
       "      <td>0.06905</td>\n",
       "      <td>0.0</td>\n",
       "      <td>2.18</td>\n",
       "      <td>0.0</td>\n",
       "      <td>0.458</td>\n",
       "      <td>7.147</td>\n",
       "      <td>54.2</td>\n",
       "      <td>6.0622</td>\n",
       "      <td>3.0</td>\n",
       "      <td>222.0</td>\n",
       "      <td>18.7</td>\n",
       "      <td>396.90</td>\n",
       "      <td>5.33</td>\n",
       "    </tr>\n",
       "  </tbody>\n",
       "</table>\n",
       "</div>"
      ],
      "text/plain": [
       "      CRIM    ZN  INDUS  CHAS    NOX     RM   AGE     DIS  RAD    TAX  \\\n",
       "0  0.00632  18.0   2.31   0.0  0.538  6.575  65.2  4.0900  1.0  296.0   \n",
       "1  0.02731   0.0   7.07   0.0  0.469  6.421  78.9  4.9671  2.0  242.0   \n",
       "2  0.02729   0.0   7.07   0.0  0.469  7.185  61.1  4.9671  2.0  242.0   \n",
       "3  0.03237   0.0   2.18   0.0  0.458  6.998  45.8  6.0622  3.0  222.0   \n",
       "4  0.06905   0.0   2.18   0.0  0.458  7.147  54.2  6.0622  3.0  222.0   \n",
       "\n",
       "   PTRATIO       B  LSTAT  \n",
       "0     15.3  396.90   4.98  \n",
       "1     17.8  396.90   9.14  \n",
       "2     17.8  392.83   4.03  \n",
       "3     18.7  394.63   2.94  \n",
       "4     18.7  396.90   5.33  "
      ]
     },
     "execution_count": 30,
     "metadata": {},
     "output_type": "execute_result"
    }
   ],
   "source": [
    "import numpy as np\n",
    "import matplotlib.pyplot as plt\n",
    "import pandas as pd\n",
    "import seaborn as sns\n",
    "from scipy import stats\n",
    "from sklearn.datasets import load_boston\n",
    "%matplotlib inline\n",
    "\n",
    "# boston 데이터 셋 로드\n",
    "boston = load_boston()\n",
    "\n",
    "# boston 데이터 셋 DataFrame 변환\n",
    "bostonDF = pd.DataFrame(data = boston.data, columns = boston.feature_names)\n",
    "print(bostonDF.shape)\n",
    "bostonDF.head()"
   ]
  },
  {
   "cell_type": "markdown",
   "id": "445ec8e9-38fe-4974-8e69-7825e7cce108",
   "metadata": {},
   "source": [
    "**PRICE컬럼으로 DataFrame에 추가**"
   ]
  },
  {
   "cell_type": "code",
   "execution_count": 34,
   "id": "fb4e6c0b-a246-4a15-8774-5950cf861944",
   "metadata": {},
   "outputs": [
    {
     "name": "stdout",
     "output_type": "stream",
     "text": [
      "Boston 데이타셋 크기 : (506, 14)\n"
     ]
    },
    {
     "data": {
      "text/html": [
       "<div>\n",
       "<style scoped>\n",
       "    .dataframe tbody tr th:only-of-type {\n",
       "        vertical-align: middle;\n",
       "    }\n",
       "\n",
       "    .dataframe tbody tr th {\n",
       "        vertical-align: top;\n",
       "    }\n",
       "\n",
       "    .dataframe thead th {\n",
       "        text-align: right;\n",
       "    }\n",
       "</style>\n",
       "<table border=\"1\" class=\"dataframe\">\n",
       "  <thead>\n",
       "    <tr style=\"text-align: right;\">\n",
       "      <th></th>\n",
       "      <th>CRIM</th>\n",
       "      <th>ZN</th>\n",
       "      <th>INDUS</th>\n",
       "      <th>CHAS</th>\n",
       "      <th>NOX</th>\n",
       "      <th>RM</th>\n",
       "      <th>AGE</th>\n",
       "      <th>DIS</th>\n",
       "      <th>RAD</th>\n",
       "      <th>TAX</th>\n",
       "      <th>PTRATIO</th>\n",
       "      <th>B</th>\n",
       "      <th>LSTAT</th>\n",
       "      <th>PRICE</th>\n",
       "    </tr>\n",
       "  </thead>\n",
       "  <tbody>\n",
       "    <tr>\n",
       "      <th>0</th>\n",
       "      <td>0.00632</td>\n",
       "      <td>18.0</td>\n",
       "      <td>2.31</td>\n",
       "      <td>0.0</td>\n",
       "      <td>0.538</td>\n",
       "      <td>6.575</td>\n",
       "      <td>65.2</td>\n",
       "      <td>4.0900</td>\n",
       "      <td>1.0</td>\n",
       "      <td>296.0</td>\n",
       "      <td>15.3</td>\n",
       "      <td>396.90</td>\n",
       "      <td>4.98</td>\n",
       "      <td>24.0</td>\n",
       "    </tr>\n",
       "    <tr>\n",
       "      <th>1</th>\n",
       "      <td>0.02731</td>\n",
       "      <td>0.0</td>\n",
       "      <td>7.07</td>\n",
       "      <td>0.0</td>\n",
       "      <td>0.469</td>\n",
       "      <td>6.421</td>\n",
       "      <td>78.9</td>\n",
       "      <td>4.9671</td>\n",
       "      <td>2.0</td>\n",
       "      <td>242.0</td>\n",
       "      <td>17.8</td>\n",
       "      <td>396.90</td>\n",
       "      <td>9.14</td>\n",
       "      <td>21.6</td>\n",
       "    </tr>\n",
       "    <tr>\n",
       "      <th>2</th>\n",
       "      <td>0.02729</td>\n",
       "      <td>0.0</td>\n",
       "      <td>7.07</td>\n",
       "      <td>0.0</td>\n",
       "      <td>0.469</td>\n",
       "      <td>7.185</td>\n",
       "      <td>61.1</td>\n",
       "      <td>4.9671</td>\n",
       "      <td>2.0</td>\n",
       "      <td>242.0</td>\n",
       "      <td>17.8</td>\n",
       "      <td>392.83</td>\n",
       "      <td>4.03</td>\n",
       "      <td>34.7</td>\n",
       "    </tr>\n",
       "    <tr>\n",
       "      <th>3</th>\n",
       "      <td>0.03237</td>\n",
       "      <td>0.0</td>\n",
       "      <td>2.18</td>\n",
       "      <td>0.0</td>\n",
       "      <td>0.458</td>\n",
       "      <td>6.998</td>\n",
       "      <td>45.8</td>\n",
       "      <td>6.0622</td>\n",
       "      <td>3.0</td>\n",
       "      <td>222.0</td>\n",
       "      <td>18.7</td>\n",
       "      <td>394.63</td>\n",
       "      <td>2.94</td>\n",
       "      <td>33.4</td>\n",
       "    </tr>\n",
       "    <tr>\n",
       "      <th>4</th>\n",
       "      <td>0.06905</td>\n",
       "      <td>0.0</td>\n",
       "      <td>2.18</td>\n",
       "      <td>0.0</td>\n",
       "      <td>0.458</td>\n",
       "      <td>7.147</td>\n",
       "      <td>54.2</td>\n",
       "      <td>6.0622</td>\n",
       "      <td>3.0</td>\n",
       "      <td>222.0</td>\n",
       "      <td>18.7</td>\n",
       "      <td>396.90</td>\n",
       "      <td>5.33</td>\n",
       "      <td>36.2</td>\n",
       "    </tr>\n",
       "  </tbody>\n",
       "</table>\n",
       "</div>"
      ],
      "text/plain": [
       "      CRIM    ZN  INDUS  CHAS    NOX     RM   AGE     DIS  RAD    TAX  \\\n",
       "0  0.00632  18.0   2.31   0.0  0.538  6.575  65.2  4.0900  1.0  296.0   \n",
       "1  0.02731   0.0   7.07   0.0  0.469  6.421  78.9  4.9671  2.0  242.0   \n",
       "2  0.02729   0.0   7.07   0.0  0.469  7.185  61.1  4.9671  2.0  242.0   \n",
       "3  0.03237   0.0   2.18   0.0  0.458  6.998  45.8  6.0622  3.0  222.0   \n",
       "4  0.06905   0.0   2.18   0.0  0.458  7.147  54.2  6.0622  3.0  222.0   \n",
       "\n",
       "   PTRATIO       B  LSTAT  PRICE  \n",
       "0     15.3  396.90   4.98   24.0  \n",
       "1     17.8  396.90   9.14   21.6  \n",
       "2     17.8  392.83   4.03   34.7  \n",
       "3     18.7  394.63   2.94   33.4  \n",
       "4     18.7  396.90   5.33   36.2  "
      ]
     },
     "execution_count": 34,
     "metadata": {},
     "output_type": "execute_result"
    }
   ],
   "source": [
    "# boston dataset의 target array는 주택 가격임\n",
    "# 이를 PRICE컬럼으로 DataFrame에 추가함\n",
    "bostonDF['PRICE'] = boston.target\n",
    "print('Boston 데이타셋 크기 :',bostonDF.shape)\n",
    "bostonDF.head()"
   ]
  },
  {
   "cell_type": "markdown",
   "id": "19ddc03f-a7a0-4f97-a497-bfb8cf67145e",
   "metadata": {},
   "source": [
    "**각 컬럼별로 주택 가격에 미치는 영향도를 조사**"
   ]
  },
  {
   "cell_type": "code",
   "execution_count": 32,
   "id": "85799e17-47be-45c6-a082-aa2109d58272",
   "metadata": {},
   "outputs": [
    {
     "data": {
      "image/png": "[encoded data removed]",
      "text/plain": [
       "<Figure size 1152x576 with 8 Axes>"
      ]
     },
     "metadata": {
      "needs_background": "light"
     },
     "output_type": "display_data"
    }
   ],
   "source": [
    "# 2개의 행과 4개의 열을 가진 subplots를 이용\n",
    "# axis는 4 * 2 개의 ax를 가짐\n",
    "fig, axs = plt.subplots(figsize = (16, 8),  ncols = 4, nrows = 2)\n",
    "\n",
    "lm_features = ['RM','ZN','INDUS','NOX','AGE','PTRATIO','LSTAT','RAD']\n",
    "\n",
    "for i , feature in enumerate(lm_features):\n",
    "    row = int(i / 4)\n",
    "    col = i % 4\n",
    "    \n",
    "    # seaborn의 regplot을 이용해 산점도와 선형 회귀 직선을 함께 표현\n",
    "    sns.regplot(x = feature , y = 'PRICE', data = bostonDF, ax = axs[row][col])"
   ]
  },
  {
   "cell_type": "markdown",
   "id": "b5e65aea-a48d-4c01-bcaf-c22aabab214b",
   "metadata": {},
   "source": [
    "**각 피처에 대한 분포도 확인**"
   ]
  },
  {
   "cell_type": "code",
   "execution_count": 33,
   "id": "f7a375de-073d-45f3-aa8c-f9847cdfaced",
   "metadata": {},
   "outputs": [
    {
     "data": {
      "image/png": "[encoded data removed]",
      "text/plain": [
       "<Figure size 1152x576 with 8 Axes>"
      ]
     },
     "metadata": {
      "needs_background": "light"
     },
     "output_type": "display_data"
    }
   ],
   "source": [
    "fig, axs = plt.subplots(figsize = (16, 8),  ncols = 4, nrows = 2)\n",
    "\n",
    "lm_features = ['RM','ZN','INDUS','NOX','AGE','PTRATIO','LSTAT','RAD']\n",
    "\n",
    "for i , feature in enumerate(lm_features):\n",
    "    row = int(i / 4)\n",
    "    col = i % 4\n",
    "    \n",
    "    sns.histplot(bostonDF[feature], ax = axs[row][col])"
   ]
  },
  {
   "cell_type": "markdown",
   "id": "5baafe2d-49c6-4acf-816b-39e181fbddac",
   "metadata": {},
   "source": [
    "**학습과 테스트 데이터 세트로 분리하고 학습/예측/평가**"
   ]
  },
  {
   "cell_type": "code",
   "execution_count": 42,
   "id": "1ddb30ee-661c-4fb0-bffd-21559c26b4ff",
   "metadata": {},
   "outputs": [
    {
     "name": "stdout",
     "output_type": "stream",
     "text": [
      "MSE : 17.297\n",
      "RMSE : 4.159\n",
      "Variance score : 0.757\n"
     ]
    }
   ],
   "source": [
    "from sklearn.model_selection import train_test_split\n",
    "from sklearn.linear_model import LinearRegression\n",
    "from sklearn.metrics import mean_squared_error, r2_score\n",
    "\n",
    "y_target = bostonDF['PRICE']\n",
    "X_data = bostonDF.drop(['PRICE'], axis = 1, inplace = False)\n",
    "\n",
    "X_train, X_test, y_train, y_test = train_test_split(X_data, y_target, test_size = 0.3, random_state = 156)\n",
    "\n",
    "\n",
    "# Linear Regression OLS로 학습 / 예측 / 평가 수행\n",
    "lr = LinearRegression()\n",
    "lr.fit(X_train, y_train)\n",
    "y_preds = lr.predict(X_test)\n",
    "mse = mean_squared_error(y_test, y_preds)\n",
    "rmse = np.sqrt(mse)\n",
    "\n",
    "print('MSE : {0:.3f}\\nRMSE : {1:.3f}'.format(mse, rmse))\n",
    "print('Variance score : {0:.3f}'.format(r2_score(y_test, y_preds)))"
   ]
  },
  {
   "cell_type": "markdown",
   "id": "784b7ad4-72d3-4b96-8ca4-c47c90a9a343",
   "metadata": {},
   "source": [
    "Variance score는 전체 데이터의 약 75%를 설명할 수 있는 설명력이 있다\n",
    "- Variance score가 클수록 좋음 = 더 많이 설명할 수 있음\n",
    "- mse, rmse는 작을수록 좋음"
   ]
  },
  {
   "cell_type": "markdown",
   "id": "2e303e3b-5365-48f9-ad37-442dcf297b50",
   "metadata": {},
   "source": [
    "**회귀식 추정 : 회귀계수**"
   ]
  },
  {
   "cell_type": "code",
   "execution_count": 44,
   "id": "9e1f7642-4ef5-40d5-89fe-b5c7c90da499",
   "metadata": {},
   "outputs": [
    {
     "name": "stdout",
     "output_type": "stream",
     "text": [
      "절편 값 :  40.995595172164336\n",
      "회귀 계수 값 :  [ -0.1   0.1   0.    3.  -19.8   3.4   0.   -1.7   0.4  -0.   -0.9   0.\n",
      "  -0.6]\n"
     ]
    }
   ],
   "source": [
    "print('절편 값 : ',lr.intercept_)\n",
    "print('회귀 계수 값 : ',np.round(lr.coef_,1))"
   ]
  },
  {
   "cell_type": "code",
   "execution_count": 45,
   "id": "21f5046d-6839-459f-bde9-ae05084b7bc5",
   "metadata": {},
   "outputs": [
    {
     "data": {
      "text/plain": [
       "RM          3.4\n",
       "CHAS        3.0\n",
       "RAD         0.4\n",
       "ZN          0.1\n",
       "INDUS       0.0\n",
       "AGE         0.0\n",
       "TAX        -0.0\n",
       "B           0.0\n",
       "CRIM       -0.1\n",
       "LSTAT      -0.6\n",
       "PTRATIO    -0.9\n",
       "DIS        -1.7\n",
       "NOX       -19.8\n",
       "dtype: float64"
      ]
     },
     "execution_count": 45,
     "metadata": {},
     "output_type": "execute_result"
    }
   ],
   "source": [
    "# 회귀 계수를 큰 값 순으로 정렬하기 위해 Series로 생성\n",
    "# index가 컬럼명에 유의\n",
    "coeff = pd.Series(data = np.round(lr.coef_, 1), index = X_data.columns)\n",
    "coeff.sort_values(ascending = False)"
   ]
  },
  {
   "cell_type": "markdown",
   "id": "3bd495e3-a0c9-45e7-996e-b2fedaf3f493",
   "metadata": {},
   "source": [
    "RM이 양의 값으로 회귀계수가 가장 크며, NOX의 회귀계수는 음의 값으로 매우 큼"
   ]
  },
  {
   "cell_type": "markdown",
   "id": "68985d5d-6584-46b5-9fde-f1b4e93f4a8d",
   "metadata": {},
   "source": [
    "**교차 검증으로 MSE와 RMSE측정**"
   ]
  },
  {
   "cell_type": "code",
   "execution_count": 46,
   "id": "52319c42-1e2f-4f04-bf43-1c5628e3ba03",
   "metadata": {},
   "outputs": [
    {
     "name": "stdout",
     "output_type": "stream",
     "text": [
      " 5 folds 의 개별 Negative MSE scores:  [-12.46 -26.05 -33.07 -80.76 -33.31]\n",
      " 5 folds 의 개별 RMSE scores :  [3.53 5.1  5.75 8.99 5.77]\n",
      " 5 folds 의 평균 RMSE : 5.829 \n"
     ]
    }
   ],
   "source": [
    "from sklearn.model_selection import cross_val_score\n",
    "\n",
    "y_target = bostonDF['PRICE']\n",
    "X_data = bostonDF.drop(['PRICE'],axis=1,inplace=False)\n",
    "lr = LinearRegression()\n",
    "\n",
    "# cross_val_score( )로 5 Fold 셋으로 MSE 를 구한 뒤 이를 기반으로 다시  RMSE 구함. \n",
    "neg_mse_scores = cross_val_score(lr, X_data, y_target, scoring=\"neg_mean_squared_error\", cv = 5)\n",
    "rmse_scores  = np.sqrt(-1 * neg_mse_scores)\n",
    "avg_rmse = np.mean(rmse_scores)\n",
    "\n",
    "# cross_val_score(scoring=\"neg_mean_squared_error\")로 반환된 값은 모두 음수 \n",
    "print(' 5 folds 의 개별 Negative MSE scores: ', np.round(neg_mse_scores, 2))\n",
    "print(' 5 folds 의 개별 RMSE scores : ', np.round(rmse_scores, 2))\n",
    "print(' 5 folds 의 평균 RMSE : {0:.3f} '.format(avg_rmse))"
   ]
  },
  {
   "cell_type": "markdown",
   "id": "81c74cd6-92a8-4beb-a80f-1b0cf45bd83b",
   "metadata": {},
   "source": [
    "      "
   ]
  },
  {
   "cell_type": "markdown",
   "id": "acfc8e35-f1ad-4cf5-badc-a5718ca48ba2",
   "metadata": {},
   "source": [
    "## **다항 회귀**\n",
    "### **Polynomial Regression과 오버피팅/언더피팅 이해**\n",
    "**Polynomial Regression 이해**\n",
    "- PolynomialFeatures(degree = 차수)\n",
    "- fit_transform(피처)"
   ]
  },
  {
   "cell_type": "code",
   "execution_count": 47,
   "id": "cff94e9e-ac93-416f-bbe7-4fb440515051",
   "metadata": {},
   "outputs": [
    {
     "data": {
      "text/plain": [
       "array([[0, 1],\n",
       "       [2, 3],\n",
       "       [4, 5]])"
      ]
     },
     "execution_count": 47,
     "metadata": {},
     "output_type": "execute_result"
    }
   ],
   "source": [
    "from sklearn.preprocessing import PolynomialFeatures\n",
    "import numpy as np\n",
    "\n",
    "X = np.arange(6).reshape(3, 2)\n",
    "X"
   ]
  },
  {
   "cell_type": "code",
   "execution_count": 49,
   "id": "b03b4faa-6b57-4f9a-8d30-2f9db2acfd47",
   "metadata": {},
   "outputs": [
    {
     "data": {
      "text/plain": [
       "array([[ 1.,  0.,  1.,  0.,  0.,  1.],\n",
       "       [ 1.,  2.,  3.,  4.,  6.,  9.],\n",
       "       [ 1.,  4.,  5., 16., 20., 25.]])"
      ]
     },
     "execution_count": 49,
     "metadata": {},
     "output_type": "execute_result"
    }
   ],
   "source": [
    "poly = PolynomialFeatures(degree = 2)\n",
    "\n",
    "# transform from (x1, x2) to (1, x1, x2, x1^2, x1*x2, x2^2)\n",
    "poly.fit_transform(X)"
   ]
  },
  {
   "cell_type": "code",
   "execution_count": 50,
   "id": "be5fe2df-880a-4601-b51c-f405ba39cfab",
   "metadata": {},
   "outputs": [
    {
     "data": {
      "text/plain": [
       "array([[0, 1, 2],\n",
       "       [3, 4, 5],\n",
       "       [6, 7, 8]])"
      ]
     },
     "execution_count": 50,
     "metadata": {},
     "output_type": "execute_result"
    }
   ],
   "source": [
    "X2 = np.arange(9).reshape(3, 3)\n",
    "X2"
   ]
  },
  {
   "cell_type": "code",
   "execution_count": null,
   "id": "8c89e3e6-8d75-4184-9ba2-0c3aedf9e104",
   "metadata": {},
   "outputs": [],
   "source": [
    "# transform from (x1, x2, x3) to (1, x1, x2, x3, x1^2, x1*x2, x1*x3, x2^2, x2*3, x3^2)\n",
    "poly.fit_transform(X2)"
   ]
  },
  {
   "cell_type": "markdown",
   "id": "ebc5c218-b570-4732-b5c6-61dd74d87927",
   "metadata": {},
   "source": [
    "**3차 다항식 결정값을 구하는 polynomial_func(X)생성**\n",
    "\n",
    "즉, 회귀식은 결정값 y = 2x1 + 3x1^2 + 4x2^3"
   ]
  },
  {
   "cell_type": "code",
   "execution_count": 53,
   "id": "cf3d3a9b-aea9-4e90-b8f2-02ff02313492",
   "metadata": {},
   "outputs": [
    {
     "name": "stdout",
     "output_type": "stream",
     "text": [
      "일차 단항식 계수 feature: \n",
      " [[0 1]\n",
      " [2 3]]\n",
      "[0 2]\n",
      "[1 3]\n",
      "삼차 다항식 결정값: \n",
      " [  5 125]\n"
     ]
    }
   ],
   "source": [
    "def polynomial_func(X):\n",
    "    y = 1 + 2 * X[:,0] + 3 * X[:,0]**2 + 4 * X[:,1]**3\n",
    "    print(X[:,0])\n",
    "    print(X[:,1])\n",
    "    return y\n",
    "\n",
    "X = np.arange(4).reshape(2,2)\n",
    "print('일차 단항식 계수 feature: \\n' ,X)\n",
    "y = polynomial_func(X)\n",
    "print('삼차 다항식 결정값: \\n', y)"
   ]
  },
  {
   "cell_type": "markdown",
   "id": "eb253876-be1f-4cc3-8cf0-ac8803a82ef9",
   "metadata": {},
   "source": [
    "**3차 다항식 계수의 피처값과 3차 다항식 결정값으로 학습**"
   ]
  },
  {
   "cell_type": "code",
   "execution_count": 54,
   "id": "f8358009-333e-4170-86f4-1f2d06502fdd",
   "metadata": {},
   "outputs": [
    {
     "name": "stdout",
     "output_type": "stream",
     "text": [
      "일차 단항식 계수 feature: \n",
      " [[0 1]\n",
      " [2 3]]\n",
      "3차 다항식 계수 feature: \n",
      " [[ 1.  0.  1.  0.  0.  1.  0.  0.  0.  1.]\n",
      " [ 1.  2.  3.  4.  6.  9.  8. 12. 18. 27.]]\n",
      "Polynomial 회귀 계수\n",
      " [0.   0.18 0.18 0.36 0.54 0.72 0.72 1.08 1.62 2.34]\n",
      "Polynomial 회귀 Shape : (10,)\n"
     ]
    }
   ],
   "source": [
    "X = np.arange(4).reshape(2,2)\n",
    "print('일차 단항식 계수 feature: \\n' ,X)\n",
    "\n",
    "# 3 차 다항식 변환 \n",
    "poly_ftr = PolynomialFeatures(degree=3).fit_transform(X)\n",
    "print('3차 다항식 계수 feature: \\n',poly_ftr)\n",
    "\n",
    "# Linear Regression에 3차 다항식 계수 feature와 3차 다항식 결정값으로 학습 후 회귀 계수 확인\n",
    "model = LinearRegression()\n",
    "model.fit(poly_ftr,y)\n",
    "print('Polynomial 회귀 계수\\n' , np.round(model.coef_, 2))\n",
    "print('Polynomial 회귀 Shape :', model.coef_.shape)"
   ]
  },
  {
   "cell_type": "markdown",
   "id": "129883cb-dd70-42cb-8400-8a8722c60575",
   "metadata": {},
   "source": [
    "**사이킷런 파이프라인(Pipe line)을 이용하여 3차 다항회귀 학습**"
   ]
  },
  {
   "cell_type": "code",
   "execution_count": 55,
   "id": "4d5217a3-52f3-4ab3-86fe-dc83f346a44c",
   "metadata": {},
   "outputs": [
    {
     "name": "stdout",
     "output_type": "stream",
     "text": [
      "Polynomial 회귀 계수\n",
      " [0.   0.18 0.18 0.36 0.54 0.72 0.72 1.08 1.62 2.34]\n"
     ]
    }
   ],
   "source": [
    "from sklearn.preprocessing import PolynomialFeatures\n",
    "from sklearn.linear_model import LinearRegression\n",
    "from sklearn.pipeline import Pipeline\n",
    "import numpy as np\n",
    "\n",
    "def polynomial_func(X):\n",
    "    y = 1 + 2 * X[:,0] + 3 * X[:,0]**2 + 4 * X[:,1]**3\n",
    "    return y\n",
    "\n",
    "# Pipeline 객체로 Streamline 하게 Polynomial Feature변환과 Linear Regression을 연결\n",
    "model = Pipeline([('poly', PolynomialFeatures(degree=3)),\n",
    "                  ('linear', LinearRegression())])\n",
    "X = np.arange(4).reshape(2,2)\n",
    "y = polynomial_func(X)\n",
    "\n",
    "model = model.fit(X, y)\n",
    "print('Polynomial 회귀 계수\\n', np.round(model.named_steps['linear'].coef_, 2))"
   ]
  },
  {
   "cell_type": "markdown",
   "id": "31b1c4f6-90dc-40f3-99fc-95d896083500",
   "metadata": {},
   "source": [
    "   "
   ]
  },
  {
   "cell_type": "markdown",
   "id": "279148cc-dc28-415d-aeb9-43ecd5ecb4bf",
   "metadata": {},
   "source": [
    "### **가상 데이터 생성 및 다항 회귀 추정**"
   ]
  },
  {
   "cell_type": "code",
   "execution_count": 58,
   "id": "6e531ea6-a62f-4515-86c1-85d1bde17606",
   "metadata": {},
   "outputs": [
    {
     "data": {
      "image/png": "[encoded data removed]",
      "text/plain": [
       "<Figure size 432x288 with 1 Axes>"
      ]
     },
     "metadata": {
      "needs_background": "light"
     },
     "output_type": "display_data"
    }
   ],
   "source": [
    "import numpy as np\n",
    "import matplotlib.pyplot as plt\n",
    "\n",
    "m = 100\n",
    "X = 6 * np.random.rand(m, 1) - 3\n",
    "y = 0.5 * X**2 + X + 2 + np.random.randn(m, 1)  # 약간의 노이즈 포함\n",
    "# len(X)\n",
    "# len(y)\n",
    "plt.plot(X, y, 'b.')\n",
    "plt.ylabel('Y', fontsize = 15, rotation = 0)\n",
    "plt.xlabel('X', fontsize = 15)\n",
    "plt.show()"
   ]
  },
  {
   "cell_type": "markdown",
   "id": "f3726de4-a879-4e41-bdd8-a4e939b1fc74",
   "metadata": {},
   "source": [
    "**다항식으로 변환**"
   ]
  },
  {
   "cell_type": "code",
   "execution_count": 63,
   "id": "a4e6f6bb-3f31-48b7-9de7-4082aab7931a",
   "metadata": {},
   "outputs": [
    {
     "name": "stdout",
     "output_type": "stream",
     "text": [
      "[-2.86258707] [-2.21151699]\n",
      "[-2.86258707  8.19440473] [-2.21151699  4.89080738]\n"
     ]
    }
   ],
   "source": [
    "from sklearn.preprocessing import PolynomialFeatures\n",
    "\n",
    "poly_features = PolynomialFeatures(degree = 2, include_bias = False)\n",
    "X_poly = poly_features.fit_transform(X)\n",
    "\n",
    "print(X[0], X[1])\n",
    "print(X_poly[0], X_poly[1])"
   ]
  },
  {
   "cell_type": "markdown",
   "id": "8695e7ae-200d-4b9f-a7f2-c831e2a6a456",
   "metadata": {},
   "source": [
    "**선형회귀 LinearRegression 적용하여 회귀계수 추정**"
   ]
  },
  {
   "cell_type": "code",
   "execution_count": 64,
   "id": "27302eca-908f-4221-ac2d-5dde3080263f",
   "metadata": {},
   "outputs": [
    {
     "data": {
      "text/plain": [
       "(array([1.94811078]), array([[1.0368632 , 0.48633613]]))"
      ]
     },
     "execution_count": 64,
     "metadata": {},
     "output_type": "execute_result"
    }
   ],
   "source": [
    "from sklearn.linear_model import LinearRegression\n",
    "\n",
    "lin_reg = LinearRegression()\n",
    "lin_reg.fit(X_poly, y)\n",
    "lin_reg.intercept_, lin_reg.coef_"
   ]
  },
  {
   "cell_type": "markdown",
   "id": "a4e56a86-4ea0-44f4-94df-ae7568df003b",
   "metadata": {},
   "source": [
    "**다항회귀식 시각화**"
   ]
  },
  {
   "cell_type": "code",
   "execution_count": 65,
   "id": "97144e5b-60d5-4b05-9334-08551cf7e13f",
   "metadata": {},
   "outputs": [
    {
     "data": {
      "image/png": "[encoded data removed]",
      "text/plain": [
       "<Figure size 432x288 with 1 Axes>"
      ]
     },
     "metadata": {
      "needs_background": "light"
     },
     "output_type": "display_data"
    }
   ],
   "source": [
    "X_new=np.linspace(-3, 3, 100).reshape(100, 1)\n",
    "X_new_poly = poly_features.transform(X_new)\n",
    "y_new = lin_reg.predict(X_new_poly)\n",
    "plt.plot(X, y, \"b.\")\n",
    "plt.plot(X_new, y_new, \"r-\", linewidth=2, label=\"Predictions\")\n",
    "plt.xlabel(\"$x_1$\", fontsize=18)\n",
    "plt.ylabel(\"$y$\", rotation=0, fontsize=18)\n",
    "plt.legend(loc=\"upper left\", fontsize=14)\n",
    "plt.axis([-3, 3, 0, 10])\n",
    "plt.show()"
   ]
  },
  {
   "cell_type": "markdown",
   "id": "601bb9cb-fff7-4663-8398-2fae87af15dd",
   "metadata": {},
   "source": [
    "  "
   ]
  },
  {
   "cell_type": "markdown",
   "id": "c85cc0b3-5fb3-444d-ad3f-11c65174f5c0",
   "metadata": {},
   "source": [
    "### **다항회귀를 이용한 보스턴 주택 가격 예측 평가 및 주의점**"
   ]
  },
  {
   "cell_type": "code",
   "execution_count": null,
   "id": "5cf9310a-dd76-4585-a25d-32d12c8499c3",
   "metadata": {},
   "outputs": [],
   "source": []
  }
 ],
 "metadata": {
  "kernelspec": {
   "display_name": "Python 3",
   "language": "python",
   "name": "python3"
  },
  "language_info": {
   "codemirror_mode": {
    "name": "ipython",
    "version": 3
   },
   "file_extension": ".py",
   "mimetype": "text/x-python",
   "name": "python",
   "nbconvert_exporter": "python",
   "pygments_lexer": "ipython3",
   "version": "3.8.8"
  }
 },
 "nbformat": 4,
 "nbformat_minor": 5
}
