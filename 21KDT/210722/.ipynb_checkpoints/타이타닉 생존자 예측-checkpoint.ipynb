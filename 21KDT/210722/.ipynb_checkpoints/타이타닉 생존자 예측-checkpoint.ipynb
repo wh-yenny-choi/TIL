{
 "cells": [
  {
   "cell_type": "markdown",
   "id": "69bb6f06-6b76-4cc4-adab-499590a11cb6",
   "metadata": {},
   "source": [
    "# **사이킷런으로 수행하는 타이타닉 생존자 예측**"
   ]
  },
  {
   "cell_type": "markdown",
   "id": "eeb34eb3-ca7c-43fa-97f8-d41fd06cf9f8",
   "metadata": {},
   "source": [
    "**변수 별 정보**"
   ]
  },
  {
   "cell_type": "code",
   "execution_count": 2,
   "id": "3a9f4e8f-1d7d-41e6-9ebc-25804b206e4f",
   "metadata": {},
   "outputs": [
    {
     "data": {
      "text/html": [
       "<div>\n",
       "<style scoped>\n",
       "    .dataframe tbody tr th:only-of-type {\n",
       "        vertical-align: middle;\n",
       "    }\n",
       "\n",
       "    .dataframe tbody tr th {\n",
       "        vertical-align: top;\n",
       "    }\n",
       "\n",
       "    .dataframe thead th {\n",
       "        text-align: right;\n",
       "    }\n",
       "</style>\n",
       "<table border=\"1\" class=\"dataframe\">\n",
       "  <thead>\n",
       "    <tr style=\"text-align: right;\">\n",
       "      <th></th>\n",
       "      <th>PassengerId</th>\n",
       "      <th>Survived</th>\n",
       "      <th>Pclass</th>\n",
       "      <th>Name</th>\n",
       "      <th>Sex</th>\n",
       "      <th>Age</th>\n",
       "      <th>SibSp</th>\n",
       "      <th>Parch</th>\n",
       "      <th>Ticket</th>\n",
       "      <th>Fare</th>\n",
       "      <th>Cabin</th>\n",
       "      <th>Embarked</th>\n",
       "    </tr>\n",
       "  </thead>\n",
       "  <tbody>\n",
       "    <tr>\n",
       "      <th>0</th>\n",
       "      <td>1</td>\n",
       "      <td>0</td>\n",
       "      <td>3</td>\n",
       "      <td>Braund, Mr. Owen Harris</td>\n",
       "      <td>male</td>\n",
       "      <td>22.0</td>\n",
       "      <td>1</td>\n",
       "      <td>0</td>\n",
       "      <td>A/5 21171</td>\n",
       "      <td>7.2500</td>\n",
       "      <td>NaN</td>\n",
       "      <td>S</td>\n",
       "    </tr>\n",
       "    <tr>\n",
       "      <th>1</th>\n",
       "      <td>2</td>\n",
       "      <td>1</td>\n",
       "      <td>1</td>\n",
       "      <td>Cumings, Mrs. John Bradley (Florence Briggs Th...</td>\n",
       "      <td>female</td>\n",
       "      <td>38.0</td>\n",
       "      <td>1</td>\n",
       "      <td>0</td>\n",
       "      <td>PC 17599</td>\n",
       "      <td>71.2833</td>\n",
       "      <td>C85</td>\n",
       "      <td>C</td>\n",
       "    </tr>\n",
       "    <tr>\n",
       "      <th>2</th>\n",
       "      <td>3</td>\n",
       "      <td>1</td>\n",
       "      <td>3</td>\n",
       "      <td>Heikkinen, Miss. Laina</td>\n",
       "      <td>female</td>\n",
       "      <td>26.0</td>\n",
       "      <td>0</td>\n",
       "      <td>0</td>\n",
       "      <td>STON/O2. 3101282</td>\n",
       "      <td>7.9250</td>\n",
       "      <td>NaN</td>\n",
       "      <td>S</td>\n",
       "    </tr>\n",
       "  </tbody>\n",
       "</table>\n",
       "</div>"
      ],
      "text/plain": [
       "   PassengerId  Survived  Pclass  \\\n",
       "0            1         0       3   \n",
       "1            2         1       1   \n",
       "2            3         1       3   \n",
       "\n",
       "                                                Name     Sex   Age  SibSp  \\\n",
       "0                            Braund, Mr. Owen Harris    male  22.0      1   \n",
       "1  Cumings, Mrs. John Bradley (Florence Briggs Th...  female  38.0      1   \n",
       "2                             Heikkinen, Miss. Laina  female  26.0      0   \n",
       "\n",
       "   Parch            Ticket     Fare Cabin Embarked  \n",
       "0      0         A/5 21171   7.2500   NaN        S  \n",
       "1      0          PC 17599  71.2833   C85        C  \n",
       "2      0  STON/O2. 3101282   7.9250   NaN        S  "
      ]
     },
     "execution_count": 2,
     "metadata": {},
     "output_type": "execute_result"
    }
   ],
   "source": [
    "import numpy as np\n",
    "import pandas as pd\n",
    "import matplotlib.pyplot as plt\n",
    "import seaborn as sns\n",
    "%matplotlib inline\n",
    "\n",
    "titanic_df = pd.read_csv('titanic_train.csv')\n",
    "titanic_df.head(3)"
   ]
  },
  {
   "cell_type": "markdown",
   "id": "50cc421d-cee7-42e1-9200-7e9be6e28010",
   "metadata": {},
   "source": [
    "- Passengerid : 탑승자 데이터 일련번호\n",
    "- Survived : 생존 여부\n",
    "  - 0 = 사망, 1 = 생존\n",
    "- Pclass : 티켓의 선실 등급\n",
    "  - 1 = 일등석, 2 = 이등석, 3 = 삼등석\n",
    "- Name : 탑승자 이름\n",
    "- Sex : 탑승자 성별\n",
    "- Age : 탑승자 나이\n",
    "- SibSp : 같이 탑승한 형제자매 또는 배우자 인원수\n",
    "- Parch : 같이 탑승한 부모님 또는 어린이 인원수\n",
    "- Ticket : 티켓 번호\n",
    "- Fare : 요금\n",
    "- Cabin : 선실 번호\n",
    "- Embarked : 중간 정착 항구\n",
    "    - C = Cherbourg, Q = Queenstown, S = Southampton"
   ]
  },
  {
   "cell_type": "code",
   "execution_count": 2,
   "id": "3d4267bc-189d-4d56-a107-1923586eaa1e",
   "metadata": {},
   "outputs": [
    {
     "data": {
      "text/plain": [
       "(891, 12)"
      ]
     },
     "execution_count": 2,
     "metadata": {},
     "output_type": "execute_result"
    }
   ],
   "source": [
    "titanic_df.shape"
   ]
  },
  {
   "cell_type": "code",
   "execution_count": 3,
   "id": "2cd04277-3b9b-4437-b64c-e4e5c8bdaa04",
   "metadata": {},
   "outputs": [
    {
     "name": "stdout",
     "output_type": "stream",
     "text": [
      "<class 'pandas.core.frame.DataFrame'>\n",
      "RangeIndex: 891 entries, 0 to 890\n",
      "Data columns (total 12 columns):\n",
      " #   Column       Non-Null Count  Dtype  \n",
      "---  ------       --------------  -----  \n",
      " 0   PassengerId  891 non-null    int64  \n",
      " 1   Survived     891 non-null    int64  \n",
      " 2   Pclass       891 non-null    int64  \n",
      " 3   Name         891 non-null    object \n",
      " 4   Sex          891 non-null    object \n",
      " 5   Age          714 non-null    float64\n",
      " 6   SibSp        891 non-null    int64  \n",
      " 7   Parch        891 non-null    int64  \n",
      " 8   Ticket       891 non-null    object \n",
      " 9   Fare         891 non-null    float64\n",
      " 10  Cabin        204 non-null    object \n",
      " 11  Embarked     889 non-null    object \n",
      "dtypes: float64(2), int64(5), object(5)\n",
      "memory usage: 83.7+ KB\n"
     ]
    }
   ],
   "source": [
    "# 타이타닉 칼럼 타입 확인\n",
    "titanic_df.info()"
   ]
  },
  {
   "cell_type": "markdown",
   "id": "960fc82c-f682-4cbb-9f63-6b7287a05b53",
   "metadata": {},
   "source": [
    "**데이터 정보 확인**\n",
    "- RangeIndex : 891 entries, 0 to 890 : 전체 행 (891개 행)\n",
    "    - 데이터 개수 : 891개\n",
    "- Data columns (total 12 columns) : 칼럼 수(12개)\n",
    "    - 속성(columns) 개수 : 12개\n",
    "- 수치형 데이터 : float (2개)\n",
    "- 정수형 데이터 : int (5개)\n",
    "- 범주형 데이터 : object (5개)\n",
    "    - 판다스는 넘파이 기반으로 만들어졌는데, 넘파이의 String타입의 길이 제한이 있기 때문에, 이에 대한 구분을 위해 object타입으로 명기\n",
    "- Non-Null : 결측치가 아닌 개수 = 실제 가지고 있는 데이터 개수\n",
    "- Age : 714개 \n",
    "    - Null값 (NaN) : 177개\n",
    "- Cabin : 204개 \n",
    "    - Null값 (NaN) : 687개\n",
    "- Embarked : 889개 \n",
    "    - Null값 (NaN) : 2개"
   ]
  },
  {
   "cell_type": "markdown",
   "id": "905ff91f-c91a-4315-8bee-948603ea1ef2",
   "metadata": {},
   "source": [
    "## 결측치 파악"
   ]
  },
  {
   "cell_type": "code",
   "execution_count": 2,
   "id": "4479fe62-b2ba-48ec-ad57-181543eb00e1",
   "metadata": {},
   "outputs": [
    {
     "data": {
      "text/plain": [
       "177"
      ]
     },
     "execution_count": 2,
     "metadata": {},
     "output_type": "execute_result"
    }
   ],
   "source": [
    "# Null 값 개수 확인\n",
    "titanic_df['Age'].isnull().sum()"
   ]
  },
  {
   "cell_type": "code",
   "execution_count": 3,
   "id": "d290a60e-31d7-4a21-be80-bfe68dceafc1",
   "metadata": {},
   "outputs": [
    {
     "data": {
      "text/plain": [
       "687"
      ]
     },
     "execution_count": 3,
     "metadata": {},
     "output_type": "execute_result"
    }
   ],
   "source": [
    "titanic_df['Cabin'].isnull().sum()"
   ]
  },
  {
   "cell_type": "code",
   "execution_count": 4,
   "id": "5c554544-c919-43f9-889d-6e4eea3697ba",
   "metadata": {},
   "outputs": [
    {
     "data": {
      "text/plain": [
       "2"
      ]
     },
     "execution_count": 4,
     "metadata": {},
     "output_type": "execute_result"
    }
   ],
   "source": [
    "titanic_df['Embarked'].isnull().sum()"
   ]
  },
  {
   "cell_type": "markdown",
   "id": "866d5b94-fc8e-4b5a-a5fe-e9587caf43d9",
   "metadata": {},
   "source": [
    "## 데이터 전처리 : 결측치 처리"
   ]
  },
  {
   "cell_type": "markdown",
   "id": "028859b4-0d6d-4ed8-9d63-0c2f5eae0591",
   "metadata": {},
   "source": [
    "### **Null 컬럼들에 대한 처리**\n",
    "- 사이킷 머신러닝 알고리즘은 Null값을 허용하지 않으므로\n",
    "- Null값을 어떻게 처리할지 결정\n",
    "- DataFrame()의 fillna()메서드를 사용해서 Null값을 평균 또는 고정 값으로 변경\n",
    "- Age : 평균 나이로 변경\n",
    "- 나머지 컬럼 : 'N'으로 변경"
   ]
  },
  {
   "cell_type": "code",
   "execution_count": 5,
   "id": "63079b9c-738e-4860-93a5-a2bfc5982747",
   "metadata": {},
   "outputs": [
    {
     "data": {
      "text/plain": [
       "29.69911764705882"
      ]
     },
     "execution_count": 5,
     "metadata": {},
     "output_type": "execute_result"
    }
   ],
   "source": [
    "titanic_df['Age'].mean()"
   ]
  },
  {
   "cell_type": "code",
   "execution_count": 29,
   "id": "6972d25a-c7ba-48c9-a3ad-37d7d4d94d0b",
   "metadata": {},
   "outputs": [
    {
     "data": {
      "text/plain": [
       "PassengerId    0\n",
       "Survived       0\n",
       "Pclass         0\n",
       "Name           0\n",
       "Sex            0\n",
       "Age            0\n",
       "SibSp          0\n",
       "Parch          0\n",
       "Ticket         0\n",
       "Fare           0\n",
       "Cabin          0\n",
       "Embarked       0\n",
       "dtype: int64"
      ]
     },
     "execution_count": 29,
     "metadata": {},
     "output_type": "execute_result"
    }
   ],
   "source": [
    "# Null 처리\n",
    "titanic_df['Age'].fillna(titanic_df['Age'].mean(), inplace = True)\n",
    "titanic_df['Cabin'].fillna(\"N\", inplace = True)\n",
    "titanic_df['Embarked'].fillna(\"N\", inplace = True)\n",
    "\n",
    "titanic_df.isnull().sum()"
   ]
  },
  {
   "cell_type": "code",
   "execution_count": 7,
   "id": "ad11fe9e-5af2-4599-8e8d-9aed3945d15e",
   "metadata": {},
   "outputs": [
    {
     "name": "stdout",
     "output_type": "stream",
     "text": [
      "데이터 세트 Null값 갯수 0\n"
     ]
    }
   ],
   "source": [
    "# 모든 컬럼의 Null값을 합산해서 Null 값이 없는지 확인\n",
    "print('데이터 세트 Null값 갯수', titanic_df.isnull().sum().sum())"
   ]
  },
  {
   "cell_type": "markdown",
   "id": "4bd3d009-f15b-4a65-bbba-e1d04f61b3f5",
   "metadata": {},
   "source": [
    "### **문자열 변수(피처) 빈도 분포 확인 : value_counts()**\n",
    "- Null값 처리 후 남아 있는 문자열 피처는 Sex, Cabin, Embarked"
   ]
  },
  {
   "cell_type": "code",
   "execution_count": 8,
   "id": "66bdd426-f362-4561-a8c2-889b5320d270",
   "metadata": {},
   "outputs": [
    {
     "name": "stdout",
     "output_type": "stream",
     "text": [
      "Sex 분포 : \n",
      " male      577\n",
      "female    314\n",
      "Name: Sex, dtype: int64\n",
      "\n",
      "Cabin 분포 : \n",
      " N              687\n",
      "C23 C25 C27      4\n",
      "B96 B98          4\n",
      "G6               4\n",
      "F33              3\n",
      "              ... \n",
      "B82 B84          1\n",
      "C45              1\n",
      "D6               1\n",
      "D15              1\n",
      "A20              1\n",
      "Name: Cabin, Length: 148, dtype: int64\n",
      "\n",
      "Embarked 분포 : \n",
      " S    644\n",
      "C    168\n",
      "Q     77\n",
      "N      2\n",
      "Name: Embarked, dtype: int64\n"
     ]
    }
   ],
   "source": [
    "# 문자열 피처 (Sex, Cabin, Embarked) 값 분류 확인\n",
    "print('Sex 분포 : \\n', titanic_df['Sex'].value_counts())\n",
    "print('\\nCabin 분포 : \\n', titanic_df['Cabin'].value_counts())\n",
    "print('\\nEmbarked 분포 : \\n', titanic_df['Embarked'].value_counts())"
   ]
  },
  {
   "cell_type": "markdown",
   "id": "96602e3d-29de-43e3-a7ac-8e6887fc21b5",
   "metadata": {},
   "source": [
    "- Cabin, Embarked에서 \"N\"은 결측치 처리 된 것\n",
    "- Sex, Embarked값은 별문제가 없으나, \n",
    "- Cabin의 경우 N이 687건으로 가장 많고, 속성값이 제대로 정리 되지 않았음\n",
    "- 예를 들어, 'C23 C25 C27'와 같이 여러 Cabin이 한꺼번에 표기된 Cabin값이 4건"
   ]
  },
  {
   "cell_type": "markdown",
   "id": "df706f97-aef3-46ca-88eb-d6ca0b479e21",
   "metadata": {},
   "source": [
    "### **문자열 변수 Cabin값 변경**"
   ]
  },
  {
   "cell_type": "code",
   "execution_count": 10,
   "id": "8314139a-9437-46d6-8586-c2df62d5df7d",
   "metadata": {},
   "outputs": [
    {
     "data": {
      "text/plain": [
       "0      N\n",
       "1      C\n",
       "2      N\n",
       "3      C\n",
       "4      N\n",
       "      ..\n",
       "886    N\n",
       "887    B\n",
       "888    N\n",
       "889    C\n",
       "890    N\n",
       "Name: Cabin, Length: 891, dtype: object"
      ]
     },
     "execution_count": 10,
     "metadata": {},
     "output_type": "execute_result"
    }
   ],
   "source": [
    "# Cabin 칼럼 값 중에서 첫 번째 문자만 추출\n",
    "titanic_df['Cabin'].str[:1]"
   ]
  },
  {
   "cell_type": "code",
   "execution_count": 13,
   "id": "961e1ab3-aaea-442b-b839-e7653451b7fb",
   "metadata": {},
   "outputs": [
    {
     "data": {
      "text/plain": [
       "N    687\n",
       "C     59\n",
       "B     47\n",
       "D     33\n",
       "E     32\n",
       "A     15\n",
       "F     13\n",
       "G      4\n",
       "T      1\n",
       "Name: Cabin, dtype: int64"
      ]
     },
     "execution_count": 13,
     "metadata": {},
     "output_type": "execute_result"
    }
   ],
   "source": [
    "# Cabin값을 선실등급만으로 표기 (선실 번호 제외)\n",
    "titanic_df['Cabin'] = titanic_df['Cabin'].str[:1]\n",
    "# 선실등급 별 개수 확인\n",
    "titanic_df['Cabin'].value_counts()"
   ]
  },
  {
   "cell_type": "markdown",
   "id": "22c876ca-a202-4520-91aa-af59ca54a31c",
   "metadata": {},
   "source": [
    "### **성별에 따른 생존자수 분포 (EDA)**\n",
    "머신러닝 알고리즘 적용해서 예측 수행 전에 데이터 탐색\n",
    "- 어떤 유형의 승객이 생존 확률이 높았는지 확인\n",
    "- 성별이 생존 확률에 어떤 영향을 미쳤는지 확인\n",
    "- 성별에 따른 생존자 수 비교"
   ]
  },
  {
   "cell_type": "code",
   "execution_count": 14,
   "id": "7fde9bec-ae48-421d-afa0-e668f5b8b093",
   "metadata": {},
   "outputs": [
    {
     "data": {
      "text/plain": [
       "Sex\n",
       "female    314\n",
       "male      577\n",
       "Name: Sex, dtype: int64"
      ]
     },
     "execution_count": 14,
     "metadata": {},
     "output_type": "execute_result"
    }
   ],
   "source": [
    "# 성별(Sex) 분포 확인\n",
    "titanic_df.groupby('Sex')['Sex'].count()"
   ]
  },
  {
   "cell_type": "code",
   "execution_count": 15,
   "id": "e7f0690d-cf22-49d7-b0e3-885957e9ee2c",
   "metadata": {},
   "outputs": [
    {
     "data": {
      "text/plain": [
       "Survived\n",
       "0    549\n",
       "1    342\n",
       "Name: Survived, dtype: int64"
      ]
     },
     "execution_count": 15,
     "metadata": {},
     "output_type": "execute_result"
    }
   ],
   "source": [
    "# 생존(Survived) 분포 확인\n",
    "# 0 : 사망 / 1 : 생존\n",
    "titanic_df.groupby('Survived')['Survived'].count()"
   ]
  },
  {
   "cell_type": "code",
   "execution_count": 16,
   "id": "6b22747c-01a6-44a5-8dc9-709a425f193a",
   "metadata": {},
   "outputs": [
    {
     "data": {
      "text/plain": [
       "Sex     Survived\n",
       "female  0            81\n",
       "        1           233\n",
       "male    0           468\n",
       "        1           109\n",
       "Name: Survived, dtype: int64"
      ]
     },
     "execution_count": 16,
     "metadata": {},
     "output_type": "execute_result"
    }
   ],
   "source": [
    "# 성별-생존 확인\n",
    "# 0 : 사망 / 1 : 생존\n",
    "# 생존(Survived)칼럼 : 레이블로 결정 클래스 값\n",
    "# 교차표 확인\n",
    "\n",
    "titanic_df.groupby(['Sex','Survived'])['Survived'].count()"
   ]
  },
  {
   "cell_type": "markdown",
   "id": "4c94c640-ad44-4f7e-97d3-ee63e7db7615",
   "metadata": {},
   "source": [
    "여자 : 314명 중 233명 생존 (약 74.2% 생존)\n",
    "\n",
    "남자 : 577명 중 109명 생존 (약 18.8% 생존)"
   ]
  },
  {
   "cell_type": "markdown",
   "id": "8ca5d25b-38af-4154-a525-7a7d2cdc2d05",
   "metadata": {},
   "source": [
    "**시각화는 Seaborn패키지 이용**\n",
    "- 기본적으로 matplotlib에 기반\n",
    "- 좀 더 세련된 비주얼과 쉬운 API, 편리한 판다스 DataFrame과의 연동 등으로 데이터 분석을 위한 시각화로 애용되는 패키지"
   ]
  },
  {
   "cell_type": "code",
   "execution_count": 27,
   "id": "816e050f-b01e-46b5-b76b-bb4e7cdbe4b7",
   "metadata": {},
   "outputs": [
    {
     "data": {
      "text/plain": [
       "<AxesSubplot:xlabel='Sex', ylabel='Survived'>"
      ]
     },
     "execution_count": 27,
     "metadata": {},
     "output_type": "execute_result"
    },
    {
     "data": {
      "image/png": "[encoded data removed]",
      "text/plain": [
       "<Figure size 432x288 with 1 Axes>"
      ]
     },
     "metadata": {
      "needs_background": "light"
     },
     "output_type": "display_data"
    }
   ],
   "source": [
    "# 성별 생존자 : 막대 그래프 (barplot)\n",
    "# (x축 = 'Sex'칼럼, y축 = 'Survived'칼럼, 이들 데이터를 가져올 데이터 = DataFrame객체명)\n",
    "sns.barplot(x = 'Sex', y = 'Survived', data = titanic_df)"
   ]
  },
  {
   "cell_type": "code",
   "execution_count": 28,
   "id": "a8e374ac-d486-45a9-b55c-592d2af5773f",
   "metadata": {},
   "outputs": [
    {
     "data": {
      "text/plain": [
       "<AxesSubplot:xlabel='Pclass', ylabel='Survived'>"
      ]
     },
     "execution_count": 28,
     "metadata": {},
     "output_type": "execute_result"
    },
    {
     "data": {
      "image/png": "[encoded data removed]",
      "text/plain": [
       "<Figure size 432x288 with 1 Axes>"
      ]
     },
     "metadata": {
      "needs_background": "light"
     },
     "output_type": "display_data"
    }
   ],
   "source": [
    "# 객실 등급별 / 성별 생존 확률\n",
    "# barchar()함수에 x좌표 = 'Pclass', hue = 'Sex'\n",
    "# hue 파라미터 추가\n",
    "sns.barplot(x = 'Pclass', y = 'Survived', hue = 'Sex', data = titanic_df)"
   ]
  },
  {
   "cell_type": "markdown",
   "id": "518a7811-351a-4690-9ce9-a219a0ea45c3",
   "metadata": {},
   "source": [
    "**등급별 생존**\n",
    "\n",
    "여성 : 1, 2등실에 따른 생존 확률의 차이는 크지 않으나 3등실의 경우 생존 확률이 상대적으로 떨어짐\n",
    "\n",
    "남자 : 2, 3등실 보다 1등실 생존 확률이 월등히 높음"
   ]
  },
  {
   "cell_type": "markdown",
   "id": "c35c37c4-4f62-4086-b7c4-ccff8aae33f5",
   "metadata": {},
   "source": [
    "  "
   ]
  },
  {
   "cell_type": "markdown",
   "id": "6bbe2511-fa5c-418e-820a-88ad0221062f",
   "metadata": {},
   "source": [
    "## 데이터 전처리 : 구간화 (binning)"
   ]
  },
  {
   "cell_type": "markdown",
   "id": "6086b4bc-61dd-4f93-87a9-47dbf00cee18",
   "metadata": {},
   "source": [
    "### **연령대에 따른 생존자수 분포**\n",
    "- 연령은 수치형 변수이므로 범주형으로 구간화 (**binning**)\n",
    "\n",
    "범주형, 수치형 데이터: 명목 순서 비율 구간"
   ]
  },
  {
   "cell_type": "code",
   "execution_count": 20,
   "id": "02eb5d3e-2ce9-4a7c-9ebe-8357bea4788c",
   "metadata": {},
   "outputs": [
    {
     "data": {
      "image/png": "[encoded data removed]",
      "text/plain": [
       "<Figure size 720x432 with 1 Axes>"
      ]
     },
     "metadata": {
      "needs_background": "light"
     },
     "output_type": "display_data"
    }
   ],
   "source": [
    "# 연령별(Age) 생존 확률 확인\n",
    "# Age의 값 종류가 많기 때문에 범위별로 분류해 카테고리 값 할당\n",
    "\n",
    "# 입력 age에 따라 구분값을 반환하는 함수 설정\n",
    "# DataFrame의 apply lambda식에 사용\n",
    "def get_category(age):\n",
    "    cat = ''\n",
    "    if age <= -1 : cat = 'Unknown'        # -1 이하 오류 값\n",
    "    elif age <= 5 : cat = 'Baby'          # 0 ~ 5세 \n",
    "    elif age <= 12 : cat = 'Child'        # 6 ~ 12세\n",
    "    elif age <= 18 : cat = 'Teenager'     # 13 ~ 18세 \n",
    "    elif age <= 25 : cat = 'Student'      # 19 ~ 25세\n",
    "    elif age <= 35 : cat = 'Young Adult'  # 26 ~ 35세\n",
    "    elif age <= 60 : cat = 'Adult'        # 36 ~ 60세\n",
    "    else : cat = 'Elderly'                # 61세 이상\n",
    "    \n",
    "    return cat\n",
    "\n",
    "# 막대 그래프의 크기 figure를 더 크게 설정\n",
    "plt.figure(figsize = (10, 6))\n",
    "\n",
    "# X축의 값을 순차적으로 표시하기 위한 설정\n",
    "group_names = ['Unknown', 'Baby', 'Child', 'Teenager', 'Student', 'Young Adult', 'Adult', 'Elderly']\n",
    "\n",
    "# lambda 식에 위에서 생성한 get_category()함수를 반환값으로 지정\n",
    "# get_category(X)는 입력값으로 'Age'컬럼값을 받아서 해당하는 cat반환\n",
    "titanic_df['Age_cat'] = titanic_df['Age'].apply(lambda x : get_category(x))\n",
    "sns.barplot(x = 'Age_cat', y = 'Survived', hue ='Sex', data = titanic_df, order = group_names)\n",
    "titanic_df.drop('Age_cat', axis = 1, inplace = True)"
   ]
  },
  {
   "cell_type": "markdown",
   "id": "d79bb3ad-3549-425b-88ed-7fcdc8146ec2",
   "metadata": {},
   "source": [
    "## 데이터 전처리 : 인코딩"
   ]
  },
  {
   "cell_type": "markdown",
   "id": "c0f592c2-e41d-4b05-8ca3-2d6323f59fb1",
   "metadata": {},
   "source": [
    "### **문자열 카테고리 피처를 숫자형 카테고리 피처로 변환**\n",
    "- 인코딩 : 사이킷런의 LabelEncoder 클래스 이용해서 레이블 인코딩 적용\n",
    "- 0 ~ (카테고리 유형 수 - 1) 숫자 값으로 변환\n",
    "- fit() / transform() 메서드 사용\n",
    "- 여러 칼럼을 encode_features함수로 새로 생성에 한 번에 변환"
   ]
  },
  {
   "cell_type": "code",
   "execution_count": 21,
   "id": "11ea020d-1f5b-4c82-9a3c-6560ec11736c",
   "metadata": {},
   "outputs": [
    {
     "data": {
      "text/html": [
       "<div>\n",
       "<style scoped>\n",
       "    .dataframe tbody tr th:only-of-type {\n",
       "        vertical-align: middle;\n",
       "    }\n",
       "\n",
       "    .dataframe tbody tr th {\n",
       "        vertical-align: top;\n",
       "    }\n",
       "\n",
       "    .dataframe thead th {\n",
       "        text-align: right;\n",
       "    }\n",
       "</style>\n",
       "<table border=\"1\" class=\"dataframe\">\n",
       "  <thead>\n",
       "    <tr style=\"text-align: right;\">\n",
       "      <th></th>\n",
       "      <th>PassengerId</th>\n",
       "      <th>Survived</th>\n",
       "      <th>Pclass</th>\n",
       "      <th>Name</th>\n",
       "      <th>Sex</th>\n",
       "      <th>Age</th>\n",
       "      <th>SibSp</th>\n",
       "      <th>Parch</th>\n",
       "      <th>Ticket</th>\n",
       "      <th>Fare</th>\n",
       "      <th>Cabin</th>\n",
       "      <th>Embarked</th>\n",
       "    </tr>\n",
       "  </thead>\n",
       "  <tbody>\n",
       "    <tr>\n",
       "      <th>0</th>\n",
       "      <td>1</td>\n",
       "      <td>0</td>\n",
       "      <td>3</td>\n",
       "      <td>Braund, Mr. Owen Harris</td>\n",
       "      <td>1</td>\n",
       "      <td>22.0</td>\n",
       "      <td>1</td>\n",
       "      <td>0</td>\n",
       "      <td>A/5 21171</td>\n",
       "      <td>7.2500</td>\n",
       "      <td>7</td>\n",
       "      <td>3</td>\n",
       "    </tr>\n",
       "    <tr>\n",
       "      <th>1</th>\n",
       "      <td>2</td>\n",
       "      <td>1</td>\n",
       "      <td>1</td>\n",
       "      <td>Cumings, Mrs. John Bradley (Florence Briggs Th...</td>\n",
       "      <td>0</td>\n",
       "      <td>38.0</td>\n",
       "      <td>1</td>\n",
       "      <td>0</td>\n",
       "      <td>PC 17599</td>\n",
       "      <td>71.2833</td>\n",
       "      <td>2</td>\n",
       "      <td>0</td>\n",
       "    </tr>\n",
       "    <tr>\n",
       "      <th>2</th>\n",
       "      <td>3</td>\n",
       "      <td>1</td>\n",
       "      <td>3</td>\n",
       "      <td>Heikkinen, Miss. Laina</td>\n",
       "      <td>0</td>\n",
       "      <td>26.0</td>\n",
       "      <td>0</td>\n",
       "      <td>0</td>\n",
       "      <td>STON/O2. 3101282</td>\n",
       "      <td>7.9250</td>\n",
       "      <td>7</td>\n",
       "      <td>3</td>\n",
       "    </tr>\n",
       "    <tr>\n",
       "      <th>3</th>\n",
       "      <td>4</td>\n",
       "      <td>1</td>\n",
       "      <td>1</td>\n",
       "      <td>Futrelle, Mrs. Jacques Heath (Lily May Peel)</td>\n",
       "      <td>0</td>\n",
       "      <td>35.0</td>\n",
       "      <td>1</td>\n",
       "      <td>0</td>\n",
       "      <td>113803</td>\n",
       "      <td>53.1000</td>\n",
       "      <td>2</td>\n",
       "      <td>3</td>\n",
       "    </tr>\n",
       "    <tr>\n",
       "      <th>4</th>\n",
       "      <td>5</td>\n",
       "      <td>0</td>\n",
       "      <td>3</td>\n",
       "      <td>Allen, Mr. William Henry</td>\n",
       "      <td>1</td>\n",
       "      <td>35.0</td>\n",
       "      <td>0</td>\n",
       "      <td>0</td>\n",
       "      <td>373450</td>\n",
       "      <td>8.0500</td>\n",
       "      <td>7</td>\n",
       "      <td>3</td>\n",
       "    </tr>\n",
       "  </tbody>\n",
       "</table>\n",
       "</div>"
      ],
      "text/plain": [
       "   PassengerId  Survived  Pclass  \\\n",
       "0            1         0       3   \n",
       "1            2         1       1   \n",
       "2            3         1       3   \n",
       "3            4         1       1   \n",
       "4            5         0       3   \n",
       "\n",
       "                                                Name  Sex   Age  SibSp  Parch  \\\n",
       "0                            Braund, Mr. Owen Harris    1  22.0      1      0   \n",
       "1  Cumings, Mrs. John Bradley (Florence Briggs Th...    0  38.0      1      0   \n",
       "2                             Heikkinen, Miss. Laina    0  26.0      0      0   \n",
       "3       Futrelle, Mrs. Jacques Heath (Lily May Peel)    0  35.0      1      0   \n",
       "4                           Allen, Mr. William Henry    1  35.0      0      0   \n",
       "\n",
       "             Ticket     Fare  Cabin  Embarked  \n",
       "0         A/5 21171   7.2500      7         3  \n",
       "1          PC 17599  71.2833      2         0  \n",
       "2  STON/O2. 3101282   7.9250      7         3  \n",
       "3            113803  53.1000      2         3  \n",
       "4            373450   8.0500      7         3  "
      ]
     },
     "execution_count": 21,
     "metadata": {},
     "output_type": "execute_result"
    }
   ],
   "source": [
    "from sklearn import preprocessing\n",
    "\n",
    "# 레이블 인코딩 함수\n",
    "# 개선 : def encode_feature(dataDF, feature):\n",
    "def encode_features(dataDF):\n",
    "    # 문자열 카테고리 피처\n",
    "    features = ['Cabin', 'Sex', 'Embarked']\n",
    "    for feature in features:\n",
    "        le = preprocessing.LabelEncoder()\n",
    "        le = le.fit(dataDF[feature])\n",
    "        dataDF[feature] = le.transform(dataDF[feature])\n",
    "        \n",
    "    return dataDF\n",
    "\n",
    "titanic_df = encode_features(titanic_df)\n",
    "titanic_df.head()"
   ]
  },
  {
   "cell_type": "markdown",
   "id": "d401390b-0d42-43dd-ab95-d79da1e074bf",
   "metadata": {},
   "source": [
    "'Cabin', 'Sex', 'Embarked' 속성이 숫자형으로 바뀐 것 확인 가능"
   ]
  },
  {
   "cell_type": "markdown",
   "id": "5e6168fa-d157-4038-be19-1907b793133f",
   "metadata": {},
   "source": [
    "  "
   ]
  },
  {
   "cell_type": "markdown",
   "id": "a714ce4b-ac05-4f15-a89c-ccc08ea6412b",
   "metadata": {},
   "source": [
    "## 데이터 전처리 : 삭제\n",
    "- PassengerID, Name, Ticket 변수 삭제\n",
    "- drop(labels = None, axis = 0, inplace = False) 함수 사용"
   ]
  },
  {
   "cell_type": "code",
   "execution_count": 22,
   "id": "87e3ab2a-0739-4fc5-b7d7-a61ff29ac855",
   "metadata": {},
   "outputs": [
    {
     "data": {
      "text/html": [
       "<div>\n",
       "<style scoped>\n",
       "    .dataframe tbody tr th:only-of-type {\n",
       "        vertical-align: middle;\n",
       "    }\n",
       "\n",
       "    .dataframe tbody tr th {\n",
       "        vertical-align: top;\n",
       "    }\n",
       "\n",
       "    .dataframe thead th {\n",
       "        text-align: right;\n",
       "    }\n",
       "</style>\n",
       "<table border=\"1\" class=\"dataframe\">\n",
       "  <thead>\n",
       "    <tr style=\"text-align: right;\">\n",
       "      <th></th>\n",
       "      <th>Survived</th>\n",
       "      <th>Pclass</th>\n",
       "      <th>Sex</th>\n",
       "      <th>Age</th>\n",
       "      <th>SibSp</th>\n",
       "      <th>Parch</th>\n",
       "      <th>Fare</th>\n",
       "      <th>Cabin</th>\n",
       "      <th>Embarked</th>\n",
       "    </tr>\n",
       "  </thead>\n",
       "  <tbody>\n",
       "    <tr>\n",
       "      <th>0</th>\n",
       "      <td>0</td>\n",
       "      <td>3</td>\n",
       "      <td>1</td>\n",
       "      <td>22.0</td>\n",
       "      <td>1</td>\n",
       "      <td>0</td>\n",
       "      <td>7.2500</td>\n",
       "      <td>7</td>\n",
       "      <td>3</td>\n",
       "    </tr>\n",
       "    <tr>\n",
       "      <th>1</th>\n",
       "      <td>1</td>\n",
       "      <td>1</td>\n",
       "      <td>0</td>\n",
       "      <td>38.0</td>\n",
       "      <td>1</td>\n",
       "      <td>0</td>\n",
       "      <td>71.2833</td>\n",
       "      <td>2</td>\n",
       "      <td>0</td>\n",
       "    </tr>\n",
       "    <tr>\n",
       "      <th>2</th>\n",
       "      <td>1</td>\n",
       "      <td>3</td>\n",
       "      <td>0</td>\n",
       "      <td>26.0</td>\n",
       "      <td>0</td>\n",
       "      <td>0</td>\n",
       "      <td>7.9250</td>\n",
       "      <td>7</td>\n",
       "      <td>3</td>\n",
       "    </tr>\n",
       "    <tr>\n",
       "      <th>3</th>\n",
       "      <td>1</td>\n",
       "      <td>1</td>\n",
       "      <td>0</td>\n",
       "      <td>35.0</td>\n",
       "      <td>1</td>\n",
       "      <td>0</td>\n",
       "      <td>53.1000</td>\n",
       "      <td>2</td>\n",
       "      <td>3</td>\n",
       "    </tr>\n",
       "    <tr>\n",
       "      <th>4</th>\n",
       "      <td>0</td>\n",
       "      <td>3</td>\n",
       "      <td>1</td>\n",
       "      <td>35.0</td>\n",
       "      <td>0</td>\n",
       "      <td>0</td>\n",
       "      <td>8.0500</td>\n",
       "      <td>7</td>\n",
       "      <td>3</td>\n",
       "    </tr>\n",
       "  </tbody>\n",
       "</table>\n",
       "</div>"
      ],
      "text/plain": [
       "   Survived  Pclass  Sex   Age  SibSp  Parch     Fare  Cabin  Embarked\n",
       "0         0       3    1  22.0      1      0   7.2500      7         3\n",
       "1         1       1    0  38.0      1      0  71.2833      2         0\n",
       "2         1       3    0  26.0      0      0   7.9250      7         3\n",
       "3         1       1    0  35.0      1      0  53.1000      2         3\n",
       "4         0       3    1  35.0      0      0   8.0500      7         3"
      ]
     },
     "execution_count": 22,
     "metadata": {},
     "output_type": "execute_result"
    }
   ],
   "source": [
    "# 불필요한 변수 제거 drop()함수 : PassengerId, Name, Ticket 변수\n",
    "titanic_df.drop(['PassengerId', 'Name', 'Ticket'], axis = 1, inplace = True)\n",
    "titanic_df.head()"
   ]
  },
  {
   "cell_type": "markdown",
   "id": "8913f086-bc74-4cab-bad6-bbf297197c0f",
   "metadata": {},
   "source": [
    "**피처를 가공한 내역을 정리하고 이를 함수로 만들어 쉽게 재사용 하도록 처리**\n",
    "- 데이터의 전처리를 전체적으로 호출하는 함수 : transform_features()\n",
    "- Null 처리\n",
    "- 포매팅\n",
    "- 인코딩\n",
    "\n",
    "위 처리 수행하는 내부 함수로 구성"
   ]
  },
  {
   "cell_type": "code",
   "execution_count": 5,
   "id": "11e660ad-dfb2-4532-9339-66a37b1e08ea",
   "metadata": {},
   "outputs": [],
   "source": [
    "from sklearn.preprocessing import LabelEncoder\n",
    "\n",
    "# Null 처리 함수\n",
    "def fillna(df):\n",
    "    df['Age'].fillna(df['Age'].mean(), inplace = True)\n",
    "    df['Cabin'].fillna(\"N\", inplace = True)\n",
    "    df['Embarked'].fillna(\"N\", inplace = True)\n",
    "    df['Fare'].fillna(0, inplace = True)\n",
    "    return df\n",
    "\n",
    "\n",
    "# 머신러닝 알고리즘에 불필요한 속성 제거\n",
    "def drop_features(df):\n",
    "    df.drop(['PassengerId', 'Name', 'Ticket'], axis = 1, inplace = True)\n",
    "    return df\n",
    "\n",
    "# 레이블 인코딩 수행\n",
    "def format_features(df):\n",
    "    df['Cabin'] = df['Cabin'].str[:1]  # 첫 문자만 추출\n",
    "    features = ['Cabin', 'Sex', 'Embarked']\n",
    "    for feature in features:\n",
    "        le = LabelEncoder()\n",
    "        le = le.fit(df[feature])\n",
    "        df[feature] = le.transform(df[feature])\n",
    "    return df\n",
    "\n",
    "# 앞에서 설정한 Data Preprocessing 함수 호출\n",
    "def transform_features(df):\n",
    "    df = fillna(df)\n",
    "    df = drop_features(df)\n",
    "    df = format_features(df)\n",
    "    return df"
   ]
  },
  {
   "cell_type": "markdown",
   "id": "545ec6c3-3bd4-4a82-affa-23aa52f05a76",
   "metadata": {},
   "source": [
    "## 생존자 예측 프로세스"
   ]
  },
  {
   "cell_type": "markdown",
   "id": "0d209e62-e0c6-45f4-b7a3-6cf2a49c1fa4",
   "metadata": {},
   "source": [
    "### **1단계. 데이터 로딩**\n",
    "- 피처 데이터셋, 레이블 데이터 셋 추출"
   ]
  },
  {
   "cell_type": "code",
   "execution_count": 3,
   "id": "4d9b67e2-b977-4ef7-994b-a3772b4e7d86",
   "metadata": {},
   "outputs": [],
   "source": [
    "# 원본 데이터를 재로딩 하고, feature데이터 셋과 Label 데이터 셋 추출. \n",
    "titanic_df = pd.read_csv('titanic_train.csv')\n",
    "# 결정값\n",
    "y_titanic_df = titanic_df['Survived']\n",
    "# 학습 데이터 세트\n",
    "# 결정 값으로 사용할 'Survived' 칼럼 제외\n",
    "X_titanic_df = titanic_df.drop('Survived', axis = 1)"
   ]
  },
  {
   "cell_type": "markdown",
   "id": "80b48c8b-9902-4d42-9677-92a9fbf3aec6",
   "metadata": {},
   "source": [
    "### **2단계. 데이터 전처리**\n",
    "- 피처 데이터 세트에 transform_features()를 적용해 데이터 가공"
   ]
  },
  {
   "cell_type": "code",
   "execution_count": 6,
   "id": "a500e116-e430-4f24-b516-0a198bb28851",
   "metadata": {},
   "outputs": [
    {
     "data": {
      "text/html": [
       "<div>\n",
       "<style scoped>\n",
       "    .dataframe tbody tr th:only-of-type {\n",
       "        vertical-align: middle;\n",
       "    }\n",
       "\n",
       "    .dataframe tbody tr th {\n",
       "        vertical-align: top;\n",
       "    }\n",
       "\n",
       "    .dataframe thead th {\n",
       "        text-align: right;\n",
       "    }\n",
       "</style>\n",
       "<table border=\"1\" class=\"dataframe\">\n",
       "  <thead>\n",
       "    <tr style=\"text-align: right;\">\n",
       "      <th></th>\n",
       "      <th>Pclass</th>\n",
       "      <th>Sex</th>\n",
       "      <th>Age</th>\n",
       "      <th>SibSp</th>\n",
       "      <th>Parch</th>\n",
       "      <th>Fare</th>\n",
       "      <th>Cabin</th>\n",
       "      <th>Embarked</th>\n",
       "    </tr>\n",
       "  </thead>\n",
       "  <tbody>\n",
       "    <tr>\n",
       "      <th>0</th>\n",
       "      <td>3</td>\n",
       "      <td>1</td>\n",
       "      <td>22.0</td>\n",
       "      <td>1</td>\n",
       "      <td>0</td>\n",
       "      <td>7.2500</td>\n",
       "      <td>7</td>\n",
       "      <td>3</td>\n",
       "    </tr>\n",
       "    <tr>\n",
       "      <th>1</th>\n",
       "      <td>1</td>\n",
       "      <td>0</td>\n",
       "      <td>38.0</td>\n",
       "      <td>1</td>\n",
       "      <td>0</td>\n",
       "      <td>71.2833</td>\n",
       "      <td>2</td>\n",
       "      <td>0</td>\n",
       "    </tr>\n",
       "    <tr>\n",
       "      <th>2</th>\n",
       "      <td>3</td>\n",
       "      <td>0</td>\n",
       "      <td>26.0</td>\n",
       "      <td>0</td>\n",
       "      <td>0</td>\n",
       "      <td>7.9250</td>\n",
       "      <td>7</td>\n",
       "      <td>3</td>\n",
       "    </tr>\n",
       "    <tr>\n",
       "      <th>3</th>\n",
       "      <td>1</td>\n",
       "      <td>0</td>\n",
       "      <td>35.0</td>\n",
       "      <td>1</td>\n",
       "      <td>0</td>\n",
       "      <td>53.1000</td>\n",
       "      <td>2</td>\n",
       "      <td>3</td>\n",
       "    </tr>\n",
       "    <tr>\n",
       "      <th>4</th>\n",
       "      <td>3</td>\n",
       "      <td>1</td>\n",
       "      <td>35.0</td>\n",
       "      <td>0</td>\n",
       "      <td>0</td>\n",
       "      <td>8.0500</td>\n",
       "      <td>7</td>\n",
       "      <td>3</td>\n",
       "    </tr>\n",
       "  </tbody>\n",
       "</table>\n",
       "</div>"
      ],
      "text/plain": [
       "   Pclass  Sex   Age  SibSp  Parch     Fare  Cabin  Embarked\n",
       "0       3    1  22.0      1      0   7.2500      7         3\n",
       "1       1    0  38.0      1      0  71.2833      2         0\n",
       "2       3    0  26.0      0      0   7.9250      7         3\n",
       "3       1    0  35.0      1      0  53.1000      2         3\n",
       "4       3    1  35.0      0      0   8.0500      7         3"
      ]
     },
     "execution_count": 6,
     "metadata": {},
     "output_type": "execute_result"
    }
   ],
   "source": [
    "# 데이터 전처리 함수 호출\n",
    "X_titanic_df = transform_features(X_titanic_df)\n",
    "X_titanic_df.head(5)\n",
    "# 생존자 예측을 수행할 피처 데이터 세트 완성"
   ]
  },
  {
   "cell_type": "markdown",
   "id": "1afb7954-13cd-415c-b2ac-d79d29ca2220",
   "metadata": {},
   "source": [
    "### **3단계. Data Split : 학습 데이터/테스트 데이터**"
   ]
  },
  {
   "cell_type": "code",
   "execution_count": 7,
   "id": "a4a00182-b8d3-4e46-b447-af2a7a7f1287",
   "metadata": {},
   "outputs": [],
   "source": [
    "# 내려받은 학습 데이터 세트 기반으로 train_test_split() API이용\n",
    "# 학습 / 테스트 데이터 세트 분리\n",
    "# 별도의 테스트 데이터 세트 추출\n",
    "# 테스트 데이터 세트 : 20%\n",
    "from sklearn.model_selection import train_test_split\n",
    "\n",
    "X_train, X_test, y_train, y_test = train_test_split(X_titanic_df, y_titanic_df, test_size = 0.2, random_state = 11)"
   ]
  },
  {
   "cell_type": "markdown",
   "id": "ca12e5a4-3253-4a0b-9966-a24aa099d65e",
   "metadata": {},
   "source": [
    "### **4단계. 분류 알고리즘을 적용한 학습 / 예측 / 평가**\n",
    "- 3개의 ML 알고리즘 수행\n",
    "    - 결정 트리, 랜덤 포레스트, 로지스틱 회귀(분류)\n",
    "- 이 3개의 알고리즘으로 예측 수행하고\n",
    "- 교차 검증으로 평가\n",
    "\n",
    "**사이킷런 클래스**\n",
    "- 결정 트리 : DecisionTreeClassifier\n",
    "- 랜덤 포레스트 : RandomForestClassifer\n",
    "- 로지스틱 회귀 : LogisticRegression\n",
    "\n",
    "**train_test_split()으로 분리한 학습 데이터와 테스트 데이터를 기반으로**\n",
    "- 머신러닝 모델을 학습하고(fit), 예측 수행(predict)\n",
    "- 예측 성능 평가 : 정확도 (accuracy_score() API 사용)"
   ]
  },
  {
   "cell_type": "code",
   "execution_count": 12,
   "id": "39f59194-9b78-4ca1-a365-131ffd79c998",
   "metadata": {},
   "outputs": [
    {
     "name": "stdout",
     "output_type": "stream",
     "text": [
      "결정 트리의 정확도 : 0.7877\n",
      "랜덤 포레스트의 정확도 : 0.8547\n",
      "로지스틱 회귀의 정확도: 0.8492\n"
     ]
    },
    {
     "name": "stderr",
     "output_type": "stream",
     "text": [
      "C:\\Users\\ftsv2\\Anaconda3\\envs\\multi\\lib\\site-packages\\sklearn\\linear_model\\_logistic.py:765: ConvergenceWarning: lbfgs failed to converge (status=1):\n",
      "STOP: TOTAL NO. of ITERATIONS REACHED LIMIT.\n",
      "\n",
      "Increase the number of iterations (max_iter) or scale the data as shown in:\n",
      "    https://scikit-learn.org/stable/modules/preprocessing.html\n",
      "Please also refer to the documentation for alternative solver options:\n",
      "    https://scikit-learn.org/stable/modules/linear_model.html#logistic-regression\n",
      "  extra_warning_msg=_LOGISTIC_SOLVER_CONVERGENCE_MSG)\n"
     ]
    }
   ],
   "source": [
    "from sklearn.tree import DecisionTreeClassifier\n",
    "from sklearn.ensemble import RandomForestClassifier\n",
    "from sklearn.linear_model import LogisticRegression\n",
    "from sklearn.metrics import accuracy_score\n",
    "\n",
    "# 결정 트리, 랜덤 포레스트, 로지스틱 회귀를 위한 estimator 객체 생성\n",
    "dt_clf = DecisionTreeClassifier(random_state = 11)\n",
    "rf_clf = RandomForestClassifier(random_state = 11)\n",
    "lr_clf = LogisticRegression()\n",
    "\n",
    "# 결정 트리 학습(fit) / 예측(predict) / 평가\n",
    "dt_clf.fit(X_train, y_train)\n",
    "dt_pred = dt_clf.predict(X_test)\n",
    "print('결정 트리의 정확도 : {0:.4f}' .format(accuracy_score(y_test, dt_pred)))\n",
    "\n",
    "# 랜덤 포레스트 학습 / 예측 / 평가\n",
    "rf_clf.fit(X_train, y_train)\n",
    "rf_pred = rf_clf.predict(X_test)\n",
    "print('랜덤 포레스트의 정확도 : {0:.4f}' .format(accuracy_score(y_test, rf_pred)))\n",
    "\n",
    "# 로지스틱 회귀 학습 / 예측 / 평가\n",
    "lr_clf.fit(X_train , y_train)\n",
    "lr_pred = lr_clf.predict(X_test)\n",
    "print('로지스틱 회귀의 정확도: {0:.4f}'.format(accuracy_score(y_test, lr_pred)))"
   ]
  },
  {
   "cell_type": "markdown",
   "id": "cfadfbfe-6d57-4b68-ae97-75bfb55779f3",
   "metadata": {},
   "source": [
    "3개의 알고리즘 중 LogisticRegression이 타 알고리즘에 비해 높은 정확도를 나타냄\n",
    "\n",
    "아직,\n",
    "- 최적화 작업을 수행하지 않았고, 데이터 양도 충분하지 않기 때문에 어떤 알고리즘이 성능이 가장 좋다고 평가할 수 없다."
   ]
  },
  {
   "cell_type": "markdown",
   "id": "77454eb9-d0b8-4c5f-9e7c-e084143db12e",
   "metadata": {},
   "source": [
    "### **5단계. 교차 검증을 통한 모델 성능 향상**\n",
    ": 교차 검증으로 결정 트리 모델 좀 더 평가\n",
    "- 사이킷런 model_selection 패키지의\n",
    "    - KFold클래스, cross_val_score(), GridSearchCV클래스 사용"
   ]
  },
  {
   "cell_type": "markdown",
   "id": "d7ec057e-4cab-4f40-87bd-a74263c59292",
   "metadata": {},
   "source": [
    "**사이킷런의 KFold클래스를 이용해 교차 검증 수행 (폴드 개수는 5개로 설정)**\n",
    "- KFold(n_splits = #folds)"
   ]
  },
  {
   "cell_type": "code",
   "execution_count": 10,
   "id": "d74f0299-d487-4b27-9698-5e50681037d2",
   "metadata": {},
   "outputs": [
    {
     "name": "stdout",
     "output_type": "stream",
     "text": [
      "교차검증 0 : 0.754190\n",
      "교차검증 1 : 0.780899\n",
      "교차검증 2 : 0.786517\n",
      "교차검증 3 : 0.769663\n",
      "교차검증 4 : 0.820225\n",
      "평균 정확도 : 0.782299\n"
     ]
    }
   ],
   "source": [
    "import numpy as np\n",
    "from sklearn.model_selection import KFold, cross_val_score, GridSearchCV\n",
    "\n",
    "# 결정 트리 모델에 대해 KFold클래스를 이용해 교차 검증 수행\n",
    "def exec_kfold(clf, folds = 5):\n",
    "    # 폴드 세트를 5개인 KFold객체를 생성, 폴드 수만큼 예측결과 저장을 위한 리스트 객체 생성\n",
    "    kfold = KFold(n_splits = folds)\n",
    "    scores = []\n",
    "    \n",
    "    # KFold 교차 검증 수행\n",
    "    # enumerate : 인덱스를 붙여주는 것 (인덱스 열거)\n",
    "    for iter_n, (train_index, test_index) in enumerate(kfold.split(X_titanic_df)):\n",
    "        # X_titanic_df 데이터에서 교차 검증별로 학습과 검증 데이터를 가리키는 index 생성\n",
    "        X_train, X_test = X_titanic_df.values[train_index], X_titanic_df.values[test_index]\n",
    "        y_train, y_test = y_titanic_df.values[train_index], y_titanic_df.values[test_index]\n",
    "        \n",
    "        # Classifier 학습, 예측, 정확도 계산 \n",
    "        clf.fit(X_train, y_train)\n",
    "        pred = clf.predict(X_test)\n",
    "        accuracy = accuracy_score(y_test, pred)\n",
    "        scores.append(accuracy)\n",
    "        print('교차검증 %d : %f' %(iter_n, accuracy))\n",
    "    \n",
    "    # 5개 fold에서의 평균 정확도 계산. \n",
    "    mean_accuracy = np.mean(scores)\n",
    "    print('평균 정확도 : %f' %mean_accuracy)\n",
    "\n",
    "# exec_kfold 호출\n",
    "exec_kfold(dt_clf, folds = 5)"
   ]
  },
  {
   "cell_type": "markdown",
   "id": "0828fce2-7ecb-4395-8b8c-742a148ad11a",
   "metadata": {},
   "source": [
    "평균 정확도는 약 78.23%"
   ]
  },
  {
   "cell_type": "markdown",
   "id": "fff0886c-c040-4cf3-99fb-8f8de6919495",
   "metadata": {},
   "source": [
    "**교차 검증을 cross_val_socre() API를 이용해 수행**\n",
    "- cross_val_socre(estimator, x, y, cv)"
   ]
  },
  {
   "cell_type": "code",
   "execution_count": 13,
   "id": "545d556a-b5f2-4273-ab3a-9d967f9a4542",
   "metadata": {},
   "outputs": [
    {
     "name": "stdout",
     "output_type": "stream",
     "text": [
      "교차 검증 0 정확도 : 0.7430\n",
      "교차 검증 1 정확도 : 0.7753\n",
      "교차 검증 2 정확도 : 0.7921\n",
      "교차 검증 3 정확도 : 0.7865\n",
      "교차 검증 4 정확도 : 0.8427\n",
      "평균 정확도 : 0.7879\n"
     ]
    }
   ],
   "source": [
    "# cross_val_score()를 이용해 교차 검증 수행\n",
    "from sklearn.model_selection import cross_val_score\n",
    "\n",
    "scores = cross_val_score(dt_clf, X_titanic_df, y_titanic_df, cv = 5)\n",
    "for iter_n, accuracy in enumerate(scores):\n",
    "    print('교차 검증 {0} 정확도 : {1:.4f}' .format(iter_n, accuracy))\n",
    "\n",
    "print('평균 정확도 : {0:.4f}' .format(np.mean(scores)))"
   ]
  },
  {
   "cell_type": "markdown",
   "id": "4e72af36-d46f-44b6-95f4-b5302aebb1f8",
   "metadata": {},
   "source": [
    "K폴드 평균 정확도와 다른데, 이는 cross_val_score()가 StratifiedKFold를 이용해 폴드 세트를 분할하기 때문임"
   ]
  },
  {
   "cell_type": "markdown",
   "id": "db3c2c9e-16c5-44e4-9365-0c25cc69d9f4",
   "metadata": {},
   "source": [
    "### **6단계. 하이퍼 파라미터 튜닝**"
   ]
  },
  {
   "cell_type": "markdown",
   "id": "c09ee0af-c4bc-446e-833e-cbfc1f3c39de",
   "metadata": {},
   "source": [
    "GridSearchCV클래스를 이용해 하이퍼 파라미터를 튜닝\n",
    "- DecisionTreeClassifier의 최적 하이퍼 파라미터를 찾고 예측 성능 측정\n",
    "- CV : 5개의 폴드 세트 지정\n",
    "- 하이퍼 파라미터 : max_depth, min_samples_split, min_samples_leaf \n",
    "    - 이를 변경하며 성능 측정\n",
    "\n",
    "하이퍼 파라미터는 그때의 예측을 출력하고, 최적 하이퍼 파라미터로 학습된 Estimator를 이용해 위의 train_test_split()으로 분리된 테이스 데이터 세트에 예측을 수행해 예측 정확도를 출력"
   ]
  },
  {
   "cell_type": "code",
   "execution_count": 18,
   "id": "95c183cd-a55f-433b-98c1-cba2bc0203b5",
   "metadata": {},
   "outputs": [
    {
     "name": "stdout",
     "output_type": "stream",
     "text": [
      "GridSearchCV 최적 하이퍼 파라미터 :  {'max_depth': 3, 'min_samples_leaf': 5, 'min_samples_split': 2}\n",
      "GridSearchCV 최고 정확도 : 0.7992\n",
      "테스트 세트에서의 DecisionTreeClassifier 정확도 : 0.8715\n"
     ]
    }
   ],
   "source": [
    "from sklearn.model_selection import GridSearchCV\n",
    "\n",
    "# 하이퍼 파라미터 설정\n",
    "parameters = {'max_depth':[2, 3, 5, 10], 'min_samples_split':[2, 3, 5], 'min_samples_leaf':[1, 5, 8]}\n",
    "\n",
    "grid_dclf = GridSearchCV(dt_clf, param_grid = parameters, scoring = 'accuracy', cv = 5)\n",
    "grid_dclf.fit(X_train, y_train)\n",
    "\n",
    "print('GridSearchCV 최적 하이퍼 파라미터 : ', grid_dclf.best_params_)\n",
    "print('GridSearchCV 최고 정확도 : {0:.4f}'.format(grid_dclf.best_score_))\n",
    "best_dclf = grid_dclf.best_estimator_\n",
    "      \n",
    "# GridSearchCV의 최적 하이퍼 파라미터로 학습된 Estimator로 예측 및 평가 수행\n",
    "dpredictions = best_dclf.predict(X_test)\n",
    "accuracy = accuracy_score(y_test, dpredictions)\n",
    "print('테스트 세트에서의 DecisionTreeClassifier 정확도 : {0:.4f}'.format(accuracy))"
   ]
  },
  {
   "cell_type": "markdown",
   "id": "404c54cc-75d3-44a9-8356-83c64152ebfa",
   "metadata": {},
   "source": [
    "최적화된 하이퍼 파라미터인 'max_depth': 3, 'min_samples_leaf': 5, 'min_samples_split': 2로 DecistionTreeClassifier를 학습시킨뒤 예측 정확도가 약 78%에서 → 약 87.15% 향상되었다.\n",
    "- 하이퍼 파라미터 변경 전보다 약 8%이상 증가했는데, \n",
    "- 일반적으로 하이퍼 파라미터를 튜닝하더라도 이 정도 수준으로 증가하기는 매우 어렵다.\n",
    "- 테스트용 데이터 세트가 작기 때문에 수치상으로 예측 성능이 많이 증가한 것처럼 보임"
   ]
  }
 ],
 "metadata": {
  "kernelspec": {
   "display_name": "Python Multi",
   "language": "python",
   "name": "multi"
  },
  "language_info": {
   "codemirror_mode": {
    "name": "ipython",
    "version": 3
   },
   "file_extension": ".py",
   "mimetype": "text/x-python",
   "name": "python",
   "nbconvert_exporter": "python",
   "pygments_lexer": "ipython3",
   "version": "3.7.6"
  }
 },
 "nbformat": 4,
 "nbformat_minor": 5
}
