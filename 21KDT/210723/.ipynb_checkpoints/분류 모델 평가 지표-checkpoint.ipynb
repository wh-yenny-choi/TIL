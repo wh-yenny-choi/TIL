{
 "cells": [
  {
   "cell_type": "markdown",
   "id": "453a05ab-53c8-4c4d-9f96-dc69be8f314f",
   "metadata": {},
   "source": [
    "# 분류 모델의 성능 평가 지표\n",
    "\n",
    "## **Accuracy (정확도)**\n",
    "### **1. 타이타닉 생존자 예측**"
   ]
  },
  {
   "cell_type": "code",
   "execution_count": 1,
   "id": "b1afb07c-c9a8-4601-87fe-ed0cc05f2325",
   "metadata": {},
   "outputs": [],
   "source": [
    "import numpy as np\n",
    "from sklearn.base import BaseEstimator\n",
    "\n",
    "# 아무런 학습을 하지 않고 성별에 따라 생존자를 예측하는 단순한 Classifer생성\n",
    "# BaseEstimator 상속 받음\n",
    "\n",
    "class MyDummyClassifier(BaseEstimator):\n",
    "    # fit() 메소드는 아무것도 학습하지 않음\n",
    "    def fit(self, X, y = None):\n",
    "        pass\n",
    "    \n",
    "    def predict(self, X):\n",
    "        pred = np.zeros((X.shape[0], 1))\n",
    "        for i in range(X.shape[0]):\n",
    "            if X['Sex'].iloc[i] == 1:\n",
    "                pred[i] = 0\n",
    "            else:\n",
    "                pred[i] = 1\n",
    "        \n",
    "        return pred\n",
    "    "
   ]
  },
  {
   "cell_type": "markdown",
   "id": "19707314-f2f6-4642-82e2-62f686cd6a99",
   "metadata": {},
   "source": [
    "**MyDummyClassifier를 이용해 타이타닉 생존자 예측 수행**"
   ]
  },
  {
   "cell_type": "code",
   "execution_count": 2,
   "id": "b086174d-5bf1-4f74-b0ae-da12da94da3e",
   "metadata": {},
   "outputs": [
    {
     "name": "stdout",
     "output_type": "stream",
     "text": [
      "Dummy Classifier의 정확도는 : 0.7877\n"
     ]
    }
   ],
   "source": [
    "from sklearn.preprocessing import LabelEncoder\n",
    "\n",
    "# Null 처리 함수\n",
    "def fillna(df):\n",
    "    df['Age'].fillna(df['Age'].mean(), inplace = True)\n",
    "    df['Cabin'].fillna(\"N\", inplace = True)\n",
    "    df['Embarked'].fillna(\"N\", inplace = True)\n",
    "    df['Fare'].fillna(0, inplace = True)\n",
    "    return df\n",
    "\n",
    "\n",
    "# 머신러닝 알고리즘에 불필요한 속성 제거\n",
    "def drop_features(df):\n",
    "    df.drop(['PassengerId', 'Name', 'Ticket'], axis = 1, inplace = True)\n",
    "    return df\n",
    "\n",
    "# 레이블 인코딩 수행\n",
    "def format_features(df):\n",
    "    df['Cabin'] = df['Cabin'].str[:1]  # 첫 문자만 추출\n",
    "    features = ['Cabin', 'Sex', 'Embarked']\n",
    "    for feature in features:\n",
    "        le = LabelEncoder()\n",
    "        le = le.fit(df[feature])\n",
    "        df[feature] = le.transform(df[feature])\n",
    "    return df\n",
    "\n",
    "# 앞에서 설정한 Data Preprocessing 함수 호출\n",
    "def transform_features(df):\n",
    "    df = fillna(df)\n",
    "    df = drop_features(df)\n",
    "    df = format_features(df)\n",
    "    return df\n",
    "\n",
    "# 타이타닉 생존자 예측\n",
    "import pandas as pd\n",
    "from sklearn.model_selection import train_test_split\n",
    "from sklearn.metrics import accuracy_score\n",
    "\n",
    "# 원본 데이터를 재로딩, 데이터 가공, 학습데이터/테스트 데이터 분할\n",
    "titanic_df = pd.read_csv('titanic_train.csv')\n",
    "y_titanic_df = titanic_df['Survived']\n",
    "X_titanic_df = titanic_df.drop('Survived', axis = 1)\n",
    "X_titanic_df = transform_features(X_titanic_df)\n",
    "X_train, X_test, y_train, y_test = train_test_split(X_titanic_df, y_titanic_df, test_size = 0.2, random_state = 0)\n",
    "\n",
    "# 위에서 생성한 Dummy Classifier를 이용하여 학습 / 예측/ 평가 수행\n",
    "myclf = MyDummyClassifier()\n",
    "myclf.fit(X_train, y_train)\n",
    "mypred = myclf.predict(X_test)\n",
    "print('Dummy Classifier의 정확도는 : {0:.4f}'.format(accuracy_score(y_test, mypred)))"
   ]
  },
  {
   "cell_type": "markdown",
   "id": "0d92ce14-b3c7-4f20-b3a0-6b943ce6f641",
   "metadata": {},
   "source": [
    "   "
   ]
  },
  {
   "cell_type": "markdown",
   "id": "46d72847-2fdd-4a89-b518-e3ac8d0e0d71",
   "metadata": {},
   "source": [
    "### **2. MNIST 데이터 세트**"
   ]
  },
  {
   "cell_type": "code",
   "execution_count": 3,
   "id": "96705639-2e8d-412a-b9cd-a8a1f893104f",
   "metadata": {},
   "outputs": [],
   "source": [
    "from sklearn.datasets import load_digits\n",
    "from sklearn.model_selection import train_test_split\n",
    "from sklearn.base import BaseEstimator\n",
    "from sklearn.metrics import accuracy_score\n",
    "import numpy as np\n",
    "import pandas as pd\n",
    "\n",
    "class MyFakeClassifier(BaseEstimator):\n",
    "    def fit(self, X, y):\n",
    "        pass\n",
    "    \n",
    "    def predict(self, X):\n",
    "        return np.zeros((len(X), 1), dtype = bool)"
   ]
  },
  {
   "cell_type": "markdown",
   "id": "0209ff09-6dc0-4572-8105-f408ae829ca9",
   "metadata": {},
   "source": [
    "**digit 데이터 로드**"
   ]
  },
  {
   "cell_type": "code",
   "execution_count": 4,
   "id": "44cfe637-08d7-401c-a051-ca48f80d83a9",
   "metadata": {},
   "outputs": [],
   "source": [
    "# digits 확인\n",
    "digits = load_digits()\n",
    "#digits"
   ]
  },
  {
   "cell_type": "code",
   "execution_count": 5,
   "id": "7bf1589f-dfa5-49a7-b0ab-b8a15ceee334",
   "metadata": {},
   "outputs": [],
   "source": [
    "# 사이킷런의 내장 데이터셋인 load_digitis()를 이용하여 MNIST데이터 로딩"
   ]
  },
  {
   "cell_type": "code",
   "execution_count": 6,
   "id": "1e888f36-e9b5-4b71-985b-f64a99cd61a1",
   "metadata": {},
   "outputs": [
    {
     "data": {
      "text/plain": [
       "(1797, 64)"
      ]
     },
     "execution_count": 6,
     "metadata": {},
     "output_type": "execute_result"
    }
   ],
   "source": [
    "# 데이터 형태 확인\n",
    "digits.data.shape"
   ]
  },
  {
   "cell_type": "code",
   "execution_count": 7,
   "id": "70a794c8-8703-4324-a666-870519c60c7a",
   "metadata": {},
   "outputs": [
    {
     "data": {
      "text/plain": [
       "(1797,)"
      ]
     },
     "execution_count": 7,
     "metadata": {},
     "output_type": "execute_result"
    }
   ],
   "source": [
    "digits.target.shape"
   ]
  },
  {
   "cell_type": "markdown",
   "id": "11fed56f-366f-4835-873c-5b538b42d652",
   "metadata": {},
   "source": [
    "**7인 데이터 확인**"
   ]
  },
  {
   "cell_type": "code",
   "execution_count": 8,
   "id": "413202d8-118d-47ae-8756-8b76fa820e11",
   "metadata": {},
   "outputs": [
    {
     "data": {
      "text/plain": [
       "array([False, False, False, ..., False, False, False])"
      ]
     },
     "execution_count": 8,
     "metadata": {},
     "output_type": "execute_result"
    }
   ],
   "source": [
    "digits.target == 7"
   ]
  },
  {
   "cell_type": "markdown",
   "id": "4c120ff7-1d23-4131-ae63-eb661cb1ece1",
   "metadata": {},
   "source": [
    "**7인 데이터는 1, 그 외 데이터는 0으로 변환**"
   ]
  },
  {
   "cell_type": "code",
   "execution_count": 9,
   "id": "429e3f94-83e4-46ca-871c-e3a161c732af",
   "metadata": {},
   "outputs": [
    {
     "data": {
      "text/plain": [
       "array([0, 0, 0, ..., 0, 0, 0])"
      ]
     },
     "execution_count": 9,
     "metadata": {},
     "output_type": "execute_result"
    }
   ],
   "source": [
    "# digits 번호가 7이면 True이고 이를 astype(int)로 1로 변환\n",
    "# 7번이 아니면 False이고 0으로 변환\n",
    "y = (digits.target == 7).astype(int)\n",
    "y"
   ]
  },
  {
   "cell_type": "markdown",
   "id": "52afcb2a-18d2-4683-afca-0ce7a9cc4fec",
   "metadata": {},
   "source": [
    "**학습 / 테스트 데이터 세트로 분리 (default = 0.25)**"
   ]
  },
  {
   "cell_type": "code",
   "execution_count": 10,
   "id": "62abbe79-bd6a-42c1-9299-802faf74d912",
   "metadata": {},
   "outputs": [],
   "source": [
    "# 학습 / 테스트 데이터 세트로 분리 (default = 0.25)\n",
    "X_train, X_test, y_train, y_test = train_test_split(digits.data, y, random_state = 11)"
   ]
  },
  {
   "cell_type": "code",
   "execution_count": 11,
   "id": "9867b9fa-3353-4fb5-8d62-44a0a5213d6b",
   "metadata": {},
   "outputs": [
    {
     "data": {
      "text/plain": [
       "array([[ 0.,  0.,  3., ..., 12., 14.,  7.],\n",
       "       [ 0.,  1.,  9., ..., 10.,  1.,  0.],\n",
       "       [ 0.,  0.,  0., ...,  0.,  0.,  0.],\n",
       "       ...,\n",
       "       [ 0.,  0.,  1., ..., 16., 13.,  1.],\n",
       "       [ 0.,  1., 11., ..., 13., 16.,  5.],\n",
       "       [ 0.,  0.,  6., ...,  6.,  0.,  0.]])"
      ]
     },
     "execution_count": 11,
     "metadata": {},
     "output_type": "execute_result"
    }
   ],
   "source": [
    "X_train"
   ]
  },
  {
   "cell_type": "code",
   "execution_count": 12,
   "id": "52d74842-c7ec-4ef9-9661-8df5d87114e1",
   "metadata": {},
   "outputs": [
    {
     "data": {
      "text/plain": [
       "array([[ 0.,  0.,  7., ...,  3.,  0.,  0.],\n",
       "       [ 0.,  0.,  0., ...,  0.,  0.,  0.],\n",
       "       [ 0.,  0.,  6., ...,  0.,  0.,  0.],\n",
       "       ...,\n",
       "       [ 0.,  1., 13., ..., 15.,  3.,  0.],\n",
       "       [ 0.,  0.,  0., ...,  1.,  0.,  0.],\n",
       "       [ 0.,  0.,  0., ..., 12.,  0.,  0.]])"
      ]
     },
     "execution_count": 12,
     "metadata": {},
     "output_type": "execute_result"
    }
   ],
   "source": [
    "X_test"
   ]
  },
  {
   "cell_type": "code",
   "execution_count": 13,
   "id": "25ac31b3-cec9-412a-bfc8-e44e5ad31bf5",
   "metadata": {},
   "outputs": [
    {
     "data": {
      "text/plain": [
       "array([0, 0, 1, ..., 0, 0, 0])"
      ]
     },
     "execution_count": 13,
     "metadata": {},
     "output_type": "execute_result"
    }
   ],
   "source": [
    "y_train"
   ]
  },
  {
   "cell_type": "code",
   "execution_count": 14,
   "id": "42628044-563a-4db7-be0b-e810d60b0d99",
   "metadata": {},
   "outputs": [
    {
     "data": {
      "text/plain": [
       "array([0, 0, 0, 0, 0, 0, 0, 0, 0, 0, 0, 0, 0, 0, 0, 0, 0, 0, 0, 0, 0, 0,\n",
       "       0, 0, 0, 0, 0, 0, 0, 0, 1, 0, 0, 0, 0, 0, 0, 0, 0, 1, 0, 0, 0, 0,\n",
       "       0, 0, 0, 0, 0, 0, 0, 0, 0, 0, 0, 0, 0, 0, 0, 0, 0, 1, 0, 0, 0, 1,\n",
       "       0, 0, 0, 0, 0, 0, 1, 0, 0, 0, 0, 1, 1, 0, 0, 0, 0, 0, 0, 0, 0, 1,\n",
       "       0, 0, 0, 0, 0, 0, 0, 0, 0, 0, 0, 0, 0, 0, 0, 0, 0, 1, 0, 0, 0, 0,\n",
       "       1, 0, 0, 0, 0, 0, 0, 0, 0, 0, 0, 0, 0, 0, 0, 0, 0, 0, 0, 0, 0, 0,\n",
       "       0, 0, 0, 0, 0, 0, 0, 0, 0, 0, 0, 1, 0, 1, 0, 0, 0, 1, 0, 0, 0, 0,\n",
       "       0, 0, 0, 0, 0, 0, 0, 0, 0, 0, 0, 0, 1, 0, 0, 0, 0, 0, 0, 0, 0, 0,\n",
       "       0, 1, 0, 0, 0, 0, 0, 0, 0, 0, 0, 0, 0, 0, 0, 0, 0, 0, 0, 0, 0, 1,\n",
       "       0, 0, 0, 0, 0, 0, 0, 1, 0, 0, 0, 0, 0, 0, 0, 0, 0, 0, 1, 0, 0, 1,\n",
       "       1, 0, 0, 1, 0, 0, 0, 1, 0, 0, 0, 0, 0, 0, 0, 0, 0, 0, 0, 0, 0, 0,\n",
       "       0, 0, 0, 0, 0, 0, 0, 0, 0, 0, 0, 0, 0, 0, 0, 0, 0, 0, 0, 0, 0, 0,\n",
       "       1, 0, 0, 0, 0, 0, 0, 0, 1, 1, 0, 0, 0, 0, 0, 0, 0, 0, 0, 0, 0, 0,\n",
       "       0, 1, 0, 0, 0, 0, 0, 0, 0, 0, 0, 0, 0, 0, 0, 0, 1, 0, 0, 0, 1, 0,\n",
       "       0, 0, 0, 0, 0, 0, 0, 0, 0, 1, 1, 0, 0, 0, 0, 0, 0, 0, 0, 0, 0, 0,\n",
       "       0, 0, 0, 0, 0, 1, 0, 0, 0, 1, 0, 0, 0, 1, 0, 0, 0, 1, 0, 0, 0, 0,\n",
       "       0, 0, 1, 0, 0, 0, 1, 0, 1, 0, 0, 0, 0, 0, 0, 0, 0, 0, 0, 0, 0, 1,\n",
       "       0, 0, 0, 0, 0, 0, 0, 0, 0, 0, 0, 0, 0, 0, 0, 1, 0, 0, 0, 0, 1, 0,\n",
       "       1, 0, 0, 0, 0, 0, 0, 0, 0, 0, 0, 0, 0, 0, 0, 0, 0, 0, 0, 0, 0, 0,\n",
       "       0, 0, 0, 1, 0, 0, 0, 0, 0, 0, 0, 1, 1, 1, 0, 0, 0, 0, 0, 0, 0, 0,\n",
       "       0, 0, 0, 0, 0, 0, 0, 0, 0, 0])"
      ]
     },
     "execution_count": 14,
     "metadata": {},
     "output_type": "execute_result"
    }
   ],
   "source": [
    "y_test"
   ]
  },
  {
   "cell_type": "markdown",
   "id": "32ee710a-3a4e-4129-8862-6d5da6bbc495",
   "metadata": {},
   "source": [
    "**불균형한 레이블 데이터 분포도 확인**"
   ]
  },
  {
   "cell_type": "code",
   "execution_count": 15,
   "id": "d34ea316-3982-4d4b-acc3-e7f70bc88474",
   "metadata": {},
   "outputs": [
    {
     "name": "stdout",
     "output_type": "stream",
     "text": [
      "y_test.shape :  (450,)\n"
     ]
    },
    {
     "data": {
      "text/plain": [
       "0    405\n",
       "1     45\n",
       "dtype: int64"
      ]
     },
     "execution_count": 15,
     "metadata": {},
     "output_type": "execute_result"
    }
   ],
   "source": [
    "# 불균형한 레이블 데이터 분포도 확인\n",
    "print('y_test.shape : ', y_test.shape)\n",
    "pd.Series(y_test).value_counts()"
   ]
  },
  {
   "cell_type": "code",
   "execution_count": 16,
   "id": "36981394-4d38-4b8c-bddd-9e24c27bf9b3",
   "metadata": {},
   "outputs": [
    {
     "name": "stdout",
     "output_type": "stream",
     "text": [
      "정확도 :  0.9\n"
     ]
    }
   ],
   "source": [
    "# Dummy Classifier로 학습 / 예측 / 정확도 평가\n",
    "fake_cl = MyFakeClassifier()\n",
    "fake_cl.fit(X_train, y_train)\n",
    "fakePred = fake_cl.predict(X_test)\n",
    "accuracy = accuracy_score(y_test, fakePred)\n",
    "print('정확도 : ', np.round((accuracy), 3))"
   ]
  },
  {
   "cell_type": "markdown",
   "id": "279e19e3-fca4-4696-b7c5-886bbf2db83f",
   "metadata": {},
   "source": [
    "## **Confustion Matirx(오차 행렬)**"
   ]
  },
  {
   "cell_type": "code",
   "execution_count": 17,
   "id": "06416277-f19d-4c44-8fa9-96aacbdbb9c1",
   "metadata": {},
   "outputs": [
    {
     "data": {
      "text/plain": [
       "array([[405,   0],\n",
       "       [ 45,   0]], dtype=int64)"
      ]
     },
     "execution_count": 17,
     "metadata": {},
     "output_type": "execute_result"
    }
   ],
   "source": [
    "from sklearn.metrics import confusion_matrix\n",
    "\n",
    "# MNIST의 fakepred\n",
    "confusion_matrix(y_test, fakePred)  # (참 값, 예측 값)"
   ]
  },
  {
   "cell_type": "markdown",
   "id": "52f59fec-8e3a-4e58-9334-d1a84eef315d",
   "metadata": {},
   "source": [
    "## **정밀도와 재현율**"
   ]
  },
  {
   "cell_type": "code",
   "execution_count": 18,
   "id": "b626941c-ed13-4c74-94bb-c014079c4ad3",
   "metadata": {},
   "outputs": [],
   "source": [
    "# 정밀도와 재현율 계산에 사용되는 예측값\n",
    "# 앞에서 Dummy Classifier로 학습 후 예측한 값 : fakepred\n",
    "# 앞에 다 있는 내용인데 흩어져 있어서 정밀도와 재현율 계산을 위해 다시 모아서 적음\n",
    "\n",
    "from sklearn.datasets import load_digits\n",
    "from sklearn.model_selection import train_test_split\n",
    "from sklearn.base import BaseEstimator\n",
    "from sklearn.metrics import accuracy_score\n",
    "import numpy as np\n",
    "import pandas as pd\n",
    "\n",
    "class MyFakeClassifier(BaseEstimator):\n",
    "    def fit(self, X, y):\n",
    "        pass\n",
    "    \n",
    "    def predict(self, X):\n",
    "        return np.zeros((len(X), 1), dtype = bool)\n",
    "    \n",
    "digits = load_digits()\n",
    "y = (digits.target == 7).astype(int)\n",
    "X_train, X_test, y_train, y_test = train_test_split(digits.data, y, random_state = 11)\n",
    "fake_clf = MyFakeClassifier()\n",
    "fake_clf.fit(X_train, y_train)\n",
    "fakepred = fake_clf.predict(X_test)"
   ]
  },
  {
   "cell_type": "code",
   "execution_count": 19,
   "id": "8bbe74de-93d7-48e7-ab3b-e9bd10b8aa5b",
   "metadata": {},
   "outputs": [
    {
     "data": {
      "text/plain": [
       "0"
      ]
     },
     "execution_count": 19,
     "metadata": {},
     "output_type": "execute_result"
    }
   ],
   "source": [
    "# 참고 : fakepred값 확인\n",
    "# fakedpred ⇒ 모두 False\n",
    "fakepred.astype(int).sum()"
   ]
  },
  {
   "cell_type": "code",
   "execution_count": 20,
   "id": "b13fd426-18e6-49cc-80f8-1f43eceb31fc",
   "metadata": {},
   "outputs": [
    {
     "name": "stdout",
     "output_type": "stream",
     "text": [
      "정밀도 :  0.0\n",
      "재현율 :  0.0\n"
     ]
    },
    {
     "name": "stderr",
     "output_type": "stream",
     "text": [
      "C:\\Users\\ftsv2\\Anaconda3\\envs\\multi\\lib\\site-packages\\sklearn\\metrics\\_classification.py:1248: UndefinedMetricWarning: Precision is ill-defined and being set to 0.0 due to no predicted samples. Use `zero_division` parameter to control this behavior.\n",
      "  _warn_prf(average, modifier, msg_start, len(result))\n"
     ]
    }
   ],
   "source": [
    "# 정밀도와 재현율 계산\n",
    "# 정밀도 계산 : precision_score(실제값, 예측값)\n",
    "# 재현율 계산 : recall_score(실제값, 예측값)\n",
    "from sklearn.metrics import accuracy_score, precision_score, recall_score\n",
    "\n",
    "print('정밀도 : ', precision_score(y_test, fakepred))\n",
    "print('재현율 : ', recall_score(y_test, fakepred))"
   ]
  },
  {
   "cell_type": "markdown",
   "id": "546a1412-e702-4ce3-a639-e9051b86835b",
   "metadata": {},
   "source": [
    "정확도는 90%이지만 정밀도, 재현율은 굉장히 작아 0으로 표현됨\n",
    "- 분자가 0임"
   ]
  },
  {
   "cell_type": "markdown",
   "id": "01973291-d913-4a29-80a2-52ce7c4779b8",
   "metadata": {},
   "source": [
    "### **오차행렬, 정확도, 정밀도, 재현율을 한꺼번에 계산하는 함수**"
   ]
  },
  {
   "cell_type": "code",
   "execution_count": 21,
   "id": "1c5c1c02-dcfc-452f-885d-6080250c21d8",
   "metadata": {},
   "outputs": [],
   "source": [
    "from sklearn.metrics import accuracy_score, precision_score, recall_score\n",
    "\n",
    "def get_clf_eval(y_test, pred):\n",
    "    confusion = confusion_matrix(y_test, pred)   # 오차행렬\n",
    "    accuracy = accuracy_score(y_test, pred)      # 정확도\n",
    "    precision = precision_score(y_test, pred)    # 정밀도\n",
    "    recall = recall_score(y_test, pred)          # 재현율\n",
    "    \n",
    "    print('오차행렬')\n",
    "    print(confusion)\n",
    "    print('정확도 : {0:.3f}' .format(accuracy))\n",
    "    print('정밀도 : {1:.3f}' .format(precision))\n",
    "    print('재현율 : {1:.3f}' .format(recall))"
   ]
  },
  {
   "cell_type": "markdown",
   "id": "9209d930-ff78-4ced-a285-f1a330cc21a4",
   "metadata": {},
   "source": [
    "**앞의 타이타닉 데이터 세트 전처리 작업 내용**"
   ]
  },
  {
   "cell_type": "code",
   "execution_count": 22,
   "id": "8e5bc1cf-e1f3-4fb8-b9ee-119bd4c64ec8",
   "metadata": {},
   "outputs": [
    {
     "name": "stderr",
     "output_type": "stream",
     "text": [
      "C:\\Users\\ftsv2\\Anaconda3\\envs\\multi\\lib\\site-packages\\sklearn\\linear_model\\_logistic.py:765: ConvergenceWarning: lbfgs failed to converge (status=1):\n",
      "STOP: TOTAL NO. of ITERATIONS REACHED LIMIT.\n",
      "\n",
      "Increase the number of iterations (max_iter) or scale the data as shown in:\n",
      "    https://scikit-learn.org/stable/modules/preprocessing.html\n",
      "Please also refer to the documentation for alternative solver options:\n",
      "    https://scikit-learn.org/stable/modules/linear_model.html#logistic-regression\n",
      "  extra_warning_msg=_LOGISTIC_SOLVER_CONVERGENCE_MSG)\n"
     ]
    },
    {
     "name": "stdout",
     "output_type": "stream",
     "text": [
      "오차행렬\n",
      "[[92 18]\n",
      " [16 53]]\n",
      "정확도 : 0.810\n"
     ]
    },
    {
     "ename": "IndexError",
     "evalue": "tuple index out of range",
     "output_type": "error",
     "traceback": [
      "\u001b[1;31m---------------------------------------------------------------------------\u001b[0m",
      "\u001b[1;31mIndexError\u001b[0m                                Traceback (most recent call last)",
      "\u001b[1;32m<ipython-input-22-a0759abd7ebf>\u001b[0m in \u001b[0;36m<module>\u001b[1;34m\u001b[0m\n\u001b[0;32m     50\u001b[0m \u001b[0mlr_clf\u001b[0m\u001b[1;33m.\u001b[0m\u001b[0mfit\u001b[0m\u001b[1;33m(\u001b[0m\u001b[0mX_train\u001b[0m\u001b[1;33m,\u001b[0m \u001b[0my_train\u001b[0m\u001b[1;33m)\u001b[0m\u001b[1;33m\u001b[0m\u001b[1;33m\u001b[0m\u001b[0m\n\u001b[0;32m     51\u001b[0m \u001b[0mpred\u001b[0m \u001b[1;33m=\u001b[0m \u001b[0mlr_clf\u001b[0m\u001b[1;33m.\u001b[0m\u001b[0mpredict\u001b[0m\u001b[1;33m(\u001b[0m\u001b[0mX_test\u001b[0m\u001b[1;33m)\u001b[0m\u001b[1;33m\u001b[0m\u001b[1;33m\u001b[0m\u001b[0m\n\u001b[1;32m---> 52\u001b[1;33m \u001b[0mget_clf_eval\u001b[0m\u001b[1;33m(\u001b[0m\u001b[0my_test\u001b[0m\u001b[1;33m,\u001b[0m \u001b[0mpred\u001b[0m\u001b[1;33m)\u001b[0m\u001b[1;33m\u001b[0m\u001b[1;33m\u001b[0m\u001b[0m\n\u001b[0m",
      "\u001b[1;32m<ipython-input-21-dc3856363d88>\u001b[0m in \u001b[0;36mget_clf_eval\u001b[1;34m(y_test, pred)\u001b[0m\n\u001b[0;32m     10\u001b[0m     \u001b[0mprint\u001b[0m\u001b[1;33m(\u001b[0m\u001b[0mconfusion\u001b[0m\u001b[1;33m)\u001b[0m\u001b[1;33m\u001b[0m\u001b[1;33m\u001b[0m\u001b[0m\n\u001b[0;32m     11\u001b[0m     \u001b[0mprint\u001b[0m\u001b[1;33m(\u001b[0m\u001b[1;34m'정확도 : {0:.3f}'\u001b[0m \u001b[1;33m.\u001b[0m\u001b[0mformat\u001b[0m\u001b[1;33m(\u001b[0m\u001b[0maccuracy\u001b[0m\u001b[1;33m)\u001b[0m\u001b[1;33m)\u001b[0m\u001b[1;33m\u001b[0m\u001b[1;33m\u001b[0m\u001b[0m\n\u001b[1;32m---> 12\u001b[1;33m     \u001b[0mprint\u001b[0m\u001b[1;33m(\u001b[0m\u001b[1;34m'정밀도 : {1:.3f}'\u001b[0m \u001b[1;33m.\u001b[0m\u001b[0mformat\u001b[0m\u001b[1;33m(\u001b[0m\u001b[0mprecision\u001b[0m\u001b[1;33m)\u001b[0m\u001b[1;33m)\u001b[0m\u001b[1;33m\u001b[0m\u001b[1;33m\u001b[0m\u001b[0m\n\u001b[0m\u001b[0;32m     13\u001b[0m     \u001b[0mprint\u001b[0m\u001b[1;33m(\u001b[0m\u001b[1;34m'재현율 : {1:.3f}'\u001b[0m \u001b[1;33m.\u001b[0m\u001b[0mformat\u001b[0m\u001b[1;33m(\u001b[0m\u001b[0mrecall\u001b[0m\u001b[1;33m)\u001b[0m\u001b[1;33m)\u001b[0m\u001b[1;33m\u001b[0m\u001b[1;33m\u001b[0m\u001b[0m\n",
      "\u001b[1;31mIndexError\u001b[0m: tuple index out of range"
     ]
    }
   ],
   "source": [
    "# 타이타닉 데이터 세트 전처리 작용 내용 (앞에서 했음)\n",
    "from sklearn.preprocessing import LabelEncoder\n",
    "\n",
    "# Null 처리 함수\n",
    "def fillna(df):\n",
    "    df['Age'].fillna(df['Age'].mean(), inplace = True)\n",
    "    df['Cabin'].fillna(\"N\", inplace = True)\n",
    "    df['Embarked'].fillna(\"N\", inplace = True)\n",
    "    df['Fare'].fillna(0, inplace = True)\n",
    "    return df\n",
    "\n",
    "\n",
    "# 머신러닝 알고리즘에 불필요한 속성 제거\n",
    "def drop_features(df):\n",
    "    df.drop(['PassengerId', 'Name', 'Ticket'], axis = 1, inplace = True)\n",
    "    return df\n",
    "\n",
    "# 레이블 인코딩 수행\n",
    "def format_features(df):\n",
    "    df['Cabin'] = df['Cabin'].str[:1]  # 첫 문자만 추출\n",
    "    features = ['Cabin', 'Sex', 'Embarked']\n",
    "    for feature in features:\n",
    "        le = LabelEncoder()\n",
    "        le = le.fit(df[feature])\n",
    "        df[feature] = le.transform(df[feature])\n",
    "    return df\n",
    "\n",
    "# 앞에서 설정한 Data Preprocessing 함수 호출\n",
    "def transform_features(df):\n",
    "    df = fillna(df)\n",
    "    df = drop_features(df)\n",
    "    df = format_features(df)\n",
    "    return df\n",
    "\n",
    "# 타이타닉 생존자 예측\n",
    "import pandas as pd\n",
    "from sklearn.model_selection import train_test_split\n",
    "from sklearn.metrics import accuracy_score\n",
    "\n",
    "# 원본 데이터를 재로딩, 데이터 가공, 학습데이터/테스트 데이터 분할\n",
    "titanic_df = pd.read_csv('titanic_train.csv')\n",
    "y_titanic_df = titanic_df['Survived']\n",
    "X_titanic_df = titanic_df.drop('Survived', axis = 1)\n",
    "X_titanic_df = transform_features(X_titanic_df)\n",
    "X_train, X_test, y_train, y_test = train_test_split(X_titanic_df, y_titanic_df, test_size = 0.2, random_state = 0)\n",
    "\n",
    "from sklearn.linear_model import LogisticRegression\n",
    "\n",
    "lr_clf = LogisticRegression()\n",
    "lr_clf.fit(X_train, y_train)\n",
    "pred = lr_clf.predict(X_test)\n",
    "get_clf_eval(y_test, pred)"
   ]
  },
  {
   "cell_type": "code",
   "execution_count": 23,
   "id": "2bdaee8f-4847-4f17-9764-515825ab2e56",
   "metadata": {},
   "outputs": [],
   "source": [
    "ir_clf = LogisticRegression(solver='liblinear')"
   ]
  },
  {
   "cell_type": "markdown",
   "id": "9ca75f5d-6329-4b88-89ea-79612afaf865",
   "metadata": {},
   "source": [
    "## **Precision / Recall Trade-off**"
   ]
  },
  {
   "cell_type": "markdown",
   "id": "e3c4319a-f805-498d-a66e-10f047991c86",
   "metadata": {},
   "source": [
    "### **predict_proba() 메소드**"
   ]
  },
  {
   "cell_type": "code",
   "execution_count": 24,
   "id": "835c585a-b14f-49d2-b4d2-6922ee96fcd5",
   "metadata": {},
   "outputs": [
    {
     "data": {
      "text/plain": [
       "array([[0.85252649, 0.14747351],\n",
       "       [0.89303676, 0.10696324],\n",
       "       [0.93352957, 0.06647043],\n",
       "       [0.05395543, 0.94604457],\n",
       "       [0.31348353, 0.68651647],\n",
       "       [0.49528758, 0.50471242],\n",
       "       [0.08226142, 0.91773858],\n",
       "       [0.06493201, 0.93506799],\n",
       "       [0.41774896, 0.58225104],\n",
       "       [0.29207573, 0.70792427],\n",
       "       [0.91335085, 0.08664915],\n",
       "       [0.26753223, 0.73246777],\n",
       "       [0.88107809, 0.11892191],\n",
       "       [0.09260819, 0.90739181],\n",
       "       [0.03405702, 0.96594298],\n",
       "       [0.23254284, 0.76745716],\n",
       "       [0.86245231, 0.13754769],\n",
       "       [0.76501594, 0.23498406],\n",
       "       [0.91261986, 0.08738014],\n",
       "       [0.6442415 , 0.3557585 ],\n",
       "       [0.67109087, 0.32890913],\n",
       "       [0.05317901, 0.94682099],\n",
       "       [0.88108   , 0.11892   ],\n",
       "       [0.5678269 , 0.4321731 ],\n",
       "       [0.29778243, 0.70221757],\n",
       "       [0.10310765, 0.89689235],\n",
       "       [0.90195551, 0.09804449],\n",
       "       [0.29841921, 0.70158079],\n",
       "       [0.16932538, 0.83067462],\n",
       "       [0.39697904, 0.60302096],\n",
       "       [0.87021807, 0.12978193],\n",
       "       [0.35898776, 0.64101224],\n",
       "       [0.88567405, 0.11432595],\n",
       "       [0.49346545, 0.50653455],\n",
       "       [0.92298151, 0.07701849],\n",
       "       [0.41644751, 0.58355249],\n",
       "       [0.93627925, 0.06372075],\n",
       "       [0.75737753, 0.24262247],\n",
       "       [0.73254594, 0.26745406],\n",
       "       [0.90335454, 0.09664546],\n",
       "       [0.775544  , 0.224456  ],\n",
       "       [0.82720756, 0.17279244],\n",
       "       [0.89206504, 0.10793496],\n",
       "       [0.95446329, 0.04553671],\n",
       "       [0.1060679 , 0.8939321 ],\n",
       "       [0.8929886 , 0.1070114 ],\n",
       "       [0.8929886 , 0.1070114 ],\n",
       "       [0.04761846, 0.95238154],\n",
       "       [0.83213886, 0.16786114],\n",
       "       [0.80740978, 0.19259022],\n",
       "       [0.51009679, 0.48990321],\n",
       "       [0.35933088, 0.64066912],\n",
       "       [0.11049888, 0.88950112],\n",
       "       [0.84134066, 0.15865934],\n",
       "       [0.40728531, 0.59271469],\n",
       "       [0.83991881, 0.16008119],\n",
       "       [0.79506595, 0.20493405],\n",
       "       [0.58630737, 0.41369263],\n",
       "       [0.92899611, 0.07100389],\n",
       "       [0.94051524, 0.05948476],\n",
       "       [0.8082728 , 0.1917272 ],\n",
       "       [0.42748697, 0.57251303],\n",
       "       [0.16551024, 0.83448976],\n",
       "       [0.47575334, 0.52424666],\n",
       "       [0.37633647, 0.62366353],\n",
       "       [0.89092113, 0.10907887],\n",
       "       [0.14354297, 0.85645703],\n",
       "       [0.76439537, 0.23560463],\n",
       "       [0.10203786, 0.89796214],\n",
       "       [0.03990789, 0.96009211],\n",
       "       [0.211842  , 0.788158  ],\n",
       "       [0.75318324, 0.24681676],\n",
       "       [0.53971175, 0.46028825],\n",
       "       [0.89296711, 0.10703289],\n",
       "       [0.87001466, 0.12998534],\n",
       "       [0.43249519, 0.56750481],\n",
       "       [0.62304247, 0.37695753],\n",
       "       [0.58826093, 0.41173907],\n",
       "       [0.90936778, 0.09063222],\n",
       "       [0.69977166, 0.30022834],\n",
       "       [0.91443912, 0.08556088],\n",
       "       [0.84481294, 0.15518706],\n",
       "       [0.2390808 , 0.7609192 ],\n",
       "       [0.82365088, 0.17634912],\n",
       "       [0.86744468, 0.13255532],\n",
       "       [0.04527836, 0.95472164],\n",
       "       [0.07584582, 0.92415418],\n",
       "       [0.70681372, 0.29318628],\n",
       "       [0.2018411 , 0.7981589 ],\n",
       "       [0.3552296 , 0.6447704 ],\n",
       "       [0.49177614, 0.50822386],\n",
       "       [0.84134066, 0.15865934],\n",
       "       [0.5989242 , 0.4010758 ],\n",
       "       [0.07958873, 0.92041127],\n",
       "       [0.46968063, 0.53031937],\n",
       "       [0.85384662, 0.14615338],\n",
       "       [0.17586028, 0.82413972],\n",
       "       [0.95800833, 0.04199167],\n",
       "       [0.82686239, 0.17313761],\n",
       "       [0.37762751, 0.62237249],\n",
       "       [0.970511  , 0.029489  ],\n",
       "       [0.93136726, 0.06863274],\n",
       "       [0.82514006, 0.17485994],\n",
       "       [0.88969317, 0.11030683],\n",
       "       [0.46034025, 0.53965975],\n",
       "       [0.53482761, 0.46517239],\n",
       "       [0.1801697 , 0.8198303 ],\n",
       "       [0.56479849, 0.43520151],\n",
       "       [0.79882047, 0.20117953],\n",
       "       [0.43322   , 0.56678   ],\n",
       "       [0.94771   , 0.05229   ],\n",
       "       [0.05505203, 0.94494797],\n",
       "       [0.89550891, 0.10449109],\n",
       "       [0.3707489 , 0.6292511 ],\n",
       "       [0.64387834, 0.35612166],\n",
       "       [0.18009434, 0.81990566],\n",
       "       [0.40333749, 0.59666251],\n",
       "       [0.03169183, 0.96830817],\n",
       "       [0.92812002, 0.07187998],\n",
       "       [0.41267477, 0.58732523],\n",
       "       [0.8860269 , 0.1139731 ],\n",
       "       [0.88096985, 0.11903015],\n",
       "       [0.84677103, 0.15322897],\n",
       "       [0.66149312, 0.33850688],\n",
       "       [0.90554519, 0.09445481],\n",
       "       [0.68256952, 0.31743048],\n",
       "       [0.85384738, 0.14615262],\n",
       "       [0.90994724, 0.09005276],\n",
       "       [0.77305936, 0.22694064],\n",
       "       [0.89187943, 0.10812057],\n",
       "       [0.26573196, 0.73426804],\n",
       "       [0.85230151, 0.14769849],\n",
       "       [0.87255435, 0.12744565],\n",
       "       [0.36533005, 0.63466995],\n",
       "       [0.84990589, 0.15009411],\n",
       "       [0.85230151, 0.14769849],\n",
       "       [0.91629135, 0.08370865],\n",
       "       [0.57340446, 0.42659554],\n",
       "       [0.89881346, 0.10118654],\n",
       "       [0.71561704, 0.28438296],\n",
       "       [0.75670716, 0.24329284],\n",
       "       [0.08746484, 0.91253516],\n",
       "       [0.89296711, 0.10703289],\n",
       "       [0.24194227, 0.75805773],\n",
       "       [0.18650799, 0.81349201],\n",
       "       [0.31611458, 0.68388542],\n",
       "       [0.77196945, 0.22803055],\n",
       "       [0.36561756, 0.63438244],\n",
       "       [0.07798717, 0.92201283],\n",
       "       [0.89288174, 0.10711826],\n",
       "       [0.7196332 , 0.2803668 ],\n",
       "       [0.37221972, 0.62778028],\n",
       "       [0.44476282, 0.55523718],\n",
       "       [0.89014154, 0.10985846],\n",
       "       [0.08803095, 0.91196905],\n",
       "       [0.74146567, 0.25853433],\n",
       "       [0.4560964 , 0.5439036 ],\n",
       "       [0.92951008, 0.07048992],\n",
       "       [0.34349906, 0.65650094],\n",
       "       [0.21795099, 0.78204901],\n",
       "       [0.8929886 , 0.1070114 ],\n",
       "       [0.79479443, 0.20520557],\n",
       "       [0.20485434, 0.79514566],\n",
       "       [0.68361709, 0.31638291],\n",
       "       [0.83255919, 0.16744081],\n",
       "       [0.85885743, 0.14114257],\n",
       "       [0.95371478, 0.04628522],\n",
       "       [0.85760215, 0.14239785],\n",
       "       [0.86762542, 0.13237458],\n",
       "       [0.82953915, 0.17046085],\n",
       "       [0.95365066, 0.04634934],\n",
       "       [0.08753115, 0.91246885],\n",
       "       [0.89307853, 0.10692147],\n",
       "       [0.89206504, 0.10793496],\n",
       "       [0.16896368, 0.83103632],\n",
       "       [0.89296711, 0.10703289],\n",
       "       [0.06639035, 0.93360965],\n",
       "       [0.86268922, 0.13731078],\n",
       "       [0.84131065, 0.15868935]])"
      ]
     },
     "execution_count": 24,
     "metadata": {},
     "output_type": "execute_result"
    }
   ],
   "source": [
    "# lr_clf = LogisiticRegression()\n",
    "# predict_proba(테스트 피처 데이터 세트) : 예측 확률 반환\n",
    "\n",
    "pred_proba = lr_clf.predict_proba(X_test)\n",
    "pred_proba"
   ]
  },
  {
   "cell_type": "code",
   "execution_count": 25,
   "id": "7223c606-5652-4351-8a97-b2ac7509c4a4",
   "metadata": {},
   "outputs": [],
   "source": [
    "# predict(테스트 피처 데이터 세트) : 예측 결과 클래스 값 반환\n",
    "pred = lr_clf.predict(X_test)"
   ]
  },
  {
   "cell_type": "code",
   "execution_count": 57,
   "id": "f53feeea-815c-4d44-84eb-b82c3b4644d1",
   "metadata": {},
   "outputs": [
    {
     "ename": "AttributeError",
     "evalue": "'numpy.ndarray' object has no attribute 'predict'",
     "output_type": "error",
     "traceback": [
      "\u001b[1;31m---------------------------------------------------------------------------\u001b[0m",
      "\u001b[1;31mAttributeError\u001b[0m                            Traceback (most recent call last)",
      "\u001b[1;32m<ipython-input-57-c0b1b5665ca1>\u001b[0m in \u001b[0;36m<module>\u001b[1;34m\u001b[0m\n\u001b[0;32m      1\u001b[0m \u001b[1;31m# 예측 확률 array와 예측 결과값 array를 concatenate하여 예측 확률과 결과값을 한눈에 확인\u001b[0m\u001b[1;33m\u001b[0m\u001b[1;33m\u001b[0m\u001b[1;33m\u001b[0m\u001b[0m\n\u001b[1;32m----> 2\u001b[1;33m \u001b[0mpred_proba_result\u001b[0m \u001b[1;33m=\u001b[0m \u001b[0mnp\u001b[0m\u001b[1;33m.\u001b[0m\u001b[0mconcatenate\u001b[0m\u001b[1;33m(\u001b[0m\u001b[1;33m[\u001b[0m\u001b[0mpred_proba\u001b[0m\u001b[1;33m.\u001b[0m\u001b[0mpredict\u001b[0m\u001b[1;33m.\u001b[0m\u001b[0mreshape\u001b[0m\u001b[1;33m(\u001b[0m\u001b[1;33m-\u001b[0m\u001b[1;36m1\u001b[0m\u001b[1;33m,\u001b[0m \u001b[1;36m1\u001b[0m\u001b[1;33m)\u001b[0m\u001b[1;33m]\u001b[0m\u001b[1;33m,\u001b[0m \u001b[0maxis\u001b[0m \u001b[1;33m=\u001b[0m \u001b[1;36m1\u001b[0m\u001b[1;33m)\u001b[0m\u001b[1;33m\u001b[0m\u001b[1;33m\u001b[0m\u001b[0m\n\u001b[0m\u001b[0;32m      3\u001b[0m \u001b[1;33m\u001b[0m\u001b[0m\n\u001b[0;32m      4\u001b[0m \u001b[0mprint\u001b[0m\u001b[1;33m(\u001b[0m\u001b[1;34m'두개의 class 중에서 더 큰 확률을 클래스 값으로 예측'\u001b[0m\u001b[1;33m)\u001b[0m\u001b[1;33m\u001b[0m\u001b[1;33m\u001b[0m\u001b[0m\n\u001b[0;32m      5\u001b[0m \u001b[0mprint\u001b[0m\u001b[1;33m(\u001b[0m\u001b[0mpred_proba_result\u001b[0m\u001b[1;33m)\u001b[0m\u001b[1;33m\u001b[0m\u001b[1;33m\u001b[0m\u001b[0m\n",
      "\u001b[1;31mAttributeError\u001b[0m: 'numpy.ndarray' object has no attribute 'predict'"
     ]
    }
   ],
   "source": [
    "# 예측 확률 array와 예측 결과값 array를 concatenate하여 예측 확률과 결과값을 한눈에 확인\n",
    "pred_proba_result = np.concatenate([pred_proba.predict.reshape(-1, 1)], axis = 1)\n",
    "\n",
    "print('두개의 class 중에서 더 큰 확률을 클래스 값으로 예측')\n",
    "print(pred_proba_result)"
   ]
  },
  {
   "cell_type": "markdown",
   "id": "ac4aae34-cce7-4126-a56e-ab7f4e625097",
   "metadata": {},
   "source": [
    "## **Binarizer**"
   ]
  },
  {
   "cell_type": "code",
   "execution_count": 33,
   "id": "26fc22ef-5093-4684-a301-7f54bfc0ace5",
   "metadata": {},
   "outputs": [
    {
     "name": "stdout",
     "output_type": "stream",
     "text": [
      "[[0. 0. 1.]\n",
      " [1. 0. 0.]\n",
      " [0. 1. 1.]]\n"
     ]
    }
   ],
   "source": [
    "from sklearn.preprocessing import Binarizer\n",
    "\n",
    "X = [[0.5, -1, 2], [2, 0, 0], [0, 1.1, 1.2]]\n",
    "\n",
    "# threshold 기준값보다 같거나 작으면 0을, 크면 1을 반환\n",
    "bina = Binarizer(threshold = 1.0)\n",
    "print(bina.fit_transform(X))"
   ]
  },
  {
   "cell_type": "markdown",
   "id": "ca6bb523-f6f9-4086-b5a5-1d90c1f5da05",
   "metadata": {},
   "source": [
    "**분류 결정 임계값 0.5 기반에서 Binarizer를 이용하여 예측값 반환**"
   ]
  },
  {
   "cell_type": "code",
   "execution_count": 48,
   "id": "94ba069d-39e2-4ee6-9133-83bac0568b26",
   "metadata": {},
   "outputs": [
    {
     "ename": "TypeError",
     "evalue": "get_clf_eval() takes 2 positional arguments but 3 were given",
     "output_type": "error",
     "traceback": [
      "\u001b[1;31m---------------------------------------------------------------------------\u001b[0m",
      "\u001b[1;31mTypeError\u001b[0m                                 Traceback (most recent call last)",
      "\u001b[1;32m<ipython-input-48-86d643d9c5ea>\u001b[0m in \u001b[0;36m<module>\u001b[1;34m\u001b[0m\n\u001b[0;32m     11\u001b[0m \u001b[0mcustom_predict\u001b[0m \u001b[1;33m=\u001b[0m \u001b[0mbinarizer\u001b[0m\u001b[1;33m.\u001b[0m\u001b[0mtransform\u001b[0m\u001b[1;33m(\u001b[0m\u001b[0mpred_proba_1\u001b[0m\u001b[1;33m)\u001b[0m\u001b[1;33m\u001b[0m\u001b[1;33m\u001b[0m\u001b[0m\n\u001b[0;32m     12\u001b[0m \u001b[1;33m\u001b[0m\u001b[0m\n\u001b[1;32m---> 13\u001b[1;33m \u001b[0mget_clf_eval\u001b[0m\u001b[1;33m(\u001b[0m\u001b[0my_test\u001b[0m\u001b[1;33m,\u001b[0m \u001b[0mpred_proba\u001b[0m\u001b[1;33m[\u001b[0m\u001b[1;33m:\u001b[0m\u001b[1;33m,\u001b[0m\u001b[1;36m1\u001b[0m\u001b[1;33m]\u001b[0m\u001b[1;33m.\u001b[0m\u001b[0mreshape\u001b[0m\u001b[1;33m(\u001b[0m\u001b[1;33m-\u001b[0m\u001b[1;36m1\u001b[0m\u001b[1;33m,\u001b[0m \u001b[1;36m1\u001b[0m\u001b[1;33m)\u001b[0m\u001b[1;33m,\u001b[0m \u001b[0mthresholds\u001b[0m\u001b[1;33m)\u001b[0m\u001b[1;33m\u001b[0m\u001b[1;33m\u001b[0m\u001b[0m\n\u001b[0m\u001b[0;32m     14\u001b[0m \u001b[1;33m\u001b[0m\u001b[0m\n\u001b[0;32m     15\u001b[0m \u001b[1;31m# 정밀도 / 재현율 트레이드 오프\u001b[0m\u001b[1;33m\u001b[0m\u001b[1;33m\u001b[0m\u001b[1;33m\u001b[0m\u001b[0m\n",
      "\u001b[1;31mTypeError\u001b[0m: get_clf_eval() takes 2 positional arguments but 3 were given"
     ]
    }
   ],
   "source": [
    "from sklearn.preprocessing import Binarizer\n",
    "\n",
    "# Binarizer의 threshold 설정값, 분류 결정 임계값 = 0.5로 설정\n",
    "c_threshold = 0.5\n",
    "\n",
    "# predict_proba() 반환값 ([0확률 1확률])의 두번째 컬럼\n",
    "# 즉, Positive클래스 컬럼 하나만 추출하여 Binarizer를 적용\n",
    "pred_proba_1 = pred_proba[:,1].reshape(-1, 1)\n",
    "\n",
    "binarizer = Binarizer(threshold = custom_threshold).fit(pred_proba_1)\n",
    "custom_predict = binarizer.transform(pred_proba_1)\n",
    "\n",
    "get_clf_eval(y_test, pred_proba[:,1].reshape(-1, 1), thresholds)\n",
    "\n",
    "# 정밀도 / 재현율 트레이드 오프\n",
    "# 한 쪽을 향상 시키면 다른 수치 감소하니까 적당한 수치 선택"
   ]
  },
  {
   "cell_type": "markdown",
   "id": "47318f47-0378-423b-9db6-e22a9fa3e67c",
   "metadata": {},
   "source": [
    "**분류 결정 임계값을 0.4로 변경**"
   ]
  },
  {
   "cell_type": "code",
   "execution_count": 29,
   "id": "8986aa6d-7d1b-4355-9d2e-ae9cdb62e922",
   "metadata": {},
   "outputs": [
    {
     "ename": "TypeError",
     "evalue": "slice indices must be integers or None or have an __index__ method",
     "output_type": "error",
     "traceback": [
      "\u001b[1;31m---------------------------------------------------------------------------\u001b[0m",
      "\u001b[1;31mTypeError\u001b[0m                                 Traceback (most recent call last)",
      "\u001b[1;32m<ipython-input-29-e5a084b09fb0>\u001b[0m in \u001b[0;36m<module>\u001b[1;34m\u001b[0m\n\u001b[0;32m      3\u001b[0m \u001b[1;31m# predict_proba()반환값 ([0확률 1확률])이 두번째 컬럼\u001b[0m\u001b[1;33m\u001b[0m\u001b[1;33m\u001b[0m\u001b[1;33m\u001b[0m\u001b[0m\n\u001b[0;32m      4\u001b[0m \u001b[1;31m# 즉, Positive 클래스 컬럼 하나만 추출하여 Binarizer를 적용\u001b[0m\u001b[1;33m\u001b[0m\u001b[1;33m\u001b[0m\u001b[1;33m\u001b[0m\u001b[0m\n\u001b[1;32m----> 5\u001b[1;33m \u001b[0mpred_proba_1\u001b[0m \u001b[1;33m=\u001b[0m \u001b[0mpred_proba\u001b[0m\u001b[1;33m[\u001b[0m\u001b[1;33m:\u001b[0m\u001b[1;36m.1\u001b[0m\u001b[1;33m]\u001b[0m\u001b[1;33m.\u001b[0m\u001b[0mreshape\u001b[0m\u001b[1;33m(\u001b[0m\u001b[1;33m-\u001b[0m\u001b[1;36m1\u001b[0m\u001b[1;33m,\u001b[0m \u001b[1;36m1\u001b[0m\u001b[1;33m)\u001b[0m\u001b[1;33m\u001b[0m\u001b[1;33m\u001b[0m\u001b[0m\n\u001b[0m\u001b[0;32m      6\u001b[0m \u001b[1;33m\u001b[0m\u001b[0m\n\u001b[0;32m      7\u001b[0m \u001b[0mbinarizer\u001b[0m \u001b[1;33m=\u001b[0m \u001b[0mBinarizer\u001b[0m\u001b[1;33m(\u001b[0m\u001b[0mthreshold\u001b[0m \u001b[1;33m=\u001b[0m \u001b[0mcustom_threshold\u001b[0m\u001b[1;33m)\u001b[0m\u001b[1;33m.\u001b[0m\u001b[0mfit\u001b[0m\u001b[1;33m(\u001b[0m\u001b[0mpred_proba_1\u001b[0m\u001b[1;33m)\u001b[0m\u001b[1;33m\u001b[0m\u001b[1;33m\u001b[0m\u001b[0m\n",
      "\u001b[1;31mTypeError\u001b[0m: slice indices must be integers or None or have an __index__ method"
     ]
    }
   ],
   "source": [
    "custom_threshold = 0.4\n",
    "\n",
    "# predict_proba()반환값 ([0확률 1확률])이 두번째 컬럼\n",
    "# 즉, Positive 클래스 컬럼 하나만 추출하여 Binarizer를 적용\n",
    "pred_proba_1 = pred_proba[:.1].reshape(-1, 1)\n",
    "\n",
    "binarizer = Binarizer(threshold = custom_threshold).fit(pred_proba_1)\n",
    "custom_predict = binarizer.transform(pred_proba_1)\n",
    "\n",
    "get_clf_eval(y_test, custom_predict)\n",
    "\n",
    "# 임계값을 낮추니까 정밀도는 떨어지고 재현율 값은 올라감"
   ]
  },
  {
   "cell_type": "code",
   "execution_count": 42,
   "id": "c0e682dc-5913-4b75-9ad0-ce1823581544",
   "metadata": {},
   "outputs": [
    {
     "name": "stdout",
     "output_type": "stream",
     "text": [
      "임계값 shape :  (166,)\n",
      "정밀도 shape :  (167,)\n",
      "재현율 shape :  (167,)\n",
      "\n",
      "sample index [  0  15  30  45  60  75  90 105 120 135 150 165]\n",
      "임계값 sample :  [0.059 0.097 0.114 0.147 0.192 0.28  0.432 0.573 0.645 0.798 0.912 0.968]\n",
      "정밀도 sample :  [0.399 0.418 0.464 0.52  0.594 0.659 0.724 0.803 0.826 1.    1.    1.   ]\n",
      "재현율 sample :  [1.    0.957 0.928 0.928 0.913 0.87  0.797 0.71  0.551 0.449 0.232 0.014]\n"
     ]
    }
   ],
   "source": [
    "from sklearn.metrics import precision_recall_curve\n",
    "\n",
    "# 레이블 값이 1일때의 예측 확률을 추출\n",
    "pred_proba_class1 = lr_clf.predict_proba(X_test)[:, 1]\n",
    "\n",
    "# 실제값 데이터 셋과 레이블 값이 1일 때의 예측 확률을 presision recall_curve 인자로 입력\n",
    "precisions, recalls, thresholds = precision_recall_curve(y_test, pred_proba_class1)\n",
    "print('임계값 shape : ', thresholds.shape)\n",
    "print('정밀도 shape : ', precisions.shape)\n",
    "print('재현율 shape : ', recalls.shape)\n",
    "\n",
    "idx = np.arange(0, thresholds.shape[0], 15)\n",
    "print('\\nsample index', idx)\n",
    "print('임계값 sample : ', np.round(thresholds[idx], 3))\n",
    "print('정밀도 sample : ', np.round(precisions[idx], 3))\n",
    "print('재현율 sample : ', np.round(recalls[idx], 3))"
   ]
  },
  {
   "cell_type": "code",
   "execution_count": 45,
   "id": "ed1be240-43a4-4b3a-ade3-eeb1ce5ca8d2",
   "metadata": {},
   "outputs": [
    {
     "data": {
      "image/png": "[encoded data removed]",
      "text/plain": [
       "<Figure size 576x432 with 1 Axes>"
      ]
     },
     "metadata": {
      "needs_background": "light"
     },
     "output_type": "display_data"
    }
   ],
   "source": [
    "import matplotlib.pyplot as plt\n",
    "import matplotlib.ticker as ticker\n",
    "%matplotlib inline\n",
    "\n",
    "# y_test : 실제값 pred_proba_c1 예측 확률 값\n",
    "def precision_recall_curve_plot(y_test, pred_proba_c1):\n",
    "    precision, recalls, thresholds = precision_recall_curve(y_test, pred_proba_c1)\n",
    "    \n",
    "    plt.figure(figsize = (8, 6))\n",
    "    threshold_boundary = thresholds.shape[0]  # (143,)에서 143 추출\n",
    "    plt.plot(thresholds, precisions[0:threshold_boundary], linestyle = '--', label = 'precision')\n",
    "    \n",
    "    start, end = plt.xlim()\n",
    "    plt.xticks(np.round(np.arange(start, end, 0.1),2))\n",
    "    \n",
    "    plt.xlabel('Threshold value') ; plt.ylabel('Precision and Recall value')\n",
    "    plt.legend() ; plt.grid()\n",
    "    plt.show()\n",
    "\n",
    "precision_recall_curve_plot(y_test, lr_clf.predict_proba(X_test)[:,1])"
   ]
  },
  {
   "cell_type": "markdown",
   "id": "daea7aa6-3ee9-43c2-8740-117f49a526d9",
   "metadata": {},
   "source": [
    "정밀도와 재현율 조합"
   ]
  },
  {
   "cell_type": "markdown",
   "id": "3e037562-2130-4df5-a70d-cc387fe81bc3",
   "metadata": {},
   "source": [
    "## F1 Score"
   ]
  },
  {
   "cell_type": "markdown",
   "id": "ce91471a-63c3-4f8f-b493-01d68d31bc5d",
   "metadata": {},
   "source": [
    "### **F1 Score**\n",
    "- 정밀도와 재현율의 조화평균\n",
    "- 정밀도와 재현율이 어느 한 쪽으로 치우치지 않는 수치를 나타낼때 상대적으로 높은 값을 가짐"
   ]
  },
  {
   "cell_type": "code",
   "execution_count": 49,
   "id": "af8568b7-55e9-44ee-a554-763d4352b434",
   "metadata": {},
   "outputs": [],
   "source": [
    "# 사이킷런의 F1스코어 API : f1_score()\n",
    "from sklearn.metrics import f1_score\n",
    "\n",
    "f1"
   ]
  },
  {
   "cell_type": "markdown",
   "id": "f00e23fb-7bde-47b5-8ad3-f62151deb67f",
   "metadata": {},
   "source": [
    "### **타이타닉 생존자 예측에서 F1 스코어**\n",
    "- 임계값을 변화시키면서 F1 스코어를 포함한 평가 지표 구하기\n",
    "- 임계값 0.4~0.6별로 졍확도, 정밀도, 재현율, F1스코어 확인"
   ]
  },
  {
   "cell_type": "code",
   "execution_count": 50,
   "id": "d38a2566-42ab-4cb4-8fcf-b5df0a4bea06",
   "metadata": {},
   "outputs": [],
   "source": [
    "def get_clf_eval(y_test, pred):\n",
    "    confusion = confusion_matrix(y_test, pred)   # 오차행렬\n",
    "    accuracy = accuracy_score(y_test, pred)      # 정확도\n",
    "    precision = precision_score(y_test, pred)    # 정밀도\n",
    "    recall = recall_score(y_test, pred)          # 재현율\n",
    "    \n",
    "    # F1 스코어 추가\n",
    "    f1 = f1_score(y_test, pred)\n",
    "    print('오차 행렬')\n",
    "    print(confusion)\n",
    "    # f1 score print추가\n",
    "    print('정확도 : {0:.4f}' .format(accuracy))\n",
    "    print('정밀도 : {1:.4f}' .format(precision))\n",
    "    print('재현율 : {2:.4f}' .format(recall))\n",
    "    print('F1 : {3:.4f}' .format(f1))"
   ]
  },
  {
   "cell_type": "code",
   "execution_count": 55,
   "id": "107929e2-5095-45be-943f-06919d3daf15",
   "metadata": {},
   "outputs": [
    {
     "ename": "NameError",
     "evalue": "name 'get_eval_by_threshold' is not defined",
     "output_type": "error",
     "traceback": [
      "\u001b[1;31m---------------------------------------------------------------------------\u001b[0m",
      "\u001b[1;31mNameError\u001b[0m                                 Traceback (most recent call last)",
      "\u001b[1;32m<ipython-input-55-91f539a2c80b>\u001b[0m in \u001b[0;36m<module>\u001b[1;34m\u001b[0m\n\u001b[0;32m      2\u001b[0m \u001b[0mthresholds\u001b[0m \u001b[1;33m=\u001b[0m \u001b[1;33m[\u001b[0m\u001b[1;36m0.4\u001b[0m\u001b[1;33m,\u001b[0m \u001b[1;36m0.45\u001b[0m\u001b[1;33m,\u001b[0m \u001b[1;36m0.50\u001b[0m\u001b[1;33m,\u001b[0m \u001b[1;36m0.55\u001b[0m\u001b[1;33m,\u001b[0m \u001b[1;36m0.60\u001b[0m\u001b[1;33m]\u001b[0m\u001b[1;33m\u001b[0m\u001b[1;33m\u001b[0m\u001b[0m\n\u001b[0;32m      3\u001b[0m \u001b[0mpred_proba\u001b[0m \u001b[1;33m=\u001b[0m \u001b[0mlr_clf\u001b[0m\u001b[1;33m.\u001b[0m\u001b[0mpredict_proba\u001b[0m\u001b[1;33m(\u001b[0m\u001b[0mX_test\u001b[0m\u001b[1;33m)\u001b[0m\u001b[1;33m\u001b[0m\u001b[1;33m\u001b[0m\u001b[0m\n\u001b[1;32m----> 4\u001b[1;33m \u001b[0mget_eval_by_threshold\u001b[0m\u001b[1;33m(\u001b[0m\u001b[0my_test\u001b[0m\u001b[1;33m,\u001b[0m \u001b[0mpred_proba\u001b[0m\u001b[1;33m[\u001b[0m\u001b[1;33m:\u001b[0m\u001b[1;33m,\u001b[0m\u001b[1;36m1\u001b[0m\u001b[1;33m]\u001b[0m\u001b[1;33m.\u001b[0m\u001b[0mreshape\u001b[0m\u001b[1;33m(\u001b[0m\u001b[1;33m-\u001b[0m\u001b[1;36m1\u001b[0m\u001b[1;33m,\u001b[0m \u001b[1;36m1\u001b[0m\u001b[1;33m)\u001b[0m\u001b[1;33m.\u001b[0m\u001b[0mthresholds\u001b[0m\u001b[1;33m)\u001b[0m\u001b[1;33m\u001b[0m\u001b[1;33m\u001b[0m\u001b[0m\n\u001b[0m",
      "\u001b[1;31mNameError\u001b[0m: name 'get_eval_by_threshold' is not defined"
     ]
    }
   ],
   "source": [
    "# 임계값 0.4~0.6별로 정확도, 정밀도, 재현율, F1 스코어 확인\n",
    "thresholds = [0.4, 0.45, 0.50, 0.55, 0.60]\n",
    "pred_proba = lr_clf.predict_proba(X_test)\n",
    "get_eval_by_threshold(y_test, pred_proba[:,1].reshape(-1, 1).thresholds)"
   ]
  },
  {
   "cell_type": "code",
   "execution_count": 59,
   "id": "3bbfb42f-eb98-41c8-a21f-dc99efcf66e8",
   "metadata": {},
   "outputs": [
    {
     "name": "stdout",
     "output_type": "stream",
     "text": [
      "샘플 추출을 위한 임계값 배열의 index :  [ 1  6 11 16 21 26 31 36 41 46]\n",
      "샘플용 임계값 :  [0.97 0.69 0.63 0.57 0.38 0.29 0.16 0.11 0.11 0.07]\n"
     ]
    }
   ],
   "source": [
    "from sklearn.metrics import roc_curve\n",
    "\n",
    "# 레이블 값이 1일때의 예측 확률을 추출\n",
    "pred_proba_class1 = lr_clf.predict_proba(X_test)[:,1]\n",
    "\n",
    "fprs, tprs, thresholds = roc_curve(y_test, pred_proba_class1)\n",
    "\n",
    "#반환된 임계값 배열에서 샘플로 데이터 추출, 임계값을 5step으로 추출\n",
    "# threshod[0]은 max(예측 확률) + 1 로 임의 설정되는데\n",
    "# 이를 제외하기 위해 np.arange는 1부터 시작\n",
    "thr_index = np.arange(1, thresholds.shape[0], 5)\n",
    "\n",
    "print('샘플 추출을 위한 임계값 배열의 index : ', thr_index)\n",
    "print('샘플용 임계값 : ', np.round(thresholds[thr_index], 2))\n",
    "# 교재에서는 10개, 실제 11개\n",
    "\n",
    "# 5step 단위로 추출된 임계값에 따른 FPR, TPR값\n",
    "print('샘플 임계값 별 FPR : ', np.round(fprs[thr_index], 3))\n",
    "print('샘플 임계값 별 TPR : ', np.round(tprs[thr_index], 3))"
   ]
  },
  {
   "cell_type": "code",
   "execution_count": null,
   "id": "bd2b6da9-1499-47b6-ae92-a4c13304518f",
   "metadata": {},
   "outputs": [],
   "source": [
    "def roc_curve_plot(y_test, pred_proba_c1):\n",
    "    # 임계값에 따른 FPR, TPR 값을 반환 받음\n",
    "    fprs, tprs, thresholds = roc\n",
    "    \n",
    "    # "
   ]
  },
  {
   "cell_type": "code",
   "execution_count": 61,
   "id": "34a24260-7179-48ea-9dc7-f9908b731662",
   "metadata": {},
   "outputs": [],
   "source": [
    "# get_clf_eval()변경\n",
    "# ROC-AUC 추가 : 예측 학률값을 기반으로 계산되므로\n",
    "# 매개변수 pred_proba = None 추가\n",
    "def get_clf_eval(y_test, pred = None, pred_proba = None):\n",
    "    confusion = confusion_matrix(y_test, pred)\n",
    "    accuarcy = accuracy_score(y_test, pred)\n",
    "    precision = precision_socre(y_test, pred)\n",
    "    recall = recall_score(y_test, pred)\n",
    "    f1 = f1_score(y_test, pred)\n",
    "    \n",
    "    # ROC-AUC 추가\n",
    "    roc_auc = roc_auc_accuracy(y_test, pred_proba)\n",
    "    \n",
    "    print('오차 행렬')\n",
    "    print(confusion)\n",
    "    # ROC-AUC print 추가\n",
    "    print('정확도 : {0:.4f}' .format(accuracy))\n",
    "    print('정밀도 : {1:.4f}' .format(precision))\n",
    "    print('재현율 : {2:.4f}' .format(recall))\n",
    "    print('F1 : {3:.4f}' .format(f1))\n",
    "    print('ROC-AUC : {4:.4f}' .format(roc_auc))"
   ]
  },
  {
   "cell_type": "code",
   "execution_count": null,
   "id": "bfbe5d48-b75e-4ed7-bda3-8f104431c6be",
   "metadata": {},
   "outputs": [],
   "source": []
  },
  {
   "cell_type": "code",
   "execution_count": null,
   "id": "22903f33-d43c-4d8b-865f-5b196881f0b7",
   "metadata": {},
   "outputs": [],
   "source": [
    "# 임계값 0.4~0.6별로"
   ]
  }
 ],
 "metadata": {
  "kernelspec": {
   "display_name": "Python Multi",
   "language": "python",
   "name": "multi"
  },
  "language_info": {
   "codemirror_mode": {
    "name": "ipython",
    "version": 3
   },
   "file_extension": ".py",
   "mimetype": "text/x-python",
   "name": "python",
   "nbconvert_exporter": "python",
   "pygments_lexer": "ipython3",
   "version": "3.7.6"
  }
 },
 "nbformat": 4,
 "nbformat_minor": 5
}
