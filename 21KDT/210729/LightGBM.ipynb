{
 "cells": [
  {
   "cell_type": "markdown",
   "id": "76a08647-551e-4f96-992e-af27b0c9d075",
   "metadata": {},
   "source": [
    "# LightGBM"
   ]
  },
  {
   "cell_type": "markdown",
   "id": "f89eca11-9746-4046-a30b-fedb9bff3887",
   "metadata": {},
   "source": [
    "**LightGBM 설치 & 버전 확인**"
   ]
  },
  {
   "cell_type": "code",
   "execution_count": 2,
   "id": "65ab88c4-cd4d-411d-bac6-4d5e6de2d21e",
   "metadata": {},
   "outputs": [
    {
     "name": "stdout",
     "output_type": "stream",
     "text": [
      "3.2.1\n"
     ]
    }
   ],
   "source": [
    "import lightgbm\n",
    "\n",
    "print(lightgbm.__version__)"
   ]
  },
  {
   "cell_type": "markdown",
   "id": "02fcb673-4854-48fa-9e49-73ec400c00f0",
   "metadata": {},
   "source": [
    "**LightGBM의 파이썬 패키지인 LightGBM에서 LGBMClassifier**"
   ]
  },
  {
   "cell_type": "code",
   "execution_count": 3,
   "id": "f36f2d13-2377-4196-85fc-f3bbf4b41104",
   "metadata": {},
   "outputs": [],
   "source": [
    "from lightgbm import LGBMClassifier\n",
    "\n",
    "import pandas as pd\n",
    "import numpy as np\n",
    "from sklearn.datasets import load_breast_cancer\n",
    "from sklearn.model_selection import train_test_split\n",
    "\n",
    "dataset = load_breast_cancer()\n",
    "ftr = dataset.data\n",
    "target = dataset.target\n",
    "\n",
    "# 전체 데이터 중 80%는 학습용 데이터, 20%는 테스트용 데이터 추출\n",
    "X_train, X_test, y_train, y_test=train_test_split(ftr, target, test_size=0.2, random_state=156 )"
   ]
  },
  {
   "cell_type": "markdown",
   "id": "5f47f704-2369-421e-957c-9d36ecd20d45",
   "metadata": {},
   "source": [
    "**LightGBM으로 학습**"
   ]
  },
  {
   "cell_type": "code",
   "execution_count": null,
   "id": "35972d5f-2c79-43bc-aa4a-84dfea02a77a",
   "metadata": {},
   "outputs": [],
   "source": [
    "# 앞서 XGBoost와 동일하게 n_estimator는 400 설정\n",
    "lgbm_wrapper = LGBMClassifier(n_estimator = 400)\n",
    "\n",
    "evals = [(X_test, y_test)]\n",
    "\n",
    "lgbm_wrapper.fit(X_train, y_train, early_stopping_rounds = 100, eval_metic = 'logloss', eval_set = )"
   ]
  }
 ],
 "metadata": {
  "kernelspec": {
   "display_name": "Python Multi",
   "language": "python",
   "name": "multi"
  },
  "language_info": {
   "codemirror_mode": {
    "name": "ipython",
    "version": 3
   },
   "file_extension": ".py",
   "mimetype": "text/x-python",
   "name": "python",
   "nbconvert_exporter": "python",
   "pygments_lexer": "ipython3",
   "version": "3.7.6"
  }
 },
 "nbformat": 4,
 "nbformat_minor": 5
}
