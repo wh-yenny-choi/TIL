{
 "cells": [
  {
   "cell_type": "markdown",
   "metadata": {},
   "source": [
    "<h3>Google Image Scrapper for Juypter Notebook</h3>"
   ]
  },
  {
   "cell_type": "code",
   "execution_count": null,
   "metadata": {},
   "outputs": [],
   "source": [
    "#!pip install selenium==4.0.0a6"
   ]
  },
  {
   "cell_type": "code",
   "execution_count": 1,
   "metadata": {},
   "outputs": [],
   "source": [
    "from GoogleImageScrapper import GoogleImageScraper"
   ]
  },
  {
   "cell_type": "code",
   "execution_count": 2,
   "metadata": {},
   "outputs": [],
   "source": [
    "import os\n",
    "import time"
   ]
  },
  {
   "cell_type": "code",
   "execution_count": 3,
   "metadata": {},
   "outputs": [],
   "source": [
    "sleep_between_interactions = 1\n",
    "webdriver_path = os.getcwd()+\".\\\\webdriver\\\\chromedriver.exe\"\n",
    "image_path = os.getcwd()+\".\\\\animal\""
   ]
  },
  {
   "cell_type": "code",
   "execution_count": 4,
   "metadata": {},
   "outputs": [
    {
     "name": "stdout",
     "output_type": "stream",
     "text": [
      "GoogleImageScraper Notification: Scraping for image link... Please wait.\n"
     ]
    },
    {
     "name": "stderr",
     "output_type": "stream",
     "text": [
      "C:\\Users\\ftsv2\\Anaconda3\\lib\\site-packages\\selenium\\webdriver\\remote\\webdriver.py:430: UserWarning: find_element_by_* commands are deprecated. Please use find_element() instead\n",
      "  warnings.warn(\"find_element_by_* commands are deprecated. Please use find_element() instead\")\n",
      "C:\\Users\\ftsv2\\Anaconda3\\lib\\site-packages\\selenium\\webdriver\\remote\\webdriver.py:649: UserWarning: find_elements_by_* commands are deprecated. Please use find_elements() instead\n",
      "  warnings.warn(\"find_elements_by_* commands are deprecated. Please use find_elements() instead\")\n"
     ]
    },
    {
     "name": "stdout",
     "output_type": "stream",
     "text": [
      "0. https://cdn.britannica.com/22/206222-131-E921E1FB/Domestic-feline-tabby-cat.jpg\n",
      "1. https://ichef.bbci.co.uk/news/976/cpsprodpb/12A9B/production/_111434467_gettyimages-1143489763.jpg\n",
      "2. https://img.webmd.com/dtmcms/live/webmd/consumer_assets/site_images/article_thumbnails/slideshows/is_my_cat_normal_slideshow/1800x1200_is_my_cat_normal_slideshow.jpg\n",
      "3. https://ichef.bbci.co.uk/news/976/cpsprodpb/A7E9/production/_118158924_gettyimages-507245091.jpg\n",
      "4. https://i.natgeofe.com/n/f0dccaca-174b-48a5-b944-9bcddf913645/01-cat-questions-nationalgeographic_1228126.jpg\n",
      "GoogleImageScraper Notification: Saving Image... Please wait.\n",
      "0 .Image saved at: C:\\Users\\ftsv2\\Desktop\\2021\\21KDT\\2021-K-Digital-Training-main\\Web_Crawling.\\animal\\cat0.jpg\n",
      "1 .Image saved at: C:\\Users\\ftsv2\\Desktop\\2021\\21KDT\\2021-K-Digital-Training-main\\Web_Crawling.\\animal\\cat1.jpg\n",
      "2 .Image saved at: C:\\Users\\ftsv2\\Desktop\\2021\\21KDT\\2021-K-Digital-Training-main\\Web_Crawling.\\animal\\cat2.jpg\n",
      "3 .Image saved at: C:\\Users\\ftsv2\\Desktop\\2021\\21KDT\\2021-K-Digital-Training-main\\Web_Crawling.\\animal\\cat3.jpg\n",
      "4 .Image saved at: C:\\Users\\ftsv2\\Desktop\\2021\\21KDT\\2021-K-Digital-Training-main\\Web_Crawling.\\animal\\cat4.jpg\n",
      "GoogleImageScraper Notification: Download Completed.\n"
     ]
    }
   ],
   "source": [
    "#image_path = os.getcwd()+\"\\\\photos\"\n",
    "#add new search key into array [\"cat\",\"t-shirt\",\"apple\",\"orange\",\"pear\",\"fish\"]\n",
    "#search_keys= [\"woodpecker\",\"owl\"]\n",
    "search_keys= [\"cat\"]\n",
    "number_of_images = 10\n",
    "headless = False\n",
    "#min_resolution = (width,height)\n",
    "min_resolution=(0,0)\n",
    "#max_resolution = (width,height)\n",
    "max_resolution=(2000,2000)\n",
    "for search_key in search_keys:\n",
    "    image_scrapper = GoogleImageScraper(webdriver_path,image_path,search_key,number_of_images,headless,min_resolution,max_resolution)\n",
    "    image_urls = image_scrapper.find_image_urls()\n",
    "    image_scrapper.save_images(image_urls)\n",
    "    time.sleep(sleep_between_interactions)"
   ]
  },
  {
   "cell_type": "code",
   "execution_count": null,
   "metadata": {},
   "outputs": [],
   "source": []
  }
 ],
 "metadata": {
  "kernelspec": {
   "display_name": "Python 3",
   "language": "python",
   "name": "python3"
  },
  "language_info": {
   "codemirror_mode": {
    "name": "ipython",
    "version": 3
   },
   "file_extension": ".py",
   "mimetype": "text/x-python",
   "name": "python",
   "nbconvert_exporter": "python",
   "pygments_lexer": "ipython3",
   "version": "3.8.8"
  }
 },
 "nbformat": 4,
 "nbformat_minor": 4
}
