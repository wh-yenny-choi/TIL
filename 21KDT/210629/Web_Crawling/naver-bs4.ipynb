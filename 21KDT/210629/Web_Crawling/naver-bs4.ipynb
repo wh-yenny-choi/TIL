{
 "cells": [
  {
   "cell_type": "code",
   "execution_count": null,
   "id": "arbitrary-diary",
   "metadata": {},
   "outputs": [],
   "source": []
  },
  {
   "cell_type": "code",
   "execution_count": 1,
   "id": "moved-longitude",
   "metadata": {},
   "outputs": [],
   "source": [
    "from selenium import webdriver as wd\n",
    "from bs4 import BeautifulSoup as bs\n",
    "from selenium.webdriver.common.by import By\n",
    "# 명시적 대기를 위해 \n",
    "from selenium.webdriver.support.ui import WebDriverWait\n",
    "from selenium.webdriver.support import expected_conditions as EC\n",
    "\n",
    "import time\n"
   ]
  },
  {
   "cell_type": "code",
   "execution_count": 2,
   "id": "enclosed-speaker",
   "metadata": {},
   "outputs": [],
   "source": [
    "# 상품 정보를 담는 클레스\n",
    "class TourInfo:\n",
    "    # 맴버변수 (실제 컬럼보다는 작게 세팅했음)\n",
    "    title = ''\n",
    "    price = ''\n",
    "    area  = ''\n",
    "    link  = ''\n",
    "    img   = ''\n",
    "    contents = ''\n",
    "    # 생성자\n",
    "    def __init__(self, title, price, area, link, img, contents=None ):\n",
    "        self.title = title\n",
    "        self.price = price\n",
    "        self.area  = area\n",
    "        self.link  = link\n",
    "        self.img   = img\n",
    "        self.contents = contents"
   ]
  },
  {
   "cell_type": "code",
   "execution_count": 3,
   "id": "stunning-upper",
   "metadata": {},
   "outputs": [],
   "source": [
    "# 사전에 필요한 정보를 로드 => 디비혹스 쉘, 베치 파일에서 인자로 받아서 세팅\n",
    "\n",
    "main_url = 'http://www.naver.com/' \n",
    "keyword  = '날씨'\n",
    "# 상품 정보를 담는 리스트 (TourInfo 리스트)\n",
    "tour_list = []"
   ]
  },
  {
   "cell_type": "code",
   "execution_count": 4,
   "id": "creative-glass",
   "metadata": {},
   "outputs": [
    {
     "name": "stderr",
     "output_type": "stream",
     "text": [
      "<ipython-input-4-25a781e79f61>:2: DeprecationWarning: executable_path has been deprecated, please pass in a Service object\n",
      "  driver = wd.Chrome(executable_path='chromedriver.exe')\n"
     ]
    }
   ],
   "source": [
    "# 윈도우용\n",
    "driver = wd.Chrome(executable_path='chromedriver.exe')"
   ]
  },
  {
   "cell_type": "code",
   "execution_count": 5,
   "id": "b4ef7801-fc53-4340-9d1b-8393092828b8",
   "metadata": {},
   "outputs": [],
   "source": [
    "# 사이트 접속 (get)\n",
    "driver.get(main_url)"
   ]
  },
  {
   "cell_type": "code",
   "execution_count": 6,
   "id": "df39efe0-87f6-45d2-acc0-da56ec5f3152",
   "metadata": {},
   "outputs": [
    {
     "name": "stderr",
     "output_type": "stream",
     "text": [
      "C:\\Users\\ftsv2\\Anaconda3\\lib\\site-packages\\selenium\\webdriver\\remote\\webdriver.py:390: UserWarning: find_element_by_* commands are deprecated. Please use find_element() instead\n",
      "  warnings.warn(\"find_element_by_* commands are deprecated. Please use find_element() instead\")\n"
     ]
    }
   ],
   "source": [
    "# 검색창을 찾아서 검색어 입력\n",
    "# id : SearchGNBText\n",
    "driver.find_element_by_id('query').send_keys(keyword)\n",
    "# 수정할경우 => 뒤에 내용이 붙어버림 => .clear() -> send_keys('내용')"
   ]
  },
  {
   "cell_type": "code",
   "execution_count": 7,
   "id": "b53e696b-6fc1-4205-aa5d-7339b83e1905",
   "metadata": {},
   "outputs": [],
   "source": [
    "# 검색 버튼 클릭\n",
    "driver.find_element_by_id('search_btn').click()"
   ]
  },
  {
   "cell_type": "code",
   "execution_count": 8,
   "id": "529af13c-10d8-4331-a2d8-58bf8203002d",
   "metadata": {},
   "outputs": [],
   "source": [
    "time.sleep(5)"
   ]
  },
  {
   "cell_type": "code",
   "execution_count": 9,
   "id": "f0de3b27-f9eb-45fc-b387-c0903877d560",
   "metadata": {},
   "outputs": [],
   "source": [
    "driver.close()"
   ]
  },
  {
   "cell_type": "code",
   "execution_count": 16,
   "id": "imperial-classic",
   "metadata": {},
   "outputs": [
    {
     "name": "stdout",
     "output_type": "stream",
     "text": [
      "오류 발생 Message: \n",
      "Stacktrace:\n",
      "Backtrace:\n",
      "\tOrdinal0 [0x00F23733+2504499]\n",
      "\tOrdinal0 [0x00EBC401+2081793]\n",
      "\tOrdinal0 [0x00DC2628+1058344]\n",
      "\tOrdinal0 [0x00DECEBB+1232571]\n",
      "\tOrdinal0 [0x00E168F2+1403122]\n",
      "\tOrdinal0 [0x00E05EBA+1334970]\n",
      "\tOrdinal0 [0x00E14CDB+1395931]\n",
      "\tOrdinal0 [0x00E05D4B+1334603]\n",
      "\tOrdinal0 [0x00DE22B4+1188532]\n",
      "\tOrdinal0 [0x00DE3149+1192265]\n",
      "\tGetHandleVerifier [0x0109FB8C+1512252]\n",
      "\tGetHandleVerifier [0x0114B0DF+2214031]\n",
      "\tGetHandleVerifier [0x00FA4BC3+484211]\n",
      "\tGetHandleVerifier [0x00FA3E69+480793]\n",
      "\tOrdinal0 [0x00EC218D+2105741]\n",
      "\tOrdinal0 [0x00EC66E8+2123496]\n",
      "\tOrdinal0 [0x00EC6827+2123815]\n",
      "\tOrdinal0 [0x00ECFB73+2161523]\n",
      "\tBaseThreadInitThunk [0x7596FA29+25]\n",
      "\tRtlGetAppContainerNamedObjectPath [0x775E7A9E+286]\n",
      "\tRtlGetAppContainerNamedObjectPath [0x775E7A6E+238]\n",
      "\n"
     ]
    },
    {
     "ename": "AttributeError",
     "evalue": "'NoneType' object has no attribute 'click'",
     "output_type": "error",
     "traceback": [
      "\u001b[1;31m---------------------------------------------------------------------------\u001b[0m",
      "\u001b[1;31mAttributeError\u001b[0m                            Traceback (most recent call last)",
      "\u001b[1;32m<ipython-input-16-12243782e0e0>\u001b[0m in \u001b[0;36m<module>\u001b[1;34m\u001b[0m\n\u001b[0;32m     14\u001b[0m \u001b[1;31m# 절대기 대기 => time.sleep(10) -> 클라우드 페어(디도스 방어  솔류션)\u001b[0m\u001b[1;33m\u001b[0m\u001b[1;33m\u001b[0m\u001b[1;33m\u001b[0m\u001b[0m\n\u001b[0;32m     15\u001b[0m \u001b[1;31m# 더보기 눌러서 => 게시판 진입\u001b[0m\u001b[1;33m\u001b[0m\u001b[1;33m\u001b[0m\u001b[1;33m\u001b[0m\u001b[0m\n\u001b[1;32m---> 16\u001b[1;33m \u001b[0mdriver\u001b[0m\u001b[1;33m.\u001b[0m\u001b[0mfind_element_by_css_selector\u001b[0m\u001b[1;33m(\u001b[0m\u001b[1;34m'.oTravelBox>.boxList>.moreBtnWrap>.moreBtn'\u001b[0m\u001b[1;33m)\u001b[0m\u001b[1;33m.\u001b[0m\u001b[0mclick\u001b[0m\u001b[1;33m(\u001b[0m\u001b[1;33m)\u001b[0m\u001b[1;33m\u001b[0m\u001b[1;33m\u001b[0m\u001b[0m\n\u001b[0m",
      "\u001b[1;31mAttributeError\u001b[0m: 'NoneType' object has no attribute 'click'"
     ]
    }
   ],
   "source": [
    "# 잠시 대기 => 페이가 로드되고 나서 즉각적으로 데이터를 획득 하는 행위는 \n",
    "# 명시적 대기 => 특정 요소가 로케이트(발결된때까지) 대기\n",
    "try:\n",
    "    element = WebDriverWait(driver, 10).until(\n",
    "        # 지정한 한개 요소가 올라면 웨이트 종료\n",
    "        EC.presence_of_element_located( (By.CLASS_NAME, 'oTravelBox') )\n",
    "    )\n",
    "except Exception as e:\n",
    "    print( '오류 발생', e)\n",
    "# 암묵적 대기 => DOM이 다 로드 될때까지 대기 하고 먼저 로드되면 바로 진행\n",
    "# 요소를 찾을 특정 시간 동안 DOM 풀링을 지시 예를 들어 10 초이내 라로 \n",
    "# 발견 되면 진행\n",
    "driver.implicitly_wait( 10 )\n",
    "# 절대기 대기 => time.sleep(10) -> 클라우드 페어(디도스 방어  솔류션)\n",
    "# 더보기 눌러서 => 게시판 진입 \n",
    "driver.find_element_by_css_selector('.oTravelBox>.boxList>.moreBtnWrap>.moreBtn').click()"
   ]
  },
  {
   "cell_type": "code",
   "execution_count": null,
   "id": "capital-sierra",
   "metadata": {},
   "outputs": [],
   "source": [
    "# searchModule.SetCategoryList(1, '') 스크립트 실행\n",
    "# 16은 임시값, 게시물을 넘어갔을때 현상을 확인차\n",
    "for page in range(1, 6): # 2):\n",
    "    try:\n",
    "        # 자바스크립트 구동하기\n",
    "        driver.execute_script(\"searchModule.SetCategoryList(%s, '')\" % page)\n",
    "        time.sleep(2)\n",
    "        print(\"%s 페이지 이동\" % page)\n",
    "        #############################################################\n",
    "        # 여러 사이트에서 정보를 수집할 경우 공통 정보 정의 단계 필요\n",
    "        # 상품명, 코멘트, 기간1, 기간2, 가격, 평점, 썸네일, 링크(상품상세정보)\n",
    "        boxItems = driver.find_elements_by_css_selector('.oTravelBox>.boxList>li')\n",
    "        # 상품 하나 하나 접근\n",
    "        for li in boxItems:\n",
    "            # 이미지를 링크값을 사용할것인가? \n",
    "            # 직접 다운로드 해서 우리 서버에 업로드(ftp) 할것인가?\n",
    "            print( '썸네임', li.find_element_by_css_selector('img').get_attribute('src') )\n",
    "            print( '링크', li.find_element_by_css_selector('a').get_attribute('onclick') )\n",
    "            print( '상품명', li.find_element_by_css_selector('h5.proTit').text )\n",
    "            print( '코멘트', li.find_element_by_css_selector('.proSub').text )\n",
    "            print( '가격',   li.find_element_by_css_selector('.proPrice').text )\n",
    "            area = ''\n",
    "            for info in li.find_elements_by_css_selector('.info-row .proInfo'):\n",
    "                print(  info.text )\n",
    "            print('='*100)\n",
    "            # 데이터 모음\n",
    "            # li.find_elements_by_css_selector('.info-row .proInfo')[1].text\n",
    "            # 데이터가 부족하거나 없을수도 있으므로 직접 인덱스로 표현은 위험성이 있음\n",
    "            obj = TourInfo(  \n",
    "                li.find_element_by_css_selector('h5.proTit').text,\n",
    "                li.find_element_by_css_selector('.proPrice').text,\n",
    "                li.find_elements_by_css_selector('.info-row .proInfo')[1].text,\n",
    "                li.find_element_by_css_selector('a').get_attribute('onclick'),\n",
    "                li.find_element_by_css_selector('img').get_attribute('src')\n",
    "            )\n",
    "            tour_list.append( obj )\n",
    "    except Exception as e1:\n",
    "        print( '오류', e1 )\n",
    "\n",
    "print( tour_list, len(tour_list) )\n"
   ]
  },
  {
   "cell_type": "code",
   "execution_count": null,
   "id": "tough-treat",
   "metadata": {},
   "outputs": [],
   "source": [
    "driver.close()"
   ]
  },
  {
   "cell_type": "code",
   "execution_count": null,
   "id": "ongoing-transfer",
   "metadata": {},
   "outputs": [],
   "source": []
  },
  {
   "cell_type": "code",
   "execution_count": null,
   "id": "traditional-special",
   "metadata": {},
   "outputs": [],
   "source": []
  }
 ],
 "metadata": {
  "kernelspec": {
   "display_name": "Python 3",
   "language": "python",
   "name": "python3"
  },
  "language_info": {
   "codemirror_mode": {
    "name": "ipython",
    "version": 3
   },
   "file_extension": ".py",
   "mimetype": "text/x-python",
   "name": "python",
   "nbconvert_exporter": "python",
   "pygments_lexer": "ipython3",
   "version": "3.8.8"
  }
 },
 "nbformat": 4,
 "nbformat_minor": 5
}
