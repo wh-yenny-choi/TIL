{
 "cells": [
  {
   "cell_type": "markdown",
   "id": "6d33ade6",
   "metadata": {},
   "source": [
    "## 꼭 알아둬야 할 자료구조 : 배열 (Array)\n",
    "\n",
    "- 데이터를 나열하고, 각 데이터를 인덱스에 대응하도록 구성한 데이터 구조\n",
    "- 파이썬에서는 리스트 타입이 배열 기능을 제공하고 있음\n",
    "\n",
    "### 1. 배열이 왜 필요할까?\n",
    "- 같은 종류의 데이터를 효율적으로 관리하기 위해 사용\n",
    "- 같은 종류의 데이터를 순차적으로 저장\n",
    "\n",
    "#### 장점?\n",
    "- 빠른 접근 가능\n",
    "    - 인덱스(index)를 통해 직접적으로 접근 가능\n",
    "\n",
    "#### 단점?\n",
    "- 추가/삭제가 쉽지 않음\n",
    "- 미리 최대 길이를 지정해야 함\n",
    "\n",
    "### 2. 파이썬 배열 예제"
   ]
  },
  {
   "cell_type": "code",
   "execution_count": 3,
   "id": "52d78757",
   "metadata": {},
   "outputs": [
    {
     "name": "stdout",
     "output_type": "stream",
     "text": [
      "Korea\n",
      "SouthKorea\n"
     ]
    }
   ],
   "source": [
    "country = 'Korea'\n",
    "print(country)\n",
    "\n",
    "country = 'South' + country\n",
    "print(country)"
   ]
  }
 ],
 "metadata": {
  "kernelspec": {
   "display_name": "Python 3",
   "language": "python",
   "name": "python3"
  },
  "language_info": {
   "codemirror_mode": {
    "name": "ipython",
    "version": 3
   },
   "file_extension": ".py",
   "mimetype": "text/x-python",
   "name": "python",
   "nbconvert_exporter": "python",
   "pygments_lexer": "ipython3",
   "version": "3.8.8"
  }
 },
 "nbformat": 4,
 "nbformat_minor": 5
}
