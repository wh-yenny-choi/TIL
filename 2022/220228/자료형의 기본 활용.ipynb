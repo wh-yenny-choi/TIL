{
 "cells": [
  {
   "cell_type": "markdown",
   "id": "32aba2e5",
   "metadata": {},
   "source": [
    "## 자료형의 종류\n",
    "\n",
    "### single\n",
    "- Integer\n",
    "- Float\n",
    "- String\n",
    "- Boolean\n",
    "\n",
    "### container\n",
    "- List\n",
    "- Tuple\n",
    "- Dictionary\n",
    "- Set"
   ]
  },
  {
   "cell_type": "markdown",
   "id": "5ec6811f",
   "metadata": {},
   "source": [
    "### Integer\n",
    "> 정수 자료형\n",
    "\n",
    "- 수의 크기 제한이 딱히 없음 ➡ overflow 걱정을 줄일 수 있음\n",
    "- str()로 쉬운 형변환\n",
    "- 연산/함수 사용 시, float로 변환되는 경우를 잘 살펴보자 ➡ runtime에러 발생 가능성\n",
    "    - 나눗셈은 / 가 아닌 // 로 안전하게 나누자 (또는 divmod 사용)"
   ]
  },
  {
   "cell_type": "code",
   "execution_count": 4,
   "id": "d2e85e24",
   "metadata": {},
   "outputs": [
    {
     "name": "stdout",
     "output_type": "stream",
     "text": [
      "<class 'float'>\n",
      "<class 'int'>\n",
      "<class 'tuple'>\n"
     ]
    }
   ],
   "source": [
    "a = 3/3\n",
    "print(type(a))\n",
    "\n",
    "b = 3//3\n",
    "print(type(b))\n",
    "\n",
    "c = divmod(7, 3)\n",
    "print(type(c))"
   ]
  },
  {
   "cell_type": "markdown",
   "id": "5b11a6ff",
   "metadata": {},
   "source": [
    "### Float\n",
    "> 실수 자료형\n",
    "- 🚨일단 연산에서는 쓰지 말자🚨\n",
    "    - Decimal을 사용 또는 실수 오차를 해결할 자신이 있는 사람만\n",
    "- 유리수 연산은? (우선순위 등에서 사용될 수 있음)\n",
    "    - 될 수 있다면 tuple 등으로 분자.분모를 따로 처리하자"
   ]
  },
  {
   "cell_type": "code",
   "execution_count": 5,
   "id": "4c5ae650",
   "metadata": {},
   "outputs": [
    {
     "data": {
      "text/plain": [
       "False"
      ]
     },
     "execution_count": 5,
     "metadata": {},
     "output_type": "execute_result"
    }
   ],
   "source": [
    "0.1 * 3 == 0.3"
   ]
  },
  {
   "cell_type": "code",
   "execution_count": 8,
   "id": "8d032850",
   "metadata": {},
   "outputs": [
    {
     "name": "stdout",
     "output_type": "stream",
     "text": [
      "0.3333333333333333\n"
     ]
    },
    {
     "data": {
      "text/plain": [
       "((1, 3), (2, 3))"
      ]
     },
     "execution_count": 8,
     "metadata": {},
     "output_type": "execute_result"
    }
   ],
   "source": [
    "a = 1/3\n",
    "print(a)\n",
    "\n",
    "# 될 수 있다면 tuple형으로 처리\n",
    "(1, 3), (2, 3)"
   ]
  },
  {
   "cell_type": "markdown",
   "id": "19b7ae7b",
   "metadata": {},
   "source": [
    "### String\n",
    "- Immutable 변수\n",
    "    - List로 변환하여 사용하기\n",
    "- +연산과 *연산 조심하기\n",
    "    - join() methoid 활용하기\n",
    "- .split() .replace() 등 다양한 method 활용이 초점\n",
    "- slicing을 자유롭게 할 수 있는 것\n",
    "- char를 ord와 chr로 다루기"
   ]
  },
  {
   "cell_type": "code",
   "execution_count": 12,
   "id": "a18fe212",
   "metadata": {},
   "outputs": [
    {
     "name": "stdout",
     "output_type": "stream",
     "text": [
      "choi wonhee\n"
     ]
    },
    {
     "ename": "TypeError",
     "evalue": "'int' object is not iterable",
     "output_type": "error",
     "traceback": [
      "\u001b[1;31m---------------------------------------------------------------------------\u001b[0m",
      "\u001b[1;31mTypeError\u001b[0m                                 Traceback (most recent call last)",
      "\u001b[1;32m<ipython-input-12-31c58965dd15>\u001b[0m in \u001b[0;36m<module>\u001b[1;34m\u001b[0m\n\u001b[0;32m      7\u001b[0m \u001b[1;33m\u001b[0m\u001b[0m\n\u001b[0;32m      8\u001b[0m \u001b[1;31m# 에러\u001b[0m\u001b[1;33m\u001b[0m\u001b[1;33m\u001b[0m\u001b[1;33m\u001b[0m\u001b[0m\n\u001b[1;32m----> 9\u001b[1;33m \u001b[1;32mfor\u001b[0m \u001b[0mi\u001b[0m \u001b[1;32min\u001b[0m \u001b[0mlen\u001b[0m\u001b[1;33m(\u001b[0m\u001b[0ms\u001b[0m\u001b[1;33m)\u001b[0m\u001b[1;33m:\u001b[0m\u001b[1;33m\u001b[0m\u001b[1;33m\u001b[0m\u001b[0m\n\u001b[0m\u001b[0;32m     10\u001b[0m     \u001b[0ms\u001b[0m\u001b[1;33m[\u001b[0m\u001b[0mi\u001b[0m\u001b[1;33m]\u001b[0m \u001b[1;33m=\u001b[0m \u001b[1;34m'1'\u001b[0m\u001b[1;33m\u001b[0m\u001b[1;33m\u001b[0m\u001b[0m\n\u001b[0;32m     11\u001b[0m \u001b[0mprint\u001b[0m\u001b[1;33m(\u001b[0m\u001b[0ms\u001b[0m\u001b[1;33m)\u001b[0m\u001b[1;33m\u001b[0m\u001b[1;33m\u001b[0m\u001b[0m\n",
      "\u001b[1;31mTypeError\u001b[0m: 'int' object is not iterable"
     ]
    }
   ],
   "source": [
    "s = 'choi wonhee'\n",
    "\n",
    "# 변화 없음\n",
    "for i in s:\n",
    "    i = 'c'\n",
    "print(s)\n",
    "\n",
    "# 에러\n",
    "for i in len(s):\n",
    "    s[i] = '1'\n",
    "print(s)"
   ]
  },
  {
   "cell_type": "code",
   "execution_count": 11,
   "id": "d9563c39",
   "metadata": {},
   "outputs": [
    {
     "name": "stdout",
     "output_type": "stream",
     "text": [
      "abcedf\n",
      "abcabcabc\n"
     ]
    }
   ],
   "source": [
    "a = 'abc'\n",
    "b = 'edf'\n",
    "\n",
    "print(a+b)\n",
    "print(a*3)"
   ]
  },
  {
   "cell_type": "code",
   "execution_count": 13,
   "id": "0f821abd",
   "metadata": {},
   "outputs": [
    {
     "name": "stdout",
     "output_type": "stream",
     "text": [
      "Wall time: 0 ns\n"
     ]
    }
   ],
   "source": [
    "%time\n",
    "s = ''\n",
    "\n",
    "for i in range(10000):\n",
    "    s = s + str(i)"
   ]
  },
  {
   "cell_type": "code",
   "execution_count": 17,
   "id": "a6aea39b",
   "metadata": {},
   "outputs": [
    {
     "name": "stdout",
     "output_type": "stream",
     "text": [
      "Wall time: 0 ns\n"
     ]
    }
   ],
   "source": [
    "# 시간 복잡도 줄이기 위해 join() 함수 이용\n",
    "%time\n",
    "s = ''\n",
    "\n",
    "s = s.join([str(i) for i in range(10000)])"
   ]
  },
  {
   "cell_type": "code",
   "execution_count": 22,
   "id": "b228fa80",
   "metadata": {},
   "outputs": [
    {
     "data": {
      "text/plain": [
       "'a'"
      ]
     },
     "execution_count": 22,
     "metadata": {},
     "output_type": "execute_result"
    }
   ],
   "source": [
    "# 객체를 만들면 시간이 늘어나기 때문에, slicing을 효율적으로 사용해야 함\n",
    "a = 'abcd'\n",
    "a[:1]\n",
    "#a[0:0] = 'b'"
   ]
  },
  {
   "cell_type": "code",
   "execution_count": 24,
   "id": "9c8783bb",
   "metadata": {},
   "outputs": [
    {
     "name": "stdout",
     "output_type": "stream",
     "text": [
      "A\n",
      "65\n"
     ]
    }
   ],
   "source": [
    "print(chr(65))\n",
    "print(ord('A'))"
   ]
  },
  {
   "cell_type": "markdown",
   "id": "1b46e747",
   "metadata": {},
   "source": [
    "### Boolean\n",
    "> 부울 자료형\n",
    "- 논리 연산과 활용\n",
    "- short Circuit\n",
    "    - or 연산에 앞 항이 참\n",
    "    - and 연산에 앞 항이 거짓\n",
    "- 모든 문제의 기본 : 참 / 거짓"
   ]
  },
  {
   "cell_type": "code",
   "execution_count": 27,
   "id": "9b77a0a0",
   "metadata": {},
   "outputs": [],
   "source": [
    "if 0 and 1//0:\n",
    "    print('hello')"
   ]
  },
  {
   "cell_type": "code",
   "execution_count": 26,
   "id": "2679ae03",
   "metadata": {},
   "outputs": [
    {
     "name": "stdout",
     "output_type": "stream",
     "text": [
      "hello\n"
     ]
    }
   ],
   "source": [
    "if 1 or 1//0:\n",
    "    print('hello')"
   ]
  },
  {
   "cell_type": "markdown",
   "id": "61a723a9",
   "metadata": {},
   "source": [
    "### List\n",
    "> 리스트 자료형\n",
    "- List Comprehension 사용하기\n",
    "- sort와 sorted 구분하기\n",
    "- len, sum, max, min 등 활용하기\n",
    "- Slicing, [-1] 등 음수 인덱스 활용\n",
    "- reduce, filter도 활용하면 좋음"
   ]
  },
  {
   "cell_type": "code",
   "execution_count": 61,
   "id": "42177035",
   "metadata": {},
   "outputs": [
    {
     "name": "stdout",
     "output_type": "stream",
     "text": [
      "Wall time: 0 ns\n"
     ]
    }
   ],
   "source": [
    "%time\n",
    "\n",
    "list_arr = [i for i in range(100) if i%2 == 0]"
   ]
  },
  {
   "cell_type": "code",
   "execution_count": 30,
   "id": "f1f99c7a",
   "metadata": {},
   "outputs": [
    {
     "name": "stdout",
     "output_type": "stream",
     "text": [
      "Wall time: 0 ns\n"
     ]
    }
   ],
   "source": [
    "%time\n",
    "\n",
    "list_arr2 = []\n",
    "for i in range(100):\n",
    "    list_arr2.append(i)"
   ]
  },
  {
   "cell_type": "code",
   "execution_count": 34,
   "id": "65891492",
   "metadata": {},
   "outputs": [
    {
     "name": "stdout",
     "output_type": "stream",
     "text": [
      "[2, 5, 6, 9, 3]\n",
      "[2, 3, 5, 6, 9]\n"
     ]
    }
   ],
   "source": [
    "lst = [2, 5, 6, 9, 3]\n",
    "\n",
    "print(lst)\n",
    "print(sorted(lst))  # 정렬한 객체값을 반환해주는 함수 (기존의 순서를 남겨둠)"
   ]
  },
  {
   "cell_type": "code",
   "execution_count": 35,
   "id": "94011c85",
   "metadata": {},
   "outputs": [
    {
     "name": "stdout",
     "output_type": "stream",
     "text": [
      "[2, 3, 5, 6, 9]\n"
     ]
    }
   ],
   "source": [
    "lst.sort()  # 객체의 값 변화를 만드는 메소드 (기존의 순서를 남겨두지 않음)\n",
    "print(lst)"
   ]
  },
  {
   "cell_type": "code",
   "execution_count": 38,
   "id": "f54b0113",
   "metadata": {},
   "outputs": [
    {
     "name": "stdout",
     "output_type": "stream",
     "text": [
      "5\n",
      "25\n",
      "9\n",
      "2\n"
     ]
    }
   ],
   "source": [
    "print(len(lst))\n",
    "print(sum(lst))\n",
    "print(max(lst))\n",
    "print(min(lst))"
   ]
  },
  {
   "cell_type": "code",
   "execution_count": 39,
   "id": "98b11807",
   "metadata": {},
   "outputs": [
    {
     "name": "stdout",
     "output_type": "stream",
     "text": [
      "[1, 2, 3, 5, 6, 9]\n"
     ]
    }
   ],
   "source": [
    "lst = [1] + lst\n",
    "print(lst)"
   ]
  },
  {
   "cell_type": "code",
   "execution_count": 42,
   "id": "97e1968b",
   "metadata": {},
   "outputs": [
    {
     "data": {
      "text/plain": [
       "9"
      ]
     },
     "execution_count": 42,
     "metadata": {},
     "output_type": "execute_result"
    }
   ],
   "source": [
    "lst[:0] = [1]\n",
    "lst[-1]"
   ]
  },
  {
   "cell_type": "markdown",
   "id": "580e9133",
   "metadata": {},
   "source": [
    "### Tuple\n",
    "> 튜플 자료형\n",
    "- 초기 상태 표현시 코드가 길어지는 것 방지\n",
    "    - a, b, c = 0, 0, 0\n",
    "- Map과 함께 사용하여 입력 받기\n",
    "    - a, b = map(int, input().split())\n",
    "- 동시에 변해야하는 객체에 효율적 표현 가능\n",
    "    - a, b = b, a (swap)"
   ]
  },
  {
   "cell_type": "code",
   "execution_count": 43,
   "id": "de87f3d8",
   "metadata": {},
   "outputs": [
    {
     "name": "stdout",
     "output_type": "stream",
     "text": [
      "3 7\n",
      "3\n",
      "7\n"
     ]
    }
   ],
   "source": [
    "a, b = map(int, input().split())\n",
    "print(a)\n",
    "print(b)"
   ]
  },
  {
   "cell_type": "code",
   "execution_count": 45,
   "id": "f9384365",
   "metadata": {},
   "outputs": [
    {
     "name": "stdout",
     "output_type": "stream",
     "text": [
      "3 7\n",
      "7 7\n"
     ]
    }
   ],
   "source": [
    "print(a, b)\n",
    "a = b\n",
    "b = a\n",
    "print(a, b)"
   ]
  },
  {
   "cell_type": "code",
   "execution_count": 47,
   "id": "ade6a42c",
   "metadata": {},
   "outputs": [
    {
     "name": "stdout",
     "output_type": "stream",
     "text": [
      "7 3\n"
     ]
    }
   ],
   "source": [
    "a, b = 3, 7\n",
    "tmp = a\n",
    "a = b\n",
    "b = tmp\n",
    "print(a, b)"
   ]
  },
  {
   "cell_type": "code",
   "execution_count": 48,
   "id": "5b6665d3",
   "metadata": {},
   "outputs": [
    {
     "name": "stdout",
     "output_type": "stream",
     "text": [
      "7 3\n"
     ]
    }
   ],
   "source": [
    "a, b = 3, 7\n",
    "a, b = b, a\n",
    "print(a, b)"
   ]
  },
  {
   "cell_type": "markdown",
   "id": "b29d0cba",
   "metadata": {},
   "source": [
    "### Dictionary \n",
    "> 딕셔너리 자료형\n",
    "- key나 values를 사용하여 효율적인 사용 추천\n",
    "- 반복문 돌리기\n",
    "    - for a, b in dict_exam:\n",
    "- 개인적으로는 문자열 자체를 index로 사용하고 싶은 경우\n",
    "    - 단어나 알파벳 counting"
   ]
  },
  {
   "cell_type": "code",
   "execution_count": 50,
   "id": "c306aeec",
   "metadata": {},
   "outputs": [
    {
     "name": "stdout",
     "output_type": "stream",
     "text": [
      "{1: 2, 2: 3, 'abc': 7}\n"
     ]
    }
   ],
   "source": [
    "dict_exam = {1 : 2, 2 : 3, 'abc' : 7}\n",
    "print(dict_exam)"
   ]
  },
  {
   "cell_type": "code",
   "execution_count": 51,
   "id": "4392bd79",
   "metadata": {},
   "outputs": [
    {
     "data": {
      "text/plain": [
       "dict_values([2, 3, 7])"
      ]
     },
     "execution_count": 51,
     "metadata": {},
     "output_type": "execute_result"
    }
   ],
   "source": [
    "dict_exam.values()"
   ]
  },
  {
   "cell_type": "code",
   "execution_count": 52,
   "id": "b7532a5c",
   "metadata": {},
   "outputs": [
    {
     "data": {
      "text/plain": [
       "dict_keys([1, 2, 'abc'])"
      ]
     },
     "execution_count": 52,
     "metadata": {},
     "output_type": "execute_result"
    }
   ],
   "source": [
    "dict_exam.keys()"
   ]
  },
  {
   "cell_type": "code",
   "execution_count": null,
   "id": "d8a6e712",
   "metadata": {},
   "outputs": [],
   "source": [
    "import collections"
   ]
  },
  {
   "cell_type": "markdown",
   "id": "494dc8b9",
   "metadata": {},
   "source": [
    "### Set\n",
    "> 셋 자료형\n",
    "- 중복 체크\n",
    "    - set(list) 사용\n",
    "- 합집합, 여집합, 차집합 등 집합 연산\n",
    "    - 시간 복잡도가 크니 주의해서 사용"
   ]
  },
  {
   "cell_type": "code",
   "execution_count": 63,
   "id": "d741563c",
   "metadata": {},
   "outputs": [
    {
     "ename": "TypeError",
     "evalue": "'generator' object is not callable",
     "output_type": "error",
     "traceback": [
      "\u001b[1;31m---------------------------------------------------------------------------\u001b[0m",
      "\u001b[1;31mTypeError\u001b[0m                                 Traceback (most recent call last)",
      "\u001b[1;32m<ipython-input-63-38dca67d2afb>\u001b[0m in \u001b[0;36m<module>\u001b[1;34m\u001b[0m\n\u001b[1;32m----> 1\u001b[1;33m \u001b[0mset_exam\u001b[0m \u001b[1;33m=\u001b[0m \u001b[0mset\u001b[0m\u001b[1;33m(\u001b[0m\u001b[1;33m[\u001b[0m\u001b[1;36m1\u001b[0m\u001b[1;33m,\u001b[0m \u001b[1;36m2\u001b[0m\u001b[1;33m,\u001b[0m \u001b[1;36m3\u001b[0m\u001b[1;33m,\u001b[0m \u001b[1;36m4\u001b[0m\u001b[1;33m,\u001b[0m \u001b[1;36m5\u001b[0m\u001b[1;33m,\u001b[0m \u001b[1;36m1\u001b[0m\u001b[1;33m,\u001b[0m \u001b[1;36m2\u001b[0m\u001b[1;33m,\u001b[0m \u001b[1;36m3\u001b[0m\u001b[1;33m,\u001b[0m \u001b[1;36m4\u001b[0m\u001b[1;33m,\u001b[0m \u001b[1;36m5\u001b[0m\u001b[1;33m,\u001b[0m \u001b[1;36m1\u001b[0m\u001b[1;33m,\u001b[0m \u001b[1;36m2\u001b[0m\u001b[1;33m,\u001b[0m \u001b[1;36m3\u001b[0m\u001b[1;33m]\u001b[0m\u001b[1;33m)\u001b[0m\u001b[1;33m\u001b[0m\u001b[1;33m\u001b[0m\u001b[0m\n\u001b[0m\u001b[0;32m      2\u001b[0m \u001b[0mset_exam\u001b[0m\u001b[1;33m\u001b[0m\u001b[1;33m\u001b[0m\u001b[0m\n",
      "\u001b[1;31mTypeError\u001b[0m: 'generator' object is not callable"
     ]
    }
   ],
   "source": [
    "set_exam = set([1, 2, 3, 4, 5, 1, 2, 3, 4, 5, 1, 2, 3])\n",
    "set_exam"
   ]
  },
  {
   "cell_type": "code",
   "execution_count": null,
   "id": "62a3ebc1",
   "metadata": {},
   "outputs": [],
   "source": [
    "# set comprehension\n",
    "set = (i for i in range(1000))"
   ]
  },
  {
   "cell_type": "code",
   "execution_count": null,
   "id": "61d9c1a9",
   "metadata": {},
   "outputs": [],
   "source": [
    "# 중복 체크 가능\n",
    "def isCheck(lst):\n",
    "    return len(lst) == len(set(lst))"
   ]
  }
 ],
 "metadata": {
  "kernelspec": {
   "display_name": "Python 3",
   "language": "python",
   "name": "python3"
  },
  "language_info": {
   "codemirror_mode": {
    "name": "ipython",
    "version": 3
   },
   "file_extension": ".py",
   "mimetype": "text/x-python",
   "name": "python",
   "nbconvert_exporter": "python",
   "pygments_lexer": "ipython3",
   "version": "3.8.8"
  }
 },
 "nbformat": 4,
 "nbformat_minor": 5
}
