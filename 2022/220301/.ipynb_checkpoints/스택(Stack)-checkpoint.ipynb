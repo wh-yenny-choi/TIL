{
 "cells": [
  {
   "cell_type": "markdown",
   "id": "5b279236",
   "metadata": {},
   "source": [
    "### 꼭 필요한 자료구조 기초\n",
    "\n",
    "**탐색(Search)** : <mark>많은 양의 데이터 중에서 원하는 데이터를 찾는 과정</mark>\n",
    "> 프로그래밍에서는 그래프, 트리 등의 자료구조 안에서 탐색하는 문제를 자주 다룬다\n",
    "- 대표적인 탐색 알고리즘 : DFS, BFS\n",
    "    - 이 두 알고리즘 원리를 제대로 이해해야 코딩 테스트의 탐색 문제 유형을 풀 수 있다.\n",
    "    - DFS, BFS를 제대로 이해하려면 기본 자료구조인 스택과 큐에 대한 이해가 전제되어야 함\n",
    "\n",
    "**자료구조(Data Structure)** : <mark>데이터를 표현하고 관리하고 처리하기 위한 구조</mark>\n",
    "- 스택, 큐 ➡ 자료구조의 기초 개념으로 다음의 두 핵심적인 함수로 구성\n",
    "    - 삽입(Push)\n",
    "    - 삭제(Pop)"
   ]
  },
  {
   "cell_type": "markdown",
   "id": "6643489d",
   "metadata": {},
   "source": [
    "**스택, 큐** 사용 시 고려할 점\n",
    "- 삽입, 삭제\n",
    "- 오버플로, 언더플로\n",
    "    - 오버플로(overflow) : 특정한 자료구조가 수용할 수 있는 데이터의 크기를 이미 가득 찬 상태에서 삽입 연산을 수행할 때 발생. 즉, 저장 공간을 벗어나 데이터가 넘쳐 흐를 때 발생\n",
    "    - 언더플로(underflow) : 특정한 자료구조에 데이터가 전혀 들어 있지 않은 상태에서 삭제 연산을 수행하면 데이터가 전혀 없는 상태이므로 발생"
   ]
  },
  {
   "cell_type": "markdown",
   "id": "198112fd",
   "metadata": {},
   "source": [
    "## 스택\n",
    "**스택(Stack)** \n",
    "- <mark>선입후출(FILO) <sub>First In Last Out</sub> 구조 또는 후입선출(LIFO) <sub>Last In First Out</sub> 구조</mark>\n",
    "- 데이터를 제한적으로 접근할 수 있는 구조\n",
    "    - 한쪽 끝에서만 자료를 넣거나 뺄 수 있는 구조\n",
    "- 가장 나중에 쌓은 데이터를 가장 먼저 빼낼 수 있는 구조\n",
    "    - 큐 : FIFO 정책\n",
    "    - 스택 : LIFO 정책\n",
    "    \n",
    "### 스택 구조\n",
    "- 스택은 LIFO 또는 FILO 데이터 관리 방식을 따름 (Ex. 책 쌓기)\n",
    "    - LIFO : 마지막에 넣은 데이터를 가장 먼저 추출하는 데이터 관리 정책\n",
    "    - FILO : 처음에 넣은 데이터를 가장 마지막에 추출하는 데이터 관리 정책\n",
    "- 대표적인 스택의 활용\n",
    "    - 컴퓨터 내부의 프로세스 구조의 함수 동작 방식\n",
    "- 주요 기능\n",
    "    - push() : 데이터를 스택에 넣기\n",
    "    - pop() : 데이터를 스택에서 꺼내기"
   ]
  },
  {
   "attachments": {
    "image.png": {
     "image/png": "[encoded data removed]"
    }
   },
   "cell_type": "markdown",
   "id": "21288327",
   "metadata": {},
   "source": [
    "![image.png](attachment:image.png)"
   ]
  },
  {
   "cell_type": "markdown",
   "id": "55435540",
   "metadata": {},
   "source": [
    "### 스택 구조와 프로세스 스택\n",
    "- 스택 구조는 프로세스 실행 구조의 가장 기본\n",
    "    - 함수 호출 시 프로세스 실행 구조를 스택과 비교해서 이해 필요"
   ]
  },
  {
   "cell_type": "code",
   "execution_count": 2,
   "id": "0e0e41c7",
   "metadata": {},
   "outputs": [
    {
     "name": "stdout",
     "output_type": "stream",
     "text": [
      "4\n",
      "3\n",
      "2\n",
      "1\n",
      "0\n",
      "ended\n",
      "returned 0\n",
      "returned 1\n",
      "returned 2\n",
      "returned 3\n",
      "returned 4\n"
     ]
    }
   ],
   "source": [
    "# 재귀 함수 : 자기 자신을 호출하는 함수\n",
    "def recursive(data):\n",
    "    if data < 0:\n",
    "        print(\"ended\")\n",
    "    else:\n",
    "        print(data)\n",
    "        recursive(data - 1)\n",
    "        print(\"returned\", data)\n",
    "\n",
    "recursive(4)"
   ]
  },
  {
   "cell_type": "markdown",
   "id": "a8e6fb8d",
   "metadata": {},
   "source": [
    "### 자료 구조 스택의 장단점\n",
    "**장점**\n",
    "- 구조가 단순해서, 구현이 쉽다\n",
    "- 데이터 저장/읽기 속도가 빠르다\n",
    " \n",
    "**단점** (일반적 스택 구현시)\n",
    "- 데이터 최대 갯수를 미리 정해야 한다\n",
    "   - 파이썬의 경우 재귀함수는 1000번까지만 호출 가능함\n",
    "- 저장 공간의 낭비가 발생할 수 있음\n",
    "    - 미리 최대 갯수만큼 저장 공간을 확보해야 함\n",
    "\n",
    "> 스택은 단순하고 빠른 성능을 위해 사용되므로, 보통 배열 구조를 활용해서 구현하는 것이 일반적임\n",
    ">> 이 경우, 위에서 열거한 단점이 있을 수 있음\n",
    " "
   ]
  },
  {
   "cell_type": "markdown",
   "id": "63d6b90c",
   "metadata": {},
   "source": [
    "### 파이썬 리스트 기능에서 제공하는 메서드로 스택 사용해보기\n",
    "- append(push), pop() 메서드 제공"
   ]
  },
  {
   "cell_type": "code",
   "execution_count": 6,
   "id": "862079f6",
   "metadata": {},
   "outputs": [
    {
     "name": "stdout",
     "output_type": "stream",
     "text": [
      "[5, 2, 3, 1]\n",
      "[1, 3, 2, 5]\n"
     ]
    }
   ],
   "source": [
    "# 스택 예제\n",
    "stack = []\n",
    "\n",
    "# 삽입(5) - 삽입(2) - 삽입(3) - 삽입(7) - 삭제() - 삽입(1) - 삽입(4) - 삭제() \n",
    "stack.append(5)\n",
    "stack.append(2)\n",
    "stack.append(3)\n",
    "stack.append(7)\n",
    "stack.pop()\n",
    "stack.append(1)\n",
    "stack.append(4)\n",
    "stack.pop()\n",
    "\n",
    "print(stack)  # 최하단 원소부터 출력\n",
    "print(stack[::-1])  # 최상단 원소부터 출력"
   ]
  },
  {
   "cell_type": "markdown",
   "id": "950a2895",
   "metadata": {},
   "source": [
    "파이썬에서 스택 이용시 별도의 라이브러리 사용 필요❌\n",
    "- 기본 리스트에서 `append()`와 `pop()` 메서드 이용시 스택 자료구조와 동일하게 작동\n",
    "    - `append()` : 리스트의 가장 뒤쪽에 데이터 삽입\n",
    "    - `pop()` : 리스트의 가장 뒤쪽에서 데이터를 꺼냄"
   ]
  },
  {
   "cell_type": "markdown",
   "id": "fca2ccb3",
   "metadata": {},
   "source": [
    "### 프로그래밍 연습\n",
    "\n",
    "#### 연습1. 리스트 변수로 스택을 다루는 pop, push기능을 구현해보기 \n",
    "- (pop, push 함수 사용하지 않고 직접 구현해보기)"
   ]
  },
  {
   "cell_type": "code",
   "execution_count": 8,
   "id": "a922d387",
   "metadata": {},
   "outputs": [
    {
     "data": {
      "text/plain": [
       "9"
      ]
     },
     "execution_count": 8,
     "metadata": {},
     "output_type": "execute_result"
    }
   ],
   "source": [
    "stack = list()\n",
    "\n",
    "def push(data):\n",
    "    stack.append(data)\n",
    "\n",
    "def pop():\n",
    "    data = stack[-1]\n",
    "    del stack[-1]\n",
    "    return data\n",
    "\n",
    "for index in range(10):\n",
    "    push(index)\n",
    "\n",
    "pop()"
   ]
  }
 ],
 "metadata": {
  "kernelspec": {
   "display_name": "Python 3",
   "language": "python",
   "name": "python3"
  },
  "language_info": {
   "codemirror_mode": {
    "name": "ipython",
    "version": 3
   },
   "file_extension": ".py",
   "mimetype": "text/x-python",
   "name": "python",
   "nbconvert_exporter": "python",
   "pygments_lexer": "ipython3",
   "version": "3.8.8"
  }
 },
 "nbformat": 4,
 "nbformat_minor": 5
}
