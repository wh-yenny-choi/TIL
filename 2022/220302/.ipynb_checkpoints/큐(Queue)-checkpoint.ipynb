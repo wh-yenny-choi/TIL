{
 "cells": [
  {
   "cell_type": "markdown",
   "id": "ea762760",
   "metadata": {},
   "source": [
    "## 큐(Queue)\n",
    "> 대표적인 데이터 구조\n",
    "- 대기 줄에 비유 가능\n",
    "    - 나중에 온 사람일수록 나중에 들어간다\n",
    "- 흔히 '공정한' 자료구조라고 비유 된다\n",
    "- <mark>선입선출(FIFO) <sub>First In First Out</sub></mark>"
   ]
  },
  {
   "cell_type": "markdown",
   "id": "73ded02a",
   "metadata": {},
   "source": [
    "### 큐 구조\n",
    "- 가장 먼저 넣은 데이터를 가장 먼저 깨낼 수 있는 구조\n",
    "    - 음식점에서 가장 먼저 줄을 선 사람이 제일 먼저 입장하는 것과 동일한 방식\n",
    "- FIFO 또는 LILO 방식으로 스택과 꺼내는 순서가 반대\n",
    "    - FIFO (First In First Out) \n",
    "    - LILO (Last In Last Out)"
   ]
  },
  {
   "attachments": {
    "image.png": {
     "image/png": "[encoded data removed]"
    }
   },
   "cell_type": "markdown",
   "id": "317b8eb1",
   "metadata": {},
   "source": [
    "![image.png](attachment:image.png)"
   ]
  },
  {
   "cell_type": "markdown",
   "id": "309232dd",
   "metadata": {},
   "source": [
    "### 알아둘 용어\n",
    "- Enqueue : 큐에 데이터를 넣는 기능\n",
    "- Dequeue : 큐에 데이터를 꺼내는 기능\n",
    "\n",
    "### 파이썬 queue라이브러리 활용해서 큐 자료 구조 사용하기\n",
    "- **queue라이브러리에는 다양한 큐 구조로 `Queue()`, `LifoQueue()`, `PriorityQueue()` 제공**\n",
    "- 프로그램을 작성할 때 프로그램에 따라 적합한 자료 구조를 사용\n",
    "    - Queue() : 가장 일반적인 큐 자료 구조\n",
    "    - LifoQueue() : 나중에 입력된 데이터가 먼저 출력되는 구조 (스택 구조)\n",
    "    - PriorityQueue() : 데이터마다 우선순위를 넣어서, 우선순위가 높은 순으로 데이터 출력\n",
    "> 일반적인 큐 외에 다양한 정책이 적용된 큐들이 있음"
   ]
  },
  {
   "cell_type": "markdown",
   "id": "2fdd5a77",
   "metadata": {},
   "source": [
    "#### 큐 예제"
   ]
  },
  {
   "cell_type": "code",
   "execution_count": 27,
   "id": "b76d6c6c",
   "metadata": {},
   "outputs": [
    {
     "name": "stdout",
     "output_type": "stream",
     "text": [
      "deque([3, 7, 1, 4])\n",
      "deque([4, 1, 7, 3])\n"
     ]
    }
   ],
   "source": [
    "from collections import deque\n",
    "\n",
    "# 큐 구현을 위해 deque라이브러리 사용\n",
    "queue = deque()\n",
    "\n",
    "queue.append(5)\n",
    "queue.append(2)\n",
    "queue.append(3)\n",
    "queue.append(7)\n",
    "queue.popleft()\n",
    "queue.append(1)\n",
    "queue.append(4)\n",
    "queue.popleft()\n",
    "\n",
    "print(queue)  # 먼저 들어온 순서대로 출력\n",
    "queue.reverse()  # 다음 출력을 위해 역순으로 바꾸기\n",
    "print(queue)  # 나중에 들어온 원소부터 출력"
   ]
  },
  {
   "cell_type": "markdown",
   "id": "7467da62",
   "metadata": {},
   "source": [
    "#### Queue()로 큐 만들기 (가장 일반적인 큐, FIFO)"
   ]
  },
  {
   "cell_type": "code",
   "execution_count": 3,
   "id": "37e6c601",
   "metadata": {},
   "outputs": [],
   "source": [
    "import queue\n",
    "\n",
    "data_queue = queue.Queue()\n",
    "data_queue.put('one')\n",
    "data_queue.put(1)"
   ]
  },
  {
   "cell_type": "code",
   "execution_count": 4,
   "id": "344fb1ad",
   "metadata": {},
   "outputs": [
    {
     "data": {
      "text/plain": [
       "2"
      ]
     },
     "execution_count": 4,
     "metadata": {},
     "output_type": "execute_result"
    }
   ],
   "source": [
    "data_queue.qsize()"
   ]
  },
  {
   "cell_type": "code",
   "execution_count": 6,
   "id": "459db0be",
   "metadata": {},
   "outputs": [
    {
     "data": {
      "text/plain": [
       "'one'"
      ]
     },
     "execution_count": 6,
     "metadata": {},
     "output_type": "execute_result"
    }
   ],
   "source": [
    "data_queue.get()"
   ]
  },
  {
   "cell_type": "code",
   "execution_count": 7,
   "id": "ed590fef",
   "metadata": {},
   "outputs": [
    {
     "data": {
      "text/plain": [
       "1"
      ]
     },
     "execution_count": 7,
     "metadata": {},
     "output_type": "execute_result"
    }
   ],
   "source": [
    "data_queue.qsize()"
   ]
  },
  {
   "cell_type": "code",
   "execution_count": 8,
   "id": "ddfe63c3",
   "metadata": {},
   "outputs": [
    {
     "data": {
      "text/plain": [
       "1"
      ]
     },
     "execution_count": 8,
     "metadata": {},
     "output_type": "execute_result"
    }
   ],
   "source": [
    "data_queue.get()"
   ]
  },
  {
   "cell_type": "markdown",
   "id": "bcc5d8bf",
   "metadata": {},
   "source": [
    "#### LifoQueue()로 큐 만들기 (LIFO)"
   ]
  },
  {
   "cell_type": "code",
   "execution_count": 9,
   "id": "1bc36eae",
   "metadata": {},
   "outputs": [],
   "source": [
    "import queue\n",
    "\n",
    "data_queue = queue.LifoQueue()\n",
    "data_queue.put('one')\n",
    "data_queue.put(1)"
   ]
  },
  {
   "cell_type": "code",
   "execution_count": 10,
   "id": "6dbdfd47",
   "metadata": {},
   "outputs": [
    {
     "data": {
      "text/plain": [
       "2"
      ]
     },
     "execution_count": 10,
     "metadata": {},
     "output_type": "execute_result"
    }
   ],
   "source": [
    "data_queue.qsize()"
   ]
  },
  {
   "cell_type": "code",
   "execution_count": 11,
   "id": "655cdc18",
   "metadata": {},
   "outputs": [
    {
     "data": {
      "text/plain": [
       "1"
      ]
     },
     "execution_count": 11,
     "metadata": {},
     "output_type": "execute_result"
    }
   ],
   "source": [
    "data_queue.get()"
   ]
  },
  {
   "cell_type": "markdown",
   "id": "ad63ff17",
   "metadata": {},
   "source": [
    "#### PriorityQueue()로 큐 만들기"
   ]
  },
  {
   "cell_type": "code",
   "execution_count": 13,
   "id": "303d6771",
   "metadata": {},
   "outputs": [],
   "source": [
    "import queue\n",
    "\n",
    "data_queue = queue.PriorityQueue()"
   ]
  },
  {
   "cell_type": "code",
   "execution_count": 14,
   "id": "78fd7173",
   "metadata": {},
   "outputs": [],
   "source": [
    "data_queue.put((10, 'korea'))\n",
    "data_queue.put((5,1))\n",
    "data_queue.put((15, 'south'))"
   ]
  },
  {
   "cell_type": "code",
   "execution_count": 15,
   "id": "c9cbf20d",
   "metadata": {},
   "outputs": [
    {
     "data": {
      "text/plain": [
       "3"
      ]
     },
     "execution_count": 15,
     "metadata": {},
     "output_type": "execute_result"
    }
   ],
   "source": [
    "data_queue.qsize()"
   ]
  },
  {
   "cell_type": "code",
   "execution_count": 16,
   "id": "c0c3a0b7",
   "metadata": {},
   "outputs": [
    {
     "data": {
      "text/plain": [
       "(5, 1)"
      ]
     },
     "execution_count": 16,
     "metadata": {},
     "output_type": "execute_result"
    }
   ],
   "source": [
    "data_queue.get()"
   ]
  },
  {
   "cell_type": "code",
   "execution_count": 17,
   "id": "8f098868",
   "metadata": {},
   "outputs": [
    {
     "data": {
      "text/plain": [
       "(10, 'korea')"
      ]
     },
     "execution_count": 17,
     "metadata": {},
     "output_type": "execute_result"
    }
   ],
   "source": [
    "data_queue.get()"
   ]
  },
  {
   "cell_type": "code",
   "execution_count": 18,
   "id": "6b13109a",
   "metadata": {},
   "outputs": [
    {
     "data": {
      "text/plain": [
       "(15, 'south')"
      ]
     },
     "execution_count": 18,
     "metadata": {},
     "output_type": "execute_result"
    }
   ],
   "source": [
    "data_queue.get()"
   ]
  },
  {
   "cell_type": "markdown",
   "id": "3be366d5",
   "metadata": {},
   "source": [
    "### 참고: 어디에 큐가 많이 쓰일까?\n",
    "- 멀티 태스킹을 위한 프로세스 스케쥴링 방식을 구현하기 위해 많이 사용됨 (운영체제 참조)\n",
    "> 큐의 경우에는 장단점 보다는 (특별히 언급되는 장단점이 없음), 큐의 활용 예로 프로세스 스케쥴링 방식을 함께 이해해두는 것이 좋음\n",
    "\n",
    "### 프로그래밍 연습\n",
    "#### 연습1. 리스트 변수로 큐를 다루는 enqueue, dequeue 기능 구현해보기"
   ]
  },
  {
   "cell_type": "code",
   "execution_count": 24,
   "id": "074a6184",
   "metadata": {},
   "outputs": [],
   "source": [
    "queue_list = list()\n",
    "\n",
    "def enqueue(data):\n",
    "    queue_list.append(data)\n",
    "\n",
    "def dequeue():\n",
    "    data = queue_list[0]\n",
    "    del queue_list[0]\n",
    "    return data"
   ]
  },
  {
   "cell_type": "code",
   "execution_count": 25,
   "id": "d06b1554",
   "metadata": {},
   "outputs": [
    {
     "data": {
      "text/plain": [
       "10"
      ]
     },
     "execution_count": 25,
     "metadata": {},
     "output_type": "execute_result"
    }
   ],
   "source": [
    "for index in range(10):\n",
    "    enqueue(index)\n",
    "\n",
    "len(queue_list)"
   ]
  },
  {
   "cell_type": "code",
   "execution_count": 26,
   "id": "484897fd",
   "metadata": {},
   "outputs": [
    {
     "data": {
      "text/plain": [
       "0"
      ]
     },
     "execution_count": 26,
     "metadata": {},
     "output_type": "execute_result"
    }
   ],
   "source": [
    "dequeue()"
   ]
  }
 ],
 "metadata": {
  "kernelspec": {
   "display_name": "Python 3",
   "language": "python",
   "name": "python3"
  },
  "language_info": {
   "codemirror_mode": {
    "name": "ipython",
    "version": 3
   },
   "file_extension": ".py",
   "mimetype": "text/x-python",
   "name": "python",
   "nbconvert_exporter": "python",
   "pygments_lexer": "ipython3",
   "version": "3.8.8"
  }
 },
 "nbformat": 4,
 "nbformat_minor": 5
}
