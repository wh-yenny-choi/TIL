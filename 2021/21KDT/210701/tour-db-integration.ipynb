{
 "cells": [
  {
   "cell_type": "code",
   "execution_count": null,
   "id": "bronze-remainder",
   "metadata": {},
   "outputs": [],
   "source": []
  },
  {
   "cell_type": "code",
   "execution_count": 1,
   "id": "selected-decrease",
   "metadata": {},
   "outputs": [],
   "source": [
    "from selenium import webdriver as wd\n",
    "from bs4 import BeautifulSoup as bs\n",
    "from selenium.webdriver.common.by import By\n",
    "# 명시적 대기를 위해 \n",
    "from selenium.webdriver.support.ui import WebDriverWait\n",
    "from selenium.webdriver.support import expected_conditions as EC\n",
    "import time"
   ]
  },
  {
   "cell_type": "code",
   "execution_count": 2,
   "id": "internal-charger",
   "metadata": {},
   "outputs": [],
   "source": [
    "# 상품 정보를 담는 클레스\n",
    "class TourInfo:\n",
    "    # 맴버변수 (실제 컬럼보다는 작게 세팅했음)\n",
    "    title = ''\n",
    "    price = ''\n",
    "    area  = ''\n",
    "    link  = ''\n",
    "    img   = ''\n",
    "    contents = ''\n",
    "    # 생성자\n",
    "    def __init__(self, title, price, area, link, img, contents=None ):\n",
    "        self.title = title\n",
    "        self.price = price\n",
    "        self.area  = area\n",
    "        self.link  = link\n",
    "        self.img   = img\n",
    "        self.contents = contents"
   ]
  },
  {
   "cell_type": "code",
   "execution_count": 3,
   "id": "convertible-balloon",
   "metadata": {},
   "outputs": [],
   "source": [
    "# 디비 처리, 연결, 해제, 검색어 가져오기, 데이터 삽입\n",
    "import pymysql as my\n",
    "\n",
    "class DBHelper:\n",
    "    '''\n",
    "    맴버변수 : 커넥션 \n",
    "    '''\n",
    "    conn = None\n",
    "    '''\n",
    "    생성자\n",
    "    '''\n",
    "    def __init__(self):\n",
    "        self.db_init()\n",
    "    '''\n",
    "    맴버 함수\n",
    "    '''\n",
    "    def db_init(self):\n",
    "        self.conn = my.connect(\n",
    "                        host='localhost',\n",
    "                        user='root',\n",
    "                        password='8023',\n",
    "                        db='pythondb',\n",
    "                        charset='utf8',\n",
    "                        cursorclass=my.cursors.DictCursor )\n",
    "    \n",
    "    def db_free(self):\n",
    "        if self.conn:\n",
    "            self.conn.close()\n",
    "\n",
    "    # 검색 키워드 가져오기 => 웹에서 검색\n",
    "    def db_selectKeyword(self):\n",
    "        # 커서 오픈\n",
    "        # with => 닫기를 처리를 자동으로 처리해준다 => I/O 많이 사용\n",
    "        rows = None\n",
    "        with self.conn.cursor() as cursor:\n",
    "            sql  = \"select * from tbl_keyword;\"\n",
    "            cursor.execute(sql)\n",
    "            rows = cursor.fetchall()\n",
    "            print(rows)\n",
    "        return rows\n",
    "        \n",
    "    def db_insertCrawlingData(self, title, price, area, contents, keyword ):\n",
    "        with self.conn.cursor() as cursor:\n",
    "            sql = \"insert into tbl_crawlingdata (title, price, area, contents, keyword) values( %s,%s,%s,%s,%s );\"\n",
    "            cursor.execute(sql, (title, price, area, contents, keyword) )\n",
    "        self.conn.commit()"
   ]
  },
  {
   "cell_type": "code",
   "execution_count": 4,
   "id": "assured-scoop",
   "metadata": {},
   "outputs": [
    {
     "name": "stderr",
     "output_type": "stream",
     "text": [
      "C:\\Users\\ftsv2\\Anaconda3\\envs\\multi\\lib\\site-packages\\ipykernel_launcher.py:13: DeprecationWarning: 'db' is deprecated, use 'database'\n",
      "  del sys.path[0]\n"
     ]
    }
   ],
   "source": [
    "# 사전에 필요한 정보를 로드 => 디비혹스 쉘, 베치 파일에서 인자로 받아서 세팅\n",
    "db       = DBHelper()\n",
    "main_url = 'http://tour.interpark.com/' \n",
    "keyword  = '로마'\n",
    "# 상품 정보를 담는 리스트 (TourInfo 리스트)\n",
    "tour_list = []"
   ]
  },
  {
   "cell_type": "code",
   "execution_count": 5,
   "id": "minor-number",
   "metadata": {},
   "outputs": [
    {
     "name": "stderr",
     "output_type": "stream",
     "text": [
      "C:\\Users\\ftsv2\\Anaconda3\\envs\\multi\\lib\\site-packages\\ipykernel_launcher.py:2: DeprecationWarning: executable_path has been deprecated, please pass in a Service object\n",
      "  \n"
     ]
    }
   ],
   "source": [
    "# 윈도우용\n",
    "driver = wd.Chrome(executable_path='chromedriver.exe')"
   ]
  },
  {
   "cell_type": "code",
   "execution_count": 6,
   "id": "other-pearl",
   "metadata": {},
   "outputs": [
    {
     "name": "stderr",
     "output_type": "stream",
     "text": [
      "C:\\Users\\ftsv2\\Anaconda3\\envs\\multi\\lib\\site-packages\\selenium\\webdriver\\remote\\webdriver.py:390: UserWarning: find_element_by_* commands are deprecated. Please use find_element() instead\n",
      "  warnings.warn(\"find_element_by_* commands are deprecated. Please use find_element() instead\")\n",
      "C:\\Users\\ftsv2\\Anaconda3\\envs\\multi\\lib\\site-packages\\selenium\\webdriver\\remote\\webdriver.py:670: UserWarning: find_element_by_* commands are deprecated. Please use find_element() instead\n",
      "  warnings.warn(\"find_element_by_* commands are deprecated. Please use find_element() instead\")\n"
     ]
    }
   ],
   "source": [
    "# 사이트 접속 (get)\n",
    "driver.get(main_url)\n",
    "# 검색창을 찾아서 검색어 입력\n",
    "# id : SearchGNBText\n",
    "driver.find_element_by_id('SearchGNBText').send_keys(keyword)\n",
    "# 수정할경우 => 뒤에 내용이 붙어버림 => .clear() -> send_keys('내용')\n",
    "# 검색 버튼 클릭\n",
    "driver.find_element_by_css_selector('button.search-btn').click()"
   ]
  },
  {
   "cell_type": "code",
   "execution_count": 7,
   "id": "purple-overall",
   "metadata": {},
   "outputs": [],
   "source": [
    "# 잠시 대기 => 페이가 로드되고 나서 즉각적으로 데이터를 획득 하는 행위는 \n",
    "# 명시적 대기 => 특정 요소가 로케이트(발결된때까지) 대기\n",
    "try:\n",
    "    element = WebDriverWait(driver, 10).until(\n",
    "        # 지정한 한개 요소가 올라면 웨이트 종료\n",
    "        EC.presence_of_element_located( (By.CLASS_NAME, 'oTravelBox') )\n",
    "    )\n",
    "except Exception as e:\n",
    "    print( '오류 발생', e)\n",
    "# 암묵적 대기 => DOM이 다 로드 될때까지 대기 하고 먼저 로드되면 바로 진행\n",
    "# 요소를 찾을 특정 시간 동안 DOM 풀링을 지시 예를 들어 10 초이내 라로 \n",
    "# 발견 되면 진행\n",
    "driver.implicitly_wait( 10 )\n",
    "# 절대기 대기 => time.sleep(10) -> 클라우드 페어(디도스 방어  솔류션)\n",
    "# 더보기 눌러서 => 게시판 진입 \n",
    "driver.find_element_by_css_selector('.oTravelBox>.boxList>.moreBtnWrap>.moreBtn').click()"
   ]
  },
  {
   "cell_type": "code",
   "execution_count": 8,
   "id": "scheduled-marina",
   "metadata": {},
   "outputs": [
    {
     "name": "stdout",
     "output_type": "stream",
     "text": [
      "1 페이지 이동\n",
      "썸네임 http://tourimage.interpark.com/product/tour/00161/A30/280/A3015008_14_870.jpg\n",
      "링크 searchModule.OnClickDetail('http://tour.interpark.com/goods/detail/?BaseGoodsCd=A3015008','')\n",
      "상품명 [4국10일_대한항공]1급_융프라우_런던&로마 야간투어\n",
      "코멘트 #베르사유궁전내부 #바티칸하이패스\n",
      "가격"
     ]
    },
    {
     "name": "stderr",
     "output_type": "stream",
     "text": [
      "C:\\Users\\ftsv2\\Anaconda3\\envs\\multi\\lib\\site-packages\\selenium\\webdriver\\remote\\webdriver.py:689: UserWarning: find_elements_by_* commands are deprecated. Please use find_elements() instead\n",
      "  warnings.warn(\"find_elements_by_* commands are deprecated. Please use find_elements() instead\")\n",
      "C:\\Users\\ftsv2\\Anaconda3\\envs\\multi\\lib\\site-packages\\selenium\\webdriver\\remote\\webelement.py:487: UserWarning: find_element_by_* commands are deprecated. Please use find_element() instead\n",
      "  warnings.warn(\"find_element_by_* commands are deprecated. Please use find_element() instead\")\n"
     ]
    },
    {
     "name": "stdout",
     "output_type": "stream",
     "text": [
      " 3,240,000 원~\n",
      "여행 기간 : 8박10일\n",
      "출발 가능 기간 : 2021.07.01~2021.12.30\n",
      "평점 9.7\n",
      "15개의 상품평\n",
      "====================================================================================================\n",
      "썸네임 http://tourimage.interpark.com/product/tour/00161/A30/280/A3017982_1_870.jpg\n",
      "링크 searchModule.OnClickDetail('http://tour.interpark.com/goods/detail/?BaseGoodsCd=A3017982','')\n",
      "상품명 [2인이상 단독여행_이탈리아 8일] 로마+피렌체+베네치아 (항공제외)\n",
      "코멘트 가이드 안내 + 자유 일정의 장점만 쏙쏙\n",
      "가격 1,600,000 원~\n",
      "여행 기간 : 6박7일\n",
      "출발 가능 기간 : 2022.12.31~2022.12.31\n",
      "평점 0.0\n",
      "0개의 상품평\n",
      "====================================================================================================\n",
      "썸네임 http://tourimage.interpark.com/product/tour/00161/A30/280/A3017907_4_580.jpg\n",
      "링크 searchModule.OnClickDetail('http://tour.interpark.com/goods/detail/?BaseGoodsCd=A3017907','')\n",
      "상품명 [소그룹_서유럽 4국10일] 런던&로마 야간투어+융프라우\n",
      "코멘트 ★소그룹_10명이상 출발 ! 최대 인원 15명 !★\n",
      "가격 3,300,000 원~\n",
      "여행 기간 : 8박10일\n",
      "출발 가능 기간 : 2021.07.01~2021.12.30\n",
      "평점 0.0\n",
      "0개의 상품평\n",
      "====================================================================================================\n",
      "썸네임 http://tourimage.interpark.com/product/tour/00161/A30/280/A3016614_1_430.jpg\n",
      "링크 searchModule.OnClickDetail('http://tour.interpark.com/goods/detail/?BaseGoodsCd=A3016614','')\n",
      "상품명 [서유럽 10일]1급호텔_천공의 도시 치비타_융프라우_런던+로마야간\n",
      "코멘트 치비타 디 바뇨레지오 내부\n",
      "가격 3,100,000 원~\n",
      "여행 기간 : 8박10일\n",
      "출발 가능 기간 : 2021.07.01~2021.12.30\n",
      "평점 0.0\n",
      "0개의 상품평\n",
      "====================================================================================================\n",
      "썸네임 http://tourimage.interpark.com/product/tour/00161/A30/280/A3012934_10_067.jpg\n",
      "링크 searchModule.OnClickDetail('http://tour.interpark.com/goods/detail/?BaseGoodsCd=A3012934','')\n",
      "상품명 [서유럽 3국 9일] 융프라우/바티칸하이패스_아시아나\n",
      "코멘트 ＃주말출발 ＃국적기이용 ＃베르사유포함\n",
      "가격 2,990,000 원~\n",
      "여행 기간 : 7박9일\n",
      "출발 가능 기간 : 2021.07.03~2021.12.26\n",
      "평점 9.2\n",
      "564개의 상품평\n",
      "====================================================================================================\n",
      "썸네임 http://tourimage.interpark.com/product/tour/00161/A30/280/A3014578_11_343.jpg\n",
      "링크 searchModule.OnClickDetail('http://tour.interpark.com/goods/detail/?BaseGoodsCd=A3014578','')\n",
      "상품명 [스위스/이태리 9일] 1급호텔+체르마트+융프라우+툰호수\n",
      "코멘트 툰호수 유람선 탑승 / 퐁뒤+티본스테이크\n",
      "가격 2,990,000 원~\n",
      "여행 기간 : 7박9일\n",
      "출발 가능 기간 : 2021.07.01~2021.12.30\n",
      "평점 9.3\n",
      "98개의 상품평\n",
      "====================================================================================================\n",
      "썸네임 http://tourimage.interpark.com/product/tour/00161/A30/280/A3012471_20_170.jpg\n",
      "링크 searchModule.OnClickDetail('http://tour.interpark.com/goods/detail/?BaseGoodsCd=A3012471','')\n",
      "상품명 [서유럽 6국 12일] 뮈렌/베르사유/3대박물관\n",
      "코멘트 #최고의유럽여행을꿈꾼다면 #서유럽일주\n",
      "가격 3,025,000 원~\n",
      "여행 기간 : 10박12일\n",
      "출발 가능 기간 : 2021.07.01~2021.12.30\n",
      "평점 8.7\n",
      "88개의 상품평\n",
      "====================================================================================================\n",
      "썸네임 http://tourimage.interpark.com/product/tour/00161/A30/280/A3013963_23_130.jpg\n",
      "링크 searchModule.OnClickDetail('http://tour.interpark.com/goods/detail/?BaseGoodsCd=A3013963','')\n",
      "상품명 [서유럽 6국 12일] 바티칸하이패스+특식+호텔UP!\n",
      "코멘트 ★선착순★ 특별한 혜택이 팡팡!!\n",
      "가격 3,175,000 원~\n",
      "여행 기간 : 10박12일\n",
      "출발 가능 기간 : 2021.07.01~2021.12.30\n",
      "평점 8.9\n",
      "85개의 상품평\n",
      "====================================================================================================\n",
      "썸네임 http://tourimage.interpark.com/product/tour/00161/A30/280/A3014604_8_990.jpg\n",
      "링크 searchModule.OnClickDetail('http://tour.interpark.com/goods/detail/?BaseGoodsCd=A3014604','')\n",
      "상품명 [스위스/이태리9일] 1급UP! 리기정상식+몽트뢰/프라이부르크\n",
      "코멘트 국적기 직항/루체른/몽트뢰/프라이부르크\n",
      "가격 2,840,000 원~\n",
      "여행 기간 : 7박9일\n",
      "출발 가능 기간 : 2021.07.01~2021.12.30\n",
      "평점 9.0\n",
      "82개의 상품평\n",
      "====================================================================================================\n",
      "썸네임 http://tourimage.interpark.com/product/tour/00161/A30/280/A3015881_21_750.jpg\n",
      "링크 searchModule.OnClickDetail('http://tour.interpark.com/goods/detail/?BaseGoodsCd=A3015881','')\n",
      "상품명 [서유럽 4국 12일] 융프라우VIP패스+남프랑스\n",
      "코멘트 융프라우 VIP패스 2DAY + 전일정 1급 호텔\n",
      "가격 3,800,000 원~\n",
      "여행 기간 : 10박12일\n",
      "출발 가능 기간 : 2021.07.01~2021.12.30\n",
      "평점 8.9\n",
      "81개의 상품평\n",
      "====================================================================================================\n",
      "[<__main__.TourInfo object at 0x0000022C20C11308>, <__main__.TourInfo object at 0x0000022C2096E048>, <__main__.TourInfo object at 0x0000022C20C104C8>, <__main__.TourInfo object at 0x0000022C20C45E08>, <__main__.TourInfo object at 0x0000022C20C35B08>, <__main__.TourInfo object at 0x0000022C20C33DC8>, <__main__.TourInfo object at 0x0000022C20BF0DC8>, <__main__.TourInfo object at 0x0000022C20C107C8>, <__main__.TourInfo object at 0x0000022C20C4F5C8>, <__main__.TourInfo object at 0x0000022C20C45F48>] 10\n"
     ]
    },
    {
     "name": "stderr",
     "output_type": "stream",
     "text": [
      "C:\\Users\\ftsv2\\Anaconda3\\envs\\multi\\lib\\site-packages\\selenium\\webdriver\\remote\\webelement.py:505: UserWarning: find_elements_by_* commands are deprecated. Please use find_elements() instead\n",
      "  warnings.warn(\"find_elements_by_* commands are deprecated. Please use find_elements() instead\")\n"
     ]
    }
   ],
   "source": [
    "# searchModule.SetCategoryList(1, '') 스크립트 실행\n",
    "# 16은 임시값, 게시물을 넘어갔을때 현상을 확인차\n",
    "for page in range(1, 2):#16):\n",
    "    try:\n",
    "        # 자바스크립트 구동하기\n",
    "        driver.execute_script(\"searchModule.SetCategoryList(%s, '')\" % page)\n",
    "        time.sleep(2)\n",
    "        print(\"%s 페이지 이동\" % page)\n",
    "        #############################################################\n",
    "        # 여러 사이트에서 정보를 수집할 경우 공통 정보 정의 단계 필요\n",
    "        # 상품명, 코멘트, 기간1, 기간2, 가격, 평점, 썸네일, 링크(상품상세정보)\n",
    "        boxItems = driver.find_elements_by_css_selector('.oTravelBox>.boxList>li')\n",
    "        # 상품 하나 하나 접근\n",
    "        for li in boxItems:\n",
    "            # 이미지를 링크값을 사용할것인가? \n",
    "            # 직접 다운로드 해서 우리 서버에 업로드(ftp) 할것인가?\n",
    "            print( '썸네임', li.find_element_by_css_selector('img').get_attribute('src') )\n",
    "            print( '링크', li.find_element_by_css_selector('a').get_attribute('onclick') )\n",
    "            print( '상품명', li.find_element_by_css_selector('h5.proTit').text )\n",
    "            print( '코멘트', li.find_element_by_css_selector('.proSub').text )\n",
    "            print( '가격',   li.find_element_by_css_selector('.proPrice').text )\n",
    "            area = ''\n",
    "            for info in li.find_elements_by_css_selector('.info-row .proInfo'):\n",
    "                print(  info.text )\n",
    "            print('='*100)\n",
    "            # 데이터 모음\n",
    "            # li.find_elements_by_css_selector('.info-row .proInfo')[1].text\n",
    "            # 데이터가 부족하거나 없을수도 있으므로 직접 인덱스로 표현은 위험성이 있음\n",
    "            obj = TourInfo(  \n",
    "                li.find_element_by_css_selector('h5.proTit').text,\n",
    "                li.find_element_by_css_selector('.proPrice').text,\n",
    "                li.find_elements_by_css_selector('.info-row .proInfo')[1].text,\n",
    "                li.find_element_by_css_selector('a').get_attribute('onclick'),\n",
    "                li.find_element_by_css_selector('img').get_attribute('src')\n",
    "            )\n",
    "            tour_list.append( obj )\n",
    "    except Exception as e1:\n",
    "        print( '오류', e1 )\n",
    "\n",
    "print( tour_list, len(tour_list) )\n",
    "# 수집한 정보 개수를 루프 => 페이지 방문 => 콘텐츠 획득(상품상세정보) => 디비"
   ]
  },
  {
   "cell_type": "code",
   "execution_count": 11,
   "id": "c6e55a2b-2129-4bad-86cc-3caba696c2b0",
   "metadata": {},
   "outputs": [],
   "source": [
    "tour_list[0].contents"
   ]
  },
  {
   "cell_type": "code",
   "execution_count": 12,
   "id": "a084a355-e4e6-410d-b1fb-97e794f6bb48",
   "metadata": {},
   "outputs": [
    {
     "data": {
      "text/plain": [
       "'3,240,000 원~'"
      ]
     },
     "execution_count": 12,
     "metadata": {},
     "output_type": "execute_result"
    }
   ],
   "source": [
    "tour_list[0].price"
   ]
  },
  {
   "cell_type": "code",
   "execution_count": 13,
   "id": "43eb879f-21d1-41d1-a028-d35da000d358",
   "metadata": {},
   "outputs": [
    {
     "data": {
      "text/plain": [
       "\"searchModule.OnClickDetail('http://tour.interpark.com/goods/detail/?BaseGoodsCd=A3015008','')\""
      ]
     },
     "execution_count": 13,
     "metadata": {},
     "output_type": "execute_result"
    }
   ],
   "source": [
    "tour_list[0].link"
   ]
  },
  {
   "cell_type": "code",
   "execution_count": 15,
   "id": "686b65cb-8b08-43b0-966f-7ec214bff19a",
   "metadata": {},
   "outputs": [
    {
     "data": {
      "text/plain": [
       "[\"searchModule.OnClickDetail('http://tour.interpark.com/goods/detail/?BaseGoodsCd=A3015008'\",\n",
       " \"'')\"]"
      ]
     },
     "execution_count": 15,
     "metadata": {},
     "output_type": "execute_result"
    }
   ],
   "source": [
    "arr = tour_list[0].link.split(',')\n",
    "arr"
   ]
  },
  {
   "cell_type": "code",
   "execution_count": 16,
   "id": "16b533b7-6de8-4efe-936d-e8ab6def9ae0",
   "metadata": {},
   "outputs": [
    {
     "data": {
      "text/plain": [
       "2"
      ]
     },
     "execution_count": 16,
     "metadata": {},
     "output_type": "execute_result"
    }
   ],
   "source": [
    "len(arr)"
   ]
  },
  {
   "cell_type": "code",
   "execution_count": 17,
   "id": "39982d69-36f1-469b-9f54-44daac00d3ec",
   "metadata": {},
   "outputs": [
    {
     "data": {
      "text/plain": [
       "\"searchModule.OnClickDetail('http://tour.interpark.com/goods/detail/?BaseGoodsCd=A3015008'\""
      ]
     },
     "execution_count": 17,
     "metadata": {},
     "output_type": "execute_result"
    }
   ],
   "source": [
    "arr[0]"
   ]
  },
  {
   "cell_type": "code",
   "execution_count": 18,
   "id": "f4f01ad5-32cd-4c4b-83c3-5e1efef9e3ff",
   "metadata": {},
   "outputs": [
    {
     "data": {
      "text/plain": [
       "\"'')\""
      ]
     },
     "execution_count": 18,
     "metadata": {},
     "output_type": "execute_result"
    }
   ],
   "source": [
    "arr[1]"
   ]
  },
  {
   "cell_type": "code",
   "execution_count": 26,
   "id": "b15c7ba6-815e-4408-b2e1-c3d80c98a900",
   "metadata": {},
   "outputs": [],
   "source": [
    "link = arr[0].replace(\"searchModule.OnClickDetail('\",\"\")"
   ]
  },
  {
   "cell_type": "code",
   "execution_count": 27,
   "id": "c9aeb425-be38-45f3-8723-e00efb5523c2",
   "metadata": {},
   "outputs": [
    {
     "data": {
      "text/plain": [
       "\"http://tour.interpark.com/goods/detail/?BaseGoodsCd=A3015008'\""
      ]
     },
     "execution_count": 27,
     "metadata": {},
     "output_type": "execute_result"
    }
   ],
   "source": [
    "link"
   ]
  },
  {
   "cell_type": "code",
   "execution_count": 31,
   "id": "42e92f1f-70c1-4c4c-b29e-5601333ddb2d",
   "metadata": {},
   "outputs": [
    {
     "data": {
      "text/plain": [
       "\"'\""
      ]
     },
     "execution_count": 31,
     "metadata": {},
     "output_type": "execute_result"
    }
   ],
   "source": [
    "link[-1]"
   ]
  },
  {
   "cell_type": "code",
   "execution_count": 29,
   "id": "e998b464-bc4d-47ca-aa03-1a3f40345c3f",
   "metadata": {},
   "outputs": [
    {
     "data": {
      "text/plain": [
       "'http://tour.interpark.com/goods/detail/?BaseGoodsCd=A3015008'"
      ]
     },
     "execution_count": 29,
     "metadata": {},
     "output_type": "execute_result"
    }
   ],
   "source": [
    "detail_url = link[0:-1]\n",
    "detail_url"
   ]
  },
  {
   "cell_type": "code",
   "execution_count": 33,
   "id": "e7ae3d64-6fe4-478f-a69c-d49ebe6a042b",
   "metadata": {},
   "outputs": [],
   "source": [
    "driver.get(detail_url)"
   ]
  },
  {
   "cell_type": "code",
   "execution_count": 38,
   "id": "28b127d7-dc21-40bb-b4d0-665d2d2bdefc",
   "metadata": {},
   "outputs": [],
   "source": [
    "Bsoup = bs(driver.page_source, 'html.parser')"
   ]
  },
  {
   "cell_type": "code",
   "execution_count": 36,
   "id": "ae4b684e-4bf0-487c-9754-401569448536",
   "metadata": {},
   "outputs": [],
   "source": [
    "#Bsoup\n",
    "#beautifulsoup"
   ]
  },
  {
   "cell_type": "code",
   "execution_count": 40,
   "id": "23a71c8b-d750-42a5-933a-6da3cacbd514",
   "metadata": {},
   "outputs": [],
   "source": [
    "data = Bsoup.select('.tip-cover')"
   ]
  },
  {
   "cell_type": "code",
   "execution_count": 41,
   "id": "a2bbe8a6-f06f-46ed-b2d6-fb7ebc0a9dfa",
   "metadata": {},
   "outputs": [],
   "source": [
    "#data"
   ]
  },
  {
   "cell_type": "code",
   "execution_count": 42,
   "id": "1608fc4b-3fbb-4bd5-bda3-d980055c18e7",
   "metadata": {},
   "outputs": [
    {
     "data": {
      "text/plain": [
       "bs4.element.ResultSet"
      ]
     },
     "execution_count": 42,
     "metadata": {},
     "output_type": "execute_result"
    }
   ],
   "source": [
    "type(data)"
   ]
  },
  {
   "cell_type": "code",
   "execution_count": 43,
   "id": "21d6b2bf-5ab8-4827-bd20-ddb88673793e",
   "metadata": {},
   "outputs": [
    {
     "data": {
      "text/plain": [
       "1"
      ]
     },
     "execution_count": 43,
     "metadata": {},
     "output_type": "execute_result"
    }
   ],
   "source": [
    "len(data)"
   ]
  },
  {
   "cell_type": "code",
   "execution_count": 45,
   "id": "5f682d1d-c7fb-4167-b3fc-fb41a52da26c",
   "metadata": {},
   "outputs": [],
   "source": [
    "#data[0].contents"
   ]
  },
  {
   "cell_type": "code",
   "execution_count": 46,
   "id": "78a5fd21-086c-4f66-9440-4db9104379cc",
   "metadata": {},
   "outputs": [
    {
     "name": "stdout",
     "output_type": "stream",
     "text": [
      "<class 'bs4.element.ResultSet'> 1 <class 'list'>\n"
     ]
    }
   ],
   "source": [
    "print(type(data), len(data), type(data[0].contents))"
   ]
  },
  {
   "cell_type": "code",
   "execution_count": null,
   "id": "f27f006e-9160-4fa8-9c4a-8f8d1cee1156",
   "metadata": {},
   "outputs": [],
   "source": []
  },
  {
   "cell_type": "code",
   "execution_count": null,
   "id": "c724ffc8-e61e-4cf7-ad27-adb4fc54173d",
   "metadata": {},
   "outputs": [],
   "source": []
  },
  {
   "cell_type": "code",
   "execution_count": null,
   "id": "8cbe22db-de0c-4493-adae-1a6d4839f697",
   "metadata": {},
   "outputs": [],
   "source": []
  },
  {
   "cell_type": "code",
   "execution_count": null,
   "id": "applicable-flooring",
   "metadata": {},
   "outputs": [],
   "source": [
    "# 수집한 정보 개수를 루프 => 페이지 방문 => 콘텐츠 획득(상품상세정보) => 디비\n",
    "for tour in tour_list:\n",
    "    # tour => TourInfo\n",
    "    print( type(tour) )\n",
    "    # 링크 데이터에서 실데이터 획득\n",
    "    # 분해\n",
    "    arr = tour.link.split(',')\n",
    "    if arr:\n",
    "        # 대체\n",
    "        link = arr[0].replace('searchModule.OnClickDetail(','')\n",
    "        # 슬라이싱 => 앞에 ', 뒤에 ' 제거\n",
    "        detail_url = link[1:-1]\n",
    "        # 상세 페이지 이동 : URL 값이 완성된 형태인지 확인 (http~)\n",
    "        driver.get( detail_url )\n",
    "        time.sleep(2)\n",
    "        # pip install bs4\n",
    "        # 혖재 페이지를 beautifulsoup 의 DOM으로 구성\n",
    "        soup = bs( driver.page_source, 'html.parser')\n",
    "        # 현제 상세 정보 페이지에서 스케줄 정보 획득\n",
    "        data = soup.select('.tip-cover')\n",
    "        print( type(data), len(data), type(data[0].contents)  )\n",
    "        # \n",
    "        # 데이터 sum\n",
    "        data[0].contents = 'test' # me\n",
    "        content_final = ''\n",
    "        for c in data[0].contents:\n",
    "            content_final += str(c)\n",
    "        \n",
    "        # html 콘첸츠 데이터 전처리 (디비에 입력 가능토록)\n",
    "        import re\n",
    "        content_final   = re.sub(\"'\", '\"', content_final)\n",
    "        content_final   = re.sub(re.compile(r'\\r\\n|\\r|\\n|\\n\\r+'), '', content_final)\n",
    "\n",
    "        print( content_final )\n",
    "        # 콘텐츠 내용에 따라 전처리 => data[0].contents\n",
    "        db.db_insertCrawlingData(\n",
    "            tour.title,\n",
    "            tour.price[:-1],\n",
    "            tour.area.replace('출발 가능 기간 : ',''),\n",
    "            content_final,\n",
    "            keyword\n",
    "        )"
   ]
  },
  {
   "cell_type": "code",
   "execution_count": null,
   "id": "impressed-revision",
   "metadata": {},
   "outputs": [],
   "source": [
    "# 종료\n",
    "driver.close()\n",
    "driver.quit()\n",
    "import sys\n",
    "sys.exit()"
   ]
  },
  {
   "cell_type": "code",
   "execution_count": null,
   "id": "constant-continent",
   "metadata": {},
   "outputs": [],
   "source": []
  },
  {
   "cell_type": "code",
   "execution_count": 8,
   "id": "motivated-challenge",
   "metadata": {},
   "outputs": [
    {
     "name": "stdout",
     "output_type": "stream",
     "text": [
      "()\n",
      "()\n",
      "None\n"
     ]
    },
    {
     "name": "stderr",
     "output_type": "stream",
     "text": [
      "C:\\Users\\ftsv2\\Anaconda3\\envs\\multi\\lib\\site-packages\\ipykernel_launcher.py:13: DeprecationWarning: 'db' is deprecated, use 'database'\n",
      "  del sys.path[0]\n"
     ]
    }
   ],
   "source": [
    "# DB test        \n",
    "if __name__=='__main__':\n",
    "    db = DBHelper()\n",
    "    print( db.db_selectKeyword() )\n",
    "    print( db.db_insertCrawlingData('1','2','3','4','5') )\n",
    "    db.db_free()"
   ]
  },
  {
   "cell_type": "code",
   "execution_count": null,
   "id": "caring-comparative",
   "metadata": {},
   "outputs": [],
   "source": []
  }
 ],
 "metadata": {
  "kernelspec": {
   "display_name": "Python Multi",
   "language": "python",
   "name": "multi"
  },
  "language_info": {
   "codemirror_mode": {
    "name": "ipython",
    "version": 3
   },
   "file_extension": ".py",
   "mimetype": "text/x-python",
   "name": "python",
   "nbconvert_exporter": "python",
   "pygments_lexer": "ipython3",
   "version": "3.7.6"
  }
 },
 "nbformat": 4,
 "nbformat_minor": 5
}
