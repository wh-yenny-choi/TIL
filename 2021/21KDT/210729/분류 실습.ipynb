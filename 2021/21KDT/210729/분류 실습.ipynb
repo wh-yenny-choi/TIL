{
 "cells": [
  {
   "cell_type": "markdown",
   "id": "54170373-89c3-4f3d-a2c0-2b5001b826ee",
   "metadata": {},
   "source": [
    "# 분류 실습 : 캐글 신용카드 사기 검출"
   ]
  },
  {
   "cell_type": "markdown",
   "id": "278e8343-e2c9-44ce-8b56-e49d2b2c4573",
   "metadata": {},
   "source": [
    "## **데이터 일차 가공 및 모델 학습 / 예측 / 평가**"
   ]
  },
  {
   "cell_type": "markdown",
   "id": "5ffeb25c-04a1-473e-b0e5-00b15d5c9138",
   "metadata": {},
   "source": [
    "**'creditcard.csv' 파일 데이터 로드**"
   ]
  },
  {
   "cell_type": "code",
   "execution_count": 1,
   "id": "8d3c5b7e-4716-4feb-80db-0429208258ca",
   "metadata": {},
   "outputs": [
    {
     "data": {
      "text/html": [
       "<div>\n",
       "<style scoped>\n",
       "    .dataframe tbody tr th:only-of-type {\n",
       "        vertical-align: middle;\n",
       "    }\n",
       "\n",
       "    .dataframe tbody tr th {\n",
       "        vertical-align: top;\n",
       "    }\n",
       "\n",
       "    .dataframe thead th {\n",
       "        text-align: right;\n",
       "    }\n",
       "</style>\n",
       "<table border=\"1\" class=\"dataframe\">\n",
       "  <thead>\n",
       "    <tr style=\"text-align: right;\">\n",
       "      <th></th>\n",
       "      <th>Time</th>\n",
       "      <th>V1</th>\n",
       "      <th>V2</th>\n",
       "      <th>V3</th>\n",
       "      <th>V4</th>\n",
       "      <th>V5</th>\n",
       "      <th>V6</th>\n",
       "      <th>V7</th>\n",
       "      <th>V8</th>\n",
       "      <th>V9</th>\n",
       "      <th>...</th>\n",
       "      <th>V21</th>\n",
       "      <th>V22</th>\n",
       "      <th>V23</th>\n",
       "      <th>V24</th>\n",
       "      <th>V25</th>\n",
       "      <th>V26</th>\n",
       "      <th>V27</th>\n",
       "      <th>V28</th>\n",
       "      <th>Amount</th>\n",
       "      <th>Class</th>\n",
       "    </tr>\n",
       "  </thead>\n",
       "  <tbody>\n",
       "    <tr>\n",
       "      <th>0</th>\n",
       "      <td>0.0</td>\n",
       "      <td>-1.359807</td>\n",
       "      <td>-0.072781</td>\n",
       "      <td>2.536347</td>\n",
       "      <td>1.378155</td>\n",
       "      <td>-0.338321</td>\n",
       "      <td>0.462388</td>\n",
       "      <td>0.239599</td>\n",
       "      <td>0.098698</td>\n",
       "      <td>0.363787</td>\n",
       "      <td>...</td>\n",
       "      <td>-0.018307</td>\n",
       "      <td>0.277838</td>\n",
       "      <td>-0.110474</td>\n",
       "      <td>0.066928</td>\n",
       "      <td>0.128539</td>\n",
       "      <td>-0.189115</td>\n",
       "      <td>0.133558</td>\n",
       "      <td>-0.021053</td>\n",
       "      <td>149.62</td>\n",
       "      <td>0</td>\n",
       "    </tr>\n",
       "    <tr>\n",
       "      <th>1</th>\n",
       "      <td>0.0</td>\n",
       "      <td>1.191857</td>\n",
       "      <td>0.266151</td>\n",
       "      <td>0.166480</td>\n",
       "      <td>0.448154</td>\n",
       "      <td>0.060018</td>\n",
       "      <td>-0.082361</td>\n",
       "      <td>-0.078803</td>\n",
       "      <td>0.085102</td>\n",
       "      <td>-0.255425</td>\n",
       "      <td>...</td>\n",
       "      <td>-0.225775</td>\n",
       "      <td>-0.638672</td>\n",
       "      <td>0.101288</td>\n",
       "      <td>-0.339846</td>\n",
       "      <td>0.167170</td>\n",
       "      <td>0.125895</td>\n",
       "      <td>-0.008983</td>\n",
       "      <td>0.014724</td>\n",
       "      <td>2.69</td>\n",
       "      <td>0</td>\n",
       "    </tr>\n",
       "    <tr>\n",
       "      <th>2</th>\n",
       "      <td>1.0</td>\n",
       "      <td>-1.358354</td>\n",
       "      <td>-1.340163</td>\n",
       "      <td>1.773209</td>\n",
       "      <td>0.379780</td>\n",
       "      <td>-0.503198</td>\n",
       "      <td>1.800499</td>\n",
       "      <td>0.791461</td>\n",
       "      <td>0.247676</td>\n",
       "      <td>-1.514654</td>\n",
       "      <td>...</td>\n",
       "      <td>0.247998</td>\n",
       "      <td>0.771679</td>\n",
       "      <td>0.909412</td>\n",
       "      <td>-0.689281</td>\n",
       "      <td>-0.327642</td>\n",
       "      <td>-0.139097</td>\n",
       "      <td>-0.055353</td>\n",
       "      <td>-0.059752</td>\n",
       "      <td>378.66</td>\n",
       "      <td>0</td>\n",
       "    </tr>\n",
       "  </tbody>\n",
       "</table>\n",
       "<p>3 rows × 31 columns</p>\n",
       "</div>"
      ],
      "text/plain": [
       "   Time        V1        V2        V3        V4        V5        V6        V7  \\\n",
       "0   0.0 -1.359807 -0.072781  2.536347  1.378155 -0.338321  0.462388  0.239599   \n",
       "1   0.0  1.191857  0.266151  0.166480  0.448154  0.060018 -0.082361 -0.078803   \n",
       "2   1.0 -1.358354 -1.340163  1.773209  0.379780 -0.503198  1.800499  0.791461   \n",
       "\n",
       "         V8        V9  ...       V21       V22       V23       V24       V25  \\\n",
       "0  0.098698  0.363787  ... -0.018307  0.277838 -0.110474  0.066928  0.128539   \n",
       "1  0.085102 -0.255425  ... -0.225775 -0.638672  0.101288 -0.339846  0.167170   \n",
       "2  0.247676 -1.514654  ...  0.247998  0.771679  0.909412 -0.689281 -0.327642   \n",
       "\n",
       "        V26       V27       V28  Amount  Class  \n",
       "0 -0.189115  0.133558 -0.021053  149.62      0  \n",
       "1  0.125895 -0.008983  0.014724    2.69      0  \n",
       "2 -0.139097 -0.055353 -0.059752  378.66      0  \n",
       "\n",
       "[3 rows x 31 columns]"
      ]
     },
     "execution_count": 1,
     "metadata": {},
     "output_type": "execute_result"
    }
   ],
   "source": [
    "import pandas as pd\n",
    "import numpy as np \n",
    "import matplotlib.pyplot as plt\n",
    "import warnings\n",
    "warnings.filterwarnings(\"ignore\")\n",
    "%matplotlib inline\n",
    "\n",
    "card_df = pd.read_csv('creditcard.csv')\n",
    "card_df.head(3)"
   ]
  },
  {
   "cell_type": "code",
   "execution_count": 3,
   "id": "1b5644f7-8028-4e5a-be8b-1132aaf6e8c6",
   "metadata": {},
   "outputs": [
    {
     "data": {
      "text/plain": [
       "(284807, 31)"
      ]
     },
     "execution_count": 3,
     "metadata": {},
     "output_type": "execute_result"
    }
   ],
   "source": [
    "card_df.shape"
   ]
  },
  {
   "cell_type": "code",
   "execution_count": 4,
   "id": "727fbe4e-d245-4abf-9286-945a91f3b377",
   "metadata": {},
   "outputs": [
    {
     "name": "stdout",
     "output_type": "stream",
     "text": [
      "<class 'pandas.core.frame.DataFrame'>\n",
      "RangeIndex: 284807 entries, 0 to 284806\n",
      "Data columns (total 31 columns):\n",
      " #   Column  Non-Null Count   Dtype  \n",
      "---  ------  --------------   -----  \n",
      " 0   Time    284807 non-null  float64\n",
      " 1   V1      284807 non-null  float64\n",
      " 2   V2      284807 non-null  float64\n",
      " 3   V3      284807 non-null  float64\n",
      " 4   V4      284807 non-null  float64\n",
      " 5   V5      284807 non-null  float64\n",
      " 6   V6      284807 non-null  float64\n",
      " 7   V7      284807 non-null  float64\n",
      " 8   V8      284807 non-null  float64\n",
      " 9   V9      284807 non-null  float64\n",
      " 10  V10     284807 non-null  float64\n",
      " 11  V11     284807 non-null  float64\n",
      " 12  V12     284807 non-null  float64\n",
      " 13  V13     284807 non-null  float64\n",
      " 14  V14     284807 non-null  float64\n",
      " 15  V15     284807 non-null  float64\n",
      " 16  V16     284807 non-null  float64\n",
      " 17  V17     284807 non-null  float64\n",
      " 18  V18     284807 non-null  float64\n",
      " 19  V19     284807 non-null  float64\n",
      " 20  V20     284807 non-null  float64\n",
      " 21  V21     284807 non-null  float64\n",
      " 22  V22     284807 non-null  float64\n",
      " 23  V23     284807 non-null  float64\n",
      " 24  V24     284807 non-null  float64\n",
      " 25  V25     284807 non-null  float64\n",
      " 26  V26     284807 non-null  float64\n",
      " 27  V27     284807 non-null  float64\n",
      " 28  V28     284807 non-null  float64\n",
      " 29  Amount  284807 non-null  float64\n",
      " 30  Class   284807 non-null  int64  \n",
      "dtypes: float64(30), int64(1)\n",
      "memory usage: 67.4 MB\n"
     ]
    }
   ],
   "source": [
    "card_df.info()"
   ]
  },
  {
   "cell_type": "markdown",
   "id": "336acdaa-7a02-491f-8c58-94f181d368d5",
   "metadata": {},
   "source": [
    "**creditcard 피처 정보**\n",
    "- Time : "
   ]
  },
  {
   "cell_type": "markdown",
   "id": "9f2d9514-694f-4b9b-ac11-674857196664",
   "metadata": {},
   "source": [
    "## **전처리 함수 1️⃣get_preprocessed**"
   ]
  },
  {
   "cell_type": "code",
   "execution_count": 6,
   "id": "e5f78553-1e7c-4f2d-9cb3-dd46a43e4d59",
   "metadata": {},
   "outputs": [],
   "source": [
    "from sklearn.model_selection import train_test_split\n",
    "\n",
    "# 인자로 입력받은 DataFrame을 복사 한 뒤 Time칼럼만 삭제하고 복사된 DataFrame반환\n",
    "def get_preprocessed_df(df = None):\n",
    "    df_copy = df.copy()\n",
    "    df_copy.drop('Time', axis = 1, inplace = True)\n",
    "    return df_copy"
   ]
  },
  {
   "cell_type": "markdown",
   "id": "91873392-07ec-41f3-b841-10d302f60737",
   "metadata": {},
   "source": [
    "**학습과 테스트 데이터 세트를 반환하는 함수 생성**\n",
    "- 사전 데이터 처리가 끝난 뒤 해당 함수 호출\n",
    "\n",
    "`get_train_test_dataset(df = None)`"
   ]
  },
  {
   "cell_type": "code",
   "execution_count": 17,
   "id": "feeee42b-707c-4af2-96c2-d0800c4a1ea2",
   "metadata": {},
   "outputs": [],
   "source": [
    "# 사전 데이터 가공 후 학습과 테스트 데이터 세트를 반환하는 함수\n",
    "def get_train_test_dataset(df = None):\n",
    "    # 인자로 입력된 DataFrame의 사전 데이터 가공이 완료된 복사 DataFrame반환\n",
    "    df_copy = get_preprocessed_df(df)\n",
    "    \n",
    "    # DataFrame의 맨 마지막 컬럼이 레이블, 나머지는 피처들\n",
    "    X_features = df_copy.iloc[:, :-1]\n",
    "    y_target = df_copy.iloc[:, -1]\n",
    "    \n",
    "    # train_test_split()으로 학습과 테스트 데이터 분할\n",
    "    # stratify = y_target으로 Stratified기반 분할\n",
    "    # stratify : 타켓 값의 분포도에 맞춰, 학습과 테스트 맞춰서 분할 (레이)\n",
    "    X_train, X_test, y_train, y_test = train_test_split(X_features, y_target, test_size = 0.3, random_state = 0, stratify = y_target)\n",
    "    \n",
    "    # 학습과 테스트 데이터 세트 반환\n",
    "    return X_train, X_test, y_train, y_test\n",
    "\n",
    "X_train, X_test, y_train, y_test = get_train_test_dataset(card_df)"
   ]
  },
  {
   "cell_type": "code",
   "execution_count": 18,
   "id": "9ee23a94-b460-45df-82fc-a6514fc6dd8d",
   "metadata": {},
   "outputs": [
    {
     "data": {
      "text/plain": [
       "0    199020\n",
       "1       344\n",
       "Name: Class, dtype: int64"
      ]
     },
     "execution_count": 18,
     "metadata": {},
     "output_type": "execute_result"
    }
   ],
   "source": [
    "y_train.value_counts()"
   ]
  },
  {
   "cell_type": "markdown",
   "id": "52d0bea3-d6b5-4349-bb94-b45a7b33f647",
   "metadata": {},
   "source": [
    "정상 : 199020개 (0)\n",
    "\n",
    "비정상(사기) : 344개 (1)"
   ]
  },
  {
   "cell_type": "code",
   "execution_count": 11,
   "id": "569029cc-bad1-485a-bd24-b648a679d289",
   "metadata": {},
   "outputs": [
    {
     "data": {
      "text/plain": [
       "(199364,)"
      ]
     },
     "execution_count": 11,
     "metadata": {},
     "output_type": "execute_result"
    }
   ],
   "source": [
    "y_train.shape"
   ]
  },
  {
   "cell_type": "markdown",
   "id": "51241872-8d02-4ebe-b329-fbddf3635f4a",
   "metadata": {},
   "source": [
    "**학습/테스트 데이터 레이블 비율**"
   ]
  },
  {
   "cell_type": "code",
   "execution_count": 13,
   "id": "f5439fa2-d650-47fb-85d1-4d1a39349c30",
   "metadata": {},
   "outputs": [
    {
     "name": "stdout",
     "output_type": "stream",
     "text": [
      "학습 데이터 레이블 값 비율\n",
      "0    99.827451\n",
      "1     0.172549\n",
      "Name: Class, dtype: float64\n",
      "\n",
      "테스트 데이터 레이블 값 비율\n",
      "0    99.826785\n",
      "1     0.173215\n",
      "Name: Class, dtype: float64\n"
     ]
    }
   ],
   "source": [
    "print('학습 데이터 레이블 값 비율')\n",
    "print(y_train.value_counts() / y_train.shape[0] * 100)\n",
    "print('\\n테스트 데이터 레이블 값 비율')\n",
    "print(y_test.value_counts() / y_test.shape[0] * 100)"
   ]
  },
  {
   "cell_type": "markdown",
   "id": "8fbf54e2-03c2-497a-a0ea-c1f7c017fd91",
   "metadata": {},
   "source": [
    "관심있는 데이터(1)의 건수는 매우 적다"
   ]
  },
  {
   "cell_type": "markdown",
   "id": "100e4153-955e-4dbd-8e04-e49b54ed06f2",
   "metadata": {},
   "source": [
    "**LogisticRegression 알고리즘 적용하여 학습 / 예측 / 평가 수행**"
   ]
  },
  {
   "cell_type": "code",
   "execution_count": 28,
   "id": "bf6a7932-9506-459f-ac3e-965ce9a89879",
   "metadata": {},
   "outputs": [],
   "source": [
    "# 예측 평가 수행 함수 (앞에서 복사한 것)\n",
    "from sklearn.metrics import confusion_matrix, accuracy_score, precision_score, recall_score, f1_score\n",
    "from sklearn.metrics import roc_auc_score\n",
    "\n",
    "# 수정된 get_clf_eval() 함수\n",
    "def get_clf_eval(y_test, pred = None, pred_proba = None):\n",
    "    confusion = confusion_matrix( y_test, pred)\n",
    "    accuracy = accuracy_score(y_test , pred)\n",
    "    precision = precision_score(y_test , pred)\n",
    "    recall = recall_score(y_test , pred)\n",
    "    f1 = f1_score(y_test,pred)\n",
    "    # ROC-AUC 추가 \n",
    "    roc_auc = roc_auc_score(y_test, pred)\n",
    "    print('오차 행렬')\n",
    "    print(confusion)\n",
    "    # ROC-AUC print 추가\n",
    "    print('정확도: {0:.4f}, 정밀도: {1:.4f}, 재현율: {2:.4f},\\\n",
    "    F1: {3:.4f}, AUC:{4:.4f}'.format(accuracy, precision, recall, f1, roc_auc))"
   ]
  },
  {
   "cell_type": "code",
   "execution_count": 21,
   "id": "7b640118-fe0b-446f-a58e-a8faf18f5a42",
   "metadata": {},
   "outputs": [],
   "source": [
    "# 먼저 LogisticRegression부터 학습/예측/평가 수행\n",
    "from sklearn.linear_model import LogisticRegression\n",
    "\n",
    "lr_clf = LogisticRegression()\n",
    "lr_clf.fit(X_train, y_train)\n",
    "lr_pred = lr_clf.predict(X_test)"
   ]
  },
  {
   "cell_type": "code",
   "execution_count": 22,
   "id": "be356e99-e85a-4b14-9cba-6e5438e6a832",
   "metadata": {},
   "outputs": [
    {
     "name": "stdout",
     "output_type": "stream",
     "text": [
      "오차 행렬\n",
      "[[85281    14]\n",
      " [   55    93]]\n",
      "정확도: 0.9992, 정밀도: 0.8692, 재현율: 0.6284,    F1: 0.7294, AUC:0.8141\n"
     ]
    }
   ],
   "source": [
    "# 3장에서 사용한 get_clf_eval() 함수를 이용하여 평가 수행. \n",
    "get_clf_eval(y_test, lr_pred)"
   ]
  },
  {
   "cell_type": "markdown",
   "id": "a84578fb-c2ea-4d6b-9329-7a4cde9bf5d5",
   "metadata": {},
   "source": [
    "<결과> 정확도가 약 99.9%"
   ]
  },
  {
   "cell_type": "markdown",
   "id": "31a23bbd-3ef3-4119-9c58-f7e175cdbde2",
   "metadata": {},
   "source": [
    "### **모델을 학습 / 예측 / 평가를 위한 함수 생성**\n",
    ": 앞으로 피처 엔지니어링을 수행할 때마다 사용\n",
    "\n",
    "`get_model_train_eval(model, ftr_train = None, ftr_test = None, tgt_train = None, tgt_test = None)`"
   ]
  },
  {
   "cell_type": "code",
   "execution_count": 27,
   "id": "fb961d8a-a0dc-4ffd-ba16-febe1a111c21",
   "metadata": {},
   "outputs": [],
   "source": [
    "# 인자로 사이킷런의 Estimator객체와, 학습/테스트 데이터 세트를 입력 받아서 학습/예측/평가 수행\n",
    "def get_model_train_eval(model, ftr_train = None, ftr_test = None, tgt_train = None, tgt_test = None):\n",
    "    model.fit(ftr_train, tgt_train)\n",
    "    pred = model.predict(ftr_test)\n",
    "    pred_proba = model.predict_proba(ftr_test)[:,1]\n",
    "    get_clf_eval(tgt_test, pred, pred_proba)"
   ]
  },
  {
   "cell_type": "markdown",
   "id": "a1a5c93a-5da6-4d0d-a4b9-fe2287e5c47d",
   "metadata": {},
   "source": [
    "### **LightGBM 학습 / 예측 / 평가**\n",
    "- boost_from_average가 True일 경우 레이블 값이 극도로 불균형 분포를 이루는 경우 재현율 및 ROC-AUC성능이 매우 저하됨\n",
    "- LightGBM 2.1.0 "
   ]
  },
  {
   "cell_type": "code",
   "execution_count": 29,
   "id": "73bd16a3-f0fb-4a22-975e-3e6e433a9655",
   "metadata": {},
   "outputs": [
    {
     "name": "stdout",
     "output_type": "stream",
     "text": [
      "오차 행렬\n",
      "[[85290     5]\n",
      " [   36   112]]\n",
      "정확도: 0.9995, 정밀도: 0.9573, 재현율: 0.7568,    F1: 0.8453, AUC:0.8783\n"
     ]
    }
   ],
   "source": [
    "from lightgbm import LGBMClassifier\n",
    "\n",
    "# boost_from_average : 에러까지는 아닌데 T\n",
    "lgbm_clf = LGBMClassifier(n_estimators = 1000, num_leaves = 64, n_jobs = -1, boost_from_average = False)\n",
    "\n",
    "get_model_train_eval(lgbm_clf, ftr_train = X_train, ftr_test = X_test, tgt_train = y_train, tgt_test = y_test)"
   ]
  },
  {
   "cell_type": "markdown",
   "id": "be6f1906-e10e-49d8-ae8d-180668615720",
   "metadata": {},
   "source": [
    "### **데이터 분포도 변환 후 모델 학습/예측/평가**\n",
    "**중요 feature의 분포도 확인**"
   ]
  },
  {
   "cell_type": "code",
   "execution_count": 31,
   "id": "37daf65c-220d-41fb-8092-290ef853d8bf",
   "metadata": {},
   "outputs": [
    {
     "data": {
      "text/plain": [
       "<AxesSubplot:xlabel='Amount', ylabel='Density'>"
      ]
     },
     "execution_count": 31,
     "metadata": {},
     "output_type": "execute_result"
    },
    {
     "data": {
      "image/png": "[encoded data removed]",
      "text/plain": [
       "<Figure size 576x288 with 1 Axes>"
      ]
     },
     "metadata": {
      "needs_background": "light"
     },
     "output_type": "display_data"
    }
   ],
   "source": [
    "# 중요 속성으로 Amount 선정해서 분포도 확인\n",
    "import seaborn as sns\n",
    "\n",
    "plt.figure(figsize = (8, 4))\n",
    "plt.xticks(range(0, 30000, 1000), rotation = 60)\n",
    "sns.distplot(card_df['Amount'])"
   ]
  },
  {
   "cell_type": "markdown",
   "id": "7acdd1f5-138b-489a-8e00-e23029b4af55",
   "metadata": {},
   "source": [
    "      "
   ]
  },
  {
   "cell_type": "markdown",
   "id": "e92bfc09-491e-4bb9-a5fd-cba98b148c30",
   "metadata": {},
   "source": [
    "## **전처리 함수 2️⃣get_preprocessed_df()수정**\n",
    "- StandardScaler를 이용하여 Amount 피처 변환 추가"
   ]
  },
  {
   "cell_type": "code",
   "execution_count": 33,
   "id": "b2d4a194-85f7-4cb3-9ee1-d48ac28e453e",
   "metadata": {},
   "outputs": [],
   "source": [
    "from sklearn.preprocessing import StandardScaler\n",
    "\n",
    "# Scaled된 값 Amount_Scaled 추가하고, 기존의 Time, Amount 피처 삭제\n",
    "# 사이킷런의 StandardScaler를 이용하여 정규분포 형태로 Amount 피처값 변환하는 로직으로 수정\n",
    "def get_preprocessed_df(df = None):\n",
    "    df_copy = df.copy()\n",
    "    scaler = StandardScaler()\n",
    "    amount_n = scaler.fit_transform(df_copy['Amount'].values.reshape(-1, 1))\n",
    "    \n",
    "    # 변환된 Amount를 Amount_Scaled로 피처명 변경 후 DataFrame맨 앞 컬럼으로 입력\n",
    "    df_copy.insert(0, 'Amount_Scaled', amount_n)\n",
    "    \n",
    "    # 기존 Time, Amount피처 삭제\n",
    "    df_copy.drop(['Time','Amount'], axis = 1, inplace = True)\n",
    "    return df_copy"
   ]
  },
  {
   "cell_type": "markdown",
   "id": "2230b63a-4215-4d4b-82a4-cb148c83cfb3",
   "metadata": {},
   "source": [
    "**Amount_Scaled로 피처명 변경 후 DataFrame맨 앞 컬럼으로 입력된 것 확인**"
   ]
  },
  {
   "cell_type": "code",
   "execution_count": 37,
   "id": "7b93eed5-a303-4c3f-afbe-90779845acf9",
   "metadata": {},
   "outputs": [
    {
     "data": {
      "text/html": [
       "<div>\n",
       "<style scoped>\n",
       "    .dataframe tbody tr th:only-of-type {\n",
       "        vertical-align: middle;\n",
       "    }\n",
       "\n",
       "    .dataframe tbody tr th {\n",
       "        vertical-align: top;\n",
       "    }\n",
       "\n",
       "    .dataframe thead th {\n",
       "        text-align: right;\n",
       "    }\n",
       "</style>\n",
       "<table border=\"1\" class=\"dataframe\">\n",
       "  <thead>\n",
       "    <tr style=\"text-align: right;\">\n",
       "      <th></th>\n",
       "      <th>Amount_Scaled</th>\n",
       "      <th>V1</th>\n",
       "      <th>V2</th>\n",
       "      <th>V3</th>\n",
       "      <th>V4</th>\n",
       "      <th>V5</th>\n",
       "      <th>V6</th>\n",
       "      <th>V7</th>\n",
       "      <th>V8</th>\n",
       "      <th>V9</th>\n",
       "      <th>...</th>\n",
       "      <th>V20</th>\n",
       "      <th>V21</th>\n",
       "      <th>V22</th>\n",
       "      <th>V23</th>\n",
       "      <th>V24</th>\n",
       "      <th>V25</th>\n",
       "      <th>V26</th>\n",
       "      <th>V27</th>\n",
       "      <th>V28</th>\n",
       "      <th>Class</th>\n",
       "    </tr>\n",
       "  </thead>\n",
       "  <tbody>\n",
       "    <tr>\n",
       "      <th>0</th>\n",
       "      <td>0.244964</td>\n",
       "      <td>-1.359807</td>\n",
       "      <td>-0.072781</td>\n",
       "      <td>2.536347</td>\n",
       "      <td>1.378155</td>\n",
       "      <td>-0.338321</td>\n",
       "      <td>0.462388</td>\n",
       "      <td>0.239599</td>\n",
       "      <td>0.098698</td>\n",
       "      <td>0.363787</td>\n",
       "      <td>...</td>\n",
       "      <td>0.251412</td>\n",
       "      <td>-0.018307</td>\n",
       "      <td>0.277838</td>\n",
       "      <td>-0.110474</td>\n",
       "      <td>0.066928</td>\n",
       "      <td>0.128539</td>\n",
       "      <td>-0.189115</td>\n",
       "      <td>0.133558</td>\n",
       "      <td>-0.021053</td>\n",
       "      <td>0</td>\n",
       "    </tr>\n",
       "    <tr>\n",
       "      <th>1</th>\n",
       "      <td>-0.342475</td>\n",
       "      <td>1.191857</td>\n",
       "      <td>0.266151</td>\n",
       "      <td>0.166480</td>\n",
       "      <td>0.448154</td>\n",
       "      <td>0.060018</td>\n",
       "      <td>-0.082361</td>\n",
       "      <td>-0.078803</td>\n",
       "      <td>0.085102</td>\n",
       "      <td>-0.255425</td>\n",
       "      <td>...</td>\n",
       "      <td>-0.069083</td>\n",
       "      <td>-0.225775</td>\n",
       "      <td>-0.638672</td>\n",
       "      <td>0.101288</td>\n",
       "      <td>-0.339846</td>\n",
       "      <td>0.167170</td>\n",
       "      <td>0.125895</td>\n",
       "      <td>-0.008983</td>\n",
       "      <td>0.014724</td>\n",
       "      <td>0</td>\n",
       "    </tr>\n",
       "    <tr>\n",
       "      <th>2</th>\n",
       "      <td>1.160686</td>\n",
       "      <td>-1.358354</td>\n",
       "      <td>-1.340163</td>\n",
       "      <td>1.773209</td>\n",
       "      <td>0.379780</td>\n",
       "      <td>-0.503198</td>\n",
       "      <td>1.800499</td>\n",
       "      <td>0.791461</td>\n",
       "      <td>0.247676</td>\n",
       "      <td>-1.514654</td>\n",
       "      <td>...</td>\n",
       "      <td>0.524980</td>\n",
       "      <td>0.247998</td>\n",
       "      <td>0.771679</td>\n",
       "      <td>0.909412</td>\n",
       "      <td>-0.689281</td>\n",
       "      <td>-0.327642</td>\n",
       "      <td>-0.139097</td>\n",
       "      <td>-0.055353</td>\n",
       "      <td>-0.059752</td>\n",
       "      <td>0</td>\n",
       "    </tr>\n",
       "    <tr>\n",
       "      <th>3</th>\n",
       "      <td>0.140534</td>\n",
       "      <td>-0.966272</td>\n",
       "      <td>-0.185226</td>\n",
       "      <td>1.792993</td>\n",
       "      <td>-0.863291</td>\n",
       "      <td>-0.010309</td>\n",
       "      <td>1.247203</td>\n",
       "      <td>0.237609</td>\n",
       "      <td>0.377436</td>\n",
       "      <td>-1.387024</td>\n",
       "      <td>...</td>\n",
       "      <td>-0.208038</td>\n",
       "      <td>-0.108300</td>\n",
       "      <td>0.005274</td>\n",
       "      <td>-0.190321</td>\n",
       "      <td>-1.175575</td>\n",
       "      <td>0.647376</td>\n",
       "      <td>-0.221929</td>\n",
       "      <td>0.062723</td>\n",
       "      <td>0.061458</td>\n",
       "      <td>0</td>\n",
       "    </tr>\n",
       "    <tr>\n",
       "      <th>4</th>\n",
       "      <td>-0.073403</td>\n",
       "      <td>-1.158233</td>\n",
       "      <td>0.877737</td>\n",
       "      <td>1.548718</td>\n",
       "      <td>0.403034</td>\n",
       "      <td>-0.407193</td>\n",
       "      <td>0.095921</td>\n",
       "      <td>0.592941</td>\n",
       "      <td>-0.270533</td>\n",
       "      <td>0.817739</td>\n",
       "      <td>...</td>\n",
       "      <td>0.408542</td>\n",
       "      <td>-0.009431</td>\n",
       "      <td>0.798278</td>\n",
       "      <td>-0.137458</td>\n",
       "      <td>0.141267</td>\n",
       "      <td>-0.206010</td>\n",
       "      <td>0.502292</td>\n",
       "      <td>0.219422</td>\n",
       "      <td>0.215153</td>\n",
       "      <td>0</td>\n",
       "    </tr>\n",
       "  </tbody>\n",
       "</table>\n",
       "<p>5 rows × 30 columns</p>\n",
       "</div>"
      ],
      "text/plain": [
       "   Amount_Scaled        V1        V2        V3        V4        V5        V6  \\\n",
       "0       0.244964 -1.359807 -0.072781  2.536347  1.378155 -0.338321  0.462388   \n",
       "1      -0.342475  1.191857  0.266151  0.166480  0.448154  0.060018 -0.082361   \n",
       "2       1.160686 -1.358354 -1.340163  1.773209  0.379780 -0.503198  1.800499   \n",
       "3       0.140534 -0.966272 -0.185226  1.792993 -0.863291 -0.010309  1.247203   \n",
       "4      -0.073403 -1.158233  0.877737  1.548718  0.403034 -0.407193  0.095921   \n",
       "\n",
       "         V7        V8        V9  ...       V20       V21       V22       V23  \\\n",
       "0  0.239599  0.098698  0.363787  ...  0.251412 -0.018307  0.277838 -0.110474   \n",
       "1 -0.078803  0.085102 -0.255425  ... -0.069083 -0.225775 -0.638672  0.101288   \n",
       "2  0.791461  0.247676 -1.514654  ...  0.524980  0.247998  0.771679  0.909412   \n",
       "3  0.237609  0.377436 -1.387024  ... -0.208038 -0.108300  0.005274 -0.190321   \n",
       "4  0.592941 -0.270533  0.817739  ...  0.408542 -0.009431  0.798278 -0.137458   \n",
       "\n",
       "        V24       V25       V26       V27       V28  Class  \n",
       "0  0.066928  0.128539 -0.189115  0.133558 -0.021053      0  \n",
       "1 -0.339846  0.167170  0.125895 -0.008983  0.014724      0  \n",
       "2 -0.689281 -0.327642 -0.139097 -0.055353 -0.059752      0  \n",
       "3 -1.175575  0.647376 -0.221929  0.062723  0.061458      0  \n",
       "4  0.141267 -0.206010  0.502292  0.219422  0.215153      0  \n",
       "\n",
       "[5 rows x 30 columns]"
      ]
     },
     "execution_count": 37,
     "metadata": {},
     "output_type": "execute_result"
    }
   ],
   "source": [
    "card_df2 = get_preprocessed_df(card_df)\n",
    "card_df2.head()"
   ]
  },
  {
   "cell_type": "markdown",
   "id": "f3213658-3205-40ec-89bc-0d3b8d47e01e",
   "metadata": {},
   "source": [
    "**StandardScaler 변환 후 로지스틱 회귀 및 LightGBM 학습 / 예측 / 평가**"
   ]
  },
  {
   "cell_type": "code",
   "execution_count": 39,
   "id": "7abaabdb-a3c5-46a3-9b97-e569fddf99d9",
   "metadata": {},
   "outputs": [
    {
     "name": "stdout",
     "output_type": "stream",
     "text": [
      "로지스틱 회귀 예측 성능\n",
      "오차 행렬\n",
      "[[85281    14]\n",
      " [   58    90]]\n",
      "정확도: 0.9992, 정밀도: 0.8654, 재현율: 0.6081,    F1: 0.7143, AUC:0.8040\n",
      "\n",
      "LightGBM 예측 성능\n",
      "오차 행렬\n",
      "[[85290     5]\n",
      " [   37   111]]\n",
      "정확도: 0.9995, 정밀도: 0.9569, 재현율: 0.7500,    F1: 0.8409, AUC:0.8750\n"
     ]
    }
   ],
   "source": [
    "# Amount를 정규분포 형태로 변환 후 로지스틱 회귀 및 LightGBM 수행\n",
    "X_train, X_test, y_train, y_test = get_train_test_dataset(card_df)\n",
    "\n",
    "print('로지스틱 회귀 예측 성능')\n",
    "lr_clf = LogisticRegression()\n",
    "get_model_train_eval(lr_clf, ftr_train = X_train, ftr_test = X_test, tgt_train = y_train, tgt_test = y_test)\n",
    "\n",
    "print('\\nLightGBM 예측 성능')\n",
    "lgbm_clf = LGBMClassifier(n_estimators=1000, num_leaves=64, n_jobs=-1, boost_from_average=False)\n",
    "get_model_train_eval(lgbm_clf, ftr_train=X_train, ftr_test=X_test, tgt_train=y_train, tgt_test=y_test)"
   ]
  },
  {
   "cell_type": "code",
   "execution_count": 41,
   "id": "afdea002-bab2-4582-84ea-6a3eb972d967",
   "metadata": {},
   "outputs": [
    {
     "data": {
      "text/plain": [
       "<AxesSubplot:xlabel='Amount_Scaled', ylabel='Density'>"
      ]
     },
     "execution_count": 41,
     "metadata": {},
     "output_type": "execute_result"
    },
    {
     "data": {
      "image/png": "[encoded data removed]",
      "text/plain": [
       "<Figure size 576x288 with 1 Axes>"
      ]
     },
     "metadata": {
      "needs_background": "light"
     },
     "output_type": "display_data"
    }
   ],
   "source": [
    "import seaborn as sns\n",
    "\n",
    "plt.figure(figsize = (8, 4))\n",
    "#plt.xticks(range(0, 30000, 1000), rotation = 60)\n",
    "sns.distplot(card_df2['Amount_Scaled'])"
   ]
  },
  {
   "cell_type": "markdown",
   "id": "d736d5cf-13e0-4c09-a88d-e3b531c7a142",
   "metadata": {},
   "source": [
    "정규 분포 형태로 Amount 피처값을 변환한 후 테스트 데이터 세트에 적용한 로지스틱 회귀 및 LightGBM 두 모델 모두 변환 이전과 비교해 성능이 크게 개선되지는 않았음\n",
    "\n",
    "여전히 치우져진 데이터 ⇒ 성능이 개선되지 않았음"
   ]
  },
  {
   "cell_type": "markdown",
   "id": "dd81e50b-838a-4f61-832a-246661596735",
   "metadata": {},
   "source": [
    "  "
   ]
  },
  {
   "cell_type": "markdown",
   "id": "a49c424a-919a-467f-8ddf-d21307b45efb",
   "metadata": {},
   "source": [
    "## **전처리 함수 3️⃣get_preprocessed_df()수정**\n",
    "- 비대칭 분포를 갖는 Amount피처를 로그 변환\n",
    "- 넘파이의 로그 변환 함수는 np.log()인데, 보통 로그 변환할 때 log() 잘 안쓰고 log1p() 사용\n",
    "- 1p가 원 플로스로 하나를 더하겠다는 의미"
   ]
  },
  {
   "cell_type": "code",
   "execution_count": 42,
   "id": "19a69ab7-ad61-4787-909f-989fe88842c5",
   "metadata": {},
   "outputs": [],
   "source": [
    "def get_preprocessed_df(df = None):\n",
    "    df_copy = df.copy()\n",
    "    \n",
    "    # 넘파이의 log1p()를 이용하여 Amount를 로그 변환\n",
    "    amount_n = np.log1p(df_copy['Amount'])\n",
    "    \n",
    "    # Amount_Scaled칼럼 추가하고 'Time', 'Amount'삭제\n",
    "    df_copy.insert(0, 'Amount_Scaled', amount_n)\n",
    "    df_copy.drop(['Time','Amount'], axis = 1, inplace = True)\n",
    "    return df_copy"
   ]
  },
  {
   "cell_type": "markdown",
   "id": "c59046f9-6913-40b0-9dc6-6d889ae7f1a2",
   "metadata": {},
   "source": [
    "**log1p 와 expm1 설명**"
   ]
  },
  {
   "cell_type": "code",
   "execution_count": null,
   "id": "f6f3211e-931b-4c5e-a18f-b264f5ef8037",
   "metadata": {},
   "outputs": [],
   "source": [
    "# log1p 와 expm1 설명\n",
    "import numpy as np\n",
    "\n",
    "# log(-1000)"
   ]
  },
  {
   "cell_type": "markdown",
   "id": "a50644df-ced5-42f9-a735-b49d74d7aefe",
   "metadata": {},
   "source": [
    "**LogisticRegression 알고리즘 적용하여 학습 / 예측 / 평가 수행**"
   ]
  },
  {
   "cell_type": "code",
   "execution_count": 43,
   "id": "eec7dcfa-c3a2-4e92-9e4f-edacbd27937a",
   "metadata": {},
   "outputs": [
    {
     "name": "stdout",
     "output_type": "stream",
     "text": [
      "로지스틱 회귀 예측 성능\n",
      "오차 행렬\n",
      "[[85283    12]\n",
      " [   59    89]]\n",
      "정확도: 0.9992, 정밀도: 0.8812, 재현율: 0.6014,    F1: 0.7149, AUC:0.8006\n",
      "\n",
      "LightGBM 예측 성능\n",
      "오차 행렬\n",
      "[[85290     5]\n",
      " [   35   113]]\n",
      "정확도: 0.9995, 정밀도: 0.9576, 재현율: 0.7635,    F1: 0.8496, AUC:0.8817\n"
     ]
    }
   ],
   "source": [
    "# 학습 / 테스트 데이터 분리하고\n",
    "X_train, X_test, y_train, y_test = get_train_test_dataset(card_df)\n",
    "\n",
    "print('로지스틱 회귀 예측 성능')\n",
    "lr_clf = LogisticRegression()\n",
    "get_model_train_eval(lr_clf, ftr_train = X_train, ftr_test = X_test, tgt_train = y_train, tgt_test = y_test)\n",
    "\n",
    "print('\\nLightGBM 예측 성능')\n",
    "lgbm_clf = LGBMClassifier(n_estimators=1000, num_leaves=64, n_jobs=-1, boost_from_average=False)\n",
    "get_model_train_eval(lgbm_clf, ftr_train=X_train, ftr_test=X_test, tgt_train=y_train, tgt_test=y_test)"
   ]
  },
  {
   "cell_type": "code",
   "execution_count": 45,
   "id": "074e11f5-ef93-47c8-8e6f-1d83e6436cd1",
   "metadata": {},
   "outputs": [
    {
     "data": {
      "text/plain": [
       "<AxesSubplot:xlabel='Amount_Scaled', ylabel='Density'>"
      ]
     },
     "execution_count": 45,
     "metadata": {},
     "output_type": "execute_result"
    },
    {
     "data": {
      "image/png": "[encoded data removed]",
      "text/plain": [
       "<Figure size 576x288 with 1 Axes>"
      ]
     },
     "metadata": {
      "needs_background": "light"
     },
     "output_type": "display_data"
    }
   ],
   "source": [
    "import seaborn as sns\n",
    "\n",
    "card_df2 = get_preprocessed_df(card_df)\n",
    "plt.figure(figsize = (8, 4))\n",
    "sns.distplot(card_df2['Amount_Scaled'])"
   ]
  },
  {
   "cell_type": "markdown",
   "id": "7f7ca40f-c61e-4c61-9c99-0776af34a692",
   "metadata": {},
   "source": [
    "Amount 피처 로그변환하지 않은 데이터로 학습한 경우보다 약간씩 성능이 개선됨"
   ]
  },
  {
   "cell_type": "markdown",
   "id": "36d5690e-4538-479a-9020-cb28b6c25dba",
   "metadata": {},
   "source": [
    "### **이상치 데이터 제거 후 모델 학습 / 예측 / 평가**\n",
    "#### **각 피처들의 상관 관계 시각화 : 히트맵(heapmap)**\n",
    "- 결정 레이블인 class값과 가장 상관도가 높은 피처 추출\n",
    "- 추출한 다음 이 중에 상관도가 높은 피처들에 대해서 아웃 라이어 찾음\n",
    "- 그 다음에 거기에 대한 아웃 라이어가 높은 피처들을 가지고 있는 레코드 삭제"
   ]
  },
  {
   "cell_type": "code",
   "execution_count": 46,
   "id": "c2d587c7-02f1-4c22-a25b-05cbd8f226e4",
   "metadata": {},
   "outputs": [
    {
     "data": {
      "text/plain": [
       "<AxesSubplot:>"
      ]
     },
     "execution_count": 46,
     "metadata": {},
     "output_type": "execute_result"
    },
    {
     "data": {
      "image/png": "[encoded data removed]",
      "text/plain": [
       "<Figure size 648x648 with 2 Axes>"
      ]
     },
     "metadata": {
      "needs_background": "light"
     },
     "output_type": "display_data"
    }
   ],
   "source": [
    "import seaborn as sns\n",
    "\n",
    "plt.figure(figsize = (9, 9))\n",
    "corr = card_df.corr()  # 각 칼럼들의 상관도 값 반환\n",
    "sns.heatmap(corr, cmap = 'RdBu')  "
   ]
  },
  {
   "cell_type": "markdown",
   "id": "26ff5391-2b54-49a0-a975-92e6e38f8072",
   "metadata": {},
   "source": [
    "히트맵에서 cmap을 'RdBu'로 설정\n",
    "- 레드 : 음의 상관관계 \n",
    "    - 음의 상관관계가 높을수록 색깔이 진한 빨강에 가깝게 표현\n",
    "- 블루 : 양의 상관관계\n",
    "    - 양의 상관관계가 높을수록 색깔이 진한 파란색에 가깝게 표현\n",
    "    \n",
    "레이블 Class와 상관관계가 가장 높은 피처는 V14와 V17\n",
    "- 음의 상관관계 (제일 진한 빨강)\n",
    "\n",
    "위 히트맵 레이블 Class와 상관관계가 가장 높은 피처인 V14에 대해서만 이상치를 찾아서 제거\n",
    "- IQR을 이용해 이상치를 검출하는 함수 생성한 뒤, 이를 이용해 검출된 이상치를 삭제"
   ]
  },
  {
   "cell_type": "markdown",
   "id": "8089eeb5-efd5-4537-96f1-e1b37994d635",
   "metadata": {},
   "source": [
    "### **이상치 필터링을 위한 함수 작성 : get_outlier()**\n",
    "- 수치형 데이터 사용\n",
    "- DataFrame에서 outlier에 해당하는 데이터를 필터링\n",
    "- outlier 레코드의 index를 반환함\n",
    "\n",
    "\n",
    "함수 내에서 넘파이의 percentile()을 이용해 1/4분위와 3/4분위를 구하고, 이에 기반해 IQR계산\n",
    "\n",
    "계산된 IQR에 1.5를 곱해서 최댓값과 최솟값 지점을 구한 뒤, 최댓값보다 크거나 최솟값보다 작은 값을 이상치로 설정하고 해당 이상치가 있는 DataFrame index반환"
   ]
  },
  {
   "cell_type": "code",
   "execution_count": 52,
   "id": "844f8cc6-1e80-4822-8f2d-3301f6691873",
   "metadata": {},
   "outputs": [],
   "source": [
    "# 아웃라이어(이상치)를 찾기 위함 함수 새로 생성\n",
    "import numpy as np\n",
    "\n",
    "# weight는 boxplot에서 이상치 계산 시 1.5 * IQR(몸통)을 더하고, 뺀 값들이 이상치\n",
    "# 전체 데이터에서 찾지 않고 사기 데이터에서 찾음\n",
    "# 사기 데이터 : Class = 1\n",
    "def get_outlier(df = None, column = None, weight = 1.5):\n",
    "    # fraud에 해당하는 column데이터만 추출, 1/4분위와 3/4분위 지점을 np.percentile로 구함\n",
    "    fraud = df[df['Class'] == 1][column]  # column값으로 V14 들어올 것임\n",
    "    quantile_25 = np.percentile(fraud.values, 25)  # 1분위 수\n",
    "    quantile_75 = np.percentile(fraud.values, 75)  # 3분위 수\n",
    "    \n",
    "    # IQR을 구하고, IQR에 1.5을 곱하여 최대값과 최소값 지점 구함\n",
    "    iqr = quantile_75 - quantile_25\n",
    "    \n",
    "    iqr_weight = iqr * weight\n",
    "    lowest_val = quantile_25 - iqr_weight\n",
    "    highest_val = quantile_75 + iqr_weight\n",
    "    \n",
    "    # 데이터 프레임 인덱스 찾음\n",
    "    # 최대값 보다 크거나, 최소값 보다 작은 값을 아웃라이어로 설정하고 DataFrame index 반환\n",
    "    outlier_index = fraud[(fraud < lowest_val) | (fraud > highest_val)].index\n",
    "    \n",
    "    return outlier_index"
   ]
  },
  {
   "cell_type": "markdown",
   "id": "7f8b0d3f-3434-4f25-a90f-177e1ae3492f",
   "metadata": {},
   "source": [
    "**피처 V14의 분포**\n",
    "- 사분위수"
   ]
  },
  {
   "cell_type": "code",
   "execution_count": 54,
   "id": "8928e5f9-9272-424b-969c-7896d57c5ee9",
   "metadata": {},
   "outputs": [
    {
     "data": {
      "text/plain": [
       "-0.4255740124549935"
      ]
     },
     "execution_count": 54,
     "metadata": {},
     "output_type": "execute_result"
    }
   ],
   "source": [
    "# 1분위수\n",
    "np.percentile(card_df['V14'], 25) "
   ]
  },
  {
   "cell_type": "code",
   "execution_count": 56,
   "id": "4e5518c6-ec3b-470f-b0f6-9a038f511b39",
   "metadata": {},
   "outputs": [
    {
     "data": {
      "text/plain": [
       "0.493149849218149"
      ]
     },
     "execution_count": 56,
     "metadata": {},
     "output_type": "execute_result"
    }
   ],
   "source": [
    "# 3분위수 : 상위 75%\n",
    "np.percentile(card_df['V14'], 75)"
   ]
  },
  {
   "cell_type": "code",
   "execution_count": 57,
   "id": "3445611f-1d24-49cd-bf13-b4e5dc2410a2",
   "metadata": {},
   "outputs": [
    {
     "data": {
      "text/plain": [
       "10.5267660517847"
      ]
     },
     "execution_count": 57,
     "metadata": {},
     "output_type": "execute_result"
    }
   ],
   "source": [
    "# np.percentile(card_df['V14'].value, 100)\n",
    "np.max(card_df['V14'])"
   ]
  },
  {
   "cell_type": "markdown",
   "id": "acf2b636-00f9-4187-9089-a4c8e1cc7c45",
   "metadata": {},
   "source": [
    "**get_outlier()함수를 이용해 V14 칼럼에서 이상치 데이터를 찾기**"
   ]
  },
  {
   "cell_type": "code",
   "execution_count": 53,
   "id": "317e77ab-cdf8-4ac6-9b92-33949e46ee4e",
   "metadata": {},
   "outputs": [
    {
     "name": "stdout",
     "output_type": "stream",
     "text": [
      "이상치 데이터 인덱스 :  Int64Index([8296, 8615, 9035, 9252], dtype='int64')\n"
     ]
    }
   ],
   "source": [
    "outlier_index = get_outlier(df = card_df, column = 'V14', weight = 1.5)\n",
    "print('이상치 데이터 인덱스 : ', outlier_index)"
   ]
  },
  {
   "cell_type": "markdown",
   "id": "5d2ec46b-87e9-4006-80f4-79002aae5d78",
   "metadata": {},
   "source": [
    "4개의 인덱스 [8296, 8615, 9035, 9252]\n",
    ": 이 인덱스에 해당되는 행은 삭제할 것"
   ]
  },
  {
   "cell_type": "code",
   "execution_count": 58,
   "id": "8969430f-3e57-4f27-842e-5f9baff27218",
   "metadata": {},
   "outputs": [
    {
     "data": {
      "text/plain": [
       "0        -0.311169\n",
       "1        -0.143772\n",
       "2        -0.165946\n",
       "3        -0.287924\n",
       "4        -1.119670\n",
       "            ...   \n",
       "284802    4.626942\n",
       "284803   -0.675143\n",
       "284804   -0.510602\n",
       "284805    0.449624\n",
       "284806   -0.084316\n",
       "Name: V14, Length: 284807, dtype: float64"
      ]
     },
     "execution_count": 58,
     "metadata": {},
     "output_type": "execute_result"
    }
   ],
   "source": [
    "card_df['V14']"
   ]
  },
  {
   "cell_type": "code",
   "execution_count": 59,
   "id": "542aa170-7cdc-4501-ba6f-c7af08032924",
   "metadata": {},
   "outputs": [
    {
     "data": {
      "text/plain": [
       "0.796994975493623"
      ]
     },
     "execution_count": 59,
     "metadata": {},
     "output_type": "execute_result"
    }
   ],
   "source": [
    "card_df['V14'][100]"
   ]
  },
  {
   "cell_type": "code",
   "execution_count": 60,
   "id": "0a0cfddf-b978-4392-afaf-8532c372e330",
   "metadata": {},
   "outputs": [
    {
     "data": {
      "text/plain": [
       "<AxesSubplot:xlabel='V14', ylabel='Density'>"
      ]
     },
     "execution_count": 60,
     "metadata": {},
     "output_type": "execute_result"
    },
    {
     "data": {
      "image/png": "[encoded data removed]",
      "text/plain": [
       "<Figure size 576x288 with 1 Axes>"
      ]
     },
     "metadata": {
      "needs_background": "light"
     },
     "output_type": "display_data"
    }
   ],
   "source": [
    "import seaborn as sns\n",
    "\n",
    "plt.figure(figsize = (8, 4))\n",
    "sns.distplot(card_df2['V14'])"
   ]
  },
  {
   "cell_type": "markdown",
   "id": "54b14b2e-5065-459a-8a90-834f16a12fe7",
   "metadata": {},
   "source": [
    "0을 중심으로 +-5 범위내에 대부분 데이터 존재  "
   ]
  },
  {
   "cell_type": "markdown",
   "id": "ae1a5751-c9bd-4b67-9fd8-78ada5ce3fa2",
   "metadata": {},
   "source": [
    "     "
   ]
  },
  {
   "cell_type": "markdown",
   "id": "a34843f5-d84d-48b3-a091-17169a7982d6",
   "metadata": {},
   "source": [
    "## **전처리 함수 4️⃣get_processed_df()**\n",
    "- Amount 피처 로그 변환\n",
    "- V14 피처의 이상치 데이터 삭제"
   ]
  },
  {
   "cell_type": "code",
   "execution_count": 61,
   "id": "042fc829-dcf7-46a1-bf61-897463ea64c4",
   "metadata": {},
   "outputs": [],
   "source": [
    "# 이상치 데이터 삭제하는 로직 추가\n",
    "\n",
    "# get_processed_df()를 로그 변환 후 V14 피처의 이상치 데이터를 삭제하는 로직으로 변경\n",
    "def get_preprocessed_df(df = None):\n",
    "    df_copy = df.copy()\n",
    "    amount_n = np.log1p(df_copy['Amount'])\n",
    "    df_copy.insert(0, 'Amount_Scaled', amount_n)\n",
    "    df_copy.drop(['Time','Amount'], axis = 1, inplace = True)\n",
    "    \n",
    "    # 이상치 데이터 삭제하는 로직 추가\n",
    "    outlier_index = get_outlier(df = df_copy, column = 'V14', weight = 1.5)\n",
    "    df_copy.drop(outlier_index, axis = 0, inplace = True)  # axis = 0 : 행삭제\n",
    "    return df_copy"
   ]
  },
  {
   "cell_type": "markdown",
   "id": "98aed762-baed-4373-b918-11454cf3bfb3",
   "metadata": {},
   "source": [
    "### **로그변환, 이상치 제거 후 모델들을 재 학습/예측/평가**"
   ]
  },
  {
   "cell_type": "code",
   "execution_count": 62,
   "id": "1edd2854-568f-4ffd-9dc4-ddc71a61b653",
   "metadata": {},
   "outputs": [
    {
     "name": "stdout",
     "output_type": "stream",
     "text": [
      "로지스틱 회귀 예측 성능\n",
      "오차 행렬\n",
      "[[85281    14]\n",
      " [   48    98]]\n",
      "정확도: 0.9993, 정밀도: 0.8750, 재현율: 0.6712,    F1: 0.7597, AUC:0.8355\n",
      "\n",
      "LightGBM 예측 성능\n",
      "오차 행렬\n",
      "[[85290     5]\n",
      " [   25   121]]\n",
      "정확도: 0.9996, 정밀도: 0.9603, 재현율: 0.8288,    F1: 0.8897, AUC:0.9144\n"
     ]
    }
   ],
   "source": [
    "X_train, X_test, y_train, y_test = get_train_test_dataset(card_df)\n",
    "\n",
    "print('로지스틱 회귀 예측 성능')\n",
    "lr_clf = LogisticRegression()\n",
    "get_model_train_eval(lr_clf, ftr_train = X_train, ftr_test = X_test, tgt_train = y_train, tgt_test = y_test)\n",
    "\n",
    "print('\\nLightGBM 예측 성능')\n",
    "lgbm_clf = LGBMClassifier(n_estimators=1000, num_leaves=64, n_jobs=-1, boost_from_average=False)\n",
    "get_model_train_eval(lgbm_clf, ftr_train=X_train, ftr_test=X_test, tgt_train=y_train, tgt_test=y_test)"
   ]
  },
  {
   "cell_type": "markdown",
   "id": "fb0d829e-e679-40db-bf5f-fb09560ce3fd",
   "metadata": {},
   "source": [
    "## **SMOTE 오버 샘플링 적용 후 모델 학습 / 예측 / 평가**"
   ]
  },
  {
   "cell_type": "code",
   "execution_count": null,
   "id": "69441490-e587-4f48-9b73-437d57341bee",
   "metadata": {},
   "outputs": [],
   "source": [
    "from imblearn.over_sampling import SMOTE\n",
    "\n",
    "# SMOTE 객체 생성\n",
    "smote = SMOTE(random_state = 0)\n",
    "\n",
    "# train 데이터 세트로 들어오는 값들에 대해서 오버샘플링 시작\n",
    "# 타켓값의 분포에 맞춰 피처값 생성\n",
    "\n",
    "# 교재 smote.fit_sample()의 경우 : 'SMOTE' object has no arribute 'fit sample' d오류 메시지 발생\n",
    "# smot.fit_resample()로 변경\n",
    "\n",
    "X_train_over, y_train_over - smote.fit_resample(X_train, y_train)\n",
    "\n",
    "# 전체 데이터 : 284, 807\n",
    "# 테스트 : 30%, 학습 : 70%\n",
    "\n",
    "print('SMOTE 적용 전 학습용 피처/레이블 데이터 세트 : ', X_train.shape, y_train.shape)\n",
    "print('SMOTE 적용 전 학습용 피처/레이블 데이터 세트 : ', X_train_over.shape, y_train_over.shape)\n",
    "print('SMOTE 적용 후 레이블 값 분포 : \\n', pd.Series(y_train_over).value_counts())"
   ]
  },
  {
   "cell_type": "code",
   "execution_count": null,
   "id": "c9ebfc8a-ecf5-4ac3-ae15-4eda47e2fbec",
   "metadata": {},
   "outputs": [],
   "source": [
    "# 원래 이랬음\n",
    "y_train.value_counts()\n",
    "# 전체 0.1% 만 1 값이었음"
   ]
  },
  {
   "cell_type": "markdown",
   "id": "e878faa5-beaf-401d-ab0d-10aedd178019",
   "metadata": {},
   "source": [
    "### **오버 샘플링 된 데이터로 로지스틱 회귀로 학습 / 예측 / 평가**"
   ]
  },
  {
   "cell_type": "markdown",
   "id": "61ca40ea-39ce-4a36-b609-7b1bd9814bbb",
   "metadata": {},
   "source": [
    "**증식된 데이터에 기반해서 다시 모델 학습 / 예측 / 평가**"
   ]
  },
  {
   "cell_type": "code",
   "execution_count": null,
   "id": "6405100e-91bb-421c-a9df-2c5288dab1c0",
   "metadata": {},
   "outputs": [],
   "source": [
    "lr_clf = LogisticRegression()\n",
    "\n",
    "# ftr_train과 tgt_train 인자값이 SMOTE 증식된 X_train_over와 y_train_over로 변경됨에 유의\n",
    "get_model_train_eval(lr_clf, ftr_train=X_train_over, ftr_test=X_test, tgt_train=y_train_over, tgt_test=y_test)"
   ]
  },
  {
   "cell_type": "markdown",
   "id": "89da204d-e2af-4c5a-a41e-403608b4d972",
   "metadata": {},
   "source": [
    "**Precision-Recall 곡선 시각화**"
   ]
  },
  {
   "cell_type": "code",
   "execution_count": null,
   "id": "4b5a41ae-e9ec-466b-bbfc-df6067285079",
   "metadata": {},
   "outputs": [],
   "source": [
    "import matplotlib.pyplot as plt\n",
    "import matplotlib.ticker as ticker\n",
    "from sklearn.metrics import precision_recall_curve\n",
    "%matplotlib inline\n",
    "\n",
    "def precision_recall_curve_plot(y_test , pred_proba_c1):\n",
    "    # threshold ndarray와 이 threshold에 따른 정밀도, 재현율 ndarray 추출. \n",
    "    precisions, recalls, thresholds = precision_recall_curve( y_test, pred_proba_c1)\n",
    "    \n",
    "    # X축을 threshold값으로, Y축은 정밀도, 재현율 값으로 각각 Plot 수행. 정밀도는 점선으로 표시\n",
    "    plt.figure(figsize=(8,6))\n",
    "    threshold_boundary = thresholds.shape[0]\n",
    "    plt.plot(thresholds, precisions[0:threshold_boundary], linestyle='--', label='precision')\n",
    "    plt.plot(thresholds, recalls[0:threshold_boundary],label='recall')\n",
    "    \n",
    "    # threshold 값 X 축의 Scale을 0.1 단위로 변경\n",
    "    start, end = plt.xlim()\n",
    "    plt.xticks(np.round(np.arange(start, end, 0.1),2))\n",
    "    \n",
    "    # x축, y축 label과 legend, 그리고 grid 설정\n",
    "    plt.xlabel('Threshold value'); plt.ylabel('Precision and Recall value')\n",
    "    plt.legend(); plt.grid()\n",
    "    plt.show()"
   ]
  },
  {
   "cell_type": "code",
   "execution_count": null,
   "id": "9082b36f-8e06-4ac9-836c-ce16237e5abd",
   "metadata": {},
   "outputs": [],
   "source": [
    "precision_recall_curve_plot(y_test, lr_clf.predict_proba(X_test)[:,1])"
   ]
  },
  {
   "cell_type": "markdown",
   "id": "4b7388e9-5884-4f0a-b488-7f5bf34856e3",
   "metadata": {},
   "source": [
    "재현율은 좋은데 정밀도 너무 낮음\n",
    "- 차이가 너무 극명하게 난다\n",
    "- 성능은 좋아졌지만 좋은 모델은 아님"
   ]
  },
  {
   "cell_type": "markdown",
   "id": "584dad7f-d0b3-4e7d-872c-0b9c75ac913e",
   "metadata": {},
   "source": [
    "**오버샘플링 된 데이터로 LightGBM 모델 적용**"
   ]
  },
  {
   "cell_type": "code",
   "execution_count": null,
   "id": "9a5e3312-0811-403a-b2bc-d0cd4c0a58a4",
   "metadata": {},
   "outputs": [],
   "source": [
    "lgmb_clf = LGBMClassifier(n_estimators = 1000, num_leaves = 64, n_jobs = -1, boost_from_average = False)\n",
    "\n",
    "# 샘플링된 데이터 세트 사용\n",
    "get_model_train_eval(lgbm_clf, ftr_train = X_train_over, ftr_test = X_test, tgt_train = y_train_over , tgt_test = y_test)"
   ]
  },
  {
   "cell_type": "code",
   "execution_count": null,
   "id": "9ddc789c-6b00-4e48-9aa9-95ccd742579d",
   "metadata": {},
   "outputs": [],
   "source": [
    "lgbm_clf = LGBMClassifier(n_estimators=1000, num_leaves=64, n_jobs=-1, boost_from_average=False)\n",
    "get_model_train_eval(lgbm_clf, ftr_train=X_train_over, ftr_test=X_test,\n",
    "                  tgt_train=y_train_over, tgt_test=y_test)"
   ]
  },
  {
   "cell_type": "code",
   "execution_count": null,
   "id": "1b11b6c8-d1b1-46a9-8f1b-d71ece1c1bf8",
   "metadata": {},
   "outputs": [],
   "source": [
    "precision_recall_curve_plot( y_test, lr_clf.predict_proba(X_test)[:, 1] )"
   ]
  },
  {
   "cell_type": "code",
   "execution_count": null,
   "id": "4c481129-3669-47d8-90a2-c0caf0d5cf5a",
   "metadata": {},
   "outputs": [],
   "source": [
    "적절한 부분 \n",
    "- 기준은 0.5"
   ]
  }
 ],
 "metadata": {
  "kernelspec": {
   "display_name": "Python Multi",
   "language": "python",
   "name": "multi"
  },
  "language_info": {
   "codemirror_mode": {
    "name": "ipython",
    "version": 3
   },
   "file_extension": ".py",
   "mimetype": "text/x-python",
   "name": "python",
   "nbconvert_exporter": "python",
   "pygments_lexer": "ipython3",
   "version": "3.7.6"
  }
 },
 "nbformat": 4,
 "nbformat_minor": 5
}
