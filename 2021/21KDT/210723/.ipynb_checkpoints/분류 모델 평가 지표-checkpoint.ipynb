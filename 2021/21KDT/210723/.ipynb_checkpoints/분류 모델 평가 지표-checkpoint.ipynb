{
 "cells": [
  {
   "cell_type": "markdown",
   "id": "453a05ab-53c8-4c4d-9f96-dc69be8f314f",
   "metadata": {},
   "source": [
    "# 분류 모델의 성능 평가 지표\n",
    "\n",
    "## **Accuracy (정확도)**\n",
    "### **1. 타이타닉 생존자 예측**\n",
    "- 사이킷런은 BaseEstimator를 상속받으면 Customized형태의 Estimator를 개발자가 생성할 수 있다."
   ]
  },
  {
   "cell_type": "code",
   "execution_count": 1,
   "id": "b1afb07c-c9a8-4601-87fe-ed0cc05f2325",
   "metadata": {},
   "outputs": [],
   "source": [
    "import numpy as np\n",
    "from sklearn.base import BaseEstimator\n",
    "\n",
    "# 아무런 학습을 하지 않고 성별에 따라 생존자를 예측하는 단순한 Classifer생성\n",
    "# BaseEstimator 상속 받음\n",
    "\n",
    "class MyDummyClassifier(BaseEstimator):\n",
    "    # fit() 메소드는 아무것도 학습하지 않음\n",
    "    def fit(self, X, y = None):\n",
    "        pass\n",
    "    \n",
    "    # predict( ) 메소드는 단순히 Sex feature가 1 이면 0 , 그렇지 않으면 1 로 예측함\n",
    "    def predict(self, X):\n",
    "        pred = np.zeros((X.shape[0], 1))\n",
    "        for i in range(X.shape[0]):\n",
    "            if X['Sex'].iloc[i] == 1:\n",
    "                pred[i] = 0\n",
    "            else:\n",
    "                pred[i] = 1\n",
    "        \n",
    "        return pred"
   ]
  },
  {
   "cell_type": "markdown",
   "id": "19707314-f2f6-4642-82e2-62f686cd6a99",
   "metadata": {},
   "source": [
    "**MyDummyClassifier를 이용해 타이타닉 생존자 예측 수행**"
   ]
  },
  {
   "cell_type": "code",
   "execution_count": 2,
   "id": "a1164992-1a5e-4659-87cb-c1563e71ff77",
   "metadata": {},
   "outputs": [],
   "source": [
    "from sklearn.preprocessing import LabelEncoder\n",
    "\n",
    "# Null 처리 함수\n",
    "def fillna(df):\n",
    "    df['Age'].fillna(df['Age'].mean(), inplace = True)\n",
    "    df['Cabin'].fillna(\"N\", inplace = True)\n",
    "    df['Embarked'].fillna(\"N\", inplace = True)\n",
    "    df['Fare'].fillna(0, inplace = True)\n",
    "    return df\n",
    "\n",
    "\n",
    "# 머신러닝 알고리즘에 불필요한 속성 제거\n",
    "def drop_features(df):\n",
    "    df.drop(['PassengerId', 'Name', 'Ticket'], axis = 1, inplace = True)\n",
    "    return df\n",
    "\n",
    "# 레이블 인코딩 수행\n",
    "def format_features(df):\n",
    "    df['Cabin'] = df['Cabin'].str[:1]  # 첫 문자만 추출\n",
    "    features = ['Cabin', 'Sex', 'Embarked']\n",
    "    for feature in features:\n",
    "        le = LabelEncoder()\n",
    "        le = le.fit(df[feature])\n",
    "        df[feature] = le.transform(df[feature])\n",
    "    return df\n",
    "\n",
    "# 앞에서 설정한 Data Preprocessing 함수 호출\n",
    "def transform_features(df):\n",
    "    df = fillna(df)\n",
    "    df = drop_features(df)\n",
    "    df = format_features(df)\n",
    "    return df"
   ]
  },
  {
   "cell_type": "code",
   "execution_count": 3,
   "id": "e7b243d9-1dfe-46a0-8049-9429623f4d47",
   "metadata": {},
   "outputs": [
    {
     "name": "stdout",
     "output_type": "stream",
     "text": [
      "Dummy Classifier의 정확도는 : 0.7877\n"
     ]
    }
   ],
   "source": [
    "# 타이타닉 생존자 예측\n",
    "import pandas as pd\n",
    "from sklearn.model_selection import train_test_split\n",
    "from sklearn.metrics import accuracy_score\n",
    "\n",
    "# 원본 데이터를 재로딩, 데이터 가공, 학습데이터/테스트 데이터 분할\n",
    "titanic_df = pd.read_csv('titanic_train.csv')\n",
    "y_titanic_df = titanic_df['Survived']\n",
    "X_titanic_df = titanic_df.drop('Survived', axis = 1)\n",
    "X_titanic_df = transform_features(X_titanic_df)\n",
    "X_train, X_test, y_train, y_test = train_test_split(X_titanic_df, y_titanic_df, test_size = 0.2, random_state = 0)\n",
    "\n",
    "# 위에서 생성한 Dummy Classifier를 이용하여 학습 / 예측/ 평가 수행\n",
    "myclf = MyDummyClassifier()\n",
    "myclf.fit(X_train, y_train)\n",
    "mypred = myclf.predict(X_test)\n",
    "print('Dummy Classifier의 정확도는 : {0:.4f}'.format(accuracy_score(y_test, mypred)))"
   ]
  },
  {
   "cell_type": "markdown",
   "id": "b98a1490-d14b-4010-a2c2-835c1a656d36",
   "metadata": {},
   "source": [
    "이렇게 단순한 알고리즘으로 예측을 하더라도 데이터의 구성에 따라 정확도 결과는 약 78.77%로 꽤 높은 수치가 나올 수 있기에 정확도를 평가 지표로 사용할 때는 매우 신중해야 함\n",
    "\n",
    "특히 정확도는 불균형한(imbalanced)레이블 값 분포에서 ML모델의 성능을 판단할 경우, 적합한 평가 지표가 아니다."
   ]
  },
  {
   "cell_type": "markdown",
   "id": "0d92ce14-b3c7-4f20-b3a0-6b943ce6f641",
   "metadata": {},
   "source": [
    "   "
   ]
  },
  {
   "cell_type": "markdown",
   "id": "46d72847-2fdd-4a89-b518-e3ac8d0e0d71",
   "metadata": {},
   "source": [
    "### **2. MNIST 데이터 세트**\n",
    "- 먼저 불균형한 데이터 세트와 Dummy Classifier를 생성"
   ]
  },
  {
   "cell_type": "code",
   "execution_count": 4,
   "id": "96705639-2e8d-412a-b9cd-a8a1f893104f",
   "metadata": {},
   "outputs": [],
   "source": [
    "from sklearn.datasets import load_digits\n",
    "from sklearn.model_selection import train_test_split\n",
    "from sklearn.base import BaseEstimator\n",
    "from sklearn.metrics import accuracy_score\n",
    "import numpy as np\n",
    "import pandas as pd\n",
    "\n",
    "class MyFakeClassifier(BaseEstimator):\n",
    "    def fit(self, X, y):\n",
    "        pass\n",
    "    \n",
    "    # 입력값으로 들어오는 X 데이터 셋의 크기만큼 모두 0값으로 만들어서 반환\n",
    "    def predict(self, X):\n",
    "        return np.zeros((len(X), 1), dtype = bool)"
   ]
  },
  {
   "cell_type": "markdown",
   "id": "0209ff09-6dc0-4572-8105-f408ae829ca9",
   "metadata": {},
   "source": [
    "**digit 데이터 로드**"
   ]
  },
  {
   "cell_type": "code",
   "execution_count": 5,
   "id": "08a91cb1-fd43-46d2-bd61-f73011d327eb",
   "metadata": {},
   "outputs": [
    {
     "data": {
      "text/plain": [
       "{'data': array([[ 0.,  0.,  5., ...,  0.,  0.,  0.],\n",
       "        [ 0.,  0.,  0., ..., 10.,  0.,  0.],\n",
       "        [ 0.,  0.,  0., ..., 16.,  9.,  0.],\n",
       "        ...,\n",
       "        [ 0.,  0.,  1., ...,  6.,  0.,  0.],\n",
       "        [ 0.,  0.,  2., ..., 12.,  0.,  0.],\n",
       "        [ 0.,  0., 10., ..., 12.,  1.,  0.]]),\n",
       " 'target': array([0, 1, 2, ..., 8, 9, 8]),\n",
       " 'frame': None,\n",
       " 'feature_names': ['pixel_0_0',\n",
       "  'pixel_0_1',\n",
       "  'pixel_0_2',\n",
       "  'pixel_0_3',\n",
       "  'pixel_0_4',\n",
       "  'pixel_0_5',\n",
       "  'pixel_0_6',\n",
       "  'pixel_0_7',\n",
       "  'pixel_1_0',\n",
       "  'pixel_1_1',\n",
       "  'pixel_1_2',\n",
       "  'pixel_1_3',\n",
       "  'pixel_1_4',\n",
       "  'pixel_1_5',\n",
       "  'pixel_1_6',\n",
       "  'pixel_1_7',\n",
       "  'pixel_2_0',\n",
       "  'pixel_2_1',\n",
       "  'pixel_2_2',\n",
       "  'pixel_2_3',\n",
       "  'pixel_2_4',\n",
       "  'pixel_2_5',\n",
       "  'pixel_2_6',\n",
       "  'pixel_2_7',\n",
       "  'pixel_3_0',\n",
       "  'pixel_3_1',\n",
       "  'pixel_3_2',\n",
       "  'pixel_3_3',\n",
       "  'pixel_3_4',\n",
       "  'pixel_3_5',\n",
       "  'pixel_3_6',\n",
       "  'pixel_3_7',\n",
       "  'pixel_4_0',\n",
       "  'pixel_4_1',\n",
       "  'pixel_4_2',\n",
       "  'pixel_4_3',\n",
       "  'pixel_4_4',\n",
       "  'pixel_4_5',\n",
       "  'pixel_4_6',\n",
       "  'pixel_4_7',\n",
       "  'pixel_5_0',\n",
       "  'pixel_5_1',\n",
       "  'pixel_5_2',\n",
       "  'pixel_5_3',\n",
       "  'pixel_5_4',\n",
       "  'pixel_5_5',\n",
       "  'pixel_5_6',\n",
       "  'pixel_5_7',\n",
       "  'pixel_6_0',\n",
       "  'pixel_6_1',\n",
       "  'pixel_6_2',\n",
       "  'pixel_6_3',\n",
       "  'pixel_6_4',\n",
       "  'pixel_6_5',\n",
       "  'pixel_6_6',\n",
       "  'pixel_6_7',\n",
       "  'pixel_7_0',\n",
       "  'pixel_7_1',\n",
       "  'pixel_7_2',\n",
       "  'pixel_7_3',\n",
       "  'pixel_7_4',\n",
       "  'pixel_7_5',\n",
       "  'pixel_7_6',\n",
       "  'pixel_7_7'],\n",
       " 'target_names': array([0, 1, 2, 3, 4, 5, 6, 7, 8, 9]),\n",
       " 'images': array([[[ 0.,  0.,  5., ...,  1.,  0.,  0.],\n",
       "         [ 0.,  0., 13., ..., 15.,  5.,  0.],\n",
       "         [ 0.,  3., 15., ..., 11.,  8.,  0.],\n",
       "         ...,\n",
       "         [ 0.,  4., 11., ..., 12.,  7.,  0.],\n",
       "         [ 0.,  2., 14., ..., 12.,  0.,  0.],\n",
       "         [ 0.,  0.,  6., ...,  0.,  0.,  0.]],\n",
       " \n",
       "        [[ 0.,  0.,  0., ...,  5.,  0.,  0.],\n",
       "         [ 0.,  0.,  0., ...,  9.,  0.,  0.],\n",
       "         [ 0.,  0.,  3., ...,  6.,  0.,  0.],\n",
       "         ...,\n",
       "         [ 0.,  0.,  1., ...,  6.,  0.,  0.],\n",
       "         [ 0.,  0.,  1., ...,  6.,  0.,  0.],\n",
       "         [ 0.,  0.,  0., ..., 10.,  0.,  0.]],\n",
       " \n",
       "        [[ 0.,  0.,  0., ..., 12.,  0.,  0.],\n",
       "         [ 0.,  0.,  3., ..., 14.,  0.,  0.],\n",
       "         [ 0.,  0.,  8., ..., 16.,  0.,  0.],\n",
       "         ...,\n",
       "         [ 0.,  9., 16., ...,  0.,  0.,  0.],\n",
       "         [ 0.,  3., 13., ..., 11.,  5.,  0.],\n",
       "         [ 0.,  0.,  0., ..., 16.,  9.,  0.]],\n",
       " \n",
       "        ...,\n",
       " \n",
       "        [[ 0.,  0.,  1., ...,  1.,  0.,  0.],\n",
       "         [ 0.,  0., 13., ...,  2.,  1.,  0.],\n",
       "         [ 0.,  0., 16., ..., 16.,  5.,  0.],\n",
       "         ...,\n",
       "         [ 0.,  0., 16., ..., 15.,  0.,  0.],\n",
       "         [ 0.,  0., 15., ..., 16.,  0.,  0.],\n",
       "         [ 0.,  0.,  2., ...,  6.,  0.,  0.]],\n",
       " \n",
       "        [[ 0.,  0.,  2., ...,  0.,  0.,  0.],\n",
       "         [ 0.,  0., 14., ..., 15.,  1.,  0.],\n",
       "         [ 0.,  4., 16., ..., 16.,  7.,  0.],\n",
       "         ...,\n",
       "         [ 0.,  0.,  0., ..., 16.,  2.,  0.],\n",
       "         [ 0.,  0.,  4., ..., 16.,  2.,  0.],\n",
       "         [ 0.,  0.,  5., ..., 12.,  0.,  0.]],\n",
       " \n",
       "        [[ 0.,  0., 10., ...,  1.,  0.,  0.],\n",
       "         [ 0.,  2., 16., ...,  1.,  0.,  0.],\n",
       "         [ 0.,  0., 15., ..., 15.,  0.,  0.],\n",
       "         ...,\n",
       "         [ 0.,  4., 16., ..., 16.,  6.,  0.],\n",
       "         [ 0.,  8., 16., ..., 16.,  8.,  0.],\n",
       "         [ 0.,  1.,  8., ..., 12.,  1.,  0.]]]),\n",
       " 'DESCR': \".. _digits_dataset:\\n\\nOptical recognition of handwritten digits dataset\\n--------------------------------------------------\\n\\n**Data Set Characteristics:**\\n\\n    :Number of Instances: 1797\\n    :Number of Attributes: 64\\n    :Attribute Information: 8x8 image of integer pixels in the range 0..16.\\n    :Missing Attribute Values: None\\n    :Creator: E. Alpaydin (alpaydin '@' boun.edu.tr)\\n    :Date: July; 1998\\n\\nThis is a copy of the test set of the UCI ML hand-written digits datasets\\nhttps://archive.ics.uci.edu/ml/datasets/Optical+Recognition+of+Handwritten+Digits\\n\\nThe data set contains images of hand-written digits: 10 classes where\\neach class refers to a digit.\\n\\nPreprocessing programs made available by NIST were used to extract\\nnormalized bitmaps of handwritten digits from a preprinted form. From a\\ntotal of 43 people, 30 contributed to the training set and different 13\\nto the test set. 32x32 bitmaps are divided into nonoverlapping blocks of\\n4x4 and the number of on pixels are counted in each block. This generates\\nan input matrix of 8x8 where each element is an integer in the range\\n0..16. This reduces dimensionality and gives invariance to small\\ndistortions.\\n\\nFor info on NIST preprocessing routines, see M. D. Garris, J. L. Blue, G.\\nT. Candela, D. L. Dimmick, J. Geist, P. J. Grother, S. A. Janet, and C.\\nL. Wilson, NIST Form-Based Handprint Recognition System, NISTIR 5469,\\n1994.\\n\\n.. topic:: References\\n\\n  - C. Kaynak (1995) Methods of Combining Multiple Classifiers and Their\\n    Applications to Handwritten Digit Recognition, MSc Thesis, Institute of\\n    Graduate Studies in Science and Engineering, Bogazici University.\\n  - E. Alpaydin, C. Kaynak (1998) Cascading Classifiers, Kybernetika.\\n  - Ken Tang and Ponnuthurai N. Suganthan and Xi Yao and A. Kai Qin.\\n    Linear dimensionalityreduction using relevance weighted LDA. School of\\n    Electrical and Electronic Engineering Nanyang Technological University.\\n    2005.\\n  - Claudio Gentile. A New Approximate Maximal Margin Classification\\n    Algorithm. NIPS. 2000.\\n\"}"
      ]
     },
     "execution_count": 5,
     "metadata": {},
     "output_type": "execute_result"
    }
   ],
   "source": [
    "# 사이킷런의 내장 데이터 셋인 load_digits( )를 이용하여 MNIST 데이터 로딩\n",
    "digits = load_digits()\n",
    "# digits 확인\n",
    "digits"
   ]
  },
  {
   "cell_type": "code",
   "execution_count": 6,
   "id": "1e888f36-e9b5-4b71-985b-f64a99cd61a1",
   "metadata": {},
   "outputs": [
    {
     "data": {
      "text/plain": [
       "(1797, 64)"
      ]
     },
     "execution_count": 6,
     "metadata": {},
     "output_type": "execute_result"
    }
   ],
   "source": [
    "# 데이터 형태 확인\n",
    "digits.data.shape"
   ]
  },
  {
   "cell_type": "code",
   "execution_count": 7,
   "id": "70a794c8-8703-4324-a666-870519c60c7a",
   "metadata": {},
   "outputs": [
    {
     "data": {
      "text/plain": [
       "(1797,)"
      ]
     },
     "execution_count": 7,
     "metadata": {},
     "output_type": "execute_result"
    }
   ],
   "source": [
    "digits.target.shape"
   ]
  },
  {
   "cell_type": "markdown",
   "id": "11fed56f-366f-4835-873c-5b538b42d652",
   "metadata": {},
   "source": [
    "**7인 데이터 확인**"
   ]
  },
  {
   "cell_type": "code",
   "execution_count": 8,
   "id": "413202d8-118d-47ae-8756-8b76fa820e11",
   "metadata": {},
   "outputs": [
    {
     "data": {
      "text/plain": [
       "array([False, False, False, ..., False, False, False])"
      ]
     },
     "execution_count": 8,
     "metadata": {},
     "output_type": "execute_result"
    }
   ],
   "source": [
    "digits.target == 7"
   ]
  },
  {
   "cell_type": "markdown",
   "id": "4c120ff7-1d23-4131-ae63-eb661cb1ece1",
   "metadata": {},
   "source": [
    "**7인 데이터는 1, 그 외 데이터는 0으로 변환**"
   ]
  },
  {
   "cell_type": "code",
   "execution_count": 9,
   "id": "429e3f94-83e4-46ca-871c-e3a161c732af",
   "metadata": {},
   "outputs": [
    {
     "data": {
      "text/plain": [
       "array([0, 0, 0, ..., 0, 0, 0])"
      ]
     },
     "execution_count": 9,
     "metadata": {},
     "output_type": "execute_result"
    }
   ],
   "source": [
    "# digits 번호가 7이면 True이고 이를 astype(int)로 1로 변환\n",
    "# 7번이 아니면 False이고 0으로 변환\n",
    "y = (digits.target == 7).astype(int)\n",
    "y"
   ]
  },
  {
   "cell_type": "markdown",
   "id": "52afcb2a-18d2-4683-afca-0ce7a9cc4fec",
   "metadata": {},
   "source": [
    "**학습 / 테스트 데이터 세트로 분리 (default = 0.25)**"
   ]
  },
  {
   "cell_type": "code",
   "execution_count": 10,
   "id": "62abbe79-bd6a-42c1-9299-802faf74d912",
   "metadata": {},
   "outputs": [],
   "source": [
    "# 학습 / 테스트 데이터 세트로 분리 (default = 0.25)\n",
    "X_train, X_test, y_train, y_test = train_test_split(digits.data, y, random_state = 11)"
   ]
  },
  {
   "cell_type": "markdown",
   "id": "c4ece996-eeb4-4408-a6a3-5db0ccc969d6",
   "metadata": {},
   "source": [
    "**분리된 학습 / 테스트 데이터 세트 각각 확인**"
   ]
  },
  {
   "cell_type": "code",
   "execution_count": 11,
   "id": "9867b9fa-3353-4fb5-8d62-44a0a5213d6b",
   "metadata": {},
   "outputs": [
    {
     "data": {
      "text/plain": [
       "array([[ 0.,  0.,  3., ..., 12., 14.,  7.],\n",
       "       [ 0.,  1.,  9., ..., 10.,  1.,  0.],\n",
       "       [ 0.,  0.,  0., ...,  0.,  0.,  0.],\n",
       "       ...,\n",
       "       [ 0.,  0.,  1., ..., 16., 13.,  1.],\n",
       "       [ 0.,  1., 11., ..., 13., 16.,  5.],\n",
       "       [ 0.,  0.,  6., ...,  6.,  0.,  0.]])"
      ]
     },
     "execution_count": 11,
     "metadata": {},
     "output_type": "execute_result"
    }
   ],
   "source": [
    "X_train"
   ]
  },
  {
   "cell_type": "code",
   "execution_count": 12,
   "id": "52d74842-c7ec-4ef9-9661-8df5d87114e1",
   "metadata": {},
   "outputs": [
    {
     "data": {
      "text/plain": [
       "array([[ 0.,  0.,  7., ...,  3.,  0.,  0.],\n",
       "       [ 0.,  0.,  0., ...,  0.,  0.,  0.],\n",
       "       [ 0.,  0.,  6., ...,  0.,  0.,  0.],\n",
       "       ...,\n",
       "       [ 0.,  1., 13., ..., 15.,  3.,  0.],\n",
       "       [ 0.,  0.,  0., ...,  1.,  0.,  0.],\n",
       "       [ 0.,  0.,  0., ..., 12.,  0.,  0.]])"
      ]
     },
     "execution_count": 12,
     "metadata": {},
     "output_type": "execute_result"
    }
   ],
   "source": [
    "X_test"
   ]
  },
  {
   "cell_type": "code",
   "execution_count": 13,
   "id": "25ac31b3-cec9-412a-bfc8-e44e5ad31bf5",
   "metadata": {},
   "outputs": [
    {
     "data": {
      "text/plain": [
       "array([0, 0, 1, ..., 0, 0, 0])"
      ]
     },
     "execution_count": 13,
     "metadata": {},
     "output_type": "execute_result"
    }
   ],
   "source": [
    "y_train"
   ]
  },
  {
   "cell_type": "code",
   "execution_count": 14,
   "id": "42628044-563a-4db7-be0b-e810d60b0d99",
   "metadata": {},
   "outputs": [
    {
     "data": {
      "text/plain": [
       "array([0, 0, 0, 0, 0, 0, 0, 0, 0, 0, 0, 0, 0, 0, 0, 0, 0, 0, 0, 0, 0, 0,\n",
       "       0, 0, 0, 0, 0, 0, 0, 0, 1, 0, 0, 0, 0, 0, 0, 0, 0, 1, 0, 0, 0, 0,\n",
       "       0, 0, 0, 0, 0, 0, 0, 0, 0, 0, 0, 0, 0, 0, 0, 0, 0, 1, 0, 0, 0, 1,\n",
       "       0, 0, 0, 0, 0, 0, 1, 0, 0, 0, 0, 1, 1, 0, 0, 0, 0, 0, 0, 0, 0, 1,\n",
       "       0, 0, 0, 0, 0, 0, 0, 0, 0, 0, 0, 0, 0, 0, 0, 0, 0, 1, 0, 0, 0, 0,\n",
       "       1, 0, 0, 0, 0, 0, 0, 0, 0, 0, 0, 0, 0, 0, 0, 0, 0, 0, 0, 0, 0, 0,\n",
       "       0, 0, 0, 0, 0, 0, 0, 0, 0, 0, 0, 1, 0, 1, 0, 0, 0, 1, 0, 0, 0, 0,\n",
       "       0, 0, 0, 0, 0, 0, 0, 0, 0, 0, 0, 0, 1, 0, 0, 0, 0, 0, 0, 0, 0, 0,\n",
       "       0, 1, 0, 0, 0, 0, 0, 0, 0, 0, 0, 0, 0, 0, 0, 0, 0, 0, 0, 0, 0, 1,\n",
       "       0, 0, 0, 0, 0, 0, 0, 1, 0, 0, 0, 0, 0, 0, 0, 0, 0, 0, 1, 0, 0, 1,\n",
       "       1, 0, 0, 1, 0, 0, 0, 1, 0, 0, 0, 0, 0, 0, 0, 0, 0, 0, 0, 0, 0, 0,\n",
       "       0, 0, 0, 0, 0, 0, 0, 0, 0, 0, 0, 0, 0, 0, 0, 0, 0, 0, 0, 0, 0, 0,\n",
       "       1, 0, 0, 0, 0, 0, 0, 0, 1, 1, 0, 0, 0, 0, 0, 0, 0, 0, 0, 0, 0, 0,\n",
       "       0, 1, 0, 0, 0, 0, 0, 0, 0, 0, 0, 0, 0, 0, 0, 0, 1, 0, 0, 0, 1, 0,\n",
       "       0, 0, 0, 0, 0, 0, 0, 0, 0, 1, 1, 0, 0, 0, 0, 0, 0, 0, 0, 0, 0, 0,\n",
       "       0, 0, 0, 0, 0, 1, 0, 0, 0, 1, 0, 0, 0, 1, 0, 0, 0, 1, 0, 0, 0, 0,\n",
       "       0, 0, 1, 0, 0, 0, 1, 0, 1, 0, 0, 0, 0, 0, 0, 0, 0, 0, 0, 0, 0, 1,\n",
       "       0, 0, 0, 0, 0, 0, 0, 0, 0, 0, 0, 0, 0, 0, 0, 1, 0, 0, 0, 0, 1, 0,\n",
       "       1, 0, 0, 0, 0, 0, 0, 0, 0, 0, 0, 0, 0, 0, 0, 0, 0, 0, 0, 0, 0, 0,\n",
       "       0, 0, 0, 1, 0, 0, 0, 0, 0, 0, 0, 1, 1, 1, 0, 0, 0, 0, 0, 0, 0, 0,\n",
       "       0, 0, 0, 0, 0, 0, 0, 0, 0, 0])"
      ]
     },
     "execution_count": 14,
     "metadata": {},
     "output_type": "execute_result"
    }
   ],
   "source": [
    "y_test"
   ]
  },
  {
   "cell_type": "markdown",
   "id": "32ee710a-3a4e-4129-8862-6d5da6bbc495",
   "metadata": {},
   "source": [
    "**불균형한 레이블 데이터 분포도 확인**\n",
    "- 불균형한 데이터로 생성한 y_test의 데이터 분포도를 확인"
   ]
  },
  {
   "cell_type": "code",
   "execution_count": 15,
   "id": "ff1c2155-0c63-4286-8945-7052f615dc17",
   "metadata": {},
   "outputs": [
    {
     "name": "stdout",
     "output_type": "stream",
     "text": [
      "y_test.shape :  (450,)\n"
     ]
    },
    {
     "data": {
      "text/plain": [
       "0    405\n",
       "1     45\n",
       "dtype: int64"
      ]
     },
     "execution_count": 15,
     "metadata": {},
     "output_type": "execute_result"
    }
   ],
   "source": [
    "print('y_test.shape : ', y_test.shape)\n",
    "pd.Series(y_test).value_counts()"
   ]
  },
  {
   "cell_type": "code",
   "execution_count": 16,
   "id": "153b5c37-7bb3-4a3e-a7a0-4f42fed939de",
   "metadata": {},
   "outputs": [
    {
     "name": "stdout",
     "output_type": "stream",
     "text": [
      "레이블 테스트 세트 크기 : (450,)\n",
      "테스트 세트 레이블 0 과 1의 분포도\n",
      "0    405\n",
      "1     45\n",
      "dtype: int64\n"
     ]
    }
   ],
   "source": [
    "# 불균형한 레이블 데이터 분포도(value_counts()) 확인\n",
    "print('레이블 테스트 세트 크기 :', y_test.shape)\n",
    "print('테스트 세트 레이블 0 과 1의 분포도')\n",
    "print(pd.Series(y_test).value_counts())"
   ]
  },
  {
   "cell_type": "markdown",
   "id": "97e3a7d4-1319-41f3-90c0-64ef9dea1a38",
   "metadata": {},
   "source": [
    "레이블 테스트 세트(y_test)개수 총 450개 중\n",
    "- 7(True = 1)인 갯수 : 45개 \n",
    "    - 10%\n",
    "- 나머지 값(False = 0)인 개수 : 405개\n",
    "    - 90%"
   ]
  },
  {
   "cell_type": "markdown",
   "id": "09efe753-f888-4817-ae5e-5af0ee586bdf",
   "metadata": {},
   "source": [
    "**MyFakeClassifier를 이용해 예측과 평가 수행**  "
   ]
  },
  {
   "cell_type": "code",
   "execution_count": 17,
   "id": "a999e1b3-c72f-4c0e-b5e5-cedafe51b654",
   "metadata": {},
   "outputs": [
    {
     "name": "stdout",
     "output_type": "stream",
     "text": [
      "정확도 :  0.9\n"
     ]
    }
   ],
   "source": [
    "# Dummy Classifier로 학습 / 예측 / 정확도 평가\n",
    "fake_cl = MyFakeClassifier()\n",
    "fake_cl.fit(X_train, y_train)\n",
    "fakePred = fake_cl.predict(X_test)\n",
    "accuracy = accuracy_score(y_test, fakePred)\n",
    "print('정확도 : ', np.round((accuracy), 3))"
   ]
  },
  {
   "cell_type": "code",
   "execution_count": 18,
   "id": "378ebe74-4824-4331-8e2e-5ef3f8311505",
   "metadata": {},
   "outputs": [
    {
     "name": "stdout",
     "output_type": "stream",
     "text": [
      "모든 예측을 0으로 하여도 정확도는:0.900\n"
     ]
    }
   ],
   "source": [
    "# Dummy Classifier로 학습/예측/정확도 평가\n",
    "fakeclf = MyFakeClassifier()\n",
    "fakeclf.fit(X_train , y_train)\n",
    "fakepred = fakeclf.predict(X_test)\n",
    "print('모든 예측을 0으로 하여도 정확도는:{:.3f}'.format(accuracy_score(y_test , fakepred)))"
   ]
  },
  {
   "cell_type": "markdown",
   "id": "bd7b491e-6858-4915-997f-b7c8b87464ff",
   "metadata": {},
   "source": [
    "단순히 predict()의 결과를 np.zeros()로 모두 0값으로 반환함에도 불구하고 450개의 테스트 데이터 세트에 수행한 예측 정확도는 90%이다.\n",
    "\n",
    "단지 모든 것을 0으로만 예측해도 MyFakeClassifier의 정확도가 90%로 유수의 ML알고리즘과 어깨를 겨룰 수 있다는 것은 말도 안되는 결과이다."
   ]
  },
  {
   "cell_type": "markdown",
   "id": "279e19e3-fca4-4696-b7c5-886bbf2db83f",
   "metadata": {},
   "source": [
    "## **Confustion Matirx(오차 행렬)**\n",
    "- 사이킷런은 오차 행렬을 구하기 위해 confusion_matrix API를 제공\n",
    "- 정확도 예제에서 다룬 MyFakeClassifier의 예측 성능 지표를 오차 행렬로 표현"
   ]
  },
  {
   "cell_type": "code",
   "execution_count": 19,
   "id": "06416277-f19d-4c44-8fa9-96aacbdbb9c1",
   "metadata": {},
   "outputs": [
    {
     "data": {
      "text/plain": [
       "array([[405,   0],\n",
       "       [ 45,   0]], dtype=int64)"
      ]
     },
     "execution_count": 19,
     "metadata": {},
     "output_type": "execute_result"
    }
   ],
   "source": [
    "from sklearn.metrics import confusion_matrix\n",
    "\n",
    "# 앞절의 예측 결과인 MNIST의 fakepred와 \n",
    "# 실제 결과인 y_test를 Confusion Matrix()인자로 입력해 오차 행력을 배열 형태로출력\n",
    "confusion_matrix(y_test, fakePred)  # (참 값, 예측 값)"
   ]
  },
  {
   "cell_type": "markdown",
   "id": "06029aca-5242-47eb-9fc8-da726a60eb00",
   "metadata": {},
   "source": [
    " "
   ]
  },
  {
   "cell_type": "markdown",
   "id": "52f59fec-8e3a-4e58-9334-d1a84eef315d",
   "metadata": {},
   "source": [
    "## **정밀도와 재현율**\n",
    "- 앞의 타이타닉 예제에서는 정확도만 초점을 맞췄지만, 이번에 오차 행렬 및 정밀도, 재현율을 모두 구해서 예측 성능 평가\n",
    "- 사이킷런 API 사용\n",
    "    - 정밀도 계산 : precision_score() API \n",
    "    - 재현율 게산 : recall_score() API"
   ]
  },
  {
   "cell_type": "code",
   "execution_count": 20,
   "id": "b626941c-ed13-4c74-94bb-c014079c4ad3",
   "metadata": {},
   "outputs": [],
   "source": [
    "# 정밀도와 재현율 계산에 사용되는 예측값\n",
    "# 앞에서 Dummy Classifier로 학습 후 예측한 값 : fakepred\n",
    "# 앞에 다 있는 내용인데 흩어져 있어서 정밀도와 재현율 계산을 위해 다시 모아서 적음\n",
    "\n",
    "from sklearn.datasets import load_digits\n",
    "from sklearn.model_selection import train_test_split\n",
    "from sklearn.base import BaseEstimator\n",
    "from sklearn.metrics import accuracy_score\n",
    "import numpy as np\n",
    "import pandas as pd\n",
    "\n",
    "class MyFakeClassifier(BaseEstimator):\n",
    "    def fit(self, X, y):\n",
    "        pass\n",
    "    \n",
    "    def predict(self, X):\n",
    "        return np.zeros((len(X), 1), dtype = bool)\n",
    "    \n",
    "digits = load_digits()\n",
    "y = (digits.target == 7).astype(int)\n",
    "X_train, X_test, y_train, y_test = train_test_split(digits.data, y, random_state = 11)\n",
    "fake_clf = MyFakeClassifier()\n",
    "fake_clf.fit(X_train, y_train)\n",
    "fakepred = fake_clf.predict(X_test)"
   ]
  },
  {
   "cell_type": "code",
   "execution_count": 21,
   "id": "8bbe74de-93d7-48e7-ab3b-e9bd10b8aa5b",
   "metadata": {},
   "outputs": [
    {
     "data": {
      "text/plain": [
       "0"
      ]
     },
     "execution_count": 21,
     "metadata": {},
     "output_type": "execute_result"
    }
   ],
   "source": [
    "# 참고 : fakepred값 확인\n",
    "# fakedpred ⇒ 모두 False\n",
    "fakepred.astype(int).sum()"
   ]
  },
  {
   "cell_type": "code",
   "execution_count": 22,
   "id": "b13fd426-18e6-49cc-80f8-1f43eceb31fc",
   "metadata": {},
   "outputs": [
    {
     "name": "stdout",
     "output_type": "stream",
     "text": [
      "정확도 :  0.9\n",
      "정밀도 :  0.0\n",
      "재현율 :  0.0\n"
     ]
    },
    {
     "name": "stderr",
     "output_type": "stream",
     "text": [
      "C:\\Users\\ftsv2\\Anaconda3\\envs\\multi\\lib\\site-packages\\sklearn\\metrics\\_classification.py:1248: UndefinedMetricWarning: Precision is ill-defined and being set to 0.0 due to no predicted samples. Use `zero_division` parameter to control this behavior.\n",
      "  _warn_prf(average, modifier, msg_start, len(result))\n"
     ]
    }
   ],
   "source": [
    "# 정밀도와 재현율 계산\n",
    "# 정밀도 계산 : precision_score(실제값, 예측값)\n",
    "# 재현율 계산 : recall_score(실제값, 예측값)\n",
    "from sklearn.metrics import accuracy_score, precision_score, recall_score\n",
    "\n",
    "print('정확도 : ', accuracy_score(y_test, fakepred))\n",
    "print('정밀도 : ', precision_score(y_test, fakepred))\n",
    "print('재현율 : ', recall_score(y_test, fakepred))"
   ]
  },
  {
   "cell_type": "markdown",
   "id": "546a1412-e702-4ce3-a639-e9051b86835b",
   "metadata": {},
   "source": [
    "정확도는 90%이지만 정밀도, 재현율은 굉장히 작아 0으로 표현됨\n",
    "- 분자인  T<sub>p</sub>가 0임"
   ]
  },
  {
   "cell_type": "markdown",
   "id": "01973291-d913-4a29-80a2-52ce7c4779b8",
   "metadata": {},
   "source": [
    "### **오차행렬, 정확도, 정밀도, 재현율을 한꺼번에 계산하는 함수**\n",
    "- 평가를 간편하게 적용하기 위해 get_clf_eval() 함수 정의 (평가를 한꺼번에 호출 위함)\n",
    "    - confusion_matrix\n",
    "    - accurancy\n",
    "    - percision\n",
    "    - recall"
   ]
  },
  {
   "cell_type": "code",
   "execution_count": 23,
   "id": "1c5c1c02-dcfc-452f-885d-6080250c21d8",
   "metadata": {},
   "outputs": [],
   "source": [
    "from sklearn.metrics import accuracy_score, precision_score, recall_score, confusion_matrix\n",
    "\n",
    "def get_clf_eval(y_test, pred):\n",
    "    confusion = confusion_matrix(y_test, pred)   # 오차행렬\n",
    "    accuracy = accuracy_score(y_test, pred)      # 정확도\n",
    "    precision = precision_score(y_test, pred)    # 정밀도\n",
    "    recall = recall_score(y_test, pred)          # 재현율\n",
    "    \n",
    "    print('오차행렬')\n",
    "    print(confusion)\n",
    "    print('정확도 : {0:.3f} \\n정밀도 : {1:.3f} \\n재현율 : {2:.3f}' .format(accuracy, precision, recall))"
   ]
  },
  {
   "cell_type": "markdown",
   "id": "9209d930-ff78-4ced-a285-f1a330cc21a4",
   "metadata": {},
   "source": [
    "**앞의 타이타닉 데이터 세트 전처리 작업 내용**"
   ]
  },
  {
   "cell_type": "code",
   "execution_count": 24,
   "id": "7c22e870-977a-44ce-a57b-2a43775df49b",
   "metadata": {},
   "outputs": [],
   "source": [
    "# 타이타닉 데이터 세트 전처리 작용 내용 (앞에서 했음)\n",
    "from sklearn.preprocessing import LabelEncoder\n",
    "\n",
    "# Null 처리 함수\n",
    "def fillna(df):\n",
    "    df['Age'].fillna(df['Age'].mean(), inplace = True)\n",
    "    df['Cabin'].fillna(\"N\", inplace = True)\n",
    "    df['Embarked'].fillna(\"N\", inplace = True)\n",
    "    df['Fare'].fillna(0, inplace = True)\n",
    "    return df\n",
    "\n",
    "\n",
    "# 머신러닝 알고리즘에 불필요한 속성 제거\n",
    "def drop_features(df):\n",
    "    df.drop(['PassengerId', 'Name', 'Ticket'], axis = 1, inplace = True)\n",
    "    return df\n",
    "\n",
    "# 레이블 인코딩 수행\n",
    "def format_features(df):\n",
    "    df['Cabin'] = df['Cabin'].str[:1]  # 첫 문자만 추출\n",
    "    features = ['Cabin', 'Sex', 'Embarked']\n",
    "    for feature in features:\n",
    "        le = LabelEncoder()\n",
    "        le = le.fit(df[feature])\n",
    "        df[feature] = le.transform(df[feature])\n",
    "    return df\n",
    "\n",
    "# 앞에서 설정한 Data Preprocessing 함수 호출\n",
    "def transform_features(df):\n",
    "    df = fillna(df)\n",
    "    df = drop_features(df)\n",
    "    df = format_features(df)\n",
    "    return df"
   ]
  },
  {
   "cell_type": "markdown",
   "id": "1d70a00d-d72e-43f1-8cf5-3c0eeb42f2b4",
   "metadata": {},
   "source": [
    "**타이타닉 데이터를 로지스틱 회귀로 분류 수행**\n",
    "- 타이타닉 데이터를 다시 로드한 후 가공해 \n",
    "- 로지스틱 회귀기반으로 타이타닉 생존자를 예측하고 confusion matrix, accuacy, precision, recall평가를 수행"
   ]
  },
  {
   "cell_type": "code",
   "execution_count": 25,
   "id": "2f30edd7-b9f9-4d30-a355-6202868b2f81",
   "metadata": {},
   "outputs": [
    {
     "name": "stdout",
     "output_type": "stream",
     "text": [
      "오차행렬\n",
      "[[92 18]\n",
      " [16 53]]\n",
      "정확도 : 0.810 \n",
      "정밀도 : 0.746 \n",
      "재현율 : 0.768\n"
     ]
    },
    {
     "name": "stderr",
     "output_type": "stream",
     "text": [
      "C:\\Users\\ftsv2\\Anaconda3\\envs\\multi\\lib\\site-packages\\sklearn\\linear_model\\_logistic.py:765: ConvergenceWarning: lbfgs failed to converge (status=1):\n",
      "STOP: TOTAL NO. of ITERATIONS REACHED LIMIT.\n",
      "\n",
      "Increase the number of iterations (max_iter) or scale the data as shown in:\n",
      "    https://scikit-learn.org/stable/modules/preprocessing.html\n",
      "Please also refer to the documentation for alternative solver options:\n",
      "    https://scikit-learn.org/stable/modules/linear_model.html#logistic-regression\n",
      "  extra_warning_msg=_LOGISTIC_SOLVER_CONVERGENCE_MSG)\n"
     ]
    }
   ],
   "source": [
    "# 로지스틱 회귀 기반으로\n",
    "# 타이타닉 생존자 예측하고\n",
    "# confusion matrix, accuracy, precision, recall 평가 수행\n",
    "import numpy as np\n",
    "import pandas as pd\n",
    "from sklearn.model_selection import train_test_split\n",
    "from sklearn.metrics import accuracy_score\n",
    "from sklearn.linear_model import LogisticRegression\n",
    "\n",
    "# 원본 데이터를 재로딩, 데이터 가공, 학습데이터/테스트 데이터 분할\n",
    "titanic_df = pd.read_csv('titanic_train.csv')\n",
    "y_titanic_df = titanic_df['Survived']\n",
    "X_titanic_df = titanic_df.drop('Survived', axis = 1)\n",
    "X_titanic_df = transform_features(X_titanic_df)\n",
    "X_train, X_test, y_train, y_test = train_test_split(X_titanic_df, y_titanic_df, test_size = 0.2, random_state = 0)\n",
    "\n",
    "lr_clf = LogisticRegression()\n",
    "\n",
    "lr_clf.fit(X_train, y_train)\n",
    "pred = lr_clf.predict(X_test)\n",
    "get_clf_eval(y_test, pred)"
   ]
  },
  {
   "cell_type": "code",
   "execution_count": 26,
   "id": "a41a367d-bd71-495f-8e26-cda6268056ce",
   "metadata": {},
   "outputs": [
    {
     "name": "stderr",
     "output_type": "stream",
     "text": [
      "C:\\Users\\ftsv2\\Anaconda3\\envs\\multi\\lib\\site-packages\\sklearn\\linear_model\\_logistic.py:765: ConvergenceWarning: lbfgs failed to converge (status=1):\n",
      "STOP: TOTAL NO. of ITERATIONS REACHED LIMIT.\n",
      "\n",
      "Increase the number of iterations (max_iter) or scale the data as shown in:\n",
      "    https://scikit-learn.org/stable/modules/preprocessing.html\n",
      "Please also refer to the documentation for alternative solver options:\n",
      "    https://scikit-learn.org/stable/modules/linear_model.html#logistic-regression\n",
      "  extra_warning_msg=_LOGISTIC_SOLVER_CONVERGENCE_MSG)\n"
     ]
    },
    {
     "name": "stdout",
     "output_type": "stream",
     "text": [
      "오차행렬\n",
      "[[104  14]\n",
      " [ 13  48]]\n",
      "정확도 : 0.849 \n",
      "정밀도 : 0.774 \n",
      "재현율 : 0.787\n"
     ]
    }
   ],
   "source": [
    "# random_state=11\n",
    "# 소수점 4자리까지\n",
    "import numpy as np\n",
    "import pandas as pd\n",
    "\n",
    "from sklearn.model_selection import train_test_split \n",
    "from sklearn.linear_model import LogisticRegression\n",
    "\n",
    "# 원본 데이터를 재로딩, 데이터 가공, 학습데이터/테스트 데이터 분할. \n",
    "titanic_df = pd.read_csv('./titanic_train.csv')\n",
    "y_titanic_df = titanic_df['Survived']\n",
    "X_titanic_df= titanic_df.drop('Survived', axis=1)\n",
    "X_titanic_df = transform_features(X_titanic_df)\n",
    "\n",
    "X_train, X_test, y_train, y_test = train_test_split(X_titanic_df, y_titanic_df, \\\n",
    "                                                    test_size=0.20, random_state=11)\n",
    "\n",
    "lr_clf = LogisticRegression()\n",
    "\n",
    "lr_clf.fit(X_train , y_train)\n",
    "pred = lr_clf.predict(X_test)\n",
    "get_clf_eval(y_test , pred)"
   ]
  },
  {
   "cell_type": "code",
   "execution_count": 27,
   "id": "2bdaee8f-4847-4f17-9764-515825ab2e56",
   "metadata": {},
   "outputs": [],
   "source": [
    "#ir_clf = LogisticRegression(solver='liblinear')"
   ]
  },
  {
   "cell_type": "markdown",
   "id": "0ec2ef13-11d7-40d8-8810-40c8dbdb2d96",
   "metadata": {},
   "source": [
    "정밀도에 비해 재현율이 낮게 나왔다. 재현율 또는 정밀도를 좀 더 강화할 방법으로 **Trade-off**방법"
   ]
  },
  {
   "cell_type": "markdown",
   "id": "9ca75f5d-6329-4b88-89ea-79612afaf865",
   "metadata": {},
   "source": [
    "## **Precision / Recall Trade-off**\n",
    "- 정밀도 / 재현율 트레이드 오프 (Trade-off)"
   ]
  },
  {
   "cell_type": "markdown",
   "id": "e3c4319a-f805-498d-a66e-10f047991c86",
   "metadata": {},
   "source": [
    "**predict_proba() 메소드**\n",
    "- 타이타닉 생존자 데이터를 학습한 LogisticResgression객체에서\n",
    "- predict_proba()메서드를 수행한 뒤 반환 값 확인하고\n",
    "- predict() 메서드의 결과와 비교"
   ]
  },
  {
   "cell_type": "code",
   "execution_count": 28,
   "id": "835c585a-b14f-49d2-b4d2-6922ee96fcd5",
   "metadata": {},
   "outputs": [
    {
     "name": "stdout",
     "output_type": "stream",
     "text": [
      "pred_proba()결과 Shape : (179, 2)\n",
      "\n",
      "pred_proba array에서 앞 3개만 샘플로 추출 \n",
      ": [[0.46175211 0.53824789]\n",
      " [0.87863924 0.12136076]\n",
      " [0.87717092 0.12282908]]\n",
      "\n",
      "두개의 class 중에서 더 큰 확률을 클래스 값으로 예측\n",
      "[[0.46175211 0.53824789 1.        ]\n",
      " [0.87863924 0.12136076 0.        ]\n",
      " [0.87717092 0.12282908 0.        ]]\n"
     ]
    }
   ],
   "source": [
    "# lr_clf = LogisiticRegression()\n",
    "# predict_proba(테스트 피처 데이터 세트) : 예측 확률 반환\n",
    "pred_proba = lr_clf.predict_proba(X_test)\n",
    "print('pred_proba()결과 Shape : {0}'.format(pred_proba.shape))\n",
    "print('\\npred_proba array에서 앞 3개만 샘플로 추출 \\n:', pred_proba[:3])\n",
    "\n",
    "# predict(테스트 피처 데이터 세트) : 예측 결과 클래스 값 반환\n",
    "pred = lr_clf.predict(X_test)\n",
    "\n",
    "# 예측 확률 array와 예측 결과값 array를 concatenate하여 예측 확률과 결과값을 한눈에 확인\n",
    "pred_proba_result = np.concatenate([pred_proba, pred.reshape(-1, 1)], axis = 1)\n",
    "\n",
    "print('\\n두개의 class 중에서 더 큰 확률을 클래스 값으로 예측')\n",
    "print(pred_proba_result[:3])"
   ]
  },
  {
   "cell_type": "markdown",
   "id": "cbbe11e2-82fc-4d56-8478-332778ec1d75",
   "metadata": {},
   "source": [
    "- 첫 번째 칼럼은 0 Negative의 확률 (클래스 값 0에 대한 예측 확률)\n",
    "- 두 번째 칼럼은 1 Positive의 확률 (클래스 값 0에 대한 예측 확률)\n",
    "\n",
    "반환 결과인 ndarray는 0과 1에 대한 확률을 나타내므로,\n",
    "- 첫 번째 칼럼 값 + 두 번째 칼럼 값 = 1이 된다.\n",
    "\n",
    "맨 마지막 줄의 predict()메서드의 결과 비교에서도 나타나듯이, \n",
    "- 두 개의 칼럼 중에서 더 큰 확률 값으로 predict() 메서드가 최종 예측\n",
    "\n",
    "- [0.85252649 0.14747351 **0**.       ]에서 최종 예측 값 = 0\n",
    "- [0.89303676 0.10696324 **0**.       ]에서 최종 예측 값 = 0\n",
    "- [0.93352957 0.06647043 **0**.       ]에서 최종 예측 값 = 0"
   ]
  },
  {
   "cell_type": "code",
   "execution_count": 29,
   "id": "0b35aba5-fd30-4936-a15c-7eb7d560afc2",
   "metadata": {},
   "outputs": [
    {
     "data": {
      "text/plain": [
       "array([1, 0, 0, 0, 0, 0, 0, 1, 0, 1, 0, 0, 0, 0, 1, 0, 0, 0, 0, 1, 0, 0,\n",
       "       0, 0, 0, 0, 0, 0, 0, 0, 1, 1, 0, 1, 0, 0, 0, 1, 0, 0, 0, 0, 1, 1,\n",
       "       1, 1, 1, 0, 1, 0, 1, 0, 0, 1, 0, 0, 0, 0, 0, 0, 0, 0, 1, 1, 0, 0,\n",
       "       1, 1, 1, 0, 0, 0, 0, 1, 0, 0, 0, 0, 1, 0, 1, 1, 1, 0, 1, 1, 0, 0,\n",
       "       1, 0, 0, 0, 0, 0, 1, 0, 1, 0, 1, 1, 1, 0, 1, 0, 1, 0, 0, 0, 0, 0,\n",
       "       0, 0, 0, 1, 0, 0, 0, 0, 1, 0, 0, 0, 0, 0, 0, 0, 0, 0, 1, 0, 1, 0,\n",
       "       1, 0, 1, 0, 1, 0, 0, 1, 1, 0, 0, 0, 0, 1, 0, 0, 1, 0, 0, 1, 1, 0,\n",
       "       1, 1, 0, 0, 1, 1, 0, 1, 0, 1, 0, 1, 1, 0, 0, 1, 0, 1, 0, 0, 0, 0,\n",
       "       0, 1, 1], dtype=int64)"
      ]
     },
     "execution_count": 29,
     "metadata": {},
     "output_type": "execute_result"
    }
   ],
   "source": [
    "# 참고 - predict값 확인\n",
    "# predict(테스트 피처 데이터 세트) : 예측 결과 클래스 값 반환\n",
    "pred"
   ]
  },
  {
   "cell_type": "markdown",
   "id": "ac4aae34-cce7-4126-a56e-ab7f4e625097",
   "metadata": {},
   "source": [
    "## **Binarizer**"
   ]
  },
  {
   "cell_type": "code",
   "execution_count": 30,
   "id": "26fc22ef-5093-4684-a301-7f54bfc0ace5",
   "metadata": {},
   "outputs": [
    {
     "name": "stdout",
     "output_type": "stream",
     "text": [
      "[[0. 0. 1.]\n",
      " [1. 0. 0.]\n",
      " [0. 1. 1.]]\n"
     ]
    }
   ],
   "source": [
    "from sklearn.preprocessing import Binarizer\n",
    "\n",
    "X = [[0.5, -1, 2], [2, 0, 0], [0, 1.1, 1.2]]\n",
    "\n",
    "# threshold 기준값보다 같거나 작으면 0을, 크면 1을 반환\n",
    "binarizer = Binarizer(threshold = 1.0)\n",
    "print(binarizer.fit_transform(X))"
   ]
  },
  {
   "cell_type": "markdown",
   "id": "a83de630-603f-46b7-af29-adf789024821",
   "metadata": {},
   "source": [
    "이 binarizer를 이용해 사이킷런 predict()의 의사(pseudo)코드 만들기"
   ]
  },
  {
   "cell_type": "markdown",
   "id": "ca6bb523-f6f9-4086-b5a5-1d90c1f5da05",
   "metadata": {},
   "source": [
    "**분류 결정 임계값 0.5 기반에서 Binarizer를 이용하여 예측값 반환**\n",
    "- 바로 앞 예제의 LogisticResgression객체의 predict_proba() 메서드로 구한 각 클래스별 예측 확률 값인 pred_proba 객체 변수 이용\n",
    "- 이렇게 구한 최종 예측값에 대해 get_clf_eval()함수 적용해 평가 지표 출력"
   ]
  },
  {
   "cell_type": "code",
   "execution_count": 31,
   "id": "94ba069d-39e2-4ee6-9133-83bac0568b26",
   "metadata": {},
   "outputs": [
    {
     "name": "stdout",
     "output_type": "stream",
     "text": [
      "오차행렬\n",
      "[[104  14]\n",
      " [ 13  48]]\n",
      "정확도 : 0.849 \n",
      "정밀도 : 0.774 \n",
      "재현율 : 0.787\n"
     ]
    }
   ],
   "source": [
    "from sklearn.preprocessing import Binarizer\n",
    "\n",
    "# Binarizer의 threshold 설정값, 분류 결정 임계값 = 0.5로 설정\n",
    "custom_threshold = 0.5\n",
    "\n",
    "# predict_proba() 반환값 ([0확률 1확률])의 두번째 컬럼\n",
    "# 즉, Positive클래스 컬럼 하나만 추출하여 Binarizer를 적용\n",
    "pred_proba_1 = pred_proba[:,1].reshape(-1, 1)\n",
    "\n",
    "binarizer = Binarizer(threshold = custom_threshold).fit(pred_proba_1)\n",
    "custom_predict = binarizer.transform(pred_proba_1)\n",
    "\n",
    "get_clf_eval(y_test, custom_predict)"
   ]
  },
  {
   "cell_type": "markdown",
   "id": "2322f4ad-4a10-40cf-aaf1-90888280f6b1",
   "metadata": {},
   "source": [
    "이는 앞 예제의 타이타닉 데이터로 학습된 로지스틱 회귀 Classifier객체에서 호출된 predict()로 계산된 지표 값과 정확히 같다."
   ]
  },
  {
   "cell_type": "code",
   "execution_count": 32,
   "id": "d0c6f3da-a5c9-450b-b2a5-25a0c1cd36d7",
   "metadata": {},
   "outputs": [
    {
     "name": "stdout",
     "output_type": "stream",
     "text": [
      "오차행렬\n",
      "[[104  14]\n",
      " [ 13  48]]\n",
      "정확도 : 0.849 \n",
      "정밀도 : 0.774 \n",
      "재현율 : 0.787\n"
     ]
    },
    {
     "name": "stderr",
     "output_type": "stream",
     "text": [
      "C:\\Users\\ftsv2\\Anaconda3\\envs\\multi\\lib\\site-packages\\sklearn\\linear_model\\_logistic.py:765: ConvergenceWarning: lbfgs failed to converge (status=1):\n",
      "STOP: TOTAL NO. of ITERATIONS REACHED LIMIT.\n",
      "\n",
      "Increase the number of iterations (max_iter) or scale the data as shown in:\n",
      "    https://scikit-learn.org/stable/modules/preprocessing.html\n",
      "Please also refer to the documentation for alternative solver options:\n",
      "    https://scikit-learn.org/stable/modules/linear_model.html#logistic-regression\n",
      "  extra_warning_msg=_LOGISTIC_SOLVER_CONVERGENCE_MSG)\n"
     ]
    }
   ],
   "source": [
    "# 타이타닉 데이터로 학습된 로지스틱 회귀 Classifier객체에서 호출된 predict()로 계산된 지표 값\n",
    "lr_clf = LogisticRegression()\n",
    "\n",
    "lr_clf.fit(X_train , y_train)\n",
    "pred = lr_clf.predict(X_test)\n",
    "get_clf_eval(y_test , pred)"
   ]
  },
  {
   "cell_type": "markdown",
   "id": "593c049b-6d28-46f2-9144-e8de2ed387e1",
   "metadata": {},
   "source": [
    "이를 통해 predict()가 predict_proba()에 기반함을 알 수 있다."
   ]
  },
  {
   "cell_type": "markdown",
   "id": "47318f47-0378-423b-9db6-e22a9fa3e67c",
   "metadata": {},
   "source": [
    "**분류 결정 임계값을 0.4로 변경**\n",
    "- 분류 임계값을 낮추면 평가 지표가 어떻게 변하는지 확인"
   ]
  },
  {
   "cell_type": "code",
   "execution_count": 33,
   "id": "8986aa6d-7d1b-4355-9d2e-ae9cdb62e922",
   "metadata": {},
   "outputs": [
    {
     "name": "stdout",
     "output_type": "stream",
     "text": [
      "오차행렬\n",
      "[[98 20]\n",
      " [10 51]]\n",
      "정확도 : 0.832 \n",
      "정밀도 : 0.718 \n",
      "재현율 : 0.836\n"
     ]
    }
   ],
   "source": [
    "# Binarizer의 threshold 설정값을 0.4로 설정.\n",
    "# 즉, 분류 결정 임곗값을 0.5 → 0.4로 낮춤\n",
    "custom_threshold = 0.4\n",
    "\n",
    "# predict_proba()반환값 ([0확률 1확률])이 두번째 컬럼\n",
    "# 즉, Positive 클래스 컬럼 하나만 추출하여 Binarizer를 적용\n",
    "pred_proba_1 = pred_proba[:,1].reshape(-1, 1)\n",
    "\n",
    "binarizer = Binarizer(threshold = custom_threshold).fit(pred_proba_1)\n",
    "custom_predict = binarizer.transform(pred_proba_1)\n",
    "\n",
    "get_clf_eval(y_test, custom_predict)"
   ]
  },
  {
   "cell_type": "markdown",
   "id": "e07fda07-1dd0-4fd4-8e1d-226fac8f9a46",
   "metadata": {},
   "source": [
    "임계값을 낮추니까 정밀도는 떨어지고 재현율 값은 올라감\n",
    "- 분류 결정 임곗값은 Positive 예측값을 결정하는 확률의 기준\n",
    "- 확률이 0.5가 아닌 0.4부터 Positive로 예측을 더 너그럽게 하기 때문에 \n",
    "- 임곗값 값을 낮출수록\n",
    "    - True값이 많아 지게 된다."
   ]
  },
  {
   "cell_type": "markdown",
   "id": "aec4c978-872d-4f09-9225-7b11c050ded1",
   "metadata": {},
   "source": [
    "**여러개의 분류 결정 임곗값을 변경하면서  Binarizer를 이용하여 예측값 변환**\n",
    "- 임곗값을 0.4에서부터 0.6까지 0.05씩 증가시키며 평가 지표 조사\n",
    "- 이를 위해 get_eval_by_threshold() 함수 정의"
   ]
  },
  {
   "cell_type": "code",
   "execution_count": 34,
   "id": "b4e04425-7aeb-47ea-a9a1-f0c3bc2c6e5c",
   "metadata": {},
   "outputs": [
    {
     "name": "stdout",
     "output_type": "stream",
     "text": [
      "\n",
      "임곗값 :  0.4\n",
      "오차행렬\n",
      "[[98 20]\n",
      " [10 51]]\n",
      "정확도 : 0.832 \n",
      "정밀도 : 0.718 \n",
      "재현율 : 0.836\n",
      "\n",
      "임곗값 :  0.45\n",
      "오차행렬\n",
      "[[103  15]\n",
      " [ 12  49]]\n",
      "정확도 : 0.849 \n",
      "정밀도 : 0.766 \n",
      "재현율 : 0.803\n",
      "\n",
      "임곗값 :  0.5\n",
      "오차행렬\n",
      "[[104  14]\n",
      " [ 13  48]]\n",
      "정확도 : 0.849 \n",
      "정밀도 : 0.774 \n",
      "재현율 : 0.787\n",
      "\n",
      "임곗값 :  0.55\n",
      "오차행렬\n",
      "[[109   9]\n",
      " [ 15  46]]\n",
      "정확도 : 0.866 \n",
      "정밀도 : 0.836 \n",
      "재현율 : 0.754\n",
      "\n",
      "임곗값 :  0.6\n",
      "오차행렬\n",
      "[[112   6]\n",
      " [ 16  45]]\n",
      "정확도 : 0.877 \n",
      "정밀도 : 0.882 \n",
      "재현율 : 0.738\n"
     ]
    }
   ],
   "source": [
    "# 테스트를 수행할 모든 임곗값을 리스트 객체로 지정\n",
    "thresholds = [0.4, 0.45, 0.5, 0.55, 0.6]\n",
    "\n",
    "def get_eval_by_threshold(y_test, pred_proba_c1, thresholds):\n",
    "    # threshods list객체 내의 값을 차례로 iteration(반복)하면서 Evaluation(평가)수행\n",
    "    for custom_threshold in thresholds:\n",
    "        binarizer = Binarizer(threshold = custom_threshold).fit(pred_proba_c1)\n",
    "        custom_predict = binarizer.transform(pred_proba_c1)\n",
    "        print('\\n임곗값 : ', custom_threshold)\n",
    "        get_clf_eval(y_test, custom_predict)\n",
    "\n",
    "get_eval_by_threshold(y_test, pred_proba[:,1].reshape(-1, 1), thresholds)    "
   ]
  },
  {
   "cell_type": "markdown",
   "id": "5cbf1f27-f37e-4a39-b165-b55c249daf36",
   "metadata": {},
   "source": [
    "정밀도 / 재현율 트레이드 오프\n",
    "- 한쪽을 향상시키면 다른 수치 감소하니까 적당한 수치 선택"
   ]
  },
  {
   "cell_type": "markdown",
   "id": "2174fd74-0b6f-43be-850c-01401a655114",
   "metadata": {},
   "source": [
    "### 아래 Cell 실행 (run) ❌\n",
    "- 참고 : get_clf_eval함수"
   ]
  },
  {
   "cell_type": "code",
   "execution_count": 35,
   "id": "4bd1cd7d-47a2-44cf-91eb-597395ac24d7",
   "metadata": {},
   "outputs": [],
   "source": [
    "def get_clf_eval(y_test, pred):\n",
    "    confusion = confusion_matrix(y_test, pred)   # 오차행렬\n",
    "    accuracy = accuracy_score(y_test, pred)      # 정확도\n",
    "    precision = precision_score(y_test, pred)    # 정밀도\n",
    "    recall = recall_score(y_test, pred)          # 재현율\n",
    "    \n",
    "    print('오차행렬')\n",
    "    print(confusion)\n",
    "    print('정확도 : {0:.3f} \\n정밀도 : {1:.3f} \\n재현율 : {2:.3f}' .format(accuracy, precision, recall))"
   ]
  },
  {
   "cell_type": "markdown",
   "id": "0aa2d4dd-ee72-43ac-9e50-61c4dd016911",
   "metadata": {},
   "source": [
    "      "
   ]
  },
  {
   "cell_type": "markdown",
   "id": "5b7cf68a-9c92-45b5-a136-eda1e5ab775a",
   "metadata": {},
   "source": [
    "### **임곗값에 따른 정밀도 - 재현율 값 추출**\n",
    "- precision_recall_curve()를 이용"
   ]
  },
  {
   "cell_type": "markdown",
   "id": "59422e31-43ca-4e44-b028-28757d1e43fa",
   "metadata": {},
   "source": [
    "**precision_recall_curve(실제값, 레이블 값이 1일 때의 예측 확률값)**\n",
    "- 정밀도, 재현율, 임계값을 ndarray로 반환\n",
    "- 임계값은 일반적으로 0.11 ~ 0.95 범위\n",
    "- 정밀도와 재현율의 임계값에 따른 값 변화를 곡선 형태의 그래프로 시각화하는데 이용"
   ]
  },
  {
   "cell_type": "markdown",
   "id": "f29b9682-ff48-4624-8c4c-db72aeb97f54",
   "metadata": {},
   "source": [
    "**예제**\n",
    "- 반환되는 임계값이 너무 작은 값 단위로 많이 구성되어 있음\n",
    "- 반환된 임곗값의 데이터 143건 (교재 147건)\n",
    "- 임곗값을 15단계로 해서 샘플로 10건만 추출\n",
    "- 좀 더 큰 값의 임곗값과 그때의 정밀도와 재현율 확인"
   ]
  },
  {
   "cell_type": "code",
   "execution_count": 36,
   "id": "c0e682dc-5913-4b75-9ad0-ce1823581544",
   "metadata": {},
   "outputs": [
    {
     "name": "stdout",
     "output_type": "stream",
     "text": [
      "[반환된 임계값 / 정밀도 / 재현율 배열의 shape]\n",
      "임계값 shape:  (143,)\n",
      "정밀도 shape:  (144,)\n",
      "재현율 shape:  (144,)\n",
      "\n",
      "sample index :  [  0  15  30  45  60  75  90 105 120 135]\n",
      "임계값 sample :  [0.104 0.121 0.14  0.186 0.28  0.403 0.564 0.667 0.822 0.947]\n",
      "정밀도 sample :  [0.389 0.44  0.466 0.539 0.647 0.729 0.836 0.949 0.958 1.   ]\n",
      "재현율 sample :  [1.    0.967 0.902 0.902 0.902 0.836 0.754 0.607 0.377 0.148]\n"
     ]
    }
   ],
   "source": [
    "from sklearn.metrics import precision_recall_curve\n",
    "\n",
    "# 레이블 값이 1일때의 예측 확률을 추출\n",
    "pred_proba_class1 = lr_clf.predict_proba(X_test)[:, 1]\n",
    "\n",
    "# 실제값 데이터 셋과 레이블 값이 1일 때의 예측 확률을 presision_recall_curve 인자로 입력\n",
    "precisions, recalls, thresholds = precision_recall_curve(y_test, pred_proba_class1)\n",
    "print('[반환된 임계값 / 정밀도 / 재현율 배열의 shape]')\n",
    "print('임계값 shape: ', thresholds.shape)\n",
    "print('정밀도 shape: ', precisions.shape)\n",
    "print('재현율 shape: ', recalls.shape)\n",
    "\n",
    "idx = np.arange(0, thresholds.shape[0], 15)\n",
    "print('\\nsample index : ', idx)\n",
    "print('임계값 sample : ', np.round(thresholds[idx], 3))\n",
    "print('정밀도 sample : ', np.round(precisions[idx], 3))\n",
    "print('재현율 sample : ', np.round(recalls[idx], 3))"
   ]
  },
  {
   "cell_type": "code",
   "execution_count": 37,
   "id": "25e37066-06c4-446d-bfd4-086746143592",
   "metadata": {},
   "outputs": [
    {
     "name": "stdout",
     "output_type": "stream",
     "text": [
      "샘플 추출을 위한 임계값 배열의 index 10개 : [  0  15  30  45  60  75  90 105 120 135]\n",
      "샘플용 10개의 임곗값 : [0.1  0.12 0.14 0.19 0.28 0.4  0.56 0.67 0.82 0.95]\n",
      "샘플 임계값별 정밀도 : [0.389 0.44  0.466 0.539 0.647 0.729 0.836 0.949 0.958 1.   ]\n",
      "샘플 임계값별 재현율 : [1.    0.967 0.902 0.902 0.902 0.836 0.754 0.607 0.377 0.148]\n"
     ]
    }
   ],
   "source": [
    "# 반환된 임계값 배열 행이 143건으로 \n",
    "# 임계값을 15단계로 해서 샘플로 10건만 추출\n",
    "thr_index = np.arange(0,thresholds.shape[0],15)\n",
    "\n",
    "print('샘플 추출을 위한 임계값 배열의 index 10개 :', thr_index)\n",
    "print('샘플용 10개의 임곗값 :', np.round(thresholds[thr_index], 2))\n",
    "\n",
    "# 15단계로 추출된 임계값에 따른 정밀도와 재현율 값\n",
    "print('샘플 임계값별 정밀도 :', np.round(precisions[thr_index], 3))\n",
    "print('샘플 임계값별 재현율 :', np.round(recalls[thr_index], 3))"
   ]
  },
  {
   "cell_type": "code",
   "execution_count": 38,
   "id": "31f4fb36-93ff-4110-966c-19f2a19162d6",
   "metadata": {},
   "outputs": [
    {
     "name": "stdout",
     "output_type": "stream",
     "text": [
      "반환된 분류 결정 임곗값 배열의 Shape: (143,)\n",
      "샘플 추출을 위한 임계값 배열의 index 10개: [  0  15  30  45  60  75  90 105 120 135]\n",
      "샘플용 10개의 임곗값:  [0.1  0.12 0.14 0.19 0.28 0.4  0.56 0.67 0.82 0.95]\n",
      "샘플 임계값별 정밀도:  [0.389 0.44  0.466 0.539 0.647 0.729 0.836 0.949 0.958 1.   ]\n",
      "샘플 임계값별 재현율:  [1.    0.967 0.902 0.902 0.902 0.836 0.754 0.607 0.377 0.148]\n"
     ]
    }
   ],
   "source": [
    "# 다시 한꺼번에 정리\n",
    "from sklearn.metrics import precision_recall_curve\n",
    "\n",
    "# 레이블 값이 1일때의 예측 확률을 추출 \n",
    "pred_proba_class1 = lr_clf.predict_proba(X_test)[:, 1] \n",
    "\n",
    "# 실제값 데이터 셋과 레이블 값이 1일 때의 예측 확률을 precision_recall_curve 인자로 입력 \n",
    "precisions, recalls, thresholds = precision_recall_curve(y_test, pred_proba_class1 )\n",
    "print('반환된 분류 결정 임곗값 배열의 Shape:', thresholds.shape)\n",
    "\n",
    "#반환된 임계값 배열 로우가 147건이므로 샘플로 10건만 추출하되, 임곗값을 15 Step으로 추출. \n",
    "thr_index = np.arange(0, thresholds.shape[0], 15)\n",
    "print('샘플 추출을 위한 임계값 배열의 index 10개:', thr_index)\n",
    "print('샘플용 10개의 임곗값: ', np.round(thresholds[thr_index], 2))\n",
    "\n",
    "# 15 step 단위로 추출된 임계값에 따른 정밀도와 재현율 값 \n",
    "print('샘플 임계값별 정밀도: ', np.round(precisions[thr_index], 3))\n",
    "print('샘플 임계값별 재현율: ', np.round(recalls[thr_index], 3))"
   ]
  },
  {
   "cell_type": "markdown",
   "id": "e85336dc-ffcf-4753-8639-e4a7b8fa51b2",
   "metadata": {},
   "source": [
    "추출된 임곗값 샘플 10개에 해당하는 정밀도 값과 재현율 값을 살펴보면 \n",
    "**임곗값이 증가할 수록**\n",
    "- 정밀도 값은 높아진다\n",
    "- 재현율 값은 낮아진다"
   ]
  },
  {
   "cell_type": "markdown",
   "id": "4ed37450-b910-42ce-a673-8af8d13ddce4",
   "metadata": {},
   "source": [
    "   "
   ]
  },
  {
   "cell_type": "markdown",
   "id": "108dbd84-0161-481e-81fd-97cc038aa48c",
   "metadata": {},
   "source": [
    "### **임곗값의 변경에 따른 정밀도 - 재현율 변화 곡선 시각화**\n",
    "precision_recall_curve() API는 정밀도와 재현율의 임곗값에 따른 값 변화를 곡선 형태의 그래프로 시각화하는데 이용\n",
    "- 이 API를 이용해 정밀도와 재현율 곡선을 시각화"
   ]
  },
  {
   "cell_type": "code",
   "execution_count": 39,
   "id": "ed1be240-43a4-4b3a-ade3-eeb1ce5ca8d2",
   "metadata": {},
   "outputs": [
    {
     "data": {
      "image/png": "[encoded data removed]",
      "text/plain": [
       "<Figure size 576x432 with 1 Axes>"
      ]
     },
     "metadata": {
      "needs_background": "light"
     },
     "output_type": "display_data"
    }
   ],
   "source": [
    "import matplotlib.pyplot as plt\n",
    "import matplotlib.ticker as ticker\n",
    "%matplotlib inline\n",
    "\n",
    "# y_test : 실제값 pred_proba_c1 : 예측 확률 값\n",
    "def precision_recall_curve_plot(y_test, pred_proba_c1):\n",
    "    # threshold ndarray와 이 threshold에 따른 정밀도, 재현율 ndarray 추출\n",
    "    precision, recalls, thresholds = precision_recall_curve(y_test, pred_proba_c1)\n",
    "    \n",
    "    # X축을 threshold값으로, Y축은 정밀도, 재현율 값으로 각각 Plot수행\n",
    "    plt.figure(figsize = (8, 6))\n",
    "    threshold_boundary = thresholds.shape[0]  # (143,)에서 143 추출\n",
    "    # 정밀도는 점선으로, 재현율은 실선으로 표현\n",
    "    plt.plot(thresholds, precisions[0:threshold_boundary], linestyle = '--', label = 'precision')\n",
    "    plt.plot(thresholds, recalls[0:threshold_boundary], label = 'recalls')\n",
    "    \n",
    "    # thresold값 X축의 Scale을 0.1단위로 변경\n",
    "    start, end = plt.xlim()\n",
    "    plt.xticks(np.round(np.arange(start, end, 0.1),2))\n",
    "    \n",
    "    # x축, y축 label과 legend, 그리고 grid 설정\n",
    "    plt.xlabel('Threshold value')\n",
    "    plt.ylabel('Precision and Recall value')\n",
    "    plt.legend(); plt.grid()\n",
    "    plt.show()\n",
    "\n",
    "precision_recall_curve_plot(y_test, lr_clf.predict_proba(X_test)[:, 1])"
   ]
  },
  {
   "cell_type": "markdown",
   "id": "950a495e-d627-4a2d-9acf-f48a1c2b7c73",
   "metadata": {},
   "source": [
    "임계값이 낮을수록\n",
    "- 많은 수의 양성 예측으로 인해 재현율이 극도로 높아지고 정밀도 값이 극도로 낮아진다.\n",
    "\n",
    "임계값이 계속 증가시킬수록\n",
    "- 재현율 값이 낮아지고 정밀도 값이 높아지는 반대의 양상이 된다.\n",
    "\n",
    "앞 예제의 로지스틱 회귀 기반의 타이나틱 생존자 예측 모델의 경우 임곗값이 약 0.45지점에서 재현율과 정밀도가 비슷해지는 모습을 보였다."
   ]
  },
  {
   "cell_type": "markdown",
   "id": "7059e452-2e38-4a7a-8627-65ccc2eea2e0",
   "metadata": {},
   "source": [
    "**정밀도와 재현율의 맹점**\n",
    "\n",
    "정밀도와 재현율 조합\n",
    "- Positive 예측의 임계값에 따라 정밀도와 재현율 수치가 변경\n",
    "- 임계값은 업무 환경에 맞게 정밀도와 재현율 수치를 상호 보완할 수 있는 수준에서 적용되어야 함\n",
    "- 단순히 하나의 정능 지표 수치를 높이기 위한 수단으로 사용돼서는 안됨\n",
    "\n",
    "분류의 종합적인 성능 평가에 사용하기 위해서는 **정밀도와 재현율의 수치를 적절하게 조합하는 것이 필요**함"
   ]
  },
  {
   "cell_type": "markdown",
   "id": "3e037562-2130-4df5-a70d-cc387fe81bc3",
   "metadata": {},
   "source": [
    "## **F1 스코어 (Score)**"
   ]
  },
  {
   "cell_type": "markdown",
   "id": "ce91471a-63c3-4f8f-b493-01d68d31bc5d",
   "metadata": {},
   "source": [
    "### **F1 Score**\n",
    "- 정밀도와 재현율의 조화평균\n",
    "- 정밀도와 재현율이 어느 한 쪽으로 치우치지 않는 수치를 나타낼때 상대적으로 높은 값을 가짐"
   ]
  },
  {
   "cell_type": "code",
   "execution_count": 40,
   "id": "af8568b7-55e9-44ee-a554-763d4352b434",
   "metadata": {},
   "outputs": [
    {
     "name": "stdout",
     "output_type": "stream",
     "text": [
      "F1 스코어 : 0.7805\n"
     ]
    }
   ],
   "source": [
    "# 사이킷런의 F1스코어 API : f1_score()\n",
    "from sklearn.metrics import f1_score\n",
    "\n",
    "f1 = f1_score(y_test, pred)\n",
    "print('F1 스코어 : {:0.4f}'.format(f1))"
   ]
  },
  {
   "cell_type": "markdown",
   "id": "f00e23fb-7bde-47b5-8ad3-f62151deb67f",
   "metadata": {},
   "source": [
    "### **타이타닉 생존자 예측에서 F1 스코어**\n",
    "f1_score() API 이용해 정밀도와 재현율 절의 예제에서 학습/예측한 로지스틱 회귀 기반 타이타닉 생존 모델 F1 스코어 구해보자\n",
    "- 임계값을 변화시키면서 F1 스코어를 포함한 평가 지표 구하기\n",
    "- 임계값 0.4~0.6별로 졍확도, 정밀도, 재현율, F1스코어 확인"
   ]
  },
  {
   "cell_type": "code",
   "execution_count": 53,
   "id": "d38a2566-42ab-4cb4-8fcf-b5df0a4bea06",
   "metadata": {},
   "outputs": [],
   "source": [
    "def get_clf_eval(y_test, pred):\n",
    "    confusion = confusion_matrix(y_test, pred)   # 오차행렬\n",
    "    accuracy = accuracy_score(y_test, pred)      # 정확도\n",
    "    precision = precision_score(y_test, pred)    # 정밀도\n",
    "    recall = recall_score(y_test, pred)          # 재현율\n",
    "    # F1 스코어 추가\n",
    "    f1 = f1_score(y_test, pred)\n",
    "    \n",
    "    print('오차 행렬')\n",
    "    print(confusion)\n",
    "    # f1 score print추가\n",
    "    print('정확도 : {0:.3f} \\n정밀도 : {1:.3f} \\n재현율 : {2:.3f} \\nF1 : {3:.4f}' .format(accuracy, precision, recall, f1))"
   ]
  },
  {
   "cell_type": "code",
   "execution_count": 54,
   "id": "107929e2-5095-45be-943f-06919d3daf15",
   "metadata": {},
   "outputs": [
    {
     "name": "stdout",
     "output_type": "stream",
     "text": [
      "\n",
      "임곗값 :  0.4\n",
      "오차 행렬\n",
      "[[98 20]\n",
      " [10 51]]\n",
      "정확도 : 0.832 \n",
      "정밀도 : 0.718 \n",
      "재현율 : 0.836 \n",
      "F1 : 0.7727\n",
      "\n",
      "임곗값 :  0.45\n",
      "오차 행렬\n",
      "[[103  15]\n",
      " [ 12  49]]\n",
      "정확도 : 0.849 \n",
      "정밀도 : 0.766 \n",
      "재현율 : 0.803 \n",
      "F1 : 0.7840\n",
      "\n",
      "임곗값 :  0.5\n",
      "오차 행렬\n",
      "[[104  14]\n",
      " [ 13  48]]\n",
      "정확도 : 0.849 \n",
      "정밀도 : 0.774 \n",
      "재현율 : 0.787 \n",
      "F1 : 0.7805\n",
      "\n",
      "임곗값 :  0.55\n",
      "오차 행렬\n",
      "[[109   9]\n",
      " [ 15  46]]\n",
      "정확도 : 0.866 \n",
      "정밀도 : 0.836 \n",
      "재현율 : 0.754 \n",
      "F1 : 0.7931\n",
      "\n",
      "임곗값 :  0.6\n",
      "오차 행렬\n",
      "[[112   6]\n",
      " [ 16  45]]\n",
      "정확도 : 0.877 \n",
      "정밀도 : 0.882 \n",
      "재현율 : 0.738 \n",
      "F1 : 0.8036\n"
     ]
    }
   ],
   "source": [
    "# 임계값 0.4~0.6별로 정확도, 정밀도, 재현율, F1 스코어 확인\n",
    "thresholds = [0.4, 0.45, 0.5, 0.55, 0.6]\n",
    "pred_proba = lr_clf.predict_proba(X_test)\n",
    "get_eval_by_threshold(y_test, pred_proba[:,1].reshape(-1, 1), thresholds)"
   ]
  },
  {
   "cell_type": "markdown",
   "id": "39dc2775-ff2c-471d-bfde-ceaece99cbea",
   "metadata": {},
   "source": [
    "F1 스코어는 임곗값이 0.6일 때 가장 좋은 값을 보여준다. 하지만 임곗값이 0.6인 경우에는 재현율이 크게 감소하고 있으니 주지하기 바람"
   ]
  },
  {
   "cell_type": "markdown",
   "id": "8a08ba0c-08d6-4586-98ea-3d3f46eb55a4",
   "metadata": {},
   "source": [
    "## **ROC curve와 AUC**\n",
    "사이킷런은 ROC곡선을 구하기 위해 roc_curve() API 제공\n",
    "- 사용법은 precision_recall_curve() API와 유사\n",
    "- 당지 반환값이 FPR, TPR, 임곗값으로 구성 됨"
   ]
  },
  {
   "cell_type": "markdown",
   "id": "d34a10fc-11ca-4662-b682-03f2f7b02897",
   "metadata": {},
   "source": [
    "### **roc_curve() API를 이용한 타이타닉 생존자 예측 모델**\n",
    "- 타이타닉 생존자 예측 모델의 FPR, TPR, 임곗값 구하기\n",
    "- 앞의 정밀도와 재현율에서 학습한 LogisticRegression 객체의 predict_proba()결과 이용\n",
    "    - 이를 이용해 roc_curve()의 결과 도출"
   ]
  },
  {
   "cell_type": "code",
   "execution_count": 57,
   "id": "3bbfb42f-eb98-41c8-a21f-dc99efcf66e8",
   "metadata": {},
   "outputs": [
    {
     "name": "stdout",
     "output_type": "stream",
     "text": [
      "샘플 추출을 위한 임계값 배열의 index :  [ 1  6 11 16 21 26 31 36 41 46 51]\n",
      "샘플 index로 추출한 임계값 :  [0.97 0.65 0.63 0.56 0.45 0.4  0.35 0.15 0.13 0.11 0.11]\n",
      "샘플 임계값별 FPR :  [0.    0.017 0.034 0.076 0.127 0.169 0.203 0.466 0.585 0.686 0.797]\n",
      "샘플 임계값별 TPR :  [0.033 0.639 0.721 0.754 0.803 0.836 0.885 0.902 0.934 0.967 0.984]\n"
     ]
    }
   ],
   "source": [
    "from sklearn.metrics import roc_curve\n",
    "\n",
    "# 레이블 값이 1일때의 예측 확률을 추출\n",
    "pred_proba_class1 = lr_clf.predict_proba(X_test)[:,1]\n",
    "\n",
    "fprs, tprs, thresholds = roc_curve(y_test, pred_proba_class1)\n",
    "\n",
    "#반환된 임계값 배열에서 샘플로 데이터 추출, 임계값을 5step으로 추출\n",
    "# threshod[0]은 max(예측 확률) + 1 로 임의 설정되는데\n",
    "# 이를 제외하기 위해 np.arange는 1부터 시작\n",
    "thr_index = np.arange(1, thresholds.shape[0], 5)\n",
    "\n",
    "print('샘플 추출을 위한 임계값 배열의 index : ', thr_index)\n",
    "print('샘플 index로 추출한 임계값 : ', np.round(thresholds[thr_index], 2))\n",
    "# 교재에서는 10개, 실제 11개\n",
    "\n",
    "# 5step 단위로 추출된 임계값에 따른 FPR, TPR값\n",
    "print('샘플 임계값별 FPR : ', np.round(fprs[thr_index], 3))\n",
    "print('샘플 임계값별 TPR : ', np.round(tprs[thr_index], 3))"
   ]
  },
  {
   "cell_type": "markdown",
   "id": "f675f5e9-e347-4333-be2b-038aba686e0d",
   "metadata": {},
   "source": [
    "roc_curve()의 결과를 살펴보면\n",
    "- 임곗값이 1에 가까운 값에서 점점 작아지면서 \n",
    "- FPR은 조금씩 커진다\n",
    "- TPR은 가파르게 커진다"
   ]
  },
  {
   "cell_type": "markdown",
   "id": "8e8202a7-dea5-4c01-bd67-2f66d2f50361",
   "metadata": {},
   "source": [
    "**FPR의변화에 따른 TPR의 변화를 ROC곡선으로 시각화**"
   ]
  },
  {
   "cell_type": "code",
   "execution_count": 59,
   "id": "bd2b6da9-1499-47b6-ae92-a4c13304518f",
   "metadata": {},
   "outputs": [
    {
     "data": {
      "image/png": "[encoded data removed]",
      "text/plain": [
       "<Figure size 432x288 with 1 Axes>"
      ]
     },
     "metadata": {
      "needs_background": "light"
     },
     "output_type": "display_data"
    }
   ],
   "source": [
    "def roc_curve_plot(y_test, pred_proba_c1):\n",
    "    # 임계값에 따른 FPR, TPR 값을 반환 받음\n",
    "    fprs, tprs, thresholds = roc_curve(y_test, pred_proba_c1)\n",
    "    # ROC곡선을 그래프 곡선으로 그림\n",
    "    plt.plot(fprs, tprs, label = 'ROC')\n",
    "    # 가운데 대각선 직선을 그림\n",
    "    plt.plot([0, 1],[0, 1], 'k--', label = 'Random')\n",
    "    \n",
    "    # FPR X축의 Sclae을 0.1단위로 변경, X,Y축 명 설정 등\n",
    "    start, end = plt.xlim()\n",
    "    plt.xticks(np.round(np.arange(start, end, 0.1),2))\n",
    "    plt.xlim(0, 1)\n",
    "    plt.ylim(0, 1)\n",
    "    plt.xlabel('FPR(1-Sensitivity)')\n",
    "    plt.ylabel('TPR(Recall)')\n",
    "    plt.legend()\n",
    "    plt.show()\n",
    "    \n",
    "roc_curve_plot(y_test, pred_proba[:, 1])"
   ]
  },
  {
   "cell_type": "markdown",
   "id": "f4c0a0a7-84ee-454b-b9de-bb591355aeeb",
   "metadata": {},
   "source": [
    "일반적으로 ROC곡선 자체는 FPR와 TPR의 변화 값을 보는 데 이용하며 분류의 성능 지표로 사용되는 것은 ROC곡선 면적에 기반한 AUC값으로 결정한다."
   ]
  },
  {
   "cell_type": "markdown",
   "id": "e7da1f2f-f578-44d4-8a72-d2f2e40cf496",
   "metadata": {},
   "source": [
    "## **AUC (Area Under the Curve)**\n",
    "- ROC곡선 아래 면적\n",
    "- 대각선의 직선에 대응되면 AUC는 0.5\n",
    "- 1에 가까울수록 좋은 수치\n",
    "- FPR이 작을 때 얼마나 큰 TPR을 얻는지에 따라 결정"
   ]
  },
  {
   "cell_type": "markdown",
   "id": "75bedbb7-2e7f-4fb7-bc9a-2c5ac19d63b5",
   "metadata": {},
   "source": [
    "### **roc_auc_score() API 이용**\n",
    "**타이타닉 생존자 예측 로지스틱 회귀 모델의 ROC AUC 값 확인**"
   ]
  },
  {
   "cell_type": "code",
   "execution_count": 61,
   "id": "ee3bfe7b-deed-4f25-8c6e-0e6528db8646",
   "metadata": {},
   "outputs": [
    {
     "name": "stdout",
     "output_type": "stream",
     "text": [
      "ROC AUC 값 : 0.9024\n"
     ]
    }
   ],
   "source": [
    "from sklearn.metrics import roc_auc_score\n",
    "\n",
    "pred_proba = lr_clf.predict_proba(X_test)[:, 1]\n",
    "roc_score = roc_auc_score(y_test, pred_proba)\n",
    "print('ROC AUC 값 : {0:.4f}'.format(roc_score))"
   ]
  },
  {
   "cell_type": "markdown",
   "id": "ee337bf1-bb6c-48d9-ad55-e06b0f62c0cb",
   "metadata": {},
   "source": [
    "**get_clf_eval()함수에 roc_auc_score()을 이용해 ROC AUC값 측정**\n",
    "- roc_auc_score()을 이용해 ROC AUC값 측정 로직 추가\n",
    "- ROC AUC는 예측 확률값을 기반으로 계산\n",
    "- get_clf_eval()함수의 인자로 받을 수 있도록 함수형 변경\n",
    "    - 정확도, 정밀도, 재현율, F1 스코어, ROC AUC값까지 출력"
   ]
  },
  {
   "cell_type": "code",
   "execution_count": 77,
   "id": "34a24260-7179-48ea-9dc7-f9908b731662",
   "metadata": {},
   "outputs": [],
   "source": [
    "# get_clf_eval()변경\n",
    "# ROC-AUC 추가 : 예측 학률값을 기반으로 계산되므로\n",
    "# 매개변수 pred_proba = None 추가\n",
    "def get_clf_eval(y_test, pred = None, pred_proba = None):\n",
    "    confusion = confusion_matrix(y_test, pred)\n",
    "    accuarcy = accuracy_score(y_test, pred)\n",
    "    precision = precision_score(y_test, pred)\n",
    "    recall = recall_score(y_test, pred)\n",
    "    f1 = f1_score(y_test, pred) \n",
    "    # ROC-AUC 추가\n",
    "    roc_auc = roc_auc_score(y_test, pred)\n",
    "    \n",
    "    print('오차 행렬')\n",
    "    print(confusion)\n",
    "    # ROC-AUC print 추가\n",
    "    print('정확도 : {0:.3f} \\n정밀도 : {1:.3f} \\n재현율 : {2:.3f} \\nF1 : {3:.4f} \\nAUC : {4:.4f}' .format(accuracy, precision, recall, f1, roc_auc))"
   ]
  },
  {
   "cell_type": "code",
   "execution_count": 78,
   "id": "bfbe5d48-b75e-4ed7-bda3-8f104431c6be",
   "metadata": {},
   "outputs": [],
   "source": [
    "# 변경된 get_clf_eval() 호출 시 pred_proba_c1 추가\n",
    "def get_eval_by_threshold(y_test , pred_proba_c1, thresholds):\n",
    "    # thresholds list객체내의 값을 차례로 iteration하면서 Evaluation 수행.\n",
    "    for custom_threshold in thresholds:\n",
    "        binarizer = Binarizer(threshold=custom_threshold).fit(pred_proba_c1) \n",
    "        custom_predict = binarizer.transform(pred_proba_c1)\n",
    "        print('\\n임곗값:',custom_threshold)\n",
    "        get_clf_eval(y_test , custom_predict, pred_proba_c1)"
   ]
  },
  {
   "cell_type": "code",
   "execution_count": 79,
   "id": "22903f33-d43c-4d8b-865f-5b196881f0b7",
   "metadata": {},
   "outputs": [
    {
     "name": "stdout",
     "output_type": "stream",
     "text": [
      "\n",
      "임곗값: 0.4\n",
      "오차 행렬\n",
      "[[98 20]\n",
      " [10 51]]\n",
      "정확도 : 0.900 \n",
      "정밀도 : 0.718 \n",
      "재현율 : 0.836 \n",
      "F1 : 0.7727 \n",
      "AUC : 0.8333\n",
      "\n",
      "임곗값: 0.45\n",
      "오차 행렬\n",
      "[[103  15]\n",
      " [ 12  49]]\n",
      "정확도 : 0.900 \n",
      "정밀도 : 0.766 \n",
      "재현율 : 0.803 \n",
      "F1 : 0.7840 \n",
      "AUC : 0.8381\n",
      "\n",
      "임곗값: 0.5\n",
      "오차 행렬\n",
      "[[104  14]\n",
      " [ 13  48]]\n",
      "정확도 : 0.900 \n",
      "정밀도 : 0.774 \n",
      "재현율 : 0.787 \n",
      "F1 : 0.7805 \n",
      "AUC : 0.8341\n",
      "\n",
      "임곗값: 0.55\n",
      "오차 행렬\n",
      "[[109   9]\n",
      " [ 15  46]]\n",
      "정확도 : 0.900 \n",
      "정밀도 : 0.836 \n",
      "재현율 : 0.754 \n",
      "F1 : 0.7931 \n",
      "AUC : 0.8389\n",
      "\n",
      "임곗값: 0.6\n",
      "오차 행렬\n",
      "[[112   6]\n",
      " [ 16  45]]\n",
      "정확도 : 0.900 \n",
      "정밀도 : 0.882 \n",
      "재현율 : 0.738 \n",
      "F1 : 0.8036 \n",
      "AUC : 0.8434\n"
     ]
    }
   ],
   "source": [
    "# 임계값 0.4~0.6별로 정확도, 정밀도, 재현율, F1 스코어, ROC AUC 확인\n",
    "thresholds = [0.4 , 0.45 , 0.50 , 0.55 , 0.60]\n",
    "pred_proba = lr_clf.predict_proba(X_test)\n",
    "get_eval_by_threshold(y_test, pred_proba[:,1].reshape(-1,1), thresholds)"
   ]
  }
 ],
 "metadata": {
  "kernelspec": {
   "display_name": "Python Multi",
   "language": "python",
   "name": "multi"
  },
  "language_info": {
   "codemirror_mode": {
    "name": "ipython",
    "version": 3
   },
   "file_extension": ".py",
   "mimetype": "text/x-python",
   "name": "python",
   "nbconvert_exporter": "python",
   "pygments_lexer": "ipython3",
   "version": "3.7.6"
  }
 },
 "nbformat": 4,
 "nbformat_minor": 5
}
